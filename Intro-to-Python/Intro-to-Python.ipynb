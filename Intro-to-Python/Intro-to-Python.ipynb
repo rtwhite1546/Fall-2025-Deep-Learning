{
 "cells": [
  {
   "cell_type": "markdown",
   "metadata": {
    "id": "anewbkgcRSmQ",
    "tags": []
   },
   "source": [
    "# A Minimal Introduction to Python for ML\n",
    "\n",
    "These notes are intended as an introduction to the minimal Python skills recommended for its use in machine learning.\n",
    "\n",
    "A more comprehensive introduction to Python can be found at [The Python Tutorial](https://docs.python.org/3/tutorial/index.html). Most relevant to the content below are the following sections:\n",
    "\n",
    "> 3) An Informal Introduction to Python\n",
    ">\n",
    "> 4) More Control Flow Tools\n",
    ">\n",
    "> 5) Data Structures (5.1, 5.5-6)\n",
    ">\n",
    "> 6) Modules (beginning and 6.4)\n",
    ">\n",
    "> 7) Input and Output (7.2)\n",
    ">\n",
    "> 9) Classes (9.1, 9.3, 9.9)\n",
    ">\n",
    "> 10) Brief Tour of the Standard Library (10.6)\n",
    ">\n",
    "> 12) Virtual Environments and Packages\n",
    "\n",
    "In addition to base Python, we have some additional content on some very powerful libraries that help with machine learning:\n",
    "\n",
    "* `NumPy` for math and multidimensional arrays\n",
    "* `matplotlib` for plotting\n",
    "\n",
    "We do not cover Python installation: this is pretty straightforward with [Anaconda](https://www.anaconda.com) or unnecessary with [Google Colab](http://colab.research.google.com). There are many other options; for example, PyCharm, Visual Studio Code, Eclipse + PyDev, etc.\n",
    "\n",
    "The notes below are ideal for readers who have experience with some programming language; for example, C++, MATLAB, Java, etc."
   ]
  },
  {
   "cell_type": "markdown",
   "metadata": {
    "id": "PxIA7JeJSDuZ"
   },
   "source": [
    "## Variables\n",
    "\n",
    "Lists in Python are ordered, mutable sequences that can store elements of any type.\n",
    "**Variables** in Python are created by assigning a value to a name.\n",
    "Python is *dynamically typed*, meaning a variable can hold values of different types over its lifetime.\n",
    "\n",
    "Common types include:\n",
    "- `int` — integers (e.g., $42$)\n",
    "- `float` — floating-point numbers (e.g., $3.14$)\n",
    "- `str` — strings (e.g., `\"hello\"`)\n",
    "- `bool` — booleans ($\\text{True}$ or $\\text{False}$)\n",
    "- `tuple` — ordered, immutable collections\n",
    "- `list` — ordered, mutable collections\n",
    "- `dict` — key-value mappings\n",
    "- `set` — unordered collections of unique elements\n",
    "\n",
    "You can check a variable’s type using the built-in `type()` function:\n",
    "\n",
    "```python\n",
    "x = 42\n",
    "print(type(x))\n"
   ]
  },
  {
   "cell_type": "code",
   "execution_count": 6,
   "metadata": {
    "colab": {
     "base_uri": "https://localhost:8080/"
    },
    "executionInfo": {
     "elapsed": 151,
     "status": "ok",
     "timestamp": 1642456874532,
     "user": {
      "displayName": "Ryan White",
      "photoUrl": "https://lh3.googleusercontent.com/a-/AOh14GgXOYdz_5YlXopkn8sI4BuzfiuHOCSLhGAEQAxf=s64",
      "userId": "02166703561655978824"
     },
     "user_tz": 300
    },
    "id": "pcnQm213CUq8",
    "outputId": "15a7b5dc-7dae-402c-e1f7-f16c50620919",
    "tags": []
   },
   "outputs": [
    {
     "name": "stdout",
     "output_type": "stream",
     "text": [
      "Integer variable x_int: 42 type: <class 'int'>\n",
      "Float variable x_float: 3.14159 type: <class 'float'>\n",
      "String variable x_str: hello type: <class 'str'>\n",
      "Boolean variable x_bool: True type: <class 'bool'>\n",
      "\n",
      "Variable x initially assigned an integer: 10 type: <class 'int'>\n",
      "Variable x reassigned to a string: ten type: <class 'str'> # type changed from int to str\n",
      "\n",
      "Variable a assigned an integer: 1 type: <class 'int'>\n",
      "Variable b assigned a float: 2.5 type: <class 'float'>\n",
      "Variable c assigned a string: cat type: <class 'str'>\n",
      "\n",
      "Tuple variable point: (1.0, 2.0) type: <class 'tuple'>\n",
      "List variable fruits: ['apple', 'banana'] type: <class 'list'>\n",
      "Dictionary variable person: {'name': 'Ada', 'age': 21} type: <class 'dict'>\n",
      "Set variable unique_nums: {1, 2, 3} type: <class 'set'>\n"
     ]
    }
   ],
   "source": [
    "# Basic types and assignment\n",
    "x_int = 42               # integer\n",
    "x_float = 3.14159        # floating-point number\n",
    "x_str = \"hello\"          # string\n",
    "x_bool = True            # boolean\n",
    "\n",
    "print(\"Integer variable x_int:\", x_int, \"type:\", type(x_int))\n",
    "print(\"Float variable x_float:\", x_float, \"type:\", type(x_float))\n",
    "print(\"String variable x_str:\", x_str, \"type:\", type(x_str))\n",
    "print(\"Boolean variable x_bool:\", x_bool, \"type:\", type(x_bool))\n",
    "print()\n",
    "\n",
    "# Python is dynamically typed\n",
    "x = 10\n",
    "print(\"Variable x initially assigned an integer:\", x, \"type:\", type(x))\n",
    "\n",
    "x = \"ten\"\n",
    "print(\"Variable x reassigned to a string:\", x, \"type:\", type(x),\n",
    "      \"# type changed from int to str\")\n",
    "print()\n",
    "\n",
    "# Multiple assignment and unpacking\n",
    "a, b, c = 1, 2.5, \"cat\"\n",
    "print(\"Variable a assigned an integer:\", a, \"type:\", type(a))\n",
    "print(\"Variable b assigned a float:\", b, \"type:\", type(b))\n",
    "print(\"Variable c assigned a string:\", c, \"type:\", type(c))\n",
    "print()\n",
    "\n",
    "# More variables with new types\n",
    "point = (1.0, 2.0)            # tuple\n",
    "print(\"Tuple variable point:\", point, \"type:\", type(point))\n",
    "\n",
    "fruits = [\"apple\", \"banana\"]  # list\n",
    "print(\"List variable fruits:\", fruits, \"type:\", type(fruits))\n",
    "\n",
    "person = {\"name\": \"Ada\", \"age\": 21}  # dictionary\n",
    "print(\"Dictionary variable person:\", person, \"type:\", type(person))\n",
    "\n",
    "unique_nums = {1, 2, 3}       # set\n",
    "print(\"Set variable unique_nums:\", unique_nums, \"type:\", type(unique_nums))"
   ]
  },
  {
   "cell_type": "markdown",
   "metadata": {},
   "source": [
    "### Changing a Value’s Type with Conversion Functions\n",
    "\n",
    "Python provides built-in functions to **convert** a value from one type to another:\n",
    "\n",
    "- `int()` — convert to integer (drops the fractional part of numbers)\n",
    "- `float()` — convert to floating-point\n",
    "- `str()` — convert to string\n",
    "- `list()` — convert to list\n",
    "- `set()` — convert to set (removes duplicates)\n",
    "\n",
    "Type conversion **may** cause information loss:\n",
    "- Converting a float to an int drops everything after the decimal point.\n",
    "- Converting a float to a string with limited decimal places will lose precision when converting back to a float.\n",
    "- Some conversions are *lossless*, e.g., converting a float to a string with Python’s default `str()` and back to float, as Python preserves enough digits for exact round-tripping.\n",
    "\n",
    "Always consider whether the conversion changes the meaning or precision of your data."
   ]
  },
  {
   "cell_type": "code",
   "execution_count": 22,
   "metadata": {},
   "outputs": [
    {
     "name": "stdout",
     "output_type": "stream",
     "text": [
      "Original float x: 3.141592653589793 repr(x): 3.141592653589793\n",
      "\n",
      "After str() then float(): 3.141592653589793\n",
      "Round-trip equal to original float? True\n",
      "\n",
      "After format(x, \".3f\") then float(): 3.142\n",
      "Equal to original float? False\n",
      "Absolute difference: 0.0004073464102067881\n",
      "\n",
      "int(x): 3 | float(int(x)): 3.0\n",
      "Difference from original: 0.14159265358979312\n",
      "\n",
      "int('42'): 42 type: <class 'int'>\n",
      "float('3.14159'): 3.14159 type: <class 'float'>\n",
      "\n"
     ]
    }
   ],
   "source": [
    "import math\n",
    "\n",
    "# Start with a float (already a binary approximation of π)\n",
    "x = math.pi\n",
    "print(\"Original float x:\", x, \"repr(x):\", repr(x))\n",
    "print()\n",
    "\n",
    "# Float -> str -> float (round-trips with default str; no additional loss)\n",
    "s = str(x)\n",
    "x_back = float(s)\n",
    "print(\"After str() then float():\", x_back)\n",
    "print(\"Round-trip equal to original float?\", x_back == x)\n",
    "print()\n",
    "\n",
    "# Float -> formatted string (fewer digits) -> float (LOSS of information)\n",
    "s_fmt = format(x, \".3f\")   # keeps only 3 decimals\n",
    "x_back_fmt = float(s_fmt)\n",
    "print('After format(x, \".3f\") then float():', x_back_fmt)\n",
    "print(\"Equal to original float?\", x_back_fmt == x)\n",
    "print(\"Absolute difference:\", abs(x_back_fmt - x))\n",
    "print()\n",
    "\n",
    "# Float -> int (LOSS: drops fractional part) -> float\n",
    "x_int = int(x)\n",
    "x_from_int = float(x_int)\n",
    "print(\"int(x):\", x_int, \"| float(int(x)):\", x_from_int)\n",
    "print(\"Difference from original:\", abs(x_from_int - x))\n",
    "print()\n",
    "\n",
    "# Converting numeric strings to numbers (no loss if string fully represents the number)\n",
    "num_str = \"42\"\n",
    "print(\"int('42'):\", int(num_str), \"type:\", type(int(num_str)))\n",
    "\n",
    "flt_str = \"3.14159\"\n",
    "print(\"float('3.14159'):\", float(flt_str), \"type:\", type(float(flt_str)))\n",
    "print()"
   ]
  },
  {
   "cell_type": "markdown",
   "metadata": {
    "id": "Cg7Qw8mOSHBk"
   },
   "source": [
    "## Lists\n",
    "\n",
    "**Lists** in Python are ordered, mutable sequences that can store elements of any type.\n",
    "\n",
    "You can:\n",
    "- Append elements: `my_list.append(5)`\n",
    "- Modify elements: `my_list[0] = 99`\n",
    "- Slice sublists: `my_list[start:stop:step]`\n",
    "- Repeat lists with multiplication: `my_list * 2`\n",
    "- Concatenate lists: `list1 + list2`\n",
    "\n",
    "Built-in functions like `sum()`, `min()`, and `max()` make it easy to compute values from lists.\n",
    "\n",
    "Example:\n",
    "```python\n",
    "nums = [1, 2, 3]\n",
    "print(sum(nums))  # 6\n"
   ]
  },
  {
   "cell_type": "code",
   "execution_count": 5,
   "metadata": {
    "colab": {
     "base_uri": "https://localhost:8080/"
    },
    "executionInfo": {
     "elapsed": 153,
     "status": "ok",
     "timestamp": 1641006840029,
     "user": {
      "displayName": "Ryan White",
      "photoUrl": "https://lh3.googleusercontent.com/a-/AOh14GgXOYdz_5YlXopkn8sI4BuzfiuHOCSLhGAEQAxf=s64",
      "userId": "02166703561655978824"
     },
     "user_tz": 300
    },
    "id": "PZpPlInVaKqw",
    "outputId": "92187718-ead9-420f-ca32-e7da9e10c1dc"
   },
   "outputs": [
    {
     "name": "stdout",
     "output_type": "stream",
     "text": [
      "Initial nums list: [1, 2, 3, 4] type: <class 'list'>\n",
      "\n",
      "After appending 5: [1, 2, 3, 4, 5]\n",
      "After changing first element to 99: [99, 2, 3, 4, 5]\n",
      "\n",
      "Slice nums[1:4] (elements at index 1 to 3): [2, 3, 4]\n",
      "Slice nums[::2] (every other element): [99, 3, 5]\n",
      "\n",
      "List multiplied by 2 (repeats elements): [99, 2, 3, 4, 5, 99, 2, 3, 4, 5] type: <class 'list'>\n",
      "\n",
      "Length of nums list: 5 type: <class 'int'>\n",
      "Sum of nums: 113 type: <class 'int'>\n",
      "Minimum value in nums: 2 type: <class 'int'>\n",
      "Maximum value in nums: 99 type: <class 'int'>\n",
      "\n",
      "Combined nums + other_nums: [99, 2, 3, 4, 5, 10, 20, 30] type: <class 'list'>\n",
      "Length of combined list: 8 type: <class 'int'>\n",
      "Sum of combined list: 173 type: <class 'int'>\n",
      "Minimum value in combined list: 2 type: <class 'int'>\n",
      "Maximum value in combined list: 99 type: <class 'int'>\n",
      "\n"
     ]
    }
   ],
   "source": [
    "# Lists are ordered, mutable sequences\n",
    "nums = [1, 2, 3, 4]\n",
    "print(\"Initial nums list:\", nums, \"type:\", type(nums))\n",
    "print()\n",
    "\n",
    "# Append elements\n",
    "nums.append(5)\n",
    "print(\"After appending 5:\", nums)\n",
    "\n",
    "# Modify elements\n",
    "nums[0] = 99\n",
    "print(\"After changing first element to 99:\", nums)\n",
    "print()\n",
    "\n",
    "# Slicing (start:stop:step) — stop is exclusive\n",
    "print(\"Slice nums[1:4] (elements at index 1 to 3):\", nums[1:4])\n",
    "print(\"Slice nums[::2] (every other element):\", nums[::2])\n",
    "print()\n",
    "\n",
    "# List multiplication (repeats the list)\n",
    "nums_twice = nums * 2\n",
    "print(\"List multiplied by 2 (repeats elements):\", nums_twice, \"type:\", type(nums_twice))\n",
    "print()\n",
    "\n",
    "# Length, sum, min, and max of elements in a list\n",
    "print(\"Length of nums list:\", len(nums), \"type:\", type(len(nums)))\n",
    "print(\"Sum of nums:\", sum(nums), \"type:\", type(sum(nums)))\n",
    "print(\"Minimum value in nums:\", min(nums), \"type:\", type(min(nums)))\n",
    "print(\"Maximum value in nums:\", max(nums), \"type:\", type(max(nums)))\n",
    "print()\n",
    "\n",
    "# Concatenate two lists and get length, sum, min, max\n",
    "other_nums = [10, 20, 30]\n",
    "combined = nums + other_nums\n",
    "print(\"Combined nums + other_nums:\", combined, \"type:\", type(combined))\n",
    "print(\"Length of combined list:\", len(combined), \"type:\", type(len(combined)))\n",
    "print(\"Sum of combined list:\", sum(combined), \"type:\", type(sum(combined)))\n",
    "print(\"Minimum value in combined list:\", min(combined), \"type:\", type(min(combined)))\n",
    "print(\"Maximum value in combined list:\", max(combined), \"type:\", type(max(combined)))\n",
    "print()"
   ]
  },
  {
   "cell_type": "markdown",
   "metadata": {
    "id": "XYnbPfpFSG-L"
   },
   "source": [
    "## Flow Control\n",
    "\n",
    "**Flow control** statements determine the order in which code runs."
   ]
  },
  {
   "cell_type": "markdown",
   "metadata": {
    "id": "wcYv-W9ImUi8"
   },
   "source": [
    "### Conditional Statements\n",
    "\n",
    "**Conditional statements**: `if`, `elif`, `else`  \n",
    "Example:\n",
    "```python\n",
    "if x > 0:\n",
    "    print(\"positive\")\n",
    "else:\n",
    "    print(\"non-positive\")"
   ]
  },
  {
   "cell_type": "code",
   "execution_count": 8,
   "metadata": {
    "colab": {
     "base_uri": "https://localhost:8080/"
    },
    "executionInfo": {
     "elapsed": 218,
     "status": "ok",
     "timestamp": 1642557983877,
     "user": {
      "displayName": "Ryan White",
      "photoUrl": "https://lh3.googleusercontent.com/a-/AOh14GgXOYdz_5YlXopkn8sI4BuzfiuHOCSLhGAEQAxf=s64",
      "userId": "02166703561655978824"
     },
     "user_tz": 300
    },
    "id": "_s0GIGCSm3y5",
    "outputId": "1795675e-1fa6-4f4b-d192-945cacc59a87"
   },
   "outputs": [
    {
     "name": "stdout",
     "output_type": "stream",
     "text": [
      "Temperature value: 72 type: <class 'int'>\n",
      "The weather is comfortable.\n",
      "\n",
      "Color value: yellow type: <class 'str'>\n",
      "Slow down: the color is yellow.\n",
      "\n",
      "Number value: -5 type: <class 'int'>\n",
      "The number is negative.\n",
      "\n"
     ]
    }
   ],
   "source": [
    "# Example of if / elif / else with descriptive output\n",
    "\n",
    "temperature = 72\n",
    "print(\"Temperature value:\", temperature, \"type:\", type(temperature))\n",
    "\n",
    "if temperature > 85:\n",
    "    print(\"It is hot outside.\")\n",
    "elif temperature >= 65:\n",
    "    print(\"The weather is comfortable.\")\n",
    "else:\n",
    "    print(\"It is cold outside.\")\n",
    "print()\n",
    "\n",
    "# Another example with strings\n",
    "color = \"yellow\"\n",
    "print(\"Color value:\", color, \"type:\", type(color))\n",
    "\n",
    "if color == \"red\":\n",
    "    print(\"Stop: the color is red.\")\n",
    "elif color == \"yellow\":\n",
    "    print(\"Slow down: the color is yellow.\")\n",
    "else:\n",
    "    print(\"Go: the color is not red or yellow.\")\n",
    "print()\n",
    "\n",
    "# Example with numeric check\n",
    "number = -5\n",
    "print(\"Number value:\", number, \"type:\", type(number))\n",
    "\n",
    "if number > 0:\n",
    "    print(\"The number is positive.\")\n",
    "elif number == 0:\n",
    "    print(\"The number is zero.\")\n",
    "else:\n",
    "    print(\"The number is negative.\")\n",
    "print()\n"
   ]
  },
  {
   "cell_type": "markdown",
   "metadata": {
    "id": "npMhclLfmUPF"
   },
   "source": [
    "### Loops\n",
    "\n",
    "**Loops** let you run a block of code multiple times.\n",
    "\n",
    "**`for` loops**  \n",
    "Used to iterate over a sequence such as a list, tuple, string, or range of numbers.\n",
    "\n",
    "**`while` loops**  \n",
    "Run as long as a condition remains `True`.\n",
    "\n",
    "Loops are useful for processing each element in a collection, repeating an action a fixed number of times, or running code until a condition is met.\n"
   ]
  },
  {
   "cell_type": "code",
   "execution_count": 10,
   "metadata": {
    "colab": {
     "base_uri": "https://localhost:8080/"
    },
    "executionInfo": {
     "elapsed": 197,
     "status": "ok",
     "timestamp": 1641006535116,
     "user": {
      "displayName": "Ryan White",
      "photoUrl": "https://lh3.googleusercontent.com/a-/AOh14GgXOYdz_5YlXopkn8sI4BuzfiuHOCSLhGAEQAxf=s64",
      "userId": "02166703561655978824"
     },
     "user_tz": 300
    },
    "id": "juJG4Kfhm9JY",
    "outputId": "11f8805f-458a-4d1f-b398-70ca731acc8b"
   },
   "outputs": [
    {
     "name": "stdout",
     "output_type": "stream",
     "text": [
      "For loop from 0 to 2:\n",
      "Current value of i: 0 type: <class 'int'>\n",
      "Current value of i: 1 type: <class 'int'>\n",
      "Current value of i: 2 type: <class 'int'>\n",
      "\n",
      "Iterating over list of fruits: ['apple', 'banana', 'cherry'] type: <class 'list'>\n",
      "Current fruit: apple type: <class 'str'>\n",
      "Current fruit: banana type: <class 'str'>\n",
      "Current fruit: cherry type: <class 'str'>\n",
      "\n",
      "Using enumerate to get index and fruit:\n",
      "Index: 0 Value: apple\n",
      "Index: 1 Value: banana\n",
      "Index: 2 Value: cherry\n",
      "\n",
      "Starting while loop, initial count: 0 type: <class 'int'>\n",
      "Count after increment: 1\n",
      "Count after increment: 2\n",
      "Count after increment: 3\n",
      "Exited while loop.\n",
      "\n"
     ]
    }
   ],
   "source": [
    "# for loop over a range\n",
    "print(\"For loop from 0 to 2:\")\n",
    "for i in range(3):\n",
    "    print(\"Current value of i:\", i, \"type:\", type(i))\n",
    "print()\n",
    "\n",
    "# for loop over a list\n",
    "fruits = [\"apple\", \"banana\", \"cherry\"]\n",
    "print(\"Iterating over list of fruits:\", fruits, \"type:\", type(fruits))\n",
    "for fruit in fruits:\n",
    "    print(\"Current fruit:\", fruit, \"type:\", type(fruit))\n",
    "print()\n",
    "\n",
    "# enumerate to get index and value\n",
    "print(\"Using enumerate to get index and fruit:\")\n",
    "for idx, fruit in enumerate(fruits):\n",
    "    print(\"Index:\", idx, \"Value:\", fruit)\n",
    "print()\n",
    "\n",
    "# while loop example\n",
    "count = 0\n",
    "print(\"Starting while loop, initial count:\", count, \"type:\", type(count))\n",
    "while count < 3:\n",
    "    count += 1\n",
    "    print(\"Count after increment:\", count)\n",
    "print(\"Exited while loop.\")\n",
    "print()"
   ]
  },
  {
   "cell_type": "markdown",
   "metadata": {},
   "source": [
    "### Loop Control Statements\n",
    "\n",
    "Loop control statements change how a loop runs:\n",
    "\n",
    "- **`break`**: exit the loop entirely.\n",
    "- **`continue`**: skip the rest of the current iteration and move to the next one.\n",
    "- **`pass`**: do nothing (placeholder for future code).\n",
    "\n",
    "These can be used in both `for` and `while` loops to control execution flow.\n"
   ]
  },
  {
   "cell_type": "code",
   "execution_count": 12,
   "metadata": {},
   "outputs": [
    {
     "name": "stdout",
     "output_type": "stream",
     "text": [
      "Example of break:\n",
      "n = 0\n",
      "n = 1\n",
      "n = 2\n",
      "Breaking loop at n = 2\n",
      "Loop ended after break.\n",
      "\n",
      "Example of continue:\n",
      "Skipping even number: 0\n",
      "Processing odd number: 1\n",
      "Skipping even number: 2\n",
      "Processing odd number: 3\n",
      "Skipping even number: 4\n",
      "Loop completed after continue.\n",
      "\n",
      "Example of pass:\n",
      "n = 0\n",
      "n = 1\n",
      "n = 2\n",
      "Loop completed with pass.\n"
     ]
    }
   ],
   "source": [
    "# break example: stop the loop when a condition is met\n",
    "print(\"Example of break:\")\n",
    "for n in range(5):\n",
    "    print(\"n =\", n)\n",
    "    if n == 2:\n",
    "        print(\"Breaking loop at n =\", n)\n",
    "        break\n",
    "print(\"Loop ended after break.\\n\")\n",
    "\n",
    "# continue example: skip an iteration when a condition is met\n",
    "print(\"Example of continue:\")\n",
    "for n in range(5):\n",
    "    if n % 2 == 0:\n",
    "        print(\"Skipping even number:\", n)\n",
    "        continue\n",
    "    print(\"Processing odd number:\", n)\n",
    "\n",
    "print(\"Loop completed after continue.\\n\")\n",
    "\n",
    "# pass example: placeholder for code not yet written\n",
    "print(\"Example of pass:\")\n",
    "for n in range(3):\n",
    "    if n == 1:\n",
    "        pass  # no operation, but loop continues\n",
    "    print(\"n =\", n)\n",
    "    \n",
    "print(\"Loop completed with pass.\")"
   ]
  },
  {
   "cell_type": "markdown",
   "metadata": {
    "id": "Uqr4ZQPuocTx"
   },
   "source": [
    "## Exercises\n",
    "\n",
    "1. Write a loop that extracts the first $n$ digits of $\\pi$ as integers.  \n",
    "   *(Hint: use `math.pi`.)*\n",
    "\n",
    "2. Write a loop to estimate $e^x$ as the sum of the first $n$ terms of the Taylor series:  \n",
    "\n",
    "$$\n",
    "e^x \\approx \\sum_{i=0}^n \\frac{x^i}{i!}\n",
    "$$\n",
    "\n",
    "   Compare your result to `math.exp(x)`.\n",
    "\n",
    "3. Generate a list of the first $n$ perfect squares ($1^2, 2^2, \\dots, n^2$).  \n",
    "   - Print the sum, min, and max of the list.  \n",
    "   - Then create a new list containing only the squares that are prime numbers.\n",
    "\n",
    "4. Using a `while` loop, find the smallest $n$ such that:  \n",
    "\n",
    "$$\n",
    "\\sum_{k=1}^n \\frac{1}{k^2} > 1.5\n",
    "$$\n",
    "\n",
    "   Print $n$ and the final sum.\n",
    "\n",
    "5. Use a `for` loop with `continue` to sum all odd Fibonacci numbers below 10,000.  \n",
    "   *(Hint: generate Fibonacci numbers iteratively, skip even ones.)*\n",
    "\n",
    "6. Use a `for` loop with `break` to find the smallest triangular number:  \n",
    "\n",
    "$$\n",
    "T_n = \\frac{n(n+1)}{2}\n",
    "$$\n",
    "\n",
    "   that exceeds 1,000,000.\n",
    "\n",
    "7. Approximate $\\pi$ using the Leibniz series:  \n",
    "\n",
    "$$\n",
    "\\pi \\approx 4 \\sum_{k=0}^n \\frac{(-1)^k}{2k+1}\n",
    "$$\n",
    "\n",
    "   - Write a loop to compute the approximation for a given $n$.  \n",
    "   - Compare the result to `math.pi`.\n"
   ]
  },
  {
   "cell_type": "markdown",
   "metadata": {
    "id": "5WKel8GHSG8Q"
   },
   "source": [
    "## Functions\n",
    "\n",
    "Functions are blocks of reusable code that run when they are **called**.  \n",
    "They can take **input parameters** (arguments) and may **return outputs**.\n",
    "\n",
    "Functions help:\n",
    "- Avoid repeating code\n",
    "- Make programs easier to read\n",
    "- Organize logic into smaller, testable pieces\n",
    "\n",
    "\n",
    "### The `print` Function\n",
    "\n",
    "The `print` function in Python is one of the simplest built-in functions.  \n",
    "It displays the values you pass to it, separated by spaces by default.\n",
    "\n",
    "**Syntax:**\n",
    "```python\n",
    "print(value1, value2, ..., sep=\" \", end=\"\\n\")\n"
   ]
  },
  {
   "cell_type": "code",
   "execution_count": 13,
   "metadata": {
    "colab": {
     "base_uri": "https://localhost:8080/"
    },
    "executionInfo": {
     "elapsed": 154,
     "status": "ok",
     "timestamp": 1640984871784,
     "user": {
      "displayName": "Ryan White",
      "photoUrl": "https://lh3.googleusercontent.com/a-/AOh14GgXOYdz_5YlXopkn8sI4BuzfiuHOCSLhGAEQAxf=s64",
      "userId": "02166703561655978824"
     },
     "user_tz": 300
    },
    "id": "Pq_zguwcTyVs",
    "outputId": "ec6d5eb1-e233-44fd-d807-7c917332cbb1"
   },
   "outputs": [
    {
     "name": "stdout",
     "output_type": "stream",
     "text": [
      "Hello, world!\n",
      "The answer is 42\n",
      "apple, banana, cherry\n",
      "Hello World\n",
      "\n",
      "Name: Alice Age: 30\n",
      "My name is Alice and I am 30 years old.\n",
      "The sum of 5 and 7 is 12.\n",
      "Pi rounded to 3 decimal places is 3.142\n"
     ]
    }
   ],
   "source": [
    "# Print a single value\n",
    "print(\"Hello, world!\")\n",
    "\n",
    "# Print multiple values (space-separated by default)\n",
    "print(\"The answer is\", 42)\n",
    "\n",
    "# Change the separator between values\n",
    "print(\"apple\", \"banana\", \"cherry\", sep=\", \")\n",
    "\n",
    "# Change the end character (default is newline \"\\n\")\n",
    "print(\"Hello\", end=\" \")\n",
    "print(\"World\")  # continues on same line\n",
    "print()\n",
    "\n",
    "# Printing variables\n",
    "name = \"Alice\"\n",
    "age = 30\n",
    "print(\"Name:\", name, \"Age:\", age)\n",
    "\n",
    "# Using f-strings for formatted output\n",
    "print(f\"My name is {name} and I am {age} years old.\")\n",
    "\n",
    "# Using f-strings with expressions\n",
    "x = 5\n",
    "y = 7\n",
    "print(f\"The sum of {x} and {y} is {x + y}.\")\n",
    "\n",
    "# Using f-strings with formatting for numbers\n",
    "pi = 3.1415926535\n",
    "print(f\"Pi rounded to 3 decimal places is {pi:.3f}\")\n"
   ]
  },
  {
   "cell_type": "markdown",
   "metadata": {
    "id": "kKKyG499X7O8"
   },
   "source": [
    "### Custom Functions\n",
    "\n",
    "Python has many useful built-in functions, but we often want to write our own.  \n",
    "We create **custom functions** whenever we have code we want to reuse, organize, or make more readable.\n",
    "\n",
    "**Example scenario:**  \n",
    "Suppose we want a function called `add` that takes two inputs, `a` and `b`, adds them, and returns the result.\n",
    "\n",
    "**Syntax for defining a function:**\n",
    "1. Write the keyword `def`  \n",
    "2. Follow it with the function's name (`add` in this example)  \n",
    "3. Add parentheses containing any **parameters** (input variables) the function needs  \n",
    "4. End the line with a colon `:`  \n",
    "5. Write the function body **indented one level** — this code will run when the function is called  \n",
    "6. Use `return` to send a value back to the caller (optional if nothing needs to be returned)"
   ]
  },
  {
   "cell_type": "code",
   "execution_count": 14,
   "metadata": {
    "colab": {
     "base_uri": "https://localhost:8080/"
    },
    "executionInfo": {
     "elapsed": 193,
     "status": "ok",
     "timestamp": 1641002852648,
     "user": {
      "displayName": "Ryan White",
      "photoUrl": "https://lh3.googleusercontent.com/a-/AOh14GgXOYdz_5YlXopkn8sI4BuzfiuHOCSLhGAEQAxf=s64",
      "userId": "02166703561655978824"
     },
     "user_tz": 300
    },
    "id": "L4rCy3wJYXkG",
    "outputId": "4d91dc65-bec2-4e07-e9e6-7b6abc30949d"
   },
   "outputs": [
    {
     "name": "stdout",
     "output_type": "stream",
     "text": [
      "Calling add(5, 7):\n",
      "Inside function: adding 5 and 7 gives 12\n",
      "Returned value: 12\n",
      "\n",
      "Calling add(3.5, 2.1):\n",
      "Inside function: adding 3.5 and 2.1 gives 5.6\n",
      "Returned value: 5.6\n",
      "\n",
      "Calling add('hello', ' world'):\n",
      "Inside function: adding hello and  world gives hello world\n",
      "Returned value: hello world\n",
      "\n",
      "Calling add([1, 2], [3, 4]):\n",
      "Inside function: adding [1, 2] and [3, 4] gives [1, 2, 3, 4]\n",
      "Returned value: [1, 2, 3, 4]\n",
      "\n"
     ]
    }
   ],
   "source": [
    "# Defining a custom function called add that takes two inputs and returns their sum\n",
    "def add(a, b):\n",
    "    result = a + b\n",
    "    print(f\"Inside function: adding {a} and {b} gives {result}\")\n",
    "    return result\n",
    "\n",
    "# Calling the function with integers\n",
    "print(\"Calling add(5, 7):\")\n",
    "sum_value = add(5, 7)\n",
    "print(\"Returned value:\", sum_value)\n",
    "print()\n",
    "\n",
    "# Calling the function with floats\n",
    "print(\"Calling add(3.5, 2.1):\")\n",
    "sum_value = add(3.5, 2.1)\n",
    "print(\"Returned value:\", sum_value)\n",
    "print()\n",
    "\n",
    "# Calling the function with strings (string concatenation)\n",
    "print(\"Calling add('hello', ' world'):\")\n",
    "sum_value = add(\"hello\", \" world\")\n",
    "print(\"Returned value:\", sum_value)\n",
    "print()\n",
    "\n",
    "# Calling the function with lists (list concatenation)\n",
    "print(\"Calling add([1, 2], [3, 4]):\")\n",
    "sum_value = add([1, 2], [3, 4])\n",
    "print(\"Returned value:\", sum_value)\n",
    "print()\n"
   ]
  },
  {
   "cell_type": "markdown",
   "metadata": {},
   "source": [
    "### Example: Area of a Circle Function\n",
    "\n",
    "Here is another example of a custom function, this time for a mathematical calculation.  \n",
    "The function will take the **radius** of a circle as input, calculate the **area** using the formula:\n",
    "\n",
    "$$\n",
    "\\text{Area} = \\pi r^2\n",
    "$$\n",
    "\n",
    "It will print an explanation of what it is doing, then return the calculated value.  \n",
    "We will call the function with different radii to see how it works for both integers and floats."
   ]
  },
  {
   "cell_type": "code",
   "execution_count": 15,
   "metadata": {},
   "outputs": [
    {
     "name": "stdout",
     "output_type": "stream",
     "text": [
      "Calling circle_area(3):\n",
      "Inside function: radius = 3, area = 28.274333882308138\n",
      "Returned value: 28.274333882308138 (type: <class 'float'>)\n",
      "\n",
      "Calling circle_area(5):\n",
      "Inside function: radius = 5, area = 78.53981633974483\n",
      "Returned value: 78.53981633974483 (type: <class 'float'>)\n",
      "\n",
      "Calling circle_area(2.5):\n",
      "Inside function: radius = 2.5, area = 19.634954084936208\n",
      "Returned value: 19.634954084936208 (type: <class 'float'>)\n",
      "\n"
     ]
    }
   ],
   "source": [
    "import math\n",
    "\n",
    "# Defining a function to compute the area of a circle\n",
    "def circle_area(radius):\n",
    "    area = math.pi * radius ** 2\n",
    "    print(f\"Inside function: radius = {radius}, area = {area}\")\n",
    "    return area\n",
    "\n",
    "# Calling the function with different radii\n",
    "print(\"Calling circle_area(3):\")\n",
    "result = circle_area(3)\n",
    "print(f\"Returned value: {result} (type: {type(result)})\")\n",
    "print()\n",
    "\n",
    "print(\"Calling circle_area(5):\")\n",
    "result = circle_area(5)\n",
    "print(f\"Returned value: {result} (type: {type(result)})\")\n",
    "print()\n",
    "\n",
    "# Calling the function with a float radius\n",
    "print(\"Calling circle_area(2.5):\")\n",
    "result = circle_area(2.5)\n",
    "print(f\"Returned value: {result} (type: {type(result)})\")\n",
    "print()"
   ]
  },
  {
   "cell_type": "markdown",
   "metadata": {},
   "source": [
    "## Classes\n",
    "\n",
    "A **class** bundles data (attributes) and behavior (methods) into one unit.\n",
    "\n",
    "Why use classes?\n",
    "- Keep related data and functions together\n",
    "- Make code easier to reuse and extend\n",
    "- Model real-world concepts (e.g., a dataset, a model, a point)\n",
    "\n",
    "Key ideas:\n",
    "- `__init__(self, ...)` runs when you create an object (it “initializes” it)\n",
    "- Methods are functions defined inside a class; they all take `self` as the first parameter\n",
    "- Attributes (like `self.name`) store data that belongs to the object"
   ]
  },
  {
   "cell_type": "code",
   "execution_count": 23,
   "metadata": {},
   "outputs": [
    {
     "name": "stdout",
     "output_type": "stream",
     "text": [
      "Created Point2D(x=3, y=4)\n",
      "Computing squared distance from origin: 25\n",
      "Squared distance: 25\n"
     ]
    }
   ],
   "source": [
    "# A tiny example: a 2D point with a method\n",
    "class Point2D:\n",
    "    def __init__(self, x, y):\n",
    "        self.x = x\n",
    "        self.y = y\n",
    "        print(f\"Created Point2D(x={self.x}, y={self.y})\")\n",
    "\n",
    "    def dist2(self):\n",
    "        d2 = self.x*self.x + self.y*self.y\n",
    "        print(f\"Computing squared distance from origin: {d2}\")\n",
    "        return d2\n",
    "\n",
    "p = Point2D(3, 4)\n",
    "print(\"Squared distance:\", p.dist2())"
   ]
  },
  {
   "cell_type": "markdown",
   "metadata": {},
   "source": [
    "### Example: Linear Regression Class\n",
    "\n",
    "We can make a `LinearRegression` class that:\n",
    "1. Stores the training data and labels\n",
    "2. Computes the parameters (`theta`) using the **normal equation**:\n",
    "\n",
    "$$\n",
    "\\theta = (X^\\top X)^{-1} X^\\top y\n",
    "$$\n",
    "\n",
    "3. Predicts outputs for new input data\n",
    "\n",
    "We also prepend a column of ones to $X$ so the model can learn the **intercept** term."
   ]
  },
  {
   "cell_type": "code",
   "execution_count": 26,
   "metadata": {},
   "outputs": [],
   "source": [
    "# Import the numpy library\n",
    "import numpy as np\n",
    "\n",
    "# Create a class\n",
    "class LinearRegression:\n",
    "    def __init__(self, X, y):\n",
    "        # Add a column of ones to X for the intercept term\n",
    "        self.data = np.hstack((np.ones([X.shape[0], 1]), X))\n",
    "\n",
    "        # Save the outputs as a class variable\n",
    "        self.outputs = y\n",
    "        self.theta = None\n",
    "\n",
    "    # Fit the model to the (training) data\n",
    "    def fit(self):\n",
    "        # Get training data and labels\n",
    "        X = self.data\n",
    "        y = self.outputs\n",
    "\n",
    "        # Compute optimal values for theta and save as a class variable\n",
    "        self.theta = np.linalg.inv(X.T @ X) @ X.T @ y\n",
    "        print(\"Fitted theta parameters:\", self.theta)\n",
    "\n",
    "    # Predict the output from input (testing) data\n",
    "    def predict(self, X):\n",
    "        # Add bias term to the new inputs\n",
    "        X = np.hstack((np.ones([X.shape[0], 1]), X))\n",
    "        return X @ self.theta"
   ]
  },
  {
   "cell_type": "markdown",
   "metadata": {},
   "source": [
    "#### Using the `LinearRegression` Class"
   ]
  },
  {
   "cell_type": "code",
   "execution_count": 27,
   "metadata": {},
   "outputs": [
    {
     "name": "stdout",
     "output_type": "stream",
     "text": [
      "Fitted theta parameters: [1.98429979 3.01694124]\n",
      "\n",
      "Predictions vs actual:\n",
      "x= 0.05, y_true= 2.14, y_pred= 2.13\n",
      "x= 1.80, y_true= 7.46, y_pred= 7.42\n",
      "x=-1.42, y_true=-2.34, y_pred=-2.31\n",
      "x= 1.79, y_true= 7.37, y_pred= 7.40\n",
      "x=-0.75, y_true=-0.31, y_pred=-0.29\n",
      "x=-0.31, y_true= 1.14, y_pred= 1.06\n",
      "x= 1.31, y_true= 5.94, y_pred= 5.94\n",
      "x=-0.36, y_true= 0.88, y_pred= 0.89\n",
      "x= 0.20, y_true= 2.52, y_pred= 2.58\n",
      "x=-1.89, y_true=-3.70, y_pred=-3.72\n"
     ]
    }
   ],
   "source": [
    "# Create synthetic data: y = 2 + 3*x + noise\n",
    "rng = np.random.default_rng(1)\n",
    "X_demo = rng.uniform(-2, 2, (10, 1))\n",
    "y_demo = 2 + 3 * X_demo[:, 0] + rng.normal(0, 0.1, size=10)\n",
    "\n",
    "# Create and fit model\n",
    "model = LinearRegression(X_demo, y_demo)\n",
    "model.fit()\n",
    "\n",
    "# Predict on training data\n",
    "y_pred = model.predict(X_demo)\n",
    "print(\"\\nPredictions vs actual:\")\n",
    "for i in range(len(y_demo)):\n",
    "    print(f\"x={X_demo[i,0]: .2f}, y_true={y_demo[i]: .2f}, y_pred={y_pred[i]: .2f}\")"
   ]
  },
  {
   "cell_type": "code",
   "execution_count": null,
   "metadata": {
    "id": "ZFBZAyzZiTKM"
   },
   "outputs": [],
   "source": [
    "# import the numpy library\n",
    "import numpy as np\n",
    "\n",
    "# create a class\n",
    "class LinearRegression:\n",
    "\n",
    "    def __init__(self, X, y):\n",
    "        # append a column of ones to X and save as a class variable\n",
    "        self.data = np.hstack((np.ones([X.shape[0], 1]), X))\n",
    "        \n",
    "        # save the training labels as a class variable\n",
    "        self.outputs = y\n",
    "        \n",
    "    # fit the model to the (training) data\n",
    "    def fit(self, X, y):\n",
    "        # get the data and outputs\n",
    "        X = self.data\n",
    "        y = self.outputs\n",
    "\n",
    "        # compute optimal values for theta and save as a class variable\n",
    "        self.theta = np.linalg.inv(X.T @ X) @ X.T @ y\n",
    "                \n",
    "    # predict the output from input (testing) data\n",
    "    def predict(self, X):\n",
    "        \n",
    "        # append a column of ones at the beginning of X\n",
    "        X = np.hstack((np.ones([X.shape[0],1]), X))\n",
    "        \n",
    "        # return the outputs\n",
    "        return X @ self.theta"
   ]
  },
  {
   "cell_type": "markdown",
   "metadata": {
    "id": "u7A_V-7ESG3Z"
   },
   "source": [
    "## Importing and Using Libraries\n",
    "\n",
    "Python's functionality can be greatly extended by **importing libraries** — collections of pre-written code that add new functions, classes, and tools.\n",
    "\n",
    "We use the `import` keyword to load a library.  \n",
    "Common patterns:\n",
    "\n",
    "- `import numpy` — import the whole library under its full name  \n",
    "- `import numpy as np` — import with a shorter alias (common practice for NumPy)  \n",
    "- `from math import pi, sqrt` — import specific functions or variables\n",
    "\n",
    "Examples:\n",
    "```python\n",
    "import math\n",
    "print(math.sqrt(16))\n",
    "\n",
    "import numpy as np\n",
    "print(np.pi)"
   ]
  },
  {
   "cell_type": "markdown",
   "metadata": {
    "id": "F53TInNQSG1J"
   },
   "source": [
    "### NumPy Basics\n",
    "\n",
    "**NumPy** (Numerical Python) is the core library for numerical computing in Python.  \n",
    "It provides:\n",
    "\n",
    "- A fast, memory-efficient **`ndarray`** (n-dimensional array) type\n",
    "- Powerful indexing and slicing tools\n",
    "- Vectorized operations (apply math to whole arrays without loops)\n",
    "- Linear algebra functions for matrix multiplication, inversion, eigenvalues, etc."
   ]
  },
  {
   "cell_type": "code",
   "execution_count": 28,
   "metadata": {
    "id": "Hx8f9razl9Ev"
   },
   "outputs": [
    {
     "name": "stdout",
     "output_type": "stream",
     "text": [
      "NumPy version: 1.23.5\n",
      "Value of pi from NumPy: 3.141592653589793\n",
      "Square root of 16: 4.0\n",
      "\n",
      "1D array a1: [1 2 3 4 5] shape: (5,) ndim: 1\n",
      "\n",
      "2D array a2:\n",
      " [[1 2 3]\n",
      " [4 5 6]] shape: (2, 3) ndim: 2\n",
      "\n",
      "3D array a3:\n",
      " [[[1 2]\n",
      "  [3 4]]\n",
      "\n",
      " [[5 6]\n",
      "  [7 8]]] shape: (2, 2, 2) ndim: 3\n",
      "\n",
      "First element of a1: 1\n",
      "First row of a2: [1 2 3]\n",
      "Element at row 1, col 2 of a2: 6\n",
      "Slice of a1 (indices 1:4): [2 3 4]\n",
      "\n",
      "Matrix m1:\n",
      " [[1 2]\n",
      " [3 4]]\n",
      "Matrix m2:\n",
      " [[5 6]\n",
      " [7 8]]\n",
      "Matrix multiplication m1 @ m2:\n",
      " [[19 22]\n",
      " [43 50]]\n",
      "Element-wise multiplication m1 * m2:\n",
      " [[ 5 12]\n",
      " [21 32]]\n",
      "\n",
      "m1 + m2:\n",
      " [[ 6  8]\n",
      " [10 12]]\n",
      "m1 - m2:\n",
      " [[-4 -4]\n",
      " [-4 -4]]\n",
      "\n",
      "Matrix m3:\n",
      " [[4 7]\n",
      " [2 6]]\n",
      "Inverse of m3:\n",
      " [[ 0.6 -0.7]\n",
      " [-0.2  0.4]]\n",
      "m3 @ inv_m3:\n",
      " [[ 1.00000000e+00 -1.11022302e-16]\n",
      " [ 1.11022302e-16  1.00000000e+00]]\n"
     ]
    }
   ],
   "source": [
    "import numpy as np\n",
    "\n",
    "# Built-in NumPy constants and functions\n",
    "print(\"NumPy version:\", np.__version__)\n",
    "print(\"Value of pi from NumPy:\", np.pi)\n",
    "print(\"Square root of 16:\", np.sqrt(16))\n",
    "print()\n",
    "\n",
    "# 1D array\n",
    "a1 = np.array([1, 2, 3, 4, 5])\n",
    "print(\"1D array a1:\", a1, \"shape:\", a1.shape, \"ndim:\", a1.ndim)\n",
    "print()\n",
    "\n",
    "# 2D array (matrix)\n",
    "a2 = np.array([[1, 2, 3],\n",
    "               [4, 5, 6]])\n",
    "print(\"2D array a2:\\n\", a2, \"shape:\", a2.shape, \"ndim:\", a2.ndim)\n",
    "print()\n",
    "\n",
    "# 3D array\n",
    "a3 = np.array([[[1, 2], [3, 4]],\n",
    "               [[5, 6], [7, 8]]])\n",
    "print(\"3D array a3:\\n\", a3, \"shape:\", a3.shape, \"ndim:\", a3.ndim)\n",
    "print()\n",
    "\n",
    "# Indexing and slicing\n",
    "print(\"First element of a1:\", a1[0])\n",
    "print(\"First row of a2:\", a2[0])\n",
    "print(\"Element at row 1, col 2 of a2:\", a2[1, 2])\n",
    "print(\"Slice of a1 (indices 1:4):\", a1[1:4])\n",
    "print()\n",
    "\n",
    "# Matrix multiplication vs element-wise multiplication\n",
    "m1 = np.array([[1, 2],\n",
    "               [3, 4]])\n",
    "m2 = np.array([[5, 6],\n",
    "               [7, 8]])\n",
    "\n",
    "matmul_result = m1 @ m2                  # matrix multiplication\n",
    "elemwise_result = m1 * m2                 # element-wise multiplication\n",
    "\n",
    "print(\"Matrix m1:\\n\", m1)\n",
    "print(\"Matrix m2:\\n\", m2)\n",
    "print(\"Matrix multiplication m1 @ m2:\\n\", matmul_result)\n",
    "print(\"Element-wise multiplication m1 * m2:\\n\", elemwise_result)\n",
    "print()\n",
    "\n",
    "# Element-wise addition and subtraction\n",
    "print(\"m1 + m2:\\n\", m1 + m2)\n",
    "print(\"m1 - m2:\\n\", m1 - m2)\n",
    "print()\n",
    "\n",
    "# Matrix inverse (only works if the matrix is square and invertible)\n",
    "m3 = np.array([[4, 7],\n",
    "               [2, 6]])\n",
    "inv_m3 = np.linalg.inv(m3)\n",
    "print(\"Matrix m3:\\n\", m3)\n",
    "print(\"Inverse of m3:\\n\", inv_m3)\n",
    "\n",
    "# Check: m3 @ inv_m3 should be close to the identity matrix\n",
    "identity_check = m3 @ inv_m3\n",
    "print(\"m3 @ inv_m3:\\n\", identity_check)"
   ]
  },
  {
   "cell_type": "markdown",
   "metadata": {},
   "source": [
    "### Creating Arrays with NumPy Utilities\n",
    "\n",
    "Besides `np.array(...)`, NumPy provides handy functions to create arrays:\n",
    "\n",
    "- Shapes & constants:\n",
    "  - `np.zeros(shape)`, `np.ones(shape)`, `np.full(shape, value)`\n",
    "  - `np.eye(n)` identity matrix\n",
    "- Ranges & sampling:\n",
    "  - `np.arange(start, stop, step)` (like Python `range`, excludes `stop`)\n",
    "  - `np.linspace(start, stop, num)` (includes `stop`, evenly spaced)\n",
    "- From existing arrays:\n",
    "  - `np.zeros_like(a)`, `np.ones_like(a)`, `np.full_like(a, value)`\n",
    "- Random (use a generator for reproducibility):\n",
    "  - `rng = np.random.default_rng(seed)`\n",
    "  - `rng.random(shape)` uniform in `[0, 1)`\n",
    "  - `rng.normal(loc, scale, shape)` normal distribution\n",
    "  - `rng.integers(low, high, shape)` random integers\n",
    "\n",
    "You can also:\n",
    "- Set the data type with `dtype=...`\n",
    "- Reshape with `.reshape(new_shape)`\n",
    "- Convert types with `.astype(new_dtype)`\n"
   ]
  },
  {
   "cell_type": "code",
   "execution_count": 30,
   "metadata": {},
   "outputs": [
    {
     "name": "stdout",
     "output_type": "stream",
     "text": [
      "Constant-filled arrays\n",
      "zeros:\n",
      " [[0. 0. 0.]\n",
      " [0. 0. 0.]] shape: (2, 3) dtype: float64\n",
      "ones:\n",
      " [[1 1 1]\n",
      " [1 1 1]] shape: (2, 3) dtype: int64\n",
      "full(7.5):\n",
      " [[7.5 7.5 7.5]\n",
      " [7.5 7.5 7.5]] shape: (2, 3) dtype: float64\n",
      "\n",
      "Identity matrix\n",
      "eye(3):\n",
      " [[1. 0. 0.]\n",
      " [0. 1. 0.]\n",
      " [0. 0. 1.]] shape: (3, 3) dtype: float64\n",
      "\n",
      "Ranges and evenly spaced samples\n",
      "arange(0,10,2): [0 2 4 6 8] shape: (5,) dtype: int64\n",
      "linspace(0,1,5): [0.   0.25 0.5  0.75 1.  ] shape: (5,) dtype: float64\n",
      "\n",
      "Based on an existing array\n",
      "base:\n",
      " [[1 2 3]\n",
      " [4 5 6]] shape: (2, 3) dtype: int32\n",
      "zeros_like(base):\n",
      " [[0 0 0]\n",
      " [0 0 0]] dtype: int32\n",
      "ones_like(base):\n",
      " [[1 1 1]\n",
      " [1 1 1]] dtype: int32\n",
      "full_like(base, -1):\n",
      " [[-1 -1 -1]\n",
      " [-1 -1 -1]] dtype: int32\n",
      "\n",
      "Random arrays (reproducible with a generator)\n",
      "uniform random:\n",
      " [[0.68235186 0.05382102 0.22035987]\n",
      " [0.18437181 0.1759059  0.81209451]]\n",
      "normal random:\n",
      " [[-0.63646365  0.54195222 -0.31659545]\n",
      " [-0.32238912  0.09716732 -1.52593041]]\n",
      "random integers 0..9:\n",
      " [[2 8 7]\n",
      " [2 4 7]]\n",
      "\n",
      "Reshape and dtype conversion\n",
      "v = [ 0  1  2  3  4  5  6  7  8  9 10 11] shape: (12,) dtype: int64\n",
      "V = v.reshape(3,4):\n",
      " [[ 0  1  2  3]\n",
      " [ 4  5  6  7]\n",
      " [ 8  9 10 11]] shape: (3, 4) dtype: int64\n",
      "V.astype(np.float32): dtype: float32\n"
     ]
    }
   ],
   "source": [
    "import numpy as np\n",
    "\n",
    "print(\"Constant-filled arrays\")\n",
    "z = np.zeros((2, 3), dtype=float)\n",
    "o = np.ones((2, 3), dtype=int)\n",
    "f = np.full((2, 3), 7.5)\n",
    "print(\"zeros:\\n\", z, \"shape:\", z.shape, \"dtype:\", z.dtype)\n",
    "print(\"ones:\\n\", o, \"shape:\", o.shape, \"dtype:\", o.dtype)\n",
    "print(\"full(7.5):\\n\", f, \"shape:\", f.shape, \"dtype:\", f.dtype)\n",
    "\n",
    "print(\"\\nIdentity matrix\")\n",
    "I = np.eye(3)\n",
    "print(\"eye(3):\\n\", I, \"shape:\", I.shape, \"dtype:\", I.dtype)\n",
    "\n",
    "print(\"\\nRanges and evenly spaced samples\")\n",
    "ar = np.arange(0, 10, 2)          # 0,2,4,6,8\n",
    "ln = np.linspace(0.0, 1.0, 5)     # 5 points including 0 and 1\n",
    "print(\"arange(0,10,2):\", ar, \"shape:\", ar.shape, \"dtype:\", ar.dtype)\n",
    "print(\"linspace(0,1,5):\", ln, \"shape:\", ln.shape, \"dtype:\", ln.dtype)\n",
    "\n",
    "print(\"\\nBased on an existing array\")\n",
    "base = np.array([[1, 2, 3],\n",
    "                 [4, 5, 6]], dtype=np.int32)\n",
    "z_like = np.zeros_like(base)\n",
    "o_like = np.ones_like(base)\n",
    "f_like = np.full_like(base, -1)\n",
    "print(\"base:\\n\", base, \"shape:\", base.shape, \"dtype:\", base.dtype)\n",
    "print(\"zeros_like(base):\\n\", z_like, \"dtype:\", z_like.dtype)\n",
    "print(\"ones_like(base):\\n\", o_like, \"dtype:\", o_like.dtype)\n",
    "print(\"full_like(base, -1):\\n\", f_like, \"dtype:\", f_like.dtype)\n",
    "\n",
    "print(\"\\nRandom arrays (reproducible with a generator)\")\n",
    "rng = np.random.default_rng(123)\n",
    "u = rng.random((2, 3))              # uniform [0,1)\n",
    "n = rng.normal(0.0, 1.0, (2, 3))    # normal(mean=0, std=1)\n",
    "ri = rng.integers(0, 10, (2, 3))    # integers 0..9\n",
    "print(\"uniform random:\\n\", u)\n",
    "print(\"normal random:\\n\", n)\n",
    "print(\"random integers 0..9:\\n\", ri)\n",
    "\n",
    "print(\"\\nReshape and dtype conversion\")\n",
    "v = np.arange(12)                   # shape (12,)\n",
    "V = v.reshape(3, 4)                 # shape (3,4)\n",
    "V_float32 = V.astype(np.float32)    # change dtype\n",
    "print(\"v =\", v, \"shape:\", v.shape, \"dtype:\", v.dtype)\n",
    "print(\"V = v.reshape(3,4):\\n\", V, \"shape:\", V.shape, \"dtype:\", V.dtype)\n",
    "print(\"V.astype(np.float32): dtype:\", V_float32.dtype)"
   ]
  },
  {
   "cell_type": "markdown",
   "metadata": {},
   "source": [
    "### Basics of `matplotlib.pyplot`\n",
    "\n",
    "`matplotlib.pyplot` is a library for creating high-quality plots in Python.\n",
    "\n",
    "Steps to create a basic plot:\n",
    "- Import the library: `import matplotlib.pyplot as plt`\n",
    "- Prepare your data (lists or NumPy arrays)\n",
    "- Plot the data with `plt.plot(x, y)` or another plot function\n",
    "- Add labels, a title, and optionally a legend\n",
    "- Display the plot with `plt.show()`\n",
    "\n",
    "Common functions:\n",
    "- `plt.plot(x, y, label=\"...\")` — line plot\n",
    "- `plt.scatter(x, y)` — scatter plot\n",
    "- `plt.xlabel(\"...\")`, `plt.ylabel(\"...\")`, `plt.title(\"...\")`\n",
    "- `plt.legend()` — add a legend\n",
    "- `plt.grid(True)` — show gridlines\n",
    "- `plt.show()` — display the plot\n"
   ]
  },
  {
   "cell_type": "code",
   "execution_count": 32,
   "metadata": {},
   "outputs": [
    {
     "name": "stdout",
     "output_type": "stream",
     "text": [
      "Plotting sine and cosine curves\n"
     ]
    },
    {
     "data": {
      "image/png": "[encoded data removed]",
      "text/plain": [
       "<Figure size 640x480 with 1 Axes>"
      ]
     },
     "metadata": {},
     "output_type": "display_data"
    },
    {
     "name": "stdout",
     "output_type": "stream",
     "text": [
      "Plotting random scatter plot\n"
     ]
    },
    {
     "data": {
      "image/png": "[encoded data removed]",
      "text/plain": [
       "<Figure size 640x480 with 2 Axes>"
      ]
     },
     "metadata": {},
     "output_type": "display_data"
    }
   ],
   "source": [
    "import numpy as np\n",
    "import matplotlib.pyplot as plt\n",
    "\n",
    "# Line Plot Example\n",
    "x = np.linspace(0, 2*np.pi, 100)\n",
    "y1 = np.sin(x)\n",
    "y2 = np.cos(x)\n",
    "\n",
    "print(\"Plotting sine and cosine curves\")\n",
    "\n",
    "plt.plot(x, y1, label=\"sin(x)\", linewidth=2)\n",
    "plt.plot(x, y2, label=\"cos(x)\", linestyle=\"--\")\n",
    "plt.xlabel(\"x value (radians)\")\n",
    "plt.ylabel(\"Function value\")\n",
    "plt.title(\"Sine and Cosine Functions\")\n",
    "plt.legend()\n",
    "plt.grid(True)\n",
    "plt.show()\n",
    "\n",
    "# Scatter Plot Example\n",
    "rng = np.random.default_rng(42)\n",
    "x_scatter = rng.normal(0, 1, 50)\n",
    "y_scatter = rng.normal(0, 1, 50)\n",
    "colors = rng.random(50)  # color value for each point\n",
    "sizes = rng.integers(50, 300, size=50)  # size for each point\n",
    "\n",
    "print(\"Plotting random scatter plot\")\n",
    "\n",
    "plt.scatter(x_scatter, y_scatter, c=colors, s=sizes, cmap='viridis', alpha=0.7, edgecolors='black')\n",
    "plt.xlabel(\"X axis\")\n",
    "plt.ylabel(\"Y axis\")\n",
    "plt.title(\"Random Scatter Plot\")\n",
    "plt.colorbar(label=\"Color value\")\n",
    "plt.grid(True)\n",
    "plt.show()\n"
   ]
  },
  {
   "cell_type": "markdown",
   "metadata": {},
   "source": [
    "### Python Practice Exercises — Math Focus\n",
    "\n",
    "These exercises combine concepts from variables, lists, flow control, functions, NumPy, and matplotlib.\n",
    "\n",
    "1. **Factorial Function and Plot**  \n",
    "   Write a function `factorial(n)` that computes  \n",
    "   $$\n",
    "   n! = \\prod_{k=1}^n k\n",
    "   $$\n",
    "   for $n \\geq 0$.  \n",
    "   - Test your function for several values of $n$.  \n",
    "   - Plot $n$ vs. $n!$ for $n = 0$ to $10$.\n",
    "\n",
    "2. **Taylor Approximation of Sine**  \n",
    "   Approximate $\\sin(x)$ using the Taylor series expansion:  \n",
    "   $$\n",
    "   \\sin(x) \\approx \\sum_{k=0}^n (-1)^k \\frac{x^{2k+1}}{(2k+1)!}\n",
    "   $$\n",
    "   - Write a function `taylor_sin(x, n)` to compute the approximation.  \n",
    "   - Plot the approximation and the true sine curve on the same graph for $x \\in [-\\pi, \\pi]$ and various $n$.\n",
    "\n",
    "3. **Dot Product and Angle Between Vectors**  \n",
    "   Given two vectors $\\mathbf{a}$ and $\\mathbf{b}$, the angle between them is:  \n",
    "   $$\n",
    "   \\theta = \\cos^{-1} \\left( \\frac{\\mathbf{a} \\cdot \\mathbf{b}}{\\|\\mathbf{a}\\| \\|\\mathbf{b}\\|} \\right)\n",
    "   $$\n",
    "   - Use NumPy to compute $\\theta$ for random 3D vectors.  \n",
    "   - Repeat for 100 pairs and plot the distribution of angles as a histogram.\n",
    "\n",
    "4. **Matrix Equation Solver**  \n",
    "   Solve the linear system:  \n",
    "   $$\n",
    "   A\\mathbf{x} = \\mathbf{b}\n",
    "   $$\n",
    "   where $A$ is a $3 \\times 3$ invertible matrix and $\\mathbf{b}$ is a given vector.  \n",
    "   - Use NumPy’s `np.linalg.inv` and `@` operator.  \n",
    "   - Verify your solution by multiplying $A$ and $\\mathbf{x}$ and checking against $\\mathbf{b}$.\n",
    "\n",
    "5. **Projectile Motion Simulation**  \n",
    "   The height $h(t)$ of a projectile launched with velocity $v_0$ at angle $\\theta$ is:  \n",
    "   $$\n",
    "   h(t) = v_0 \\sin(\\theta) t - \\frac{1}{2} g t^2\n",
    "   $$\n",
    "   - Use a loop to compute $h(t)$ until the projectile hits the ground.  \n",
    "   - Plot height vs. time and annotate the maximum height.\n",
    "\n",
    "6. **Monte Carlo Estimate of $\\pi$**  \n",
    "   - Randomly generate $N$ points in the unit square $[0,1] \\times [0,1]$.  \n",
    "   - Count how many fall inside the quarter circle $x^2 + y^2 \\leq 1$.  \n",
    "   - Use the ratio to estimate $\\pi$.  \n",
    "   - Plot the points, coloring those inside and outside the circle differently.\n"
   ]
  }
 ],
 "metadata": {
  "colab": {
   "authorship_tag": "ABX9TyOi8y/DbU2ZvwkBQEbKpMgn",
   "collapsed_sections": [
    "5WKel8GHSG8Q",
    "ny4sMY_sSG52",
    "u7A_V-7ESG3Z"
   ],
   "name": "Copy of Intro-to-Python.ipynb",
   "provenance": [
    {
     "file_id": "1uA4_vzYr3NjyRMr28YFRthHX1aLzGhSs",
     "timestamp": 1642734752735
    }
   ]
  },
  "kernelspec": {
   "display_name": "Python 3 (ipykernel)",
   "language": "python",
   "name": "python3"
  },
  "language_info": {
   "codemirror_mode": {
    "name": "ipython",
    "version": 3
   },
   "file_extension": ".py",
   "mimetype": "text/x-python",
   "name": "python",
   "nbconvert_exporter": "python",
   "pygments_lexer": "ipython3",
   "version": "3.10.10"
  }
 },
 "nbformat": 4,
 "nbformat_minor": 4
}
