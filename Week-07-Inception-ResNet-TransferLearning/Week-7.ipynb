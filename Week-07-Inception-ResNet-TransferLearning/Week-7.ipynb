{
 "cells": [
  {
   "cell_type": "markdown",
   "id": "8423d8be-162f-4117-91a2-97ca8f43eb4f",
   "metadata": {},
   "source": [
    "# Week 7"
   ]
  },
  {
   "cell_type": "markdown",
   "id": "8094e6dd-a8a1-4633-b9b8-7fcee709ec7f",
   "metadata": {},
   "source": [
    "## Lecture 13 - Inception, ResNet"
   ]
  },
  {
   "cell_type": "code",
   "execution_count": 1,
   "id": "7a10b917-e779-4d40-9754-70e121b6ed47",
   "metadata": {},
   "outputs": [
    {
     "name": "stdout",
     "output_type": "stream",
     "text": [
      "CUDA available: True\n",
      "GPU count: 1\n",
      "Device 0: NVIDIA GeForce RTX 3080 Ti\n"
     ]
    }
   ],
   "source": [
    "import os\n",
    "os.environ[\"CUDA_VISIBLE_DEVICES\"] = \"1\"\n",
    "import torch\n",
    "\n",
    "print(\"CUDA available:\", torch.cuda.is_available())\n",
    "print(\"GPU count:\", torch.cuda.device_count())\n",
    "\n",
    "for i in range(torch.cuda.device_count()):\n",
    "    print(f\"Device {i}: {torch.cuda.get_device_name(i)}\")"
   ]
  },
  {
   "cell_type": "markdown",
   "id": "0d5d9da3-cb70-4deb-a1de-c0bc4f598cd6",
   "metadata": {},
   "source": [
    "### Reusable Training Function for CNNs and Image Datasets\n",
    "\n",
    "We reuse code from Week 6. It is a function that allows us to input our dataset, model, and hyperparameters, which it then takes to train, save, and evaluate model performance.\n",
    "\n",
    "We make a small adjustment to ingest a dataset in the form:\n",
    "\n",
    "```\n",
    "dataset/\n",
    "├── train/\n",
    "│   ├── class0/\n",
    "│   ├── class1/\n",
    "│   └── ...\n",
    "└── valid/\n",
    "    ├── class0/\n",
    "    ├── class1/\n",
    "    └── ...\n",
    "```"
   ]
  },
  {
   "cell_type": "code",
   "execution_count": 2,
   "id": "5991feb7-1492-47ab-903c-c9d3d4b7148f",
   "metadata": {},
   "outputs": [],
   "source": [
    "# ======================================================================\n",
    "# run_imagefolder_experiment\n",
    "#\n",
    "# End-to-end PyTorch training/evaluation pipeline for image classification\n",
    "# using datasets stored in ImageFolder format.\n",
    "#\n",
    "# Features:\n",
    "#   • Loads and splits dataset into train/val/test sets with configurable ratios.\n",
    "#   • Applies augmentation to training set, standard transforms to val/test.\n",
    "#   • Uses tqdm progress bars for batch-level metrics during training/validation/testing.\n",
    "#   • Supports AdamW or SGD optimizers, label smoothing, gradient clipping.\n",
    "#   • Includes ReduceLROnPlateau scheduler (default patience=10, factor=0.5).\n",
    "#   • Includes early stopping (default patience=25) on validation metric.\n",
    "#   • Saves best model checkpoint based on chosen monitor (\"loss\" or \"acc\").\n",
    "#   • Evaluates on held-out test set with accuracy, confusion matrix, and classification report.\n",
    "#   • Plots twin-axis training curves for loss and accuracy.\n",
    "#\n",
    "# Arguments:\n",
    "#   data_dir (str): Root folder containing subfolders for the dataset (here, we assume train and\n",
    "#                   valid subsets, with class subsets below that).\n",
    "#   model (nn.Module): Model architecture to train.\n",
    "#   [other arguments control preprocessing, training, and hyperparameters]\n",
    "#\n",
    "# Returns:\n",
    "#   dict: history, best test accuracy, classes, checkpoint path, device info, total train time.\n",
    "# ======================================================================\n",
    "import matplotlib.pyplot as plt\n",
    "import numpy as np\n",
    "import os\n",
    "import seaborn as sns\n",
    "import time\n",
    "import torch\n",
    "import torch.nn as nn\n",
    "\n",
    "from collections import Counter\n",
    "from notebook.services.config import ConfigManager\n",
    "from sklearn.metrics import confusion_matrix, classification_report\n",
    "from torch import optim\n",
    "from torch.optim.lr_scheduler import ReduceLROnPlateau\n",
    "from torch.utils.data import DataLoader, random_split\n",
    "from torchvision import datasets, transforms\n",
    "from tqdm.auto import tqdm\n",
    "\n",
    "cm = ConfigManager()\n",
    "cm.update('NotebookApp', {\n",
    "    'iopub_msg_rate_limit': 50000,\n",
    "    'rate_limit_window': 10.0\n",
    "})\n",
    "\n",
    "# ======================================================================\n",
    "# Helper Functions\n",
    "def split_counts(ds):\n",
    "    \"\"\"\n",
    "    Return a Counter of class indices for either:\n",
    "      - torchvision.datasets.ImageFolder\n",
    "      - torch.utils.data.Subset(ImageFolder)\n",
    "      - or any dataset exposing .samples or .targets; otherwise falls back to __getitem__\n",
    "    \"\"\"\n",
    "    # If this is a Subset, unwrap to the base dataset and indices\n",
    "    if isinstance(ds, torch.utils.data.Subset):\n",
    "        base = ds.dataset\n",
    "        idxs = ds.indices\n",
    "        if hasattr(base, \"samples\"):\n",
    "            labels = [base.samples[i][1] for i in idxs]\n",
    "        elif hasattr(base, \"targets\"):\n",
    "            labels = [base.targets[i] for i in idxs]\n",
    "        else:\n",
    "            # fallback (slower)\n",
    "            labels = [base[i][1] for i in idxs]\n",
    "    else:\n",
    "        # Plain dataset (e.g., ImageFolder)\n",
    "        if hasattr(ds, \"samples\"):\n",
    "            labels = [y for _, y in ds.samples]\n",
    "        elif hasattr(ds, \"targets\"):\n",
    "            labels = list(ds.targets)\n",
    "        else:\n",
    "            # fallback (slower)\n",
    "            labels = [ds[i][1] for i in range(len(ds))]\n",
    "\n",
    "    return Counter(labels)\n",
    "\n",
    "def current_lr(optim_):\n",
    "    return optim_.param_groups[0][\"lr\"]\n",
    "\n",
    "def accuracy_from_logits(logits, y):\n",
    "    preds = logits.argmax(1)\n",
    "    return (preds == y).float().mean().item()\n",
    "# ======================================================================\n",
    "\n",
    "def run_imagefolder_experiment(\n",
    "    data_dir,\n",
    "    model,\n",
    "    *,\n",
    "    img_size=224,\n",
    "    resize_side=256,\n",
    "    augment=True,\n",
    "    normalize_stats=((0.485, 0.456, 0.406),\n",
    "                     (0.229, 0.224, 0.225)),\n",
    "    splits=(0.8, 0.1, 0.1),\n",
    "    batch_train=32,\n",
    "    batch_eval=64,\n",
    "    num_workers=4,\n",
    "    optimizer_name=\"adamw\",\n",
    "    lr=3e-4,\n",
    "    weight_decay=5e-4,\n",
    "    momentum=0.9,\n",
    "    label_smoothing=0.03,\n",
    "    epochs=1000,\n",
    "    monitor=\"loss\",\n",
    "    min_delta=0.0,\n",
    "    seed=0,\n",
    "    grad_clip=None,\n",
    "    patience=25,\n",
    "    lr_patience=10,\n",
    "    lr_factor=0.1,\n",
    "    lr_min=1e-6,\n",
    "    lr_cooldown=1,\n",
    "    save_path=\"best_model.pth\",\n",
    "    use_aux=False,\n",
    "    use_amp=False\n",
    "):\n",
    "    \"\"\"Train/eval a model on an ImageFolder dataset.\n",
    "       If `use_aux=True`, expects model to return (main_logits, aux_logits)\n",
    "       and combines losses: loss = main_loss + 0.4 * aux_loss.\n",
    "       If `use_amp=True`, enables mixed-precision (autocast + GradScaler) on CUDA.\n",
    "    \"\"\"\n",
    "    # --- Device setup ---\n",
    "    if torch.cuda.is_available():\n",
    "        device = torch.device(\"cuda\")\n",
    "        print(f\"[device] Using CUDA GPU: {torch.cuda.get_device_name(torch.cuda.current_device())}\")\n",
    "    elif getattr(torch.backends, \"mps\", None) and torch.backends.mps.is_available():\n",
    "        device = torch.device(\"mps\")\n",
    "        print(\"[device] Using Apple Metal (MPS) device\")\n",
    "    else:\n",
    "        device = torch.device(\"cpu\")\n",
    "        print(\"[device] Using CPU\")\n",
    "    print()\n",
    "\n",
    "    torch.manual_seed(seed)\n",
    "    np.random.seed(seed)\n",
    "    model = model.to(device)\n",
    "\n",
    "    # AMP context setup (only meaningful on CUDA)\n",
    "    amp_enabled = bool(use_amp and device.type == \"cuda\")\n",
    "    scaler = torch.cuda.amp.GradScaler(enabled=amp_enabled)\n",
    "\n",
    "    mean, std = normalize_stats\n",
    "    if augment:\n",
    "        train_tf = transforms.Compose([\n",
    "            transforms.Resize(resize_side),\n",
    "            transforms.RandomResizedCrop(img_size, scale=(0.7, 1.0)),\n",
    "            transforms.RandomHorizontalFlip(),\n",
    "            transforms.ColorJitter(brightness=0.15, contrast=0.15, saturation=0.15),\n",
    "            transforms.ToTensor(),\n",
    "            transforms.Normalize(mean, std),\n",
    "        ])\n",
    "    else:\n",
    "        train_tf = transforms.Compose([\n",
    "            transforms.Resize(resize_side),\n",
    "            transforms.CenterCrop(img_size),\n",
    "            transforms.ToTensor(),\n",
    "            transforms.Normalize(mean, std),\n",
    "        ])\n",
    "\n",
    "    test_tf = transforms.Compose([\n",
    "        transforms.Resize(resize_side),\n",
    "        transforms.CenterCrop(img_size),\n",
    "        transforms.ToTensor(),\n",
    "        transforms.Normalize(mean, std),\n",
    "    ])\n",
    "\n",
    "    # --- Dataset loading ---\n",
    "    print(f\"[data] Inspecting: {data_dir}\")\n",
    "    train_dir = os.path.join(data_dir, \"train\")\n",
    "    valid_dir = os.path.join(data_dir, \"valid\")\n",
    "    val_dir   = os.path.join(data_dir, \"val\")\n",
    "    test_dir  = os.path.join(data_dir, \"test\")\n",
    "\n",
    "    has_train = os.path.isdir(train_dir)\n",
    "    has_valid = os.path.isdir(valid_dir) or os.path.isdir(val_dir)\n",
    "    has_test  = os.path.isdir(test_dir)\n",
    "\n",
    "    if has_train and has_valid:\n",
    "        valid_root = valid_dir if os.path.isdir(valid_dir) else val_dir\n",
    "        print(\"[data] Found explicit splits.\")\n",
    "        train_ds = datasets.ImageFolder(train_dir, transform=train_tf)\n",
    "        val_ds   = datasets.ImageFolder(valid_root, transform=test_tf)\n",
    "        test_ds  = datasets.ImageFolder(test_dir, transform=test_tf) if has_test else \\\n",
    "                   datasets.ImageFolder(valid_root, transform=test_tf)\n",
    "        classes = train_ds.classes\n",
    "    else:\n",
    "        full_ds = datasets.ImageFolder(root=data_dir, transform=train_tf)\n",
    "        classes = full_ds.classes\n",
    "        frac_train, frac_val, frac_test = splits\n",
    "        N = len(full_ds)\n",
    "        n_train = int(frac_train * N)\n",
    "        n_val   = int(frac_val   * N)\n",
    "        n_test  = N - n_train - n_val\n",
    "        train_ds, val_ds, test_ds = random_split(\n",
    "            full_ds, [n_train, n_val, n_test],\n",
    "            generator=torch.Generator().manual_seed(seed)\n",
    "        )\n",
    "        train_ds.dataset.transform = train_tf\n",
    "        val_ds.dataset.transform   = test_tf\n",
    "        test_ds.dataset.transform  = test_tf\n",
    "\n",
    "    # --- Dataloaders ---\n",
    "    if num_workers is None:\n",
    "        num_workers = min(4, os.cpu_count() or 0)\n",
    "    pin_mem = (device.type == \"cuda\")\n",
    "\n",
    "    train_loader = DataLoader(train_ds, batch_size=batch_train, shuffle=True,\n",
    "                              num_workers=num_workers, pin_memory=pin_mem)\n",
    "    val_loader   = DataLoader(val_ds, batch_size=batch_eval, shuffle=False,\n",
    "                              num_workers=num_workers, pin_memory=pin_mem)\n",
    "    test_loader  = DataLoader(test_ds, batch_size=batch_eval, shuffle=False,\n",
    "                              num_workers=num_workers, pin_memory=pin_mem)\n",
    "\n",
    "    # --- Loss/optimizer/scheduler ---\n",
    "    criterion = nn.CrossEntropyLoss(label_smoothing=label_smoothing)\n",
    "    if optimizer_name.lower() == \"sgd\":\n",
    "        optimizer = optim.SGD(model.parameters(), lr=lr, momentum=momentum, weight_decay=weight_decay)\n",
    "    else:\n",
    "        optimizer = optim.AdamW(model.parameters(), lr=lr, weight_decay=weight_decay)\n",
    "\n",
    "    monitor_metric = monitor.lower()\n",
    "    sched_mode = \"min\" if monitor_metric == \"loss\" else \"max\"\n",
    "    scheduler = ReduceLROnPlateau(\n",
    "        optimizer, mode=sched_mode, factor=lr_factor, patience=lr_patience,\n",
    "        threshold=min_delta, cooldown=lr_cooldown, min_lr=lr_min, verbose=True,\n",
    "    )\n",
    "\n",
    "    best_metric = 0.0 if monitor_metric == \"acc\" else float(\"inf\")\n",
    "    history = {\"train_loss\": [], \"train_acc\": [], \"val_loss\": [], \"val_acc\": []}\n",
    "    since_improved = 0\n",
    "\n",
    "    # --- Training loop ---\n",
    "    train_start_time = time.time()\n",
    "    for epoch in range(1, epochs + 1):\n",
    "        epoch_start_time = time.time()\n",
    "        model.train()\n",
    "        running_loss, running_correct, total = 0.0, 0, 0\n",
    "        pbar = tqdm(train_loader, desc=f\"[epoch {epoch:03d} | train]\", leave=False)\n",
    "        for x, y in pbar:\n",
    "            x, y = x.to(device), y.to(device)\n",
    "            optimizer.zero_grad(set_to_none=True)\n",
    "\n",
    "            # Forward with autocast if AMP enabled\n",
    "            if amp_enabled:\n",
    "                with torch.cuda.amp.autocast():\n",
    "                    outputs = model(x)\n",
    "                    if use_aux and isinstance(outputs, (tuple, list)) and len(outputs) == 2:\n",
    "                        logits, aux_logits = outputs\n",
    "                        loss = criterion(logits, y) + 0.4 * criterion(aux_logits, y)\n",
    "                    else:\n",
    "                        logits = outputs if not isinstance(outputs, (tuple, list)) else outputs[0]\n",
    "                        loss = criterion(logits, y)\n",
    "                # Backward + step via GradScaler\n",
    "                scaler.scale(loss).backward()\n",
    "                if grad_clip is not None:\n",
    "                    scaler.unscale_(optimizer)\n",
    "                    nn.utils.clip_grad_norm_(model.parameters(), grad_clip)\n",
    "                scaler.step(optimizer)\n",
    "                scaler.update()\n",
    "            else:\n",
    "                # Full precision path (explicitly not using AMP)\n",
    "                outputs = model(x)\n",
    "                if use_aux and isinstance(outputs, (tuple, list)) and len(outputs) == 2:\n",
    "                    logits, aux_logits = outputs\n",
    "                    loss = criterion(logits, y) + 0.4 * criterion(aux_logits, y)\n",
    "                else:\n",
    "                    logits = outputs if not isinstance(outputs, (tuple, list)) else outputs[0]\n",
    "                    loss = criterion(logits, y)\n",
    "                loss.backward()\n",
    "                if grad_clip is not None:\n",
    "                    nn.utils.clip_grad_norm_(model.parameters(), grad_clip)\n",
    "                optimizer.step()\n",
    "\n",
    "            bs = x.size(0)\n",
    "            running_loss   += loss.item() * bs\n",
    "            running_correct += (logits.argmax(1) == y).sum().item()\n",
    "            total          += bs\n",
    "            pbar.set_postfix(loss=running_loss/total, acc=running_correct/total)\n",
    "\n",
    "        train_loss = running_loss / total\n",
    "        train_acc  = running_correct / total\n",
    "\n",
    "        # --- Validation ---\n",
    "        model.eval()\n",
    "        v_loss, v_correct, v_total = 0.0, 0, 0\n",
    "        pbar_val = tqdm(val_loader, desc=f\"[epoch {epoch:03d} | val  ]\", leave=False)\n",
    "        with torch.no_grad():\n",
    "            # Autocast for eval only changes dtype; no GradScaler here.\n",
    "            if amp_enabled:\n",
    "                autocast_ctx = torch.cuda.amp.autocast()\n",
    "            else:\n",
    "                # Explicitly disable autocast when AMP is off\n",
    "                class _NullCtx:\n",
    "                    def __enter__(self): return None\n",
    "                    def __exit__(self, exc_type, exc, tb): return False\n",
    "                autocast_ctx = _NullCtx()\n",
    "\n",
    "            with autocast_ctx:\n",
    "                for x, y in pbar_val:\n",
    "                    x, y = x.to(device), y.to(device)\n",
    "                    outputs = model(x)\n",
    "                    if use_aux and isinstance(outputs, (tuple, list)) and len(outputs) == 2:\n",
    "                        logits, aux_logits = outputs\n",
    "                        loss = criterion(logits, y) + 0.4 * criterion(aux_logits, y)\n",
    "                    else:\n",
    "                        logits = outputs if not isinstance(outputs, (tuple, list)) else outputs[0]\n",
    "                        loss = criterion(logits, y)\n",
    "\n",
    "                    bs = x.size(0)\n",
    "                    v_loss    += loss.item() * bs\n",
    "                    v_correct += (logits.argmax(1) == y).sum().item()\n",
    "                    v_total   += bs\n",
    "                    pbar_val.set_postfix(loss=v_loss/v_total, acc=v_correct/v_total)\n",
    "\n",
    "        val_loss = v_loss / v_total\n",
    "        val_acc  = v_correct / v_total\n",
    "        history[\"train_loss\"].append(train_loss); history[\"train_acc\"].append(train_acc)\n",
    "        history[\"val_loss\"].append(val_loss);     history[\"val_acc\"].append(val_acc)\n",
    "\n",
    "        print(f\"[epoch {epoch:03d}] train: loss={train_loss:.4f}, acc={train_acc:.4f} | \"\n",
    "              f\"val: loss={val_loss:.4f}, acc={val_acc:.4f} | time: {time.time() - epoch_start_time:.2f}s\")\n",
    "\n",
    "        monitored_value = val_loss if monitor_metric == \"loss\" else val_acc\n",
    "        scheduler.step(monitored_value)\n",
    "\n",
    "        improved = (monitor_metric == \"acc\" and val_acc > best_metric + min_delta) or \\\n",
    "                   (monitor_metric == \"loss\" and val_loss < best_metric - min_delta)\n",
    "\n",
    "        if improved:\n",
    "            best_metric = val_acc if monitor_metric == \"acc\" else val_loss\n",
    "            since_improved = 0\n",
    "            torch.save(\n",
    "                {\"model_state\": model.state_dict(),\n",
    "                 \"history\": history,\n",
    "                 \"classes\": classes,\n",
    "                 \"monitor\": monitor,\n",
    "                 \"best_metric\": best_metric},\n",
    "                save_path\n",
    "            )\n",
    "            tqdm.write(f\"  [checkpoint] New best ({monitor_metric}={best_metric:.4f}) saved -> {save_path}\")\n",
    "        else:\n",
    "            since_improved += 1\n",
    "            tqdm.write(f\"  [early-stop] No improvement ({since_improved}/{patience}) \"\n",
    "                       f\"on {monitor_metric}; best={best_metric:.4f}, current={monitored_value:.4f}\")\n",
    "            if since_improved >= patience:\n",
    "                tqdm.write(\"  [early-stop] Patience exceeded — stopping.\")\n",
    "                break\n",
    "\n",
    "    total_train_time = time.time() - train_start_time\n",
    "\n",
    "    # --- Testing ---\n",
    "    ckpt = torch.load(save_path, map_location=device)\n",
    "    model.load_state_dict(ckpt[\"model_state\"])\n",
    "    history = ckpt[\"history\"]\n",
    "    classes = ckpt[\"classes\"]\n",
    "\n",
    "    model.eval()\n",
    "    all_preds, all_trues = [], []\n",
    "    with torch.no_grad():\n",
    "        # Eval autocast (again, only dtype; no scaler)\n",
    "        if amp_enabled:\n",
    "            autocast_ctx = torch.cuda.amp.autocast()\n",
    "        else:\n",
    "            class _NullCtx:\n",
    "                def __enter__(self): return None\n",
    "                def __exit__(self, exc_type, exc, tb): return False\n",
    "            autocast_ctx = _NullCtx()\n",
    "\n",
    "        with autocast_ctx:\n",
    "            for x, y in tqdm(test_loader, desc=\"[test]\", leave=False):\n",
    "                x = x.to(device)\n",
    "                outputs = model(x)\n",
    "                logits = outputs if not isinstance(outputs, (tuple, list)) else outputs[0]\n",
    "                preds = logits.argmax(1).cpu().numpy()\n",
    "                all_preds.append(preds)\n",
    "                all_trues.append(y.numpy())\n",
    "\n",
    "    y_true = np.concatenate(all_trues).ravel()\n",
    "    y_pred = np.concatenate(all_preds).ravel()\n",
    "    test_acc = (y_true == y_pred).mean()\n",
    "    print(f\"[eval] Test accuracy: {test_acc:.4f}\")\n",
    "\n",
    "    cm = confusion_matrix(y_true, y_pred, labels=list(range(len(classes))))\n",
    "    plt.figure(figsize=(7,6))\n",
    "    sns.heatmap(cm, annot=True, fmt=\"d\",\n",
    "                xticklabels=classes, yticklabels=classes)\n",
    "    plt.title(\"Confusion Matrix (Test)\")\n",
    "    plt.xlabel(\"Predicted\")\n",
    "    plt.ylabel(\"True\")\n",
    "    plt.tight_layout()\n",
    "    plt.show()\n",
    "\n",
    "    print(classification_report(y_true, y_pred, target_names=classes, digits=4))\n",
    "\n",
    "    # --- Plot curves ---\n",
    "    ep = range(1, len(history[\"train_loss\"]) + 1)\n",
    "    fig, ax1 = plt.subplots()\n",
    "    ax1.set_xlabel(\"Epoch\")\n",
    "    ax1.set_ylabel(\"Loss\", color=\"tab:blue\")\n",
    "    ax1.plot(ep, history[\"train_loss\"], label=\"Train Loss\", color=\"tab:blue\")\n",
    "    ax1.plot(ep, history[\"val_loss\"],   label=\"Val Loss\",   color=\"tab:blue\", linestyle=\"--\")\n",
    "    ax2 = ax1.twinx()\n",
    "    ax2.set_ylabel(\"Accuracy\", color=\"tab:orange\")\n",
    "    ax2.plot(ep, history[\"train_acc\"], label=\"Train Acc\", color=\"tab:orange\")\n",
    "    ax2.plot(ep, history[\"val_acc\"],   label=\"Val Acc\",   color=\"tab:orange\", linestyle=\"--\")\n",
    "    ax1.legend(loc=\"center right\")\n",
    "    plt.title(\"Loss and Accuracy over Epochs\")\n",
    "    plt.show()\n",
    "\n",
    "    return {\n",
    "        \"history\": history,\n",
    "        \"test_acc\": float(test_acc),\n",
    "        \"classes\": classes,\n",
    "        \"checkpoint\": save_path,\n",
    "        \"device\": str(device),\n",
    "        \"total_train_time_sec\": total_train_time,\n",
    "    }\n"
   ]
  },
  {
   "cell_type": "markdown",
   "id": "7bdefd2b-64ea-430f-9b23-4606f95db087",
   "metadata": {},
   "source": [
    "## Inception"
   ]
  },
  {
   "cell_type": "code",
   "execution_count": 4,
   "id": "a6aaf2a6-286a-46e4-b2a5-80ddf2a56300",
   "metadata": {},
   "outputs": [],
   "source": [
    "# ======================================================================\n",
    "# Inception v1 (GoogLeNet) — from scratch, for 224x224 RGB\n",
    "#  - Classic Inception (v1) topology (no BatchNorm, no LRN, no aux heads)\n",
    "#  - Towers: 1x1, 3x3 (with 1x1 reduce), 5x5 (with 1x1 reduce), pool->1x1\n",
    "#  - He initialization for conv/linear\n",
    "#  - Outputs logits of shape [N, num_classes]\n",
    "# ======================================================================\n",
    "class InceptionBlock(nn.Module):\n",
    "    def __init__(self, in_ch, ch1x1,\n",
    "                 ch3x3_reduce, ch3x3,\n",
    "                 ch5x5_reduce, ch5x5,\n",
    "                 pool_proj):\n",
    "        super().__init__()\n",
    "        # 1x1\n",
    "        self.b1 = nn.Sequential(\n",
    "            nn.Conv2d(in_ch, ch1x1, kernel_size=1, bias=False),\n",
    "            nn.ReLU(inplace=True)\n",
    "        )\n",
    "        # 3x3\n",
    "        self.b2 = nn.Sequential(\n",
    "            nn.Conv2d(in_ch, ch3x3_reduce, kernel_size=1, bias=False),\n",
    "            nn.ReLU(inplace=True),\n",
    "            nn.Conv2d(ch3x3_reduce, ch3x3, kernel_size=3, padding=1, bias=False),\n",
    "            nn.ReLU(inplace=True)\n",
    "        )\n",
    "        # 5x5\n",
    "        self.b3 = nn.Sequential(\n",
    "            nn.Conv2d(in_ch, ch5x5_reduce, kernel_size=1, bias=False),\n",
    "            nn.ReLU(inplace=True),\n",
    "            nn.Conv2d(ch5x5_reduce, ch5x5, kernel_size=5, padding=2, bias=False),\n",
    "            nn.ReLU(inplace=True)\n",
    "        )\n",
    "        # pool -> 1x1\n",
    "        self.b4 = nn.Sequential(\n",
    "            nn.MaxPool2d(kernel_size=3, stride=1, padding=1),\n",
    "            nn.Conv2d(in_ch, pool_proj, kernel_size=1, bias=False),\n",
    "            nn.ReLU(inplace=True)\n",
    "        )\n",
    "\n",
    "    def forward(self, x):\n",
    "        y1 = self.b1(x)\n",
    "        y2 = self.b2(x)\n",
    "        y3 = self.b3(x)\n",
    "        y4 = self.b4(x)\n",
    "        return torch.cat([y1, y2, y3, y4], dim=1)\n",
    "\n",
    "\n",
    "class InceptionV1(nn.Module):\n",
    "    def __init__(self, num_classes=2, p_drop=0.4):\n",
    "        super().__init__()\n",
    "        # Stem (similar to original GoogLeNet)\n",
    "        self.stem = nn.Sequential(\n",
    "            nn.Conv2d(3, 64, kernel_size=7, stride=2, padding=3, bias=False),  # -> 112x112\n",
    "            nn.ReLU(inplace=True),\n",
    "            nn.MaxPool2d(kernel_size=3, stride=2, padding=1),                  # -> 56x56\n",
    "\n",
    "            nn.Conv2d(64, 64, kernel_size=1, bias=False),\n",
    "            nn.ReLU(inplace=True),\n",
    "            nn.Conv2d(64, 192, kernel_size=3, padding=1, bias=False),          # -> 56x56\n",
    "            nn.ReLU(inplace=True),\n",
    "            nn.MaxPool2d(kernel_size=3, stride=2, padding=1),                  # -> 28x28\n",
    "        )\n",
    "\n",
    "        # Inception 3a, 3b\n",
    "        self.incept3a = InceptionBlock(192, 64, 96, 128, 16, 32, 32)          # -> 28x28\n",
    "        self.incept3b = InceptionBlock(256, 128, 128, 192, 32, 96, 64)        # -> 28x28\n",
    "        self.pool3    = nn.MaxPool2d(kernel_size=3, stride=2, padding=1)      # -> 14x14\n",
    "\n",
    "        # Inception 4a–4e\n",
    "        self.incept4a = InceptionBlock(480, 192, 96, 208, 16, 48, 64)         # -> 14x14\n",
    "        self.incept4b = InceptionBlock(512, 160, 112, 224, 24, 64, 64)        # -> 14x14\n",
    "        self.incept4c = InceptionBlock(512, 128, 128, 256, 24, 64, 64)        # -> 14x14\n",
    "        self.incept4d = InceptionBlock(512, 112, 144, 288, 32, 64, 64)        # -> 14x14\n",
    "        self.incept4e = InceptionBlock(528, 256, 160, 320, 32, 128, 128)      # -> 14x14\n",
    "        self.pool4    = nn.MaxPool2d(kernel_size=3, stride=2, padding=1)      # -> 7x7\n",
    "\n",
    "        # Inception 5a, 5b\n",
    "        self.incept5a = InceptionBlock(832, 256, 160, 320, 32, 128, 128)      # -> 7x7\n",
    "        self.incept5b = InceptionBlock(832, 384, 192, 384, 48, 128, 128)      # -> 7x7\n",
    "\n",
    "        # Head\n",
    "        self.avgpool  = nn.AdaptiveAvgPool2d((1, 1))\n",
    "        self.dropout  = nn.Dropout(p=p_drop)\n",
    "        self.fc       = nn.Linear(1024, num_classes)\n",
    "\n",
    "        self._init_weights()\n",
    "\n",
    "    def _init_weights(self):\n",
    "        for m in self.modules():\n",
    "            if isinstance(m, nn.Conv2d):\n",
    "                nn.init.kaiming_normal_(m.weight, nonlinearity=\"relu\")\n",
    "                if getattr(m, \"bias\", None) is not None:\n",
    "                    nn.init.zeros_(m.bias)\n",
    "            elif isinstance(m, nn.Linear):\n",
    "                nn.init.kaiming_normal_(m.weight, nonlinearity=\"relu\")\n",
    "                nn.init.zeros_(m.bias)\n",
    "\n",
    "    def forward(self, x):\n",
    "        x = self.stem(x)\n",
    "        x = self.incept3a(x)\n",
    "        x = self.incept3b(x)\n",
    "        x = self.pool3(x)\n",
    "\n",
    "        x = self.incept4a(x)\n",
    "        x = self.incept4b(x)\n",
    "        x = self.incept4c(x)\n",
    "        x = self.incept4d(x)\n",
    "        x = self.incept4e(x)\n",
    "        x = self.pool4(x)\n",
    "\n",
    "        x = self.incept5a(x)\n",
    "        x = self.incept5b(x)\n",
    "\n",
    "        x = self.avgpool(x)\n",
    "        x = torch.flatten(x, 1)\n",
    "        x = self.dropout(x)\n",
    "        x = self.fc(x)\n",
    "        return x\n",
    "\n",
    "# ======================================================================\n",
    "# Inception v2 — from scratch, for 224x224 RGB\n",
    "#  - Improved Inception (v1) with factorized convolutions:\n",
    "#      • 5x5 → two 3x3\n",
    "#      • 3x3 → (1x3) + (3x1)\n",
    "#  - BatchNorm after every conv (replaces LRN from v1)\n",
    "#  - Towers: 1x1, factorized 3x3, double 3x3 (replacing 5x5), pool→1x1\n",
    "#  - AdaptiveAvgPool → Dropout → Fully Connected\n",
    "#  - He initialization for conv/linear, BN initialized to 1/0\n",
    "#  - Outputs logits of shape [N, num_classes]\n",
    "# ======================================================================\n",
    "\n",
    "import torch\n",
    "import torch.nn as nn\n",
    "import torch.nn.functional as F\n",
    "\n",
    "import torch\n",
    "import torch.nn as nn\n",
    "\n",
    "# ------------------------------ #\n",
    "# Building blocks\n",
    "# ------------------------------ #\n",
    "\n",
    "class ConvBNReLU(nn.Module):\n",
    "    def __init__(self, in_ch, out_ch, kernel_size, stride=1, padding=0):\n",
    "        super().__init__()\n",
    "        self.conv = nn.Conv2d(in_ch, out_ch, kernel_size, stride, padding, bias=False)\n",
    "        self.bn   = nn.BatchNorm2d(out_ch)\n",
    "        self.relu = nn.ReLU(inplace=True)\n",
    "        nn.init.kaiming_normal_(self.conv.weight, nonlinearity=\"relu\")\n",
    "        nn.init.ones_(self.bn.weight)\n",
    "        nn.init.zeros_(self.bn.bias)\n",
    "\n",
    "    def forward(self, x):\n",
    "        return self.relu(self.bn(self.conv(x)))\n",
    "\n",
    "\n",
    "class InceptionV2Module(nn.Module):\n",
    "    \"\"\"\n",
    "    Inception V2 block with:\n",
    "      - 1x1 branch\n",
    "      - factorized 3x3 branch: 1x3 then 3x1 (keeps 'ch3x3' channels)\n",
    "      - '5x5' branch implemented as two 3x3 (keeps 'ch5x5' channels)\n",
    "      - avg-pool -> 1x1 branch (pool_proj)\n",
    "    Output channels = ch1x1 + ch3x3 + ch5x5 + pool_proj\n",
    "    \"\"\"\n",
    "    def __init__(self, in_ch, ch1x1, ch3x3_reduce, ch3x3, ch5x5_reduce, ch5x5, pool_proj):\n",
    "        super().__init__()\n",
    "\n",
    "        self.branch1 = ConvBNReLU(in_ch, ch1x1, kernel_size=1)\n",
    "\n",
    "        self.branch3 = nn.Sequential(\n",
    "            ConvBNReLU(in_ch, ch3x3_reduce, kernel_size=1),\n",
    "            ConvBNReLU(ch3x3_reduce, ch3x3, kernel_size=(1,3), padding=(0,1)),\n",
    "            ConvBNReLU(ch3x3,        ch3x3, kernel_size=(3,1), padding=(1,0)),\n",
    "        )\n",
    "\n",
    "        self.branch5 = nn.Sequential(\n",
    "            ConvBNReLU(in_ch, ch5x5_reduce, kernel_size=1),\n",
    "            ConvBNReLU(ch5x5_reduce, ch5x5, kernel_size=3, padding=1),\n",
    "            ConvBNReLU(ch5x5,        ch5x5, kernel_size=3, padding=1),\n",
    "        )\n",
    "\n",
    "        self.branch_pool = nn.Sequential(\n",
    "            nn.AvgPool2d(kernel_size=3, stride=1, padding=1),\n",
    "            ConvBNReLU(in_ch, pool_proj, kernel_size=1)\n",
    "        )\n",
    "\n",
    "        self.out_channels = ch1x1 + ch3x3 + ch5x5 + pool_proj\n",
    "\n",
    "    def forward(self, x):\n",
    "        return torch.cat([self.branch1(x),\n",
    "                          self.branch3(x),\n",
    "                          self.branch5(x),\n",
    "                          self.branch_pool(x)], dim=1)\n",
    "\n",
    "\n",
    "class ReductionA_V2(nn.Module):\n",
    "    \"\"\"\n",
    "    35x35/28x28 -> 17x17 style reduction (BN-Inception-ish):\n",
    "      - Branch 1: 3x3, stride=2 (n channels)\n",
    "      - Branch 2: 1x1 -> 3x3 -> 3x3 stride=2 (final 'm' channels)\n",
    "      - Branch 3: MaxPool stride=2 (keeps 'in_ch' channels)\n",
    "    Output channels = n + m + in_ch\n",
    "    Choose (n, m) so that total matches the next block's expected input.\n",
    "    \"\"\"\n",
    "    def __init__(self, in_ch, k, l, m, n):\n",
    "        super().__init__()\n",
    "        self.b1 = ConvBNReLU(in_ch, n, kernel_size=3, stride=2)  # n\n",
    "\n",
    "        self.b2 = nn.Sequential(                                # m\n",
    "            ConvBNReLU(in_ch, k, kernel_size=1),\n",
    "            ConvBNReLU(k,   l, kernel_size=3, padding=1),\n",
    "            ConvBNReLU(l,   m, kernel_size=3, stride=2),\n",
    "        )\n",
    "\n",
    "        self.b3 = nn.MaxPool2d(kernel_size=3, stride=2)\n",
    "\n",
    "        self.out_channels = n + m + in_ch\n",
    "\n",
    "    def forward(self, x):\n",
    "        return torch.cat([self.b1(x), self.b2(x), self.b3(x)], dim=1)\n",
    "\n",
    "\n",
    "class ReductionB_V2(nn.Module):\n",
    "    \"\"\"\n",
    "    17x17 -> 8x8 style reduction:\n",
    "      - Branch 1: 1x1 -> 3x3 stride=2 (n channels)\n",
    "      - Branch 2: 1x1 -> (1x3) -> (3x1) -> 3x3 stride=2 (m channels)\n",
    "      - Branch 3: MaxPool stride=2 (keeps in_ch)\n",
    "    Output channels = n + m + in_ch\n",
    "    \"\"\"\n",
    "    def __init__(self, in_ch, n, m):\n",
    "        super().__init__()\n",
    "        self.b1 = nn.Sequential(\n",
    "            ConvBNReLU(in_ch, 192, kernel_size=1),\n",
    "            ConvBNReLU(192, n,  kernel_size=3, stride=2)\n",
    "        )\n",
    "        self.b2 = nn.Sequential(\n",
    "            ConvBNReLU(in_ch, 192, kernel_size=1),\n",
    "            ConvBNReLU(192, 192, kernel_size=(1,3), padding=(0,1)),\n",
    "            ConvBNReLU(192, 192, kernel_size=(3,1), padding=(1,0)),\n",
    "            ConvBNReLU(192, m,   kernel_size=3, stride=2)\n",
    "        )\n",
    "        self.b3 = nn.MaxPool2d(kernel_size=3, stride=2)\n",
    "\n",
    "        self.out_channels = n + m + in_ch\n",
    "\n",
    "    def forward(self, x):\n",
    "        return torch.cat([self.b1(x), self.b2(x), self.b3(x)], dim=1)\n",
    "\n",
    "\n",
    "# ------------------------------ #\n",
    "# Inception V2 (BN-Inception style) with guaranteed channel consistency\n",
    "# Input: 224x224 RGB\n",
    "# Outputs: logits [N, num_classes]\n",
    "# ------------------------------ #\n",
    "\n",
    "class InceptionV2(nn.Module):\n",
    "    def __init__(self, num_classes=1000, p_drop=0.4):\n",
    "        super().__init__()\n",
    "\n",
    "        # ----- Stem -> out: 192 channels -----\n",
    "        self.stem = nn.Sequential(\n",
    "            ConvBNReLU(3,  64, kernel_size=7, stride=2, padding=3),  # 224 -> 112\n",
    "            nn.MaxPool2d(3, stride=2, padding=1),                    # 112 -> 56\n",
    "            ConvBNReLU(64, 64, kernel_size=1),\n",
    "            ConvBNReLU(64, 192, kernel_size=3, padding=1),           # 56 -> 56\n",
    "            nn.MaxPool2d(3, stride=2, padding=1),                    # 56 -> 28\n",
    "        )  # -> [N, 192, 28, 28]\n",
    "\n",
    "        # ----- Inception-A stack -----\n",
    "        # A1: in 192 -> out 256 (64 + 64 + 64 + 64)\n",
    "        self.incept_a1 = InceptionV2Module(192, ch1x1=64, ch3x3_reduce=64, ch3x3=64,\n",
    "                                           ch5x5_reduce=64, ch5x5=64, pool_proj=64)   # out 256\n",
    "        # A2: in 256 -> out 320 (64 + 96 + 96 + 64)\n",
    "        self.incept_a2 = InceptionV2Module(256, ch1x1=64, ch3x3_reduce=64, ch3x3=96,\n",
    "                                           ch5x5_reduce=64, ch5x5=96, pool_proj=64)   # out 320\n",
    "        # A3: in 320 -> out 320 (same headroom)\n",
    "        self.incept_a3 = InceptionV2Module(320, ch1x1=64, ch3x3_reduce=64, ch3x3=96,\n",
    "                                           ch5x5_reduce=64, ch5x5=96, pool_proj=64)   # out 320\n",
    "\n",
    "        # ----- Reduction-A: 320 -> 576 -----\n",
    "        # Choose n=192, m=64 -> total = 192 + 64 + 320 = 576\n",
    "        self.red_a = ReductionA_V2(in_ch=320, k=64, l=96, m=64, n=192)                 # out 576\n",
    "\n",
    "        # ----- Inception-B stack (keep 576) -----\n",
    "        # Make each B produce 576 total channels:\n",
    "        # B: (a + b + c + d) = (128 + 160 + 160 + 128) = 576\n",
    "        self.incept_b1 = InceptionV2Module(576, ch1x1=128, ch3x3_reduce=128, ch3x3=160,\n",
    "                                           ch5x5_reduce=64,  ch5x5=160, pool_proj=128) # out 576\n",
    "        self.incept_b2 = InceptionV2Module(576, ch1x1=128, ch3x3_reduce=128, ch3x3=160,\n",
    "                                           ch5x5_reduce=64,  ch5x5=160, pool_proj=128) # out 576\n",
    "        self.incept_b3 = InceptionV2Module(576, ch1x1=128, ch3x3_reduce=128, ch3x3=160,\n",
    "                                           ch5x5_reduce=64,  ch5x5=160, pool_proj=128) # out 576\n",
    "        self.incept_b4 = InceptionV2Module(576, ch1x1=128, ch3x3_reduce=128, ch3x3=160,\n",
    "                                           ch5x5_reduce=64,  ch5x5=160, pool_proj=128) # out 576\n",
    "\n",
    "        # ----- Reduction-B: 576 -> 1024 -----\n",
    "        # Set n=192, m=256 -> total = 192 + 256 + 576 = 1024\n",
    "        self.red_b = ReductionB_V2(in_ch=576, n=192, m=256)                            # out 1024\n",
    "\n",
    "        # ----- Inception-C stack (keep 1024) -----\n",
    "        # C: simple V2-style again to keep 1024 channels total\n",
    "        # (256 + 256 + 256 + 256) = 1024\n",
    "        self.incept_c1 = InceptionV2Module(1024, ch1x1=256, ch3x3_reduce=192, ch3x3=256,\n",
    "                                           ch5x5_reduce=128, ch5x5=256, pool_proj=256) # out 1024\n",
    "        self.incept_c2 = InceptionV2Module(1024, ch1x1=256, ch3x3_reduce=192, ch3x3=256,\n",
    "                                           ch5x5_reduce=128, ch5x5=256, pool_proj=256) # out 1024\n",
    "\n",
    "        # ----- Head -----\n",
    "        self.avgpool = nn.AdaptiveAvgPool2d((1, 1))\n",
    "        self.dropout = nn.Dropout(p_drop)\n",
    "        self.fc = nn.Linear(1024, num_classes)\n",
    "        nn.init.kaiming_normal_(self.fc.weight, nonlinearity=\"relu\")\n",
    "        nn.init.zeros_(self.fc.bias)\n",
    "\n",
    "    def forward(self, x):\n",
    "        # Stem (-> 192 @ 28x28)\n",
    "        x = self.stem(x)\n",
    "\n",
    "        # A stack (-> 320 @ 28x28)\n",
    "        x = self.incept_a1(x)\n",
    "        x = self.incept_a2(x)\n",
    "        x = self.incept_a3(x)\n",
    "\n",
    "        # Reduction A (-> 576 @ 14x14)\n",
    "        x = self.red_a(x)\n",
    "\n",
    "        # B stack (-> 576 @ 14x14)\n",
    "        x = self.incept_b1(x)\n",
    "        x = self.incept_b2(x)\n",
    "        x = self.incept_b3(x)\n",
    "        x = self.incept_b4(x)\n",
    "\n",
    "        # Reduction B (-> 1024 @ 7x7)\n",
    "        x = self.red_b(x)\n",
    "\n",
    "        # C stack (-> 1024 @ 7x7)\n",
    "        x = self.incept_c1(x)\n",
    "        x = self.incept_c2(x)\n",
    "\n",
    "        # Head\n",
    "        x = self.avgpool(x)\n",
    "        x = torch.flatten(x, 1)\n",
    "        x = self.dropout(x)\n",
    "        return self.fc(x)"
   ]
  },
  {
   "cell_type": "code",
   "execution_count": 3,
   "id": "464fdd10-9296-4910-98e4-857057e922fc",
   "metadata": {},
   "outputs": [],
   "source": [
    "# Suppress PyTorch DataLoader \"can only test a child process\" shutdown spam\n",
    "import torch.utils.data.dataloader as dataloader\n",
    "\n",
    "def _quiet_del(self):\n",
    "    try:\n",
    "        self._shutdown_workers()\n",
    "    except AssertionError as e:\n",
    "        if \"can only test a child process\" not in str(e):\n",
    "            raise\n",
    "\n",
    "dataloader._MultiProcessingDataLoaderIter.__del__ = _quiet_del"
   ]
  },
  {
   "cell_type": "code",
   "execution_count": 5,
   "id": "04ceeb64-782e-4b83-b72d-09100c0df499",
   "metadata": {},
   "outputs": [
    {
     "name": "stdout",
     "output_type": "stream",
     "text": [
      "[device] Using CUDA GPU: NVIDIA GeForce RTX 3080 Ti\n",
      "\n",
      "[data] Inspecting: ../data/imagenette2\n",
      "[data] Found explicit splits.\n"
     ]
    },
    {
     "data": {
      "application/vnd.jupyter.widget-view+json": {
       "model_id": "a8d2766f775c470ba448c9c308bca5d2",
       "version_major": 2,
       "version_minor": 0
      },
      "text/plain": [
       "[epoch 001 | train]:   0%|          | 0/148 [00:00<?, ?it/s]"
      ]
     },
     "metadata": {},
     "output_type": "display_data"
    },
    {
     "data": {
      "application/vnd.jupyter.widget-view+json": {
       "model_id": "b52cc6ab2e6b46cb963274b562db07d6",
       "version_major": 2,
       "version_minor": 0
      },
      "text/plain": [
       "[epoch 001 | val  ]:   0%|          | 0/31 [00:00<?, ?it/s]"
      ]
     },
     "metadata": {},
     "output_type": "display_data"
    },
    {
     "name": "stdout",
     "output_type": "stream",
     "text": [
      "[epoch 001] train: loss=2.1960, acc=0.2374 | val: loss=1.8614, acc=0.3442 | time: 23.43s\n",
      "  [checkpoint] New best (acc=0.3442) saved -> imagenette2_inceptionv1_best.pth\n"
     ]
    },
    {
     "data": {
      "application/vnd.jupyter.widget-view+json": {
       "model_id": "4f5e21d24d654273bc0cd6f69503fbb7",
       "version_major": 2,
       "version_minor": 0
      },
      "text/plain": [
       "[epoch 002 | train]:   0%|          | 0/148 [00:00<?, ?it/s]"
      ]
     },
     "metadata": {},
     "output_type": "display_data"
    },
    {
     "data": {
      "application/vnd.jupyter.widget-view+json": {
       "model_id": "570e0f0b80a84296a7d1165cc2dbcd97",
       "version_major": 2,
       "version_minor": 0
      },
      "text/plain": [
       "[epoch 002 | val  ]:   0%|          | 0/31 [00:00<?, ?it/s]"
      ]
     },
     "metadata": {},
     "output_type": "display_data"
    },
    {
     "name": "stdout",
     "output_type": "stream",
     "text": [
      "[epoch 002] train: loss=1.7496, acc=0.4063 | val: loss=1.4808, acc=0.5274 | time: 21.34s\n",
      "  [checkpoint] New best (acc=0.5274) saved -> imagenette2_inceptionv1_best.pth\n"
     ]
    },
    {
     "data": {
      "application/vnd.jupyter.widget-view+json": {
       "model_id": "0c3d3599d9254e48ad51a8ce6f87c7ac",
       "version_major": 2,
       "version_minor": 0
      },
      "text/plain": [
       "[epoch 003 | train]:   0%|          | 0/148 [00:00<?, ?it/s]"
      ]
     },
     "metadata": {},
     "output_type": "display_data"
    },
    {
     "data": {
      "application/vnd.jupyter.widget-view+json": {
       "model_id": "5f151d3531934996a6f443e521e9815b",
       "version_major": 2,
       "version_minor": 0
      },
      "text/plain": [
       "[epoch 003 | val  ]:   0%|          | 0/31 [00:00<?, ?it/s]"
      ]
     },
     "metadata": {},
     "output_type": "display_data"
    },
    {
     "name": "stdout",
     "output_type": "stream",
     "text": [
      "[epoch 003] train: loss=1.4906, acc=0.5186 | val: loss=1.6698, acc=0.5024 | time: 21.25s\n",
      "  [early-stop] No improvement (1/25) on acc; best=0.5274, current=0.5024\n"
     ]
    },
    {
     "data": {
      "application/vnd.jupyter.widget-view+json": {
       "model_id": "6d801ae9552e44e38f7ec36a67ab3506",
       "version_major": 2,
       "version_minor": 0
      },
      "text/plain": [
       "[epoch 004 | train]:   0%|          | 0/148 [00:00<?, ?it/s]"
      ]
     },
     "metadata": {},
     "output_type": "display_data"
    },
    {
     "data": {
      "application/vnd.jupyter.widget-view+json": {
       "model_id": "de08bcbfaba049a3a76e7c702d91626a",
       "version_major": 2,
       "version_minor": 0
      },
      "text/plain": [
       "[epoch 004 | val  ]:   0%|          | 0/31 [00:00<?, ?it/s]"
      ]
     },
     "metadata": {},
     "output_type": "display_data"
    },
    {
     "name": "stdout",
     "output_type": "stream",
     "text": [
      "[epoch 004] train: loss=1.3567, acc=0.5800 | val: loss=1.2554, acc=0.6082 | time: 21.44s\n",
      "  [checkpoint] New best (acc=0.6082) saved -> imagenette2_inceptionv1_best.pth\n"
     ]
    },
    {
     "data": {
      "application/vnd.jupyter.widget-view+json": {
       "model_id": "0b27c466b2de4a19bc658f21ba0265b2",
       "version_major": 2,
       "version_minor": 0
      },
      "text/plain": [
       "[epoch 005 | train]:   0%|          | 0/148 [00:00<?, ?it/s]"
      ]
     },
     "metadata": {},
     "output_type": "display_data"
    },
    {
     "data": {
      "application/vnd.jupyter.widget-view+json": {
       "model_id": "e8db2f66d6bf4994a008594a69562297",
       "version_major": 2,
       "version_minor": 0
      },
      "text/plain": [
       "[epoch 005 | val  ]:   0%|          | 0/31 [00:00<?, ?it/s]"
      ]
     },
     "metadata": {},
     "output_type": "display_data"
    },
    {
     "name": "stdout",
     "output_type": "stream",
     "text": [
      "[epoch 005] train: loss=1.1747, acc=0.6486 | val: loss=1.1389, acc=0.6729 | time: 21.27s\n",
      "  [checkpoint] New best (acc=0.6729) saved -> imagenette2_inceptionv1_best.pth\n"
     ]
    },
    {
     "data": {
      "application/vnd.jupyter.widget-view+json": {
       "model_id": "ba76ae596629454997ddd29d12d5481f",
       "version_major": 2,
       "version_minor": 0
      },
      "text/plain": [
       "[epoch 006 | train]:   0%|          | 0/148 [00:00<?, ?it/s]"
      ]
     },
     "metadata": {},
     "output_type": "display_data"
    },
    {
     "data": {
      "application/vnd.jupyter.widget-view+json": {
       "model_id": "f3d6b045ee3b4112a4b67d9b68a391ac",
       "version_major": 2,
       "version_minor": 0
      },
      "text/plain": [
       "[epoch 006 | val  ]:   0%|          | 0/31 [00:00<?, ?it/s]"
      ]
     },
     "metadata": {},
     "output_type": "display_data"
    },
    {
     "name": "stdout",
     "output_type": "stream",
     "text": [
      "[epoch 006] train: loss=1.1095, acc=0.6760 | val: loss=1.1028, acc=0.6792 | time: 21.40s\n",
      "  [checkpoint] New best (acc=0.6792) saved -> imagenette2_inceptionv1_best.pth\n"
     ]
    },
    {
     "data": {
      "application/vnd.jupyter.widget-view+json": {
       "model_id": "30181204189a4551966830fefff12528",
       "version_major": 2,
       "version_minor": 0
      },
      "text/plain": [
       "[epoch 007 | train]:   0%|          | 0/148 [00:00<?, ?it/s]"
      ]
     },
     "metadata": {},
     "output_type": "display_data"
    },
    {
     "data": {
      "application/vnd.jupyter.widget-view+json": {
       "model_id": "b51ad0d579324b6abe1ad0304aad7daf",
       "version_major": 2,
       "version_minor": 0
      },
      "text/plain": [
       "[epoch 007 | val  ]:   0%|          | 0/31 [00:00<?, ?it/s]"
      ]
     },
     "metadata": {},
     "output_type": "display_data"
    },
    {
     "name": "stdout",
     "output_type": "stream",
     "text": [
      "[epoch 007] train: loss=1.0083, acc=0.7130 | val: loss=1.1093, acc=0.6721 | time: 21.31s\n",
      "  [early-stop] No improvement (1/25) on acc; best=0.6792, current=0.6721\n"
     ]
    },
    {
     "data": {
      "application/vnd.jupyter.widget-view+json": {
       "model_id": "9e87edd2eb0642fbad2f935facd39932",
       "version_major": 2,
       "version_minor": 0
      },
      "text/plain": [
       "[epoch 008 | train]:   0%|          | 0/148 [00:00<?, ?it/s]"
      ]
     },
     "metadata": {},
     "output_type": "display_data"
    },
    {
     "data": {
      "application/vnd.jupyter.widget-view+json": {
       "model_id": "9785a2f6f22a40e1975b375ff2fd351d",
       "version_major": 2,
       "version_minor": 0
      },
      "text/plain": [
       "[epoch 008 | val  ]:   0%|          | 0/31 [00:00<?, ?it/s]"
      ]
     },
     "metadata": {},
     "output_type": "display_data"
    },
    {
     "name": "stdout",
     "output_type": "stream",
     "text": [
      "[epoch 008] train: loss=0.9563, acc=0.7308 | val: loss=0.9716, acc=0.7297 | time: 21.26s\n",
      "  [checkpoint] New best (acc=0.7297) saved -> imagenette2_inceptionv1_best.pth\n"
     ]
    },
    {
     "data": {
      "application/vnd.jupyter.widget-view+json": {
       "model_id": "85fbb6b7b11a4131af92143d7fec0e65",
       "version_major": 2,
       "version_minor": 0
      },
      "text/plain": [
       "[epoch 009 | train]:   0%|          | 0/148 [00:00<?, ?it/s]"
      ]
     },
     "metadata": {},
     "output_type": "display_data"
    },
    {
     "data": {
      "application/vnd.jupyter.widget-view+json": {
       "model_id": "fb3e0f29d3bb4cd897bb12f0fd011527",
       "version_major": 2,
       "version_minor": 0
      },
      "text/plain": [
       "[epoch 009 | val  ]:   0%|          | 0/31 [00:00<?, ?it/s]"
      ]
     },
     "metadata": {},
     "output_type": "display_data"
    },
    {
     "name": "stdout",
     "output_type": "stream",
     "text": [
      "[epoch 009] train: loss=0.8966, acc=0.7533 | val: loss=0.9521, acc=0.7429 | time: 21.25s\n",
      "  [checkpoint] New best (acc=0.7429) saved -> imagenette2_inceptionv1_best.pth\n"
     ]
    },
    {
     "data": {
      "application/vnd.jupyter.widget-view+json": {
       "model_id": "de627e9563094434a4f55392fa8f5258",
       "version_major": 2,
       "version_minor": 0
      },
      "text/plain": [
       "[epoch 010 | train]:   0%|          | 0/148 [00:00<?, ?it/s]"
      ]
     },
     "metadata": {},
     "output_type": "display_data"
    },
    {
     "data": {
      "application/vnd.jupyter.widget-view+json": {
       "model_id": "dc9e29fc8adc49d0bb170b8fbcbe7a0d",
       "version_major": 2,
       "version_minor": 0
      },
      "text/plain": [
       "[epoch 010 | val  ]:   0%|          | 0/31 [00:00<?, ?it/s]"
      ]
     },
     "metadata": {},
     "output_type": "display_data"
    },
    {
     "name": "stdout",
     "output_type": "stream",
     "text": [
      "[epoch 010] train: loss=0.8602, acc=0.7636 | val: loss=0.9313, acc=0.7429 | time: 21.31s\n",
      "  [early-stop] No improvement (1/25) on acc; best=0.7429, current=0.7429\n"
     ]
    },
    {
     "data": {
      "application/vnd.jupyter.widget-view+json": {
       "model_id": "1fbc2c42354441958520d39104dc6238",
       "version_major": 2,
       "version_minor": 0
      },
      "text/plain": [
       "[epoch 011 | train]:   0%|          | 0/148 [00:00<?, ?it/s]"
      ]
     },
     "metadata": {},
     "output_type": "display_data"
    },
    {
     "data": {
      "application/vnd.jupyter.widget-view+json": {
       "model_id": "a7717590c203442280543d5137a10abe",
       "version_major": 2,
       "version_minor": 0
      },
      "text/plain": [
       "[epoch 011 | val  ]:   0%|          | 0/31 [00:00<?, ?it/s]"
      ]
     },
     "metadata": {},
     "output_type": "display_data"
    },
    {
     "name": "stdout",
     "output_type": "stream",
     "text": [
      "[epoch 011] train: loss=0.8271, acc=0.7800 | val: loss=0.8905, acc=0.7638 | time: 21.25s\n",
      "  [checkpoint] New best (acc=0.7638) saved -> imagenette2_inceptionv1_best.pth\n"
     ]
    },
    {
     "data": {
      "application/vnd.jupyter.widget-view+json": {
       "model_id": "0811595a485e4f3d958ab82e190d511b",
       "version_major": 2,
       "version_minor": 0
      },
      "text/plain": [
       "[epoch 012 | train]:   0%|          | 0/148 [00:00<?, ?it/s]"
      ]
     },
     "metadata": {},
     "output_type": "display_data"
    },
    {
     "data": {
      "application/vnd.jupyter.widget-view+json": {
       "model_id": "a8b1a5ed0312415487917eb72226c64c",
       "version_major": 2,
       "version_minor": 0
      },
      "text/plain": [
       "[epoch 012 | val  ]:   0%|          | 0/31 [00:00<?, ?it/s]"
      ]
     },
     "metadata": {},
     "output_type": "display_data"
    },
    {
     "name": "stdout",
     "output_type": "stream",
     "text": [
      "[epoch 012] train: loss=0.7639, acc=0.8053 | val: loss=0.8011, acc=0.7888 | time: 21.39s\n",
      "  [checkpoint] New best (acc=0.7888) saved -> imagenette2_inceptionv1_best.pth\n"
     ]
    },
    {
     "data": {
      "application/vnd.jupyter.widget-view+json": {
       "model_id": "99453ddf5fd54727928446fab5c805bf",
       "version_major": 2,
       "version_minor": 0
      },
      "text/plain": [
       "[epoch 013 | train]:   0%|          | 0/148 [00:00<?, ?it/s]"
      ]
     },
     "metadata": {},
     "output_type": "display_data"
    },
    {
     "data": {
      "application/vnd.jupyter.widget-view+json": {
       "model_id": "0dc31bd2b5c0448d869bb2d975d38202",
       "version_major": 2,
       "version_minor": 0
      },
      "text/plain": [
       "[epoch 013 | val  ]:   0%|          | 0/31 [00:00<?, ?it/s]"
      ]
     },
     "metadata": {},
     "output_type": "display_data"
    },
    {
     "name": "stdout",
     "output_type": "stream",
     "text": [
      "[epoch 013] train: loss=0.7537, acc=0.8042 | val: loss=0.8340, acc=0.7801 | time: 21.33s\n",
      "  [early-stop] No improvement (1/25) on acc; best=0.7888, current=0.7801\n"
     ]
    },
    {
     "data": {
      "application/vnd.jupyter.widget-view+json": {
       "model_id": "f4bb0dfb9a4a4f54b234094287d8fd4c",
       "version_major": 2,
       "version_minor": 0
      },
      "text/plain": [
       "[epoch 014 | train]:   0%|          | 0/148 [00:00<?, ?it/s]"
      ]
     },
     "metadata": {},
     "output_type": "display_data"
    },
    {
     "data": {
      "application/vnd.jupyter.widget-view+json": {
       "model_id": "a43d1aea166e4688a19a37384d62b2c8",
       "version_major": 2,
       "version_minor": 0
      },
      "text/plain": [
       "[epoch 014 | val  ]:   0%|          | 0/31 [00:00<?, ?it/s]"
      ]
     },
     "metadata": {},
     "output_type": "display_data"
    },
    {
     "name": "stdout",
     "output_type": "stream",
     "text": [
      "[epoch 014] train: loss=0.7201, acc=0.8162 | val: loss=0.8931, acc=0.7676 | time: 41.93s\n",
      "  [early-stop] No improvement (2/25) on acc; best=0.7888, current=0.7676\n"
     ]
    },
    {
     "data": {
      "application/vnd.jupyter.widget-view+json": {
       "model_id": "ac72b1bc33f44bb08f3088fa55102201",
       "version_major": 2,
       "version_minor": 0
      },
      "text/plain": [
       "[epoch 015 | train]:   0%|          | 0/148 [00:00<?, ?it/s]"
      ]
     },
     "metadata": {},
     "output_type": "display_data"
    },
    {
     "data": {
      "application/vnd.jupyter.widget-view+json": {
       "model_id": "b189db052acc4e23a21d2d9adb002701",
       "version_major": 2,
       "version_minor": 0
      },
      "text/plain": [
       "[epoch 015 | val  ]:   0%|          | 0/31 [00:00<?, ?it/s]"
      ]
     },
     "metadata": {},
     "output_type": "display_data"
    },
    {
     "name": "stdout",
     "output_type": "stream",
     "text": [
      "[epoch 015] train: loss=0.6767, acc=0.8372 | val: loss=0.8242, acc=0.7850 | time: 21.14s\n",
      "  [early-stop] No improvement (3/25) on acc; best=0.7888, current=0.7850\n"
     ]
    },
    {
     "data": {
      "application/vnd.jupyter.widget-view+json": {
       "model_id": "8fd8d5504e9349959b51b2370f1a148c",
       "version_major": 2,
       "version_minor": 0
      },
      "text/plain": [
       "[epoch 016 | train]:   0%|          | 0/148 [00:00<?, ?it/s]"
      ]
     },
     "metadata": {},
     "output_type": "display_data"
    },
    {
     "data": {
      "application/vnd.jupyter.widget-view+json": {
       "model_id": "8a573cc5097d4385b81335d572f0fa25",
       "version_major": 2,
       "version_minor": 0
      },
      "text/plain": [
       "[epoch 016 | val  ]:   0%|          | 0/31 [00:00<?, ?it/s]"
      ]
     },
     "metadata": {},
     "output_type": "display_data"
    },
    {
     "name": "stdout",
     "output_type": "stream",
     "text": [
      "[epoch 016] train: loss=0.6406, acc=0.8488 | val: loss=0.8660, acc=0.7727 | time: 21.28s\n",
      "  [early-stop] No improvement (4/25) on acc; best=0.7888, current=0.7727\n"
     ]
    },
    {
     "data": {
      "application/vnd.jupyter.widget-view+json": {
       "model_id": "8d7737f7a37948af8be78295361ed54a",
       "version_major": 2,
       "version_minor": 0
      },
      "text/plain": [
       "[epoch 017 | train]:   0%|          | 0/148 [00:00<?, ?it/s]"
      ]
     },
     "metadata": {},
     "output_type": "display_data"
    },
    {
     "data": {
      "application/vnd.jupyter.widget-view+json": {
       "model_id": "29fe5fb52bfe4ad49f48dc9730c66750",
       "version_major": 2,
       "version_minor": 0
      },
      "text/plain": [
       "[epoch 017 | val  ]:   0%|          | 0/31 [00:00<?, ?it/s]"
      ]
     },
     "metadata": {},
     "output_type": "display_data"
    },
    {
     "name": "stdout",
     "output_type": "stream",
     "text": [
      "[epoch 017] train: loss=0.6554, acc=0.8421 | val: loss=0.8587, acc=0.7722 | time: 21.21s\n",
      "  [early-stop] No improvement (5/25) on acc; best=0.7888, current=0.7722\n"
     ]
    },
    {
     "data": {
      "application/vnd.jupyter.widget-view+json": {
       "model_id": "c66783011eaf4a039c5275ed9f3b055f",
       "version_major": 2,
       "version_minor": 0
      },
      "text/plain": [
       "[epoch 018 | train]:   0%|          | 0/148 [00:00<?, ?it/s]"
      ]
     },
     "metadata": {},
     "output_type": "display_data"
    },
    {
     "data": {
      "application/vnd.jupyter.widget-view+json": {
       "model_id": "82fb0389167e440f9f20eb604661e5ef",
       "version_major": 2,
       "version_minor": 0
      },
      "text/plain": [
       "[epoch 018 | val  ]:   0%|          | 0/31 [00:00<?, ?it/s]"
      ]
     },
     "metadata": {},
     "output_type": "display_data"
    },
    {
     "name": "stdout",
     "output_type": "stream",
     "text": [
      "[epoch 018] train: loss=0.6205, acc=0.8555 | val: loss=0.8429, acc=0.7773 | time: 21.25s\n",
      "  [early-stop] No improvement (6/25) on acc; best=0.7888, current=0.7773\n"
     ]
    },
    {
     "data": {
      "application/vnd.jupyter.widget-view+json": {
       "model_id": "7613d2b7fa8443528ddbc68ca799d0e4",
       "version_major": 2,
       "version_minor": 0
      },
      "text/plain": [
       "[epoch 019 | train]:   0%|          | 0/148 [00:00<?, ?it/s]"
      ]
     },
     "metadata": {},
     "output_type": "display_data"
    },
    {
     "data": {
      "application/vnd.jupyter.widget-view+json": {
       "model_id": "ae6a25c248b84dcd89f66f377d1cb59d",
       "version_major": 2,
       "version_minor": 0
      },
      "text/plain": [
       "[epoch 019 | val  ]:   0%|          | 0/31 [00:00<?, ?it/s]"
      ]
     },
     "metadata": {},
     "output_type": "display_data"
    },
    {
     "name": "stdout",
     "output_type": "stream",
     "text": [
      "[epoch 019] train: loss=0.6037, acc=0.8608 | val: loss=0.7874, acc=0.7972 | time: 21.43s\n",
      "  [checkpoint] New best (acc=0.7972) saved -> imagenette2_inceptionv1_best.pth\n"
     ]
    },
    {
     "data": {
      "application/vnd.jupyter.widget-view+json": {
       "model_id": "632e0e8bfffa4ca9a4ed42783d985eee",
       "version_major": 2,
       "version_minor": 0
      },
      "text/plain": [
       "[epoch 020 | train]:   0%|          | 0/148 [00:00<?, ?it/s]"
      ]
     },
     "metadata": {},
     "output_type": "display_data"
    },
    {
     "data": {
      "application/vnd.jupyter.widget-view+json": {
       "model_id": "92068e7bf0874b82a75a0ee38c081cf9",
       "version_major": 2,
       "version_minor": 0
      },
      "text/plain": [
       "[epoch 020 | val  ]:   0%|          | 0/31 [00:00<?, ?it/s]"
      ]
     },
     "metadata": {},
     "output_type": "display_data"
    },
    {
     "name": "stdout",
     "output_type": "stream",
     "text": [
      "[epoch 020] train: loss=0.5957, acc=0.8642 | val: loss=0.7841, acc=0.7944 | time: 21.42s\n",
      "  [early-stop] No improvement (1/25) on acc; best=0.7972, current=0.7944\n"
     ]
    },
    {
     "data": {
      "application/vnd.jupyter.widget-view+json": {
       "model_id": "bab42990a0f44b16b84fe037ee6690fe",
       "version_major": 2,
       "version_minor": 0
      },
      "text/plain": [
       "[epoch 021 | train]:   0%|          | 0/148 [00:00<?, ?it/s]"
      ]
     },
     "metadata": {},
     "output_type": "display_data"
    },
    {
     "data": {
      "application/vnd.jupyter.widget-view+json": {
       "model_id": "adcaff37301a41a38ababfc855d4a5e8",
       "version_major": 2,
       "version_minor": 0
      },
      "text/plain": [
       "[epoch 021 | val  ]:   0%|          | 0/31 [00:00<?, ?it/s]"
      ]
     },
     "metadata": {},
     "output_type": "display_data"
    },
    {
     "name": "stdout",
     "output_type": "stream",
     "text": [
      "[epoch 021] train: loss=0.5420, acc=0.8869 | val: loss=0.7639, acc=0.8031 | time: 21.46s\n",
      "  [checkpoint] New best (acc=0.8031) saved -> imagenette2_inceptionv1_best.pth\n"
     ]
    },
    {
     "data": {
      "application/vnd.jupyter.widget-view+json": {
       "model_id": "e29763dca71b446198ab0badd8145880",
       "version_major": 2,
       "version_minor": 0
      },
      "text/plain": [
       "[epoch 022 | train]:   0%|          | 0/148 [00:00<?, ?it/s]"
      ]
     },
     "metadata": {},
     "output_type": "display_data"
    },
    {
     "data": {
      "application/vnd.jupyter.widget-view+json": {
       "model_id": "3e80112c4a83499fae025215e54a580d",
       "version_major": 2,
       "version_minor": 0
      },
      "text/plain": [
       "[epoch 022 | val  ]:   0%|          | 0/31 [00:00<?, ?it/s]"
      ]
     },
     "metadata": {},
     "output_type": "display_data"
    },
    {
     "name": "stdout",
     "output_type": "stream",
     "text": [
      "[epoch 022] train: loss=0.5546, acc=0.8761 | val: loss=0.7776, acc=0.8155 | time: 21.18s\n",
      "  [checkpoint] New best (acc=0.8155) saved -> imagenette2_inceptionv1_best.pth\n"
     ]
    },
    {
     "data": {
      "application/vnd.jupyter.widget-view+json": {
       "model_id": "3fa9b04d3ef147998e93a1be14da2457",
       "version_major": 2,
       "version_minor": 0
      },
      "text/plain": [
       "[epoch 023 | train]:   0%|          | 0/148 [00:00<?, ?it/s]"
      ]
     },
     "metadata": {},
     "output_type": "display_data"
    },
    {
     "data": {
      "application/vnd.jupyter.widget-view+json": {
       "model_id": "4018d4052d484d74a6ec689f33ecaa16",
       "version_major": 2,
       "version_minor": 0
      },
      "text/plain": [
       "[epoch 023 | val  ]:   0%|          | 0/31 [00:00<?, ?it/s]"
      ]
     },
     "metadata": {},
     "output_type": "display_data"
    },
    {
     "name": "stdout",
     "output_type": "stream",
     "text": [
      "[epoch 023] train: loss=0.5288, acc=0.8856 | val: loss=0.7773, acc=0.8010 | time: 21.32s\n",
      "  [early-stop] No improvement (1/25) on acc; best=0.8155, current=0.8010\n"
     ]
    },
    {
     "data": {
      "application/vnd.jupyter.widget-view+json": {
       "model_id": "3f7ef8d429da4266b3a6a48b3c882219",
       "version_major": 2,
       "version_minor": 0
      },
      "text/plain": [
       "[epoch 024 | train]:   0%|          | 0/148 [00:00<?, ?it/s]"
      ]
     },
     "metadata": {},
     "output_type": "display_data"
    },
    {
     "data": {
      "application/vnd.jupyter.widget-view+json": {
       "model_id": "c6775f6944144b1ba2220645aaa9ccd3",
       "version_major": 2,
       "version_minor": 0
      },
      "text/plain": [
       "[epoch 024 | val  ]:   0%|          | 0/31 [00:00<?, ?it/s]"
      ]
     },
     "metadata": {},
     "output_type": "display_data"
    },
    {
     "name": "stdout",
     "output_type": "stream",
     "text": [
      "[epoch 024] train: loss=0.5246, acc=0.8876 | val: loss=0.7889, acc=0.8005 | time: 21.44s\n",
      "  [early-stop] No improvement (2/25) on acc; best=0.8155, current=0.8005\n"
     ]
    },
    {
     "data": {
      "application/vnd.jupyter.widget-view+json": {
       "model_id": "50390e08466c48b5895a3fb471dbfe4b",
       "version_major": 2,
       "version_minor": 0
      },
      "text/plain": [
       "[epoch 025 | train]:   0%|          | 0/148 [00:00<?, ?it/s]"
      ]
     },
     "metadata": {},
     "output_type": "display_data"
    },
    {
     "data": {
      "application/vnd.jupyter.widget-view+json": {
       "model_id": "2214335c2ad440f8ad690f986ae93a0e",
       "version_major": 2,
       "version_minor": 0
      },
      "text/plain": [
       "[epoch 025 | val  ]:   0%|          | 0/31 [00:00<?, ?it/s]"
      ]
     },
     "metadata": {},
     "output_type": "display_data"
    },
    {
     "name": "stdout",
     "output_type": "stream",
     "text": [
      "[epoch 025] train: loss=0.5108, acc=0.8915 | val: loss=0.8511, acc=0.7880 | time: 21.30s\n",
      "  [early-stop] No improvement (3/25) on acc; best=0.8155, current=0.7880\n"
     ]
    },
    {
     "data": {
      "application/vnd.jupyter.widget-view+json": {
       "model_id": "e5de92eb6f9b404f9ffe34cf78da89b6",
       "version_major": 2,
       "version_minor": 0
      },
      "text/plain": [
       "[epoch 026 | train]:   0%|          | 0/148 [00:00<?, ?it/s]"
      ]
     },
     "metadata": {},
     "output_type": "display_data"
    },
    {
     "data": {
      "application/vnd.jupyter.widget-view+json": {
       "model_id": "3399a054603d4bfe93b7a945ff7d4534",
       "version_major": 2,
       "version_minor": 0
      },
      "text/plain": [
       "[epoch 026 | val  ]:   0%|          | 0/31 [00:00<?, ?it/s]"
      ]
     },
     "metadata": {},
     "output_type": "display_data"
    },
    {
     "name": "stdout",
     "output_type": "stream",
     "text": [
      "[epoch 026] train: loss=0.4711, acc=0.9061 | val: loss=0.7917, acc=0.8132 | time: 21.43s\n",
      "  [early-stop] No improvement (4/25) on acc; best=0.8155, current=0.8132\n"
     ]
    },
    {
     "data": {
      "application/vnd.jupyter.widget-view+json": {
       "model_id": "9ab54fbe00f34a5a9d57049f41c62734",
       "version_major": 2,
       "version_minor": 0
      },
      "text/plain": [
       "[epoch 027 | train]:   0%|          | 0/148 [00:00<?, ?it/s]"
      ]
     },
     "metadata": {},
     "output_type": "display_data"
    },
    {
     "data": {
      "application/vnd.jupyter.widget-view+json": {
       "model_id": "934dda7873e442dea22592ce21cb331f",
       "version_major": 2,
       "version_minor": 0
      },
      "text/plain": [
       "[epoch 027 | val  ]:   0%|          | 0/31 [00:00<?, ?it/s]"
      ]
     },
     "metadata": {},
     "output_type": "display_data"
    },
    {
     "name": "stdout",
     "output_type": "stream",
     "text": [
      "[epoch 027] train: loss=0.4573, acc=0.9123 | val: loss=0.7550, acc=0.8217 | time: 21.30s\n",
      "  [checkpoint] New best (acc=0.8217) saved -> imagenette2_inceptionv1_best.pth\n"
     ]
    },
    {
     "data": {
      "application/vnd.jupyter.widget-view+json": {
       "model_id": "ab01e4e211c342ba8a3bb7b5851f619b",
       "version_major": 2,
       "version_minor": 0
      },
      "text/plain": [
       "[epoch 028 | train]:   0%|          | 0/148 [00:00<?, ?it/s]"
      ]
     },
     "metadata": {},
     "output_type": "display_data"
    },
    {
     "data": {
      "application/vnd.jupyter.widget-view+json": {
       "model_id": "aa8e47c0494447f1afa26c06293dcc05",
       "version_major": 2,
       "version_minor": 0
      },
      "text/plain": [
       "[epoch 028 | val  ]:   0%|          | 0/31 [00:00<?, ?it/s]"
      ]
     },
     "metadata": {},
     "output_type": "display_data"
    },
    {
     "name": "stdout",
     "output_type": "stream",
     "text": [
      "[epoch 028] train: loss=0.4314, acc=0.9233 | val: loss=0.8164, acc=0.8033 | time: 21.40s\n",
      "  [early-stop] No improvement (1/25) on acc; best=0.8217, current=0.8033\n"
     ]
    },
    {
     "data": {
      "application/vnd.jupyter.widget-view+json": {
       "model_id": "930d4158b12b4a93b9127e33b3f7c6ad",
       "version_major": 2,
       "version_minor": 0
      },
      "text/plain": [
       "[epoch 029 | train]:   0%|          | 0/148 [00:00<?, ?it/s]"
      ]
     },
     "metadata": {},
     "output_type": "display_data"
    },
    {
     "data": {
      "application/vnd.jupyter.widget-view+json": {
       "model_id": "9fd3ee045b264d389b952ff731e6493a",
       "version_major": 2,
       "version_minor": 0
      },
      "text/plain": [
       "[epoch 029 | val  ]:   0%|          | 0/31 [00:00<?, ?it/s]"
      ]
     },
     "metadata": {},
     "output_type": "display_data"
    },
    {
     "name": "stdout",
     "output_type": "stream",
     "text": [
      "[epoch 029] train: loss=0.4450, acc=0.9178 | val: loss=0.7486, acc=0.8214 | time: 21.38s\n",
      "  [early-stop] No improvement (2/25) on acc; best=0.8217, current=0.8214\n"
     ]
    },
    {
     "data": {
      "application/vnd.jupyter.widget-view+json": {
       "model_id": "0df3655346c04d3bb63a0bc5c552e734",
       "version_major": 2,
       "version_minor": 0
      },
      "text/plain": [
       "[epoch 030 | train]:   0%|          | 0/148 [00:00<?, ?it/s]"
      ]
     },
     "metadata": {},
     "output_type": "display_data"
    },
    {
     "data": {
      "application/vnd.jupyter.widget-view+json": {
       "model_id": "de326895ecda4432b77373b6c9adb241",
       "version_major": 2,
       "version_minor": 0
      },
      "text/plain": [
       "[epoch 030 | val  ]:   0%|          | 0/31 [00:00<?, ?it/s]"
      ]
     },
     "metadata": {},
     "output_type": "display_data"
    },
    {
     "name": "stdout",
     "output_type": "stream",
     "text": [
      "[epoch 030] train: loss=0.4201, acc=0.9235 | val: loss=0.7605, acc=0.8132 | time: 21.50s\n",
      "  [early-stop] No improvement (3/25) on acc; best=0.8217, current=0.8132\n"
     ]
    },
    {
     "data": {
      "application/vnd.jupyter.widget-view+json": {
       "model_id": "3b0d17a3da9f442483a440a632894664",
       "version_major": 2,
       "version_minor": 0
      },
      "text/plain": [
       "[epoch 031 | train]:   0%|          | 0/148 [00:00<?, ?it/s]"
      ]
     },
     "metadata": {},
     "output_type": "display_data"
    },
    {
     "data": {
      "application/vnd.jupyter.widget-view+json": {
       "model_id": "633dc1ad5d084bc48eae3722120beae4",
       "version_major": 2,
       "version_minor": 0
      },
      "text/plain": [
       "[epoch 031 | val  ]:   0%|          | 0/31 [00:00<?, ?it/s]"
      ]
     },
     "metadata": {},
     "output_type": "display_data"
    },
    {
     "name": "stdout",
     "output_type": "stream",
     "text": [
      "[epoch 031] train: loss=0.3987, acc=0.9320 | val: loss=0.7671, acc=0.8092 | time: 21.55s\n",
      "  [early-stop] No improvement (4/25) on acc; best=0.8217, current=0.8092\n"
     ]
    },
    {
     "data": {
      "application/vnd.jupyter.widget-view+json": {
       "model_id": "796c6d915cb1421da5ad7369e9cb22b9",
       "version_major": 2,
       "version_minor": 0
      },
      "text/plain": [
       "[epoch 032 | train]:   0%|          | 0/148 [00:00<?, ?it/s]"
      ]
     },
     "metadata": {},
     "output_type": "display_data"
    },
    {
     "data": {
      "application/vnd.jupyter.widget-view+json": {
       "model_id": "d820a5ca14534d6ca8841a7b004c8952",
       "version_major": 2,
       "version_minor": 0
      },
      "text/plain": [
       "[epoch 032 | val  ]:   0%|          | 0/31 [00:00<?, ?it/s]"
      ]
     },
     "metadata": {},
     "output_type": "display_data"
    },
    {
     "name": "stdout",
     "output_type": "stream",
     "text": [
      "[epoch 032] train: loss=0.4347, acc=0.9189 | val: loss=0.7006, acc=0.8387 | time: 21.71s\n",
      "  [checkpoint] New best (acc=0.8387) saved -> imagenette2_inceptionv1_best.pth\n"
     ]
    },
    {
     "data": {
      "application/vnd.jupyter.widget-view+json": {
       "model_id": "fa648b8bb0b343978242376ff28161a1",
       "version_major": 2,
       "version_minor": 0
      },
      "text/plain": [
       "[epoch 033 | train]:   0%|          | 0/148 [00:00<?, ?it/s]"
      ]
     },
     "metadata": {},
     "output_type": "display_data"
    },
    {
     "data": {
      "application/vnd.jupyter.widget-view+json": {
       "model_id": "7d4a062887914928866e396f903331bd",
       "version_major": 2,
       "version_minor": 0
      },
      "text/plain": [
       "[epoch 033 | val  ]:   0%|          | 0/31 [00:00<?, ?it/s]"
      ]
     },
     "metadata": {},
     "output_type": "display_data"
    },
    {
     "name": "stdout",
     "output_type": "stream",
     "text": [
      "[epoch 033] train: loss=0.3681, acc=0.9454 | val: loss=0.8878, acc=0.7941 | time: 21.41s\n",
      "  [early-stop] No improvement (1/25) on acc; best=0.8387, current=0.7941\n"
     ]
    },
    {
     "data": {
      "application/vnd.jupyter.widget-view+json": {
       "model_id": "0c8b4ab429624f50b6320041c7d2414c",
       "version_major": 2,
       "version_minor": 0
      },
      "text/plain": [
       "[epoch 034 | train]:   0%|          | 0/148 [00:00<?, ?it/s]"
      ]
     },
     "metadata": {},
     "output_type": "display_data"
    },
    {
     "data": {
      "application/vnd.jupyter.widget-view+json": {
       "model_id": "2d424f20b92d4d06b14eae7cd191ce6c",
       "version_major": 2,
       "version_minor": 0
      },
      "text/plain": [
       "[epoch 034 | val  ]:   0%|          | 0/31 [00:00<?, ?it/s]"
      ]
     },
     "metadata": {},
     "output_type": "display_data"
    },
    {
     "name": "stdout",
     "output_type": "stream",
     "text": [
      "[epoch 034] train: loss=0.3916, acc=0.9338 | val: loss=0.8010, acc=0.8069 | time: 21.39s\n",
      "  [early-stop] No improvement (2/25) on acc; best=0.8387, current=0.8069\n"
     ]
    },
    {
     "data": {
      "application/vnd.jupyter.widget-view+json": {
       "model_id": "9436db4e4cc84f428709813cd24c0ead",
       "version_major": 2,
       "version_minor": 0
      },
      "text/plain": [
       "[epoch 035 | train]:   0%|          | 0/148 [00:00<?, ?it/s]"
      ]
     },
     "metadata": {},
     "output_type": "display_data"
    },
    {
     "data": {
      "application/vnd.jupyter.widget-view+json": {
       "model_id": "3927f82e30504ece8ba11b4928cce8b5",
       "version_major": 2,
       "version_minor": 0
      },
      "text/plain": [
       "[epoch 035 | val  ]:   0%|          | 0/31 [00:00<?, ?it/s]"
      ]
     },
     "metadata": {},
     "output_type": "display_data"
    },
    {
     "name": "stdout",
     "output_type": "stream",
     "text": [
      "[epoch 035] train: loss=0.4017, acc=0.9319 | val: loss=0.8408, acc=0.8028 | time: 21.50s\n",
      "  [early-stop] No improvement (3/25) on acc; best=0.8387, current=0.8028\n"
     ]
    },
    {
     "data": {
      "application/vnd.jupyter.widget-view+json": {
       "model_id": "19dde43f38db42a892aeb0c2923cf307",
       "version_major": 2,
       "version_minor": 0
      },
      "text/plain": [
       "[epoch 036 | train]:   0%|          | 0/148 [00:00<?, ?it/s]"
      ]
     },
     "metadata": {},
     "output_type": "display_data"
    },
    {
     "data": {
      "application/vnd.jupyter.widget-view+json": {
       "model_id": "026f139192ec458090d1f588c69565a0",
       "version_major": 2,
       "version_minor": 0
      },
      "text/plain": [
       "[epoch 036 | val  ]:   0%|          | 0/31 [00:00<?, ?it/s]"
      ]
     },
     "metadata": {},
     "output_type": "display_data"
    },
    {
     "name": "stdout",
     "output_type": "stream",
     "text": [
      "[epoch 036] train: loss=0.3652, acc=0.9442 | val: loss=0.7400, acc=0.8296 | time: 21.47s\n",
      "  [early-stop] No improvement (4/25) on acc; best=0.8387, current=0.8296\n"
     ]
    },
    {
     "data": {
      "application/vnd.jupyter.widget-view+json": {
       "model_id": "2d43283cda074b66b24fd1e4134e6d60",
       "version_major": 2,
       "version_minor": 0
      },
      "text/plain": [
       "[epoch 037 | train]:   0%|          | 0/148 [00:00<?, ?it/s]"
      ]
     },
     "metadata": {},
     "output_type": "display_data"
    },
    {
     "data": {
      "application/vnd.jupyter.widget-view+json": {
       "model_id": "22bebb0a57d64a518aa81e73d6008879",
       "version_major": 2,
       "version_minor": 0
      },
      "text/plain": [
       "[epoch 037 | val  ]:   0%|          | 0/31 [00:00<?, ?it/s]"
      ]
     },
     "metadata": {},
     "output_type": "display_data"
    },
    {
     "name": "stdout",
     "output_type": "stream",
     "text": [
      "[epoch 037] train: loss=0.3560, acc=0.9498 | val: loss=0.8781, acc=0.8051 | time: 21.42s\n",
      "  [early-stop] No improvement (5/25) on acc; best=0.8387, current=0.8051\n"
     ]
    },
    {
     "data": {
      "application/vnd.jupyter.widget-view+json": {
       "model_id": "97fb7e0294144c5e86c30fcbfc07f83e",
       "version_major": 2,
       "version_minor": 0
      },
      "text/plain": [
       "[epoch 038 | train]:   0%|          | 0/148 [00:00<?, ?it/s]"
      ]
     },
     "metadata": {},
     "output_type": "display_data"
    },
    {
     "data": {
      "application/vnd.jupyter.widget-view+json": {
       "model_id": "335566b1c59d434f9c88805dff63bd74",
       "version_major": 2,
       "version_minor": 0
      },
      "text/plain": [
       "[epoch 038 | val  ]:   0%|          | 0/31 [00:00<?, ?it/s]"
      ]
     },
     "metadata": {},
     "output_type": "display_data"
    },
    {
     "name": "stdout",
     "output_type": "stream",
     "text": [
      "[epoch 038] train: loss=0.3674, acc=0.9441 | val: loss=0.9048, acc=0.7987 | time: 21.12s\n",
      "  [early-stop] No improvement (6/25) on acc; best=0.8387, current=0.7987\n"
     ]
    },
    {
     "data": {
      "application/vnd.jupyter.widget-view+json": {
       "model_id": "b72a155ddaba44f0a1e54f48215af1ad",
       "version_major": 2,
       "version_minor": 0
      },
      "text/plain": [
       "[epoch 039 | train]:   0%|          | 0/148 [00:00<?, ?it/s]"
      ]
     },
     "metadata": {},
     "output_type": "display_data"
    },
    {
     "data": {
      "application/vnd.jupyter.widget-view+json": {
       "model_id": "a3196c9abc704fceb6b0531f57cd9893",
       "version_major": 2,
       "version_minor": 0
      },
      "text/plain": [
       "[epoch 039 | val  ]:   0%|          | 0/31 [00:00<?, ?it/s]"
      ]
     },
     "metadata": {},
     "output_type": "display_data"
    },
    {
     "name": "stdout",
     "output_type": "stream",
     "text": [
      "[epoch 039] train: loss=0.3406, acc=0.9543 | val: loss=0.7686, acc=0.8265 | time: 21.31s\n",
      "  [early-stop] No improvement (7/25) on acc; best=0.8387, current=0.8265\n"
     ]
    },
    {
     "data": {
      "application/vnd.jupyter.widget-view+json": {
       "model_id": "46b3e34d4bea4f6eb6eb4311c9adbede",
       "version_major": 2,
       "version_minor": 0
      },
      "text/plain": [
       "[epoch 040 | train]:   0%|          | 0/148 [00:00<?, ?it/s]"
      ]
     },
     "metadata": {},
     "output_type": "display_data"
    },
    {
     "data": {
      "application/vnd.jupyter.widget-view+json": {
       "model_id": "35dd321a4ecb43d3b15cf6facf402edb",
       "version_major": 2,
       "version_minor": 0
      },
      "text/plain": [
       "[epoch 040 | val  ]:   0%|          | 0/31 [00:00<?, ?it/s]"
      ]
     },
     "metadata": {},
     "output_type": "display_data"
    },
    {
     "name": "stdout",
     "output_type": "stream",
     "text": [
      "[epoch 040] train: loss=0.3354, acc=0.9551 | val: loss=0.7755, acc=0.8217 | time: 41.36s\n",
      "  [early-stop] No improvement (8/25) on acc; best=0.8387, current=0.8217\n"
     ]
    },
    {
     "data": {
      "application/vnd.jupyter.widget-view+json": {
       "model_id": "b95c690af1d542c9ad2a45f4f4df6e56",
       "version_major": 2,
       "version_minor": 0
      },
      "text/plain": [
       "[epoch 041 | train]:   0%|          | 0/148 [00:00<?, ?it/s]"
      ]
     },
     "metadata": {},
     "output_type": "display_data"
    },
    {
     "data": {
      "application/vnd.jupyter.widget-view+json": {
       "model_id": "56028afbafde4f85a29b0b18896e8e05",
       "version_major": 2,
       "version_minor": 0
      },
      "text/plain": [
       "[epoch 041 | val  ]:   0%|          | 0/31 [00:00<?, ?it/s]"
      ]
     },
     "metadata": {},
     "output_type": "display_data"
    },
    {
     "name": "stdout",
     "output_type": "stream",
     "text": [
      "[epoch 041] train: loss=0.3379, acc=0.9550 | val: loss=0.8021, acc=0.8247 | time: 21.40s\n",
      "  [early-stop] No improvement (9/25) on acc; best=0.8387, current=0.8247\n"
     ]
    },
    {
     "data": {
      "application/vnd.jupyter.widget-view+json": {
       "model_id": "5c84e1b8bd484b29818b711c601ac1fd",
       "version_major": 2,
       "version_minor": 0
      },
      "text/plain": [
       "[epoch 042 | train]:   0%|          | 0/148 [00:00<?, ?it/s]"
      ]
     },
     "metadata": {},
     "output_type": "display_data"
    },
    {
     "data": {
      "application/vnd.jupyter.widget-view+json": {
       "model_id": "656b3cd08f5142e28086b4379da1b3cb",
       "version_major": 2,
       "version_minor": 0
      },
      "text/plain": [
       "[epoch 042 | val  ]:   0%|          | 0/31 [00:00<?, ?it/s]"
      ]
     },
     "metadata": {},
     "output_type": "display_data"
    },
    {
     "name": "stdout",
     "output_type": "stream",
     "text": [
      "[epoch 042] train: loss=0.3166, acc=0.9620 | val: loss=0.8162, acc=0.8211 | time: 21.48s\n",
      "  [early-stop] No improvement (10/25) on acc; best=0.8387, current=0.8211\n"
     ]
    },
    {
     "data": {
      "application/vnd.jupyter.widget-view+json": {
       "model_id": "c867aaf53e5f493fb220248a1c4c0a64",
       "version_major": 2,
       "version_minor": 0
      },
      "text/plain": [
       "[epoch 043 | train]:   0%|          | 0/148 [00:00<?, ?it/s]"
      ]
     },
     "metadata": {},
     "output_type": "display_data"
    },
    {
     "data": {
      "application/vnd.jupyter.widget-view+json": {
       "model_id": "3baf652bc1f6401baa2e08b96ab0cb73",
       "version_major": 2,
       "version_minor": 0
      },
      "text/plain": [
       "[epoch 043 | val  ]:   0%|          | 0/31 [00:00<?, ?it/s]"
      ]
     },
     "metadata": {},
     "output_type": "display_data"
    },
    {
     "name": "stdout",
     "output_type": "stream",
     "text": [
      "[epoch 043] train: loss=0.3534, acc=0.9473 | val: loss=0.7894, acc=0.8189 | time: 21.37s\n",
      "Epoch 00043: reducing learning rate of group 0 to 3.0000e-05.\n",
      "  [early-stop] No improvement (11/25) on acc; best=0.8387, current=0.8189\n"
     ]
    },
    {
     "data": {
      "application/vnd.jupyter.widget-view+json": {
       "model_id": "0c34baac6fda4e43a512e01fac9af8d0",
       "version_major": 2,
       "version_minor": 0
      },
      "text/plain": [
       "[epoch 044 | train]:   0%|          | 0/148 [00:00<?, ?it/s]"
      ]
     },
     "metadata": {},
     "output_type": "display_data"
    },
    {
     "data": {
      "application/vnd.jupyter.widget-view+json": {
       "model_id": "a916f5cf50e84209a3ef7269b977c6c4",
       "version_major": 2,
       "version_minor": 0
      },
      "text/plain": [
       "[epoch 044 | val  ]:   0%|          | 0/31 [00:00<?, ?it/s]"
      ]
     },
     "metadata": {},
     "output_type": "display_data"
    },
    {
     "name": "stdout",
     "output_type": "stream",
     "text": [
      "[epoch 044] train: loss=0.2597, acc=0.9843 | val: loss=0.6880, acc=0.8433 | time: 40.93s\n",
      "  [checkpoint] New best (acc=0.8433) saved -> imagenette2_inceptionv1_best.pth\n"
     ]
    },
    {
     "data": {
      "application/vnd.jupyter.widget-view+json": {
       "model_id": "77512a412ba54ab2909f41b040daf27e",
       "version_major": 2,
       "version_minor": 0
      },
      "text/plain": [
       "[epoch 045 | train]:   0%|          | 0/148 [00:00<?, ?it/s]"
      ]
     },
     "metadata": {},
     "output_type": "display_data"
    },
    {
     "data": {
      "application/vnd.jupyter.widget-view+json": {
       "model_id": "ccb2b7a0d08646c79a823ac8c14024ea",
       "version_major": 2,
       "version_minor": 0
      },
      "text/plain": [
       "[epoch 045 | val  ]:   0%|          | 0/31 [00:00<?, ?it/s]"
      ]
     },
     "metadata": {},
     "output_type": "display_data"
    },
    {
     "name": "stdout",
     "output_type": "stream",
     "text": [
      "[epoch 045] train: loss=0.2392, acc=0.9925 | val: loss=0.6910, acc=0.8448 | time: 21.38s\n",
      "  [checkpoint] New best (acc=0.8448) saved -> imagenette2_inceptionv1_best.pth\n"
     ]
    },
    {
     "data": {
      "application/vnd.jupyter.widget-view+json": {
       "model_id": "874d356d253b41848a1895f679603216",
       "version_major": 2,
       "version_minor": 0
      },
      "text/plain": [
       "[epoch 046 | train]:   0%|          | 0/148 [00:00<?, ?it/s]"
      ]
     },
     "metadata": {},
     "output_type": "display_data"
    },
    {
     "data": {
      "application/vnd.jupyter.widget-view+json": {
       "model_id": "a3b78f17acaf40f1957958eac371f399",
       "version_major": 2,
       "version_minor": 0
      },
      "text/plain": [
       "[epoch 046 | val  ]:   0%|          | 0/31 [00:00<?, ?it/s]"
      ]
     },
     "metadata": {},
     "output_type": "display_data"
    },
    {
     "name": "stdout",
     "output_type": "stream",
     "text": [
      "[epoch 046] train: loss=0.2343, acc=0.9929 | val: loss=0.6833, acc=0.8499 | time: 21.37s\n",
      "  [checkpoint] New best (acc=0.8499) saved -> imagenette2_inceptionv1_best.pth\n"
     ]
    },
    {
     "data": {
      "application/vnd.jupyter.widget-view+json": {
       "model_id": "ce556533f935419184e6e075f5169ed9",
       "version_major": 2,
       "version_minor": 0
      },
      "text/plain": [
       "[epoch 047 | train]:   0%|          | 0/148 [00:00<?, ?it/s]"
      ]
     },
     "metadata": {},
     "output_type": "display_data"
    },
    {
     "data": {
      "application/vnd.jupyter.widget-view+json": {
       "model_id": "590466d16a8341f1914517bfc777c707",
       "version_major": 2,
       "version_minor": 0
      },
      "text/plain": [
       "[epoch 047 | val  ]:   0%|          | 0/31 [00:00<?, ?it/s]"
      ]
     },
     "metadata": {},
     "output_type": "display_data"
    },
    {
     "name": "stdout",
     "output_type": "stream",
     "text": [
      "[epoch 047] train: loss=0.2318, acc=0.9938 | val: loss=0.6909, acc=0.8484 | time: 21.59s\n",
      "  [early-stop] No improvement (1/25) on acc; best=0.8499, current=0.8484\n"
     ]
    },
    {
     "data": {
      "application/vnd.jupyter.widget-view+json": {
       "model_id": "90074141bfc94f6997d53549726edb3d",
       "version_major": 2,
       "version_minor": 0
      },
      "text/plain": [
       "[epoch 048 | train]:   0%|          | 0/148 [00:00<?, ?it/s]"
      ]
     },
     "metadata": {},
     "output_type": "display_data"
    },
    {
     "data": {
      "application/vnd.jupyter.widget-view+json": {
       "model_id": "9709b3a864754ef2aff407ccc5427377",
       "version_major": 2,
       "version_minor": 0
      },
      "text/plain": [
       "[epoch 048 | val  ]:   0%|          | 0/31 [00:00<?, ?it/s]"
      ]
     },
     "metadata": {},
     "output_type": "display_data"
    },
    {
     "name": "stdout",
     "output_type": "stream",
     "text": [
      "[epoch 048] train: loss=0.2264, acc=0.9960 | val: loss=0.6811, acc=0.8494 | time: 41.48s\n",
      "  [early-stop] No improvement (2/25) on acc; best=0.8499, current=0.8494\n"
     ]
    },
    {
     "data": {
      "application/vnd.jupyter.widget-view+json": {
       "model_id": "9dccc3fdc3a74e61be5d710f8c3e329b",
       "version_major": 2,
       "version_minor": 0
      },
      "text/plain": [
       "[epoch 049 | train]:   0%|          | 0/148 [00:00<?, ?it/s]"
      ]
     },
     "metadata": {},
     "output_type": "display_data"
    },
    {
     "data": {
      "application/vnd.jupyter.widget-view+json": {
       "model_id": "079f6e22efb84c6a88966ebf06935b2b",
       "version_major": 2,
       "version_minor": 0
      },
      "text/plain": [
       "[epoch 049 | val  ]:   0%|          | 0/31 [00:00<?, ?it/s]"
      ]
     },
     "metadata": {},
     "output_type": "display_data"
    },
    {
     "name": "stdout",
     "output_type": "stream",
     "text": [
      "[epoch 049] train: loss=0.2270, acc=0.9958 | val: loss=0.6852, acc=0.8499 | time: 21.30s\n",
      "  [early-stop] No improvement (3/25) on acc; best=0.8499, current=0.8499\n"
     ]
    },
    {
     "data": {
      "application/vnd.jupyter.widget-view+json": {
       "model_id": "f051e167dbd44e20afea08b591a97363",
       "version_major": 2,
       "version_minor": 0
      },
      "text/plain": [
       "[epoch 050 | train]:   0%|          | 0/148 [00:00<?, ?it/s]"
      ]
     },
     "metadata": {},
     "output_type": "display_data"
    },
    {
     "data": {
      "application/vnd.jupyter.widget-view+json": {
       "model_id": "724d94028eda49328683edeeb2adfb78",
       "version_major": 2,
       "version_minor": 0
      },
      "text/plain": [
       "[epoch 050 | val  ]:   0%|          | 0/31 [00:00<?, ?it/s]"
      ]
     },
     "metadata": {},
     "output_type": "display_data"
    },
    {
     "name": "stdout",
     "output_type": "stream",
     "text": [
      "[epoch 050] train: loss=0.2251, acc=0.9954 | val: loss=0.6892, acc=0.8474 | time: 21.46s\n",
      "  [early-stop] No improvement (4/25) on acc; best=0.8499, current=0.8474\n"
     ]
    },
    {
     "data": {
      "application/vnd.jupyter.widget-view+json": {
       "model_id": "14455307932c43c78874af7f72b14efb",
       "version_major": 2,
       "version_minor": 0
      },
      "text/plain": [
       "[epoch 051 | train]:   0%|          | 0/148 [00:00<?, ?it/s]"
      ]
     },
     "metadata": {},
     "output_type": "display_data"
    },
    {
     "data": {
      "application/vnd.jupyter.widget-view+json": {
       "model_id": "1ba165f86a944d69a54dfad7f9396bde",
       "version_major": 2,
       "version_minor": 0
      },
      "text/plain": [
       "[epoch 051 | val  ]:   0%|          | 0/31 [00:00<?, ?it/s]"
      ]
     },
     "metadata": {},
     "output_type": "display_data"
    },
    {
     "name": "stdout",
     "output_type": "stream",
     "text": [
      "[epoch 051] train: loss=0.2246, acc=0.9954 | val: loss=0.6826, acc=0.8515 | time: 21.39s\n",
      "  [checkpoint] New best (acc=0.8515) saved -> imagenette2_inceptionv1_best.pth\n"
     ]
    },
    {
     "data": {
      "application/vnd.jupyter.widget-view+json": {
       "model_id": "4868ecd212e34569a15dc44feeb5b0f9",
       "version_major": 2,
       "version_minor": 0
      },
      "text/plain": [
       "[epoch 052 | train]:   0%|          | 0/148 [00:00<?, ?it/s]"
      ]
     },
     "metadata": {},
     "output_type": "display_data"
    },
    {
     "data": {
      "application/vnd.jupyter.widget-view+json": {
       "model_id": "b94087287546420e956b87dbff3c0bfb",
       "version_major": 2,
       "version_minor": 0
      },
      "text/plain": [
       "[epoch 052 | val  ]:   0%|          | 0/31 [00:00<?, ?it/s]"
      ]
     },
     "metadata": {},
     "output_type": "display_data"
    },
    {
     "name": "stdout",
     "output_type": "stream",
     "text": [
      "[epoch 052] train: loss=0.2242, acc=0.9951 | val: loss=0.6897, acc=0.8469 | time: 41.24s\n",
      "  [early-stop] No improvement (1/25) on acc; best=0.8515, current=0.8469\n"
     ]
    },
    {
     "data": {
      "application/vnd.jupyter.widget-view+json": {
       "model_id": "710a7829969941849a057eb33b408db8",
       "version_major": 2,
       "version_minor": 0
      },
      "text/plain": [
       "[epoch 053 | train]:   0%|          | 0/148 [00:00<?, ?it/s]"
      ]
     },
     "metadata": {},
     "output_type": "display_data"
    },
    {
     "data": {
      "application/vnd.jupyter.widget-view+json": {
       "model_id": "1de78ae8496641889387ae304c2f443d",
       "version_major": 2,
       "version_minor": 0
      },
      "text/plain": [
       "[epoch 053 | val  ]:   0%|          | 0/31 [00:00<?, ?it/s]"
      ]
     },
     "metadata": {},
     "output_type": "display_data"
    },
    {
     "name": "stdout",
     "output_type": "stream",
     "text": [
      "[epoch 053] train: loss=0.2220, acc=0.9960 | val: loss=0.6818, acc=0.8512 | time: 21.29s\n",
      "  [early-stop] No improvement (2/25) on acc; best=0.8515, current=0.8512\n"
     ]
    },
    {
     "data": {
      "application/vnd.jupyter.widget-view+json": {
       "model_id": "24b9d1e5e78044429776958094b87648",
       "version_major": 2,
       "version_minor": 0
      },
      "text/plain": [
       "[epoch 054 | train]:   0%|          | 0/148 [00:00<?, ?it/s]"
      ]
     },
     "metadata": {},
     "output_type": "display_data"
    },
    {
     "data": {
      "application/vnd.jupyter.widget-view+json": {
       "model_id": "7bf3ac2293454af7bb7793a0f48ef68d",
       "version_major": 2,
       "version_minor": 0
      },
      "text/plain": [
       "[epoch 054 | val  ]:   0%|          | 0/31 [00:00<?, ?it/s]"
      ]
     },
     "metadata": {},
     "output_type": "display_data"
    },
    {
     "name": "stdout",
     "output_type": "stream",
     "text": [
      "[epoch 054] train: loss=0.2203, acc=0.9964 | val: loss=0.6799, acc=0.8482 | time: 21.59s\n",
      "  [early-stop] No improvement (3/25) on acc; best=0.8515, current=0.8482\n"
     ]
    },
    {
     "data": {
      "application/vnd.jupyter.widget-view+json": {
       "model_id": "94bdc654355f4bfa95051f3a2f4fa46e",
       "version_major": 2,
       "version_minor": 0
      },
      "text/plain": [
       "[epoch 055 | train]:   0%|          | 0/148 [00:00<?, ?it/s]"
      ]
     },
     "metadata": {},
     "output_type": "display_data"
    },
    {
     "data": {
      "application/vnd.jupyter.widget-view+json": {
       "model_id": "403325e02ca5477b98133df532a3dff7",
       "version_major": 2,
       "version_minor": 0
      },
      "text/plain": [
       "[epoch 055 | val  ]:   0%|          | 0/31 [00:00<?, ?it/s]"
      ]
     },
     "metadata": {},
     "output_type": "display_data"
    },
    {
     "name": "stdout",
     "output_type": "stream",
     "text": [
      "[epoch 055] train: loss=0.2194, acc=0.9968 | val: loss=0.6812, acc=0.8512 | time: 21.21s\n",
      "  [early-stop] No improvement (4/25) on acc; best=0.8515, current=0.8512\n"
     ]
    },
    {
     "data": {
      "application/vnd.jupyter.widget-view+json": {
       "model_id": "00d1cb09cdf9477aa0e5483432fc448d",
       "version_major": 2,
       "version_minor": 0
      },
      "text/plain": [
       "[epoch 056 | train]:   0%|          | 0/148 [00:00<?, ?it/s]"
      ]
     },
     "metadata": {},
     "output_type": "display_data"
    },
    {
     "data": {
      "application/vnd.jupyter.widget-view+json": {
       "model_id": "3da60949e22b46d2ad530d96b6479482",
       "version_major": 2,
       "version_minor": 0
      },
      "text/plain": [
       "[epoch 056 | val  ]:   0%|          | 0/31 [00:00<?, ?it/s]"
      ]
     },
     "metadata": {},
     "output_type": "display_data"
    },
    {
     "name": "stdout",
     "output_type": "stream",
     "text": [
      "[epoch 056] train: loss=0.2181, acc=0.9975 | val: loss=0.6813, acc=0.8494 | time: 21.50s\n",
      "  [early-stop] No improvement (5/25) on acc; best=0.8515, current=0.8494\n"
     ]
    },
    {
     "data": {
      "application/vnd.jupyter.widget-view+json": {
       "model_id": "7b2031c96041420884fc29646891f94a",
       "version_major": 2,
       "version_minor": 0
      },
      "text/plain": [
       "[epoch 057 | train]:   0%|          | 0/148 [00:00<?, ?it/s]"
      ]
     },
     "metadata": {},
     "output_type": "display_data"
    },
    {
     "data": {
      "application/vnd.jupyter.widget-view+json": {
       "model_id": "f8ef53c1fba349ac8c38f8dd9b9d6b87",
       "version_major": 2,
       "version_minor": 0
      },
      "text/plain": [
       "[epoch 057 | val  ]:   0%|          | 0/31 [00:00<?, ?it/s]"
      ]
     },
     "metadata": {},
     "output_type": "display_data"
    },
    {
     "name": "stdout",
     "output_type": "stream",
     "text": [
      "[epoch 057] train: loss=0.2182, acc=0.9966 | val: loss=0.6695, acc=0.8504 | time: 21.65s\n",
      "  [early-stop] No improvement (6/25) on acc; best=0.8515, current=0.8504\n"
     ]
    },
    {
     "data": {
      "application/vnd.jupyter.widget-view+json": {
       "model_id": "fa8018869bab473799da5af5c65aa39a",
       "version_major": 2,
       "version_minor": 0
      },
      "text/plain": [
       "[epoch 058 | train]:   0%|          | 0/148 [00:00<?, ?it/s]"
      ]
     },
     "metadata": {},
     "output_type": "display_data"
    },
    {
     "data": {
      "application/vnd.jupyter.widget-view+json": {
       "model_id": "05252762aed94458a688ca95ed723bfc",
       "version_major": 2,
       "version_minor": 0
      },
      "text/plain": [
       "[epoch 058 | val  ]:   0%|          | 0/31 [00:00<?, ?it/s]"
      ]
     },
     "metadata": {},
     "output_type": "display_data"
    },
    {
     "name": "stdout",
     "output_type": "stream",
     "text": [
      "[epoch 058] train: loss=0.2155, acc=0.9978 | val: loss=0.6788, acc=0.8507 | time: 21.42s\n",
      "  [early-stop] No improvement (7/25) on acc; best=0.8515, current=0.8507\n"
     ]
    },
    {
     "data": {
      "application/vnd.jupyter.widget-view+json": {
       "model_id": "df804c5250714765891537bf2875a5b5",
       "version_major": 2,
       "version_minor": 0
      },
      "text/plain": [
       "[epoch 059 | train]:   0%|          | 0/148 [00:00<?, ?it/s]"
      ]
     },
     "metadata": {},
     "output_type": "display_data"
    },
    {
     "data": {
      "application/vnd.jupyter.widget-view+json": {
       "model_id": "3c65096dbdda4ef2b35992f24d2611a4",
       "version_major": 2,
       "version_minor": 0
      },
      "text/plain": [
       "[epoch 059 | val  ]:   0%|          | 0/31 [00:00<?, ?it/s]"
      ]
     },
     "metadata": {},
     "output_type": "display_data"
    },
    {
     "name": "stdout",
     "output_type": "stream",
     "text": [
      "[epoch 059] train: loss=0.2162, acc=0.9971 | val: loss=0.6812, acc=0.8515 | time: 21.44s\n",
      "  [early-stop] No improvement (8/25) on acc; best=0.8515, current=0.8515\n"
     ]
    },
    {
     "data": {
      "application/vnd.jupyter.widget-view+json": {
       "model_id": "5a3f3b6183e548ec99ef0ce4335fa901",
       "version_major": 2,
       "version_minor": 0
      },
      "text/plain": [
       "[epoch 060 | train]:   0%|          | 0/148 [00:00<?, ?it/s]"
      ]
     },
     "metadata": {},
     "output_type": "display_data"
    },
    {
     "data": {
      "application/vnd.jupyter.widget-view+json": {
       "model_id": "762e175a7e674b04922821a9aed07543",
       "version_major": 2,
       "version_minor": 0
      },
      "text/plain": [
       "[epoch 060 | val  ]:   0%|          | 0/31 [00:00<?, ?it/s]"
      ]
     },
     "metadata": {},
     "output_type": "display_data"
    },
    {
     "name": "stdout",
     "output_type": "stream",
     "text": [
      "[epoch 060] train: loss=0.2151, acc=0.9973 | val: loss=0.6800, acc=0.8520 | time: 41.08s\n",
      "  [checkpoint] New best (acc=0.8520) saved -> imagenette2_inceptionv1_best.pth\n"
     ]
    },
    {
     "data": {
      "application/vnd.jupyter.widget-view+json": {
       "model_id": "c18ce8e64abe4f8dacc5335b7e4afa0f",
       "version_major": 2,
       "version_minor": 0
      },
      "text/plain": [
       "[epoch 061 | train]:   0%|          | 0/148 [00:00<?, ?it/s]"
      ]
     },
     "metadata": {},
     "output_type": "display_data"
    },
    {
     "data": {
      "application/vnd.jupyter.widget-view+json": {
       "model_id": "580f771bca314f5288efcad3215139de",
       "version_major": 2,
       "version_minor": 0
      },
      "text/plain": [
       "[epoch 061 | val  ]:   0%|          | 0/31 [00:00<?, ?it/s]"
      ]
     },
     "metadata": {},
     "output_type": "display_data"
    },
    {
     "name": "stdout",
     "output_type": "stream",
     "text": [
      "[epoch 061] train: loss=0.2137, acc=0.9984 | val: loss=0.6699, acc=0.8510 | time: 21.34s\n",
      "  [early-stop] No improvement (1/25) on acc; best=0.8520, current=0.8510\n"
     ]
    },
    {
     "data": {
      "application/vnd.jupyter.widget-view+json": {
       "model_id": "50b8f08c03284644b3c0894a7b70b35e",
       "version_major": 2,
       "version_minor": 0
      },
      "text/plain": [
       "[epoch 062 | train]:   0%|          | 0/148 [00:00<?, ?it/s]"
      ]
     },
     "metadata": {},
     "output_type": "display_data"
    },
    {
     "data": {
      "application/vnd.jupyter.widget-view+json": {
       "model_id": "cdf8da7c47564486af7267a13a3e2fc0",
       "version_major": 2,
       "version_minor": 0
      },
      "text/plain": [
       "[epoch 062 | val  ]:   0%|          | 0/31 [00:00<?, ?it/s]"
      ]
     },
     "metadata": {},
     "output_type": "display_data"
    },
    {
     "name": "stdout",
     "output_type": "stream",
     "text": [
      "[epoch 062] train: loss=0.2147, acc=0.9973 | val: loss=0.6864, acc=0.8507 | time: 21.18s\n",
      "  [early-stop] No improvement (2/25) on acc; best=0.8520, current=0.8507\n"
     ]
    },
    {
     "data": {
      "application/vnd.jupyter.widget-view+json": {
       "model_id": "af9b33d2f0ad4ce287fdfdac8bfc62a6",
       "version_major": 2,
       "version_minor": 0
      },
      "text/plain": [
       "[epoch 063 | train]:   0%|          | 0/148 [00:00<?, ?it/s]"
      ]
     },
     "metadata": {},
     "output_type": "display_data"
    },
    {
     "data": {
      "application/vnd.jupyter.widget-view+json": {
       "model_id": "52e5c30d2ddf47b2a621269eba93dd85",
       "version_major": 2,
       "version_minor": 0
      },
      "text/plain": [
       "[epoch 063 | val  ]:   0%|          | 0/31 [00:00<?, ?it/s]"
      ]
     },
     "metadata": {},
     "output_type": "display_data"
    },
    {
     "name": "stdout",
     "output_type": "stream",
     "text": [
      "[epoch 063] train: loss=0.2136, acc=0.9982 | val: loss=0.6838, acc=0.8482 | time: 21.73s\n",
      "  [early-stop] No improvement (3/25) on acc; best=0.8520, current=0.8482\n"
     ]
    },
    {
     "data": {
      "application/vnd.jupyter.widget-view+json": {
       "model_id": "f4bcd34630c340cb9d58619d4be75bbb",
       "version_major": 2,
       "version_minor": 0
      },
      "text/plain": [
       "[epoch 064 | train]:   0%|          | 0/148 [00:00<?, ?it/s]"
      ]
     },
     "metadata": {},
     "output_type": "display_data"
    },
    {
     "data": {
      "application/vnd.jupyter.widget-view+json": {
       "model_id": "2314ad5c74544c03bf723e600a8426a2",
       "version_major": 2,
       "version_minor": 0
      },
      "text/plain": [
       "[epoch 064 | val  ]:   0%|          | 0/31 [00:00<?, ?it/s]"
      ]
     },
     "metadata": {},
     "output_type": "display_data"
    },
    {
     "name": "stdout",
     "output_type": "stream",
     "text": [
      "[epoch 064] train: loss=0.2129, acc=0.9977 | val: loss=0.6739, acc=0.8520 | time: 41.36s\n",
      "  [early-stop] No improvement (4/25) on acc; best=0.8520, current=0.8520\n"
     ]
    },
    {
     "data": {
      "application/vnd.jupyter.widget-view+json": {
       "model_id": "e53d75775e7b49049ec2b7ef00335857",
       "version_major": 2,
       "version_minor": 0
      },
      "text/plain": [
       "[epoch 065 | train]:   0%|          | 0/148 [00:00<?, ?it/s]"
      ]
     },
     "metadata": {},
     "output_type": "display_data"
    },
    {
     "data": {
      "application/vnd.jupyter.widget-view+json": {
       "model_id": "077b682d824c4307800374a2eed34613",
       "version_major": 2,
       "version_minor": 0
      },
      "text/plain": [
       "[epoch 065 | val  ]:   0%|          | 0/31 [00:00<?, ?it/s]"
      ]
     },
     "metadata": {},
     "output_type": "display_data"
    },
    {
     "name": "stdout",
     "output_type": "stream",
     "text": [
      "[epoch 065] train: loss=0.2114, acc=0.9985 | val: loss=0.6894, acc=0.8479 | time: 21.37s\n",
      "  [early-stop] No improvement (5/25) on acc; best=0.8520, current=0.8479\n"
     ]
    },
    {
     "data": {
      "application/vnd.jupyter.widget-view+json": {
       "model_id": "cf5bf5e83e234ed38017fc40f3359e2b",
       "version_major": 2,
       "version_minor": 0
      },
      "text/plain": [
       "[epoch 066 | train]:   0%|          | 0/148 [00:00<?, ?it/s]"
      ]
     },
     "metadata": {},
     "output_type": "display_data"
    },
    {
     "data": {
      "application/vnd.jupyter.widget-view+json": {
       "model_id": "a16f8e6397114ad1b197e29aedf300ee",
       "version_major": 2,
       "version_minor": 0
      },
      "text/plain": [
       "[epoch 066 | val  ]:   0%|          | 0/31 [00:00<?, ?it/s]"
      ]
     },
     "metadata": {},
     "output_type": "display_data"
    },
    {
     "name": "stdout",
     "output_type": "stream",
     "text": [
      "[epoch 066] train: loss=0.2110, acc=0.9989 | val: loss=0.6840, acc=0.8504 | time: 21.37s\n",
      "  [early-stop] No improvement (6/25) on acc; best=0.8520, current=0.8504\n"
     ]
    },
    {
     "data": {
      "application/vnd.jupyter.widget-view+json": {
       "model_id": "b9d67888b206441ca8216c736d72464b",
       "version_major": 2,
       "version_minor": 0
      },
      "text/plain": [
       "[epoch 067 | train]:   0%|          | 0/148 [00:00<?, ?it/s]"
      ]
     },
     "metadata": {},
     "output_type": "display_data"
    },
    {
     "data": {
      "application/vnd.jupyter.widget-view+json": {
       "model_id": "44b0d2da4e8542df9643b0d7b6d86583",
       "version_major": 2,
       "version_minor": 0
      },
      "text/plain": [
       "[epoch 067 | val  ]:   0%|          | 0/31 [00:00<?, ?it/s]"
      ]
     },
     "metadata": {},
     "output_type": "display_data"
    },
    {
     "name": "stdout",
     "output_type": "stream",
     "text": [
      "[epoch 067] train: loss=0.2091, acc=0.9992 | val: loss=0.6842, acc=0.8512 | time: 21.59s\n",
      "  [early-stop] No improvement (7/25) on acc; best=0.8520, current=0.8512\n"
     ]
    },
    {
     "data": {
      "application/vnd.jupyter.widget-view+json": {
       "model_id": "820ba52dd12b4cd1b0b0338272b526d8",
       "version_major": 2,
       "version_minor": 0
      },
      "text/plain": [
       "[epoch 068 | train]:   0%|          | 0/148 [00:00<?, ?it/s]"
      ]
     },
     "metadata": {},
     "output_type": "display_data"
    },
    {
     "data": {
      "application/vnd.jupyter.widget-view+json": {
       "model_id": "85cef19cd55941e486bb8745c1f057db",
       "version_major": 2,
       "version_minor": 0
      },
      "text/plain": [
       "[epoch 068 | val  ]:   0%|          | 0/31 [00:00<?, ?it/s]"
      ]
     },
     "metadata": {},
     "output_type": "display_data"
    },
    {
     "name": "stdout",
     "output_type": "stream",
     "text": [
      "[epoch 068] train: loss=0.2092, acc=0.9988 | val: loss=0.6872, acc=0.8504 | time: 41.78s\n",
      "  [early-stop] No improvement (8/25) on acc; best=0.8520, current=0.8504\n"
     ]
    },
    {
     "data": {
      "application/vnd.jupyter.widget-view+json": {
       "model_id": "346c672c02e3440fa0d7ea976b90dbd5",
       "version_major": 2,
       "version_minor": 0
      },
      "text/plain": [
       "[epoch 069 | train]:   0%|          | 0/148 [00:00<?, ?it/s]"
      ]
     },
     "metadata": {},
     "output_type": "display_data"
    },
    {
     "data": {
      "application/vnd.jupyter.widget-view+json": {
       "model_id": "77ab8418aa6c47b4ac6d976e36449a0c",
       "version_major": 2,
       "version_minor": 0
      },
      "text/plain": [
       "[epoch 069 | val  ]:   0%|          | 0/31 [00:00<?, ?it/s]"
      ]
     },
     "metadata": {},
     "output_type": "display_data"
    },
    {
     "name": "stdout",
     "output_type": "stream",
     "text": [
      "[epoch 069] train: loss=0.2080, acc=0.9994 | val: loss=0.6880, acc=0.8535 | time: 21.43s\n",
      "  [checkpoint] New best (acc=0.8535) saved -> imagenette2_inceptionv1_best.pth\n"
     ]
    },
    {
     "data": {
      "application/vnd.jupyter.widget-view+json": {
       "model_id": "3c05726f187e4c429a2dd26e310c8984",
       "version_major": 2,
       "version_minor": 0
      },
      "text/plain": [
       "[epoch 070 | train]:   0%|          | 0/148 [00:00<?, ?it/s]"
      ]
     },
     "metadata": {},
     "output_type": "display_data"
    },
    {
     "data": {
      "application/vnd.jupyter.widget-view+json": {
       "model_id": "04a790f6ea944ce9a8a9a930162498df",
       "version_major": 2,
       "version_minor": 0
      },
      "text/plain": [
       "[epoch 070 | val  ]:   0%|          | 0/31 [00:00<?, ?it/s]"
      ]
     },
     "metadata": {},
     "output_type": "display_data"
    },
    {
     "name": "stdout",
     "output_type": "stream",
     "text": [
      "[epoch 070] train: loss=0.2092, acc=0.9987 | val: loss=0.6866, acc=0.8502 | time: 21.85s\n",
      "  [early-stop] No improvement (1/25) on acc; best=0.8535, current=0.8502\n"
     ]
    },
    {
     "data": {
      "application/vnd.jupyter.widget-view+json": {
       "model_id": "ff37deafa62948b0b4bcd51c147ca54a",
       "version_major": 2,
       "version_minor": 0
      },
      "text/plain": [
       "[epoch 071 | train]:   0%|          | 0/148 [00:00<?, ?it/s]"
      ]
     },
     "metadata": {},
     "output_type": "display_data"
    },
    {
     "data": {
      "application/vnd.jupyter.widget-view+json": {
       "model_id": "d6a787e168154c5c9d29ac24b322e0b3",
       "version_major": 2,
       "version_minor": 0
      },
      "text/plain": [
       "[epoch 071 | val  ]:   0%|          | 0/31 [00:00<?, ?it/s]"
      ]
     },
     "metadata": {},
     "output_type": "display_data"
    },
    {
     "name": "stdout",
     "output_type": "stream",
     "text": [
      "[epoch 071] train: loss=0.2086, acc=0.9989 | val: loss=0.6746, acc=0.8507 | time: 22.06s\n",
      "  [early-stop] No improvement (2/25) on acc; best=0.8535, current=0.8507\n"
     ]
    },
    {
     "data": {
      "application/vnd.jupyter.widget-view+json": {
       "model_id": "d5b5c466cc4e4e8ca83c061423d46017",
       "version_major": 2,
       "version_minor": 0
      },
      "text/plain": [
       "[epoch 072 | train]:   0%|          | 0/148 [00:00<?, ?it/s]"
      ]
     },
     "metadata": {},
     "output_type": "display_data"
    },
    {
     "data": {
      "application/vnd.jupyter.widget-view+json": {
       "model_id": "622a77a5a29f438188c8d33b56c885e4",
       "version_major": 2,
       "version_minor": 0
      },
      "text/plain": [
       "[epoch 072 | val  ]:   0%|          | 0/31 [00:00<?, ?it/s]"
      ]
     },
     "metadata": {},
     "output_type": "display_data"
    },
    {
     "name": "stdout",
     "output_type": "stream",
     "text": [
      "[epoch 072] train: loss=0.2082, acc=0.9992 | val: loss=0.6956, acc=0.8461 | time: 41.45s\n",
      "  [early-stop] No improvement (3/25) on acc; best=0.8535, current=0.8461\n"
     ]
    },
    {
     "data": {
      "application/vnd.jupyter.widget-view+json": {
       "model_id": "5e2ed47ec7ac4854a2cb710ca5076afd",
       "version_major": 2,
       "version_minor": 0
      },
      "text/plain": [
       "[epoch 073 | train]:   0%|          | 0/148 [00:00<?, ?it/s]"
      ]
     },
     "metadata": {},
     "output_type": "display_data"
    },
    {
     "data": {
      "application/vnd.jupyter.widget-view+json": {
       "model_id": "00e99badd0ef4ac69fe7a3d97c43b746",
       "version_major": 2,
       "version_minor": 0
      },
      "text/plain": [
       "[epoch 073 | val  ]:   0%|          | 0/31 [00:00<?, ?it/s]"
      ]
     },
     "metadata": {},
     "output_type": "display_data"
    },
    {
     "name": "stdout",
     "output_type": "stream",
     "text": [
      "[epoch 073] train: loss=0.2081, acc=0.9987 | val: loss=0.6913, acc=0.8469 | time: 21.42s\n",
      "  [early-stop] No improvement (4/25) on acc; best=0.8535, current=0.8469\n"
     ]
    },
    {
     "data": {
      "application/vnd.jupyter.widget-view+json": {
       "model_id": "be875ede1b784bc1beefb7a85cf7e25a",
       "version_major": 2,
       "version_minor": 0
      },
      "text/plain": [
       "[epoch 074 | train]:   0%|          | 0/148 [00:00<?, ?it/s]"
      ]
     },
     "metadata": {},
     "output_type": "display_data"
    },
    {
     "data": {
      "application/vnd.jupyter.widget-view+json": {
       "model_id": "07aaeb7efdbd4d0bb06eb7da7b2b12c4",
       "version_major": 2,
       "version_minor": 0
      },
      "text/plain": [
       "[epoch 074 | val  ]:   0%|          | 0/31 [00:00<?, ?it/s]"
      ]
     },
     "metadata": {},
     "output_type": "display_data"
    },
    {
     "name": "stdout",
     "output_type": "stream",
     "text": [
      "[epoch 074] train: loss=0.2083, acc=0.9982 | val: loss=0.6914, acc=0.8446 | time: 21.26s\n",
      "  [early-stop] No improvement (5/25) on acc; best=0.8535, current=0.8446\n"
     ]
    },
    {
     "data": {
      "application/vnd.jupyter.widget-view+json": {
       "model_id": "ec4b786552a2473f9e4af9f177a3c00e",
       "version_major": 2,
       "version_minor": 0
      },
      "text/plain": [
       "[epoch 075 | train]:   0%|          | 0/148 [00:00<?, ?it/s]"
      ]
     },
     "metadata": {},
     "output_type": "display_data"
    },
    {
     "data": {
      "application/vnd.jupyter.widget-view+json": {
       "model_id": "4fa8fe87f5954b7bace33dc3f81a18ad",
       "version_major": 2,
       "version_minor": 0
      },
      "text/plain": [
       "[epoch 075 | val  ]:   0%|          | 0/31 [00:00<?, ?it/s]"
      ]
     },
     "metadata": {},
     "output_type": "display_data"
    },
    {
     "name": "stdout",
     "output_type": "stream",
     "text": [
      "[epoch 075] train: loss=0.2082, acc=0.9985 | val: loss=0.6936, acc=0.8454 | time: 21.67s\n",
      "  [early-stop] No improvement (6/25) on acc; best=0.8535, current=0.8454\n"
     ]
    },
    {
     "data": {
      "application/vnd.jupyter.widget-view+json": {
       "model_id": "9d9ff59824e144afb85b3c7b0acd4ef6",
       "version_major": 2,
       "version_minor": 0
      },
      "text/plain": [
       "[epoch 076 | train]:   0%|          | 0/148 [00:00<?, ?it/s]"
      ]
     },
     "metadata": {},
     "output_type": "display_data"
    },
    {
     "data": {
      "application/vnd.jupyter.widget-view+json": {
       "model_id": "00bf8d52279842bf8fdf9f0ce96fb1ae",
       "version_major": 2,
       "version_minor": 0
      },
      "text/plain": [
       "[epoch 076 | val  ]:   0%|          | 0/31 [00:00<?, ?it/s]"
      ]
     },
     "metadata": {},
     "output_type": "display_data"
    },
    {
     "name": "stdout",
     "output_type": "stream",
     "text": [
      "[epoch 076] train: loss=0.2050, acc=0.9994 | val: loss=0.6895, acc=0.8487 | time: 22.62s\n",
      "  [early-stop] No improvement (7/25) on acc; best=0.8535, current=0.8487\n"
     ]
    },
    {
     "data": {
      "application/vnd.jupyter.widget-view+json": {
       "model_id": "c78511b6d8e0441398787e3bc027b14a",
       "version_major": 2,
       "version_minor": 0
      },
      "text/plain": [
       "[epoch 077 | train]:   0%|          | 0/148 [00:20<?, ?it/s]"
      ]
     },
     "metadata": {},
     "output_type": "display_data"
    },
    {
     "data": {
      "application/vnd.jupyter.widget-view+json": {
       "model_id": "f263f9d5e8784ae983f2e9c025df4490",
       "version_major": 2,
       "version_minor": 0
      },
      "text/plain": [
       "[epoch 077 | val  ]:   0%|          | 0/31 [00:00<?, ?it/s]"
      ]
     },
     "metadata": {},
     "output_type": "display_data"
    },
    {
     "name": "stdout",
     "output_type": "stream",
     "text": [
      "[epoch 077] train: loss=0.2071, acc=0.9986 | val: loss=0.6760, acc=0.8484 | time: 42.19s\n",
      "  [early-stop] No improvement (8/25) on acc; best=0.8535, current=0.8484\n"
     ]
    },
    {
     "data": {
      "application/vnd.jupyter.widget-view+json": {
       "model_id": "a591d5905e5c420c8ca77f4b5b315fe2",
       "version_major": 2,
       "version_minor": 0
      },
      "text/plain": [
       "[epoch 078 | train]:   0%|          | 0/148 [00:00<?, ?it/s]"
      ]
     },
     "metadata": {},
     "output_type": "display_data"
    },
    {
     "data": {
      "application/vnd.jupyter.widget-view+json": {
       "model_id": "42f8d711fa904c2c904c294690fd4c23",
       "version_major": 2,
       "version_minor": 0
      },
      "text/plain": [
       "[epoch 078 | val  ]:   0%|          | 0/31 [00:00<?, ?it/s]"
      ]
     },
     "metadata": {},
     "output_type": "display_data"
    },
    {
     "name": "stdout",
     "output_type": "stream",
     "text": [
      "[epoch 078] train: loss=0.2051, acc=0.9989 | val: loss=0.6913, acc=0.8515 | time: 21.67s\n",
      "  [early-stop] No improvement (9/25) on acc; best=0.8535, current=0.8515\n"
     ]
    },
    {
     "data": {
      "application/vnd.jupyter.widget-view+json": {
       "model_id": "ae5086effd4d422cbada6bb7da594f3d",
       "version_major": 2,
       "version_minor": 0
      },
      "text/plain": [
       "[epoch 079 | train]:   0%|          | 0/148 [00:00<?, ?it/s]"
      ]
     },
     "metadata": {},
     "output_type": "display_data"
    },
    {
     "data": {
      "application/vnd.jupyter.widget-view+json": {
       "model_id": "f2b231bdcfed4c05918ac76d4e7a7c3c",
       "version_major": 2,
       "version_minor": 0
      },
      "text/plain": [
       "[epoch 079 | val  ]:   0%|          | 0/31 [00:00<?, ?it/s]"
      ]
     },
     "metadata": {},
     "output_type": "display_data"
    },
    {
     "name": "stdout",
     "output_type": "stream",
     "text": [
      "[epoch 079] train: loss=0.2049, acc=0.9990 | val: loss=0.6991, acc=0.8499 | time: 21.93s\n",
      "  [early-stop] No improvement (10/25) on acc; best=0.8535, current=0.8499\n"
     ]
    },
    {
     "data": {
      "application/vnd.jupyter.widget-view+json": {
       "model_id": "81058fc8f48c4fc08e2ebe979e16bc1b",
       "version_major": 2,
       "version_minor": 0
      },
      "text/plain": [
       "[epoch 080 | train]:   0%|          | 0/148 [00:00<?, ?it/s]"
      ]
     },
     "metadata": {},
     "output_type": "display_data"
    },
    {
     "data": {
      "application/vnd.jupyter.widget-view+json": {
       "model_id": "ee261b8a01ee48ab9c5f86b72e3259ca",
       "version_major": 2,
       "version_minor": 0
      },
      "text/plain": [
       "[epoch 080 | val  ]:   0%|          | 0/31 [00:00<?, ?it/s]"
      ]
     },
     "metadata": {},
     "output_type": "display_data"
    },
    {
     "name": "stdout",
     "output_type": "stream",
     "text": [
      "[epoch 080] train: loss=0.2048, acc=0.9990 | val: loss=0.6882, acc=0.8479 | time: 21.65s\n",
      "Epoch 00080: reducing learning rate of group 0 to 3.0000e-06.\n",
      "  [early-stop] No improvement (11/25) on acc; best=0.8535, current=0.8479\n"
     ]
    },
    {
     "data": {
      "application/vnd.jupyter.widget-view+json": {
       "model_id": "860696d50d4446b3b4d5a09bcd46eaa2",
       "version_major": 2,
       "version_minor": 0
      },
      "text/plain": [
       "[epoch 081 | train]:   0%|          | 0/148 [00:00<?, ?it/s]"
      ]
     },
     "metadata": {},
     "output_type": "display_data"
    },
    {
     "data": {
      "application/vnd.jupyter.widget-view+json": {
       "model_id": "14d8159a88db4f519b8ad973eacf0cb6",
       "version_major": 2,
       "version_minor": 0
      },
      "text/plain": [
       "[epoch 081 | val  ]:   0%|          | 0/31 [00:00<?, ?it/s]"
      ]
     },
     "metadata": {},
     "output_type": "display_data"
    },
    {
     "name": "stdout",
     "output_type": "stream",
     "text": [
      "[epoch 081] train: loss=0.2033, acc=0.9992 | val: loss=0.6823, acc=0.8532 | time: 21.43s\n",
      "  [early-stop] No improvement (12/25) on acc; best=0.8535, current=0.8532\n"
     ]
    },
    {
     "data": {
      "application/vnd.jupyter.widget-view+json": {
       "model_id": "41e75e0f781c4e50b466869f41d8c5f0",
       "version_major": 2,
       "version_minor": 0
      },
      "text/plain": [
       "[epoch 082 | train]:   0%|          | 0/148 [00:00<?, ?it/s]"
      ]
     },
     "metadata": {},
     "output_type": "display_data"
    },
    {
     "data": {
      "application/vnd.jupyter.widget-view+json": {
       "model_id": "312502a79c1f409dbd43643e35fe52ed",
       "version_major": 2,
       "version_minor": 0
      },
      "text/plain": [
       "[epoch 082 | val  ]:   0%|          | 0/31 [00:00<?, ?it/s]"
      ]
     },
     "metadata": {},
     "output_type": "display_data"
    },
    {
     "name": "stdout",
     "output_type": "stream",
     "text": [
      "[epoch 082] train: loss=0.2029, acc=0.9993 | val: loss=0.6810, acc=0.8532 | time: 21.21s\n",
      "  [early-stop] No improvement (13/25) on acc; best=0.8535, current=0.8532\n"
     ]
    },
    {
     "data": {
      "application/vnd.jupyter.widget-view+json": {
       "model_id": "b8f97a5a30484f1094eb07ea13098aff",
       "version_major": 2,
       "version_minor": 0
      },
      "text/plain": [
       "[epoch 083 | train]:   0%|          | 0/148 [00:00<?, ?it/s]"
      ]
     },
     "metadata": {},
     "output_type": "display_data"
    },
    {
     "data": {
      "application/vnd.jupyter.widget-view+json": {
       "model_id": "e8557046cb714e64b82cad7ed0a0c5bc",
       "version_major": 2,
       "version_minor": 0
      },
      "text/plain": [
       "[epoch 083 | val  ]:   0%|          | 0/31 [00:00<?, ?it/s]"
      ]
     },
     "metadata": {},
     "output_type": "display_data"
    },
    {
     "name": "stdout",
     "output_type": "stream",
     "text": [
      "[epoch 083] train: loss=0.2021, acc=0.9998 | val: loss=0.6798, acc=0.8538 | time: 41.53s\n",
      "  [checkpoint] New best (acc=0.8538) saved -> imagenette2_inceptionv1_best.pth\n"
     ]
    },
    {
     "data": {
      "application/vnd.jupyter.widget-view+json": {
       "model_id": "b18c59d2cf234d3d89586ca30a545258",
       "version_major": 2,
       "version_minor": 0
      },
      "text/plain": [
       "[epoch 084 | train]:   0%|          | 0/148 [00:00<?, ?it/s]"
      ]
     },
     "metadata": {},
     "output_type": "display_data"
    },
    {
     "data": {
      "application/vnd.jupyter.widget-view+json": {
       "model_id": "5453d1f3dea9465592021b706112b645",
       "version_major": 2,
       "version_minor": 0
      },
      "text/plain": [
       "[epoch 084 | val  ]:   0%|          | 0/31 [00:00<?, ?it/s]"
      ]
     },
     "metadata": {},
     "output_type": "display_data"
    },
    {
     "name": "stdout",
     "output_type": "stream",
     "text": [
      "[epoch 084] train: loss=0.2033, acc=0.9993 | val: loss=0.6840, acc=0.8535 | time: 21.42s\n",
      "  [early-stop] No improvement (1/25) on acc; best=0.8538, current=0.8535\n"
     ]
    },
    {
     "data": {
      "application/vnd.jupyter.widget-view+json": {
       "model_id": "73eaf90f81b54b188be1fd59c574a176",
       "version_major": 2,
       "version_minor": 0
      },
      "text/plain": [
       "[epoch 085 | train]:   0%|          | 0/148 [00:00<?, ?it/s]"
      ]
     },
     "metadata": {},
     "output_type": "display_data"
    },
    {
     "data": {
      "application/vnd.jupyter.widget-view+json": {
       "model_id": "da5f40b9fffa4440a61e137748e99878",
       "version_major": 2,
       "version_minor": 0
      },
      "text/plain": [
       "[epoch 085 | val  ]:   0%|          | 0/31 [00:00<?, ?it/s]"
      ]
     },
     "metadata": {},
     "output_type": "display_data"
    },
    {
     "name": "stdout",
     "output_type": "stream",
     "text": [
      "[epoch 085] train: loss=0.2026, acc=0.9995 | val: loss=0.6789, acc=0.8553 | time: 21.67s\n",
      "  [checkpoint] New best (acc=0.8553) saved -> imagenette2_inceptionv1_best.pth\n"
     ]
    },
    {
     "data": {
      "application/vnd.jupyter.widget-view+json": {
       "model_id": "27bfdb76140e436db3ce6dc01d1cf93e",
       "version_major": 2,
       "version_minor": 0
      },
      "text/plain": [
       "[epoch 086 | train]:   0%|          | 0/148 [00:00<?, ?it/s]"
      ]
     },
     "metadata": {},
     "output_type": "display_data"
    },
    {
     "data": {
      "application/vnd.jupyter.widget-view+json": {
       "model_id": "f3daf299cb2c47b29c997f6ad9624da8",
       "version_major": 2,
       "version_minor": 0
      },
      "text/plain": [
       "[epoch 086 | val  ]:   0%|          | 0/31 [00:00<?, ?it/s]"
      ]
     },
     "metadata": {},
     "output_type": "display_data"
    },
    {
     "name": "stdout",
     "output_type": "stream",
     "text": [
      "[epoch 086] train: loss=0.2018, acc=0.9999 | val: loss=0.6788, acc=0.8535 | time: 21.85s\n",
      "  [early-stop] No improvement (1/25) on acc; best=0.8553, current=0.8535\n"
     ]
    },
    {
     "data": {
      "application/vnd.jupyter.widget-view+json": {
       "model_id": "336af2f04a6c4ec089d0ebbd765acede",
       "version_major": 2,
       "version_minor": 0
      },
      "text/plain": [
       "[epoch 087 | train]:   0%|          | 0/148 [00:00<?, ?it/s]"
      ]
     },
     "metadata": {},
     "output_type": "display_data"
    },
    {
     "data": {
      "application/vnd.jupyter.widget-view+json": {
       "model_id": "fb209e083ab04a99ab3f04d34463596e",
       "version_major": 2,
       "version_minor": 0
      },
      "text/plain": [
       "[epoch 087 | val  ]:   0%|          | 0/31 [00:00<?, ?it/s]"
      ]
     },
     "metadata": {},
     "output_type": "display_data"
    },
    {
     "name": "stdout",
     "output_type": "stream",
     "text": [
      "[epoch 087] train: loss=0.2018, acc=0.9998 | val: loss=0.6780, acc=0.8548 | time: 21.58s\n",
      "  [early-stop] No improvement (2/25) on acc; best=0.8553, current=0.8548\n"
     ]
    },
    {
     "data": {
      "application/vnd.jupyter.widget-view+json": {
       "model_id": "b5e50bad778b4cc7ad6003d46760b149",
       "version_major": 2,
       "version_minor": 0
      },
      "text/plain": [
       "[epoch 088 | train]:   0%|          | 0/148 [00:00<?, ?it/s]"
      ]
     },
     "metadata": {},
     "output_type": "display_data"
    },
    {
     "data": {
      "application/vnd.jupyter.widget-view+json": {
       "model_id": "a8367fce898f457fa57c124c46079bc2",
       "version_major": 2,
       "version_minor": 0
      },
      "text/plain": [
       "[epoch 088 | val  ]:   0%|          | 0/31 [00:00<?, ?it/s]"
      ]
     },
     "metadata": {},
     "output_type": "display_data"
    },
    {
     "name": "stdout",
     "output_type": "stream",
     "text": [
      "[epoch 088] train: loss=0.2025, acc=0.9996 | val: loss=0.6765, acc=0.8543 | time: 21.48s\n",
      "  [early-stop] No improvement (3/25) on acc; best=0.8553, current=0.8543\n"
     ]
    },
    {
     "data": {
      "application/vnd.jupyter.widget-view+json": {
       "model_id": "ea927d72490e44f98963f0136ae79fbe",
       "version_major": 2,
       "version_minor": 0
      },
      "text/plain": [
       "[epoch 089 | train]:   0%|          | 0/148 [00:00<?, ?it/s]"
      ]
     },
     "metadata": {},
     "output_type": "display_data"
    },
    {
     "data": {
      "application/vnd.jupyter.widget-view+json": {
       "model_id": "2635e01dfef34c7795783d06630ff51e",
       "version_major": 2,
       "version_minor": 0
      },
      "text/plain": [
       "[epoch 089 | val  ]:   0%|          | 0/31 [00:00<?, ?it/s]"
      ]
     },
     "metadata": {},
     "output_type": "display_data"
    },
    {
     "name": "stdout",
     "output_type": "stream",
     "text": [
      "[epoch 089] train: loss=0.2021, acc=0.9995 | val: loss=0.6810, acc=0.8548 | time: 21.43s\n",
      "  [early-stop] No improvement (4/25) on acc; best=0.8553, current=0.8548\n"
     ]
    },
    {
     "data": {
      "application/vnd.jupyter.widget-view+json": {
       "model_id": "ca2ff764b59444f4962bbbb5d06e45d9",
       "version_major": 2,
       "version_minor": 0
      },
      "text/plain": [
       "[epoch 090 | train]:   0%|          | 0/148 [00:00<?, ?it/s]"
      ]
     },
     "metadata": {},
     "output_type": "display_data"
    },
    {
     "data": {
      "application/vnd.jupyter.widget-view+json": {
       "model_id": "3f8503b98ab44a3f8e96ccd1f7ee39c5",
       "version_major": 2,
       "version_minor": 0
      },
      "text/plain": [
       "[epoch 090 | val  ]:   0%|          | 0/31 [00:00<?, ?it/s]"
      ]
     },
     "metadata": {},
     "output_type": "display_data"
    },
    {
     "name": "stdout",
     "output_type": "stream",
     "text": [
      "[epoch 090] train: loss=0.2016, acc=0.9997 | val: loss=0.6792, acc=0.8555 | time: 22.42s\n",
      "  [checkpoint] New best (acc=0.8555) saved -> imagenette2_inceptionv1_best.pth\n"
     ]
    },
    {
     "data": {
      "application/vnd.jupyter.widget-view+json": {
       "model_id": "78409d689c6e40bfb0c1ea498636a7b9",
       "version_major": 2,
       "version_minor": 0
      },
      "text/plain": [
       "[epoch 091 | train]:   0%|          | 0/148 [00:00<?, ?it/s]"
      ]
     },
     "metadata": {},
     "output_type": "display_data"
    },
    {
     "data": {
      "application/vnd.jupyter.widget-view+json": {
       "model_id": "f44a735a01be403dac9fee5fd62b3620",
       "version_major": 2,
       "version_minor": 0
      },
      "text/plain": [
       "[epoch 091 | val  ]:   0%|          | 0/31 [00:00<?, ?it/s]"
      ]
     },
     "metadata": {},
     "output_type": "display_data"
    },
    {
     "name": "stdout",
     "output_type": "stream",
     "text": [
      "[epoch 091] train: loss=0.2015, acc=0.9999 | val: loss=0.6786, acc=0.8545 | time: 21.66s\n",
      "  [early-stop] No improvement (1/25) on acc; best=0.8555, current=0.8545\n"
     ]
    },
    {
     "data": {
      "application/vnd.jupyter.widget-view+json": {
       "model_id": "887dd2492c0b4bac80fd2a0d8d8fa9b2",
       "version_major": 2,
       "version_minor": 0
      },
      "text/plain": [
       "[epoch 092 | train]:   0%|          | 0/148 [00:00<?, ?it/s]"
      ]
     },
     "metadata": {},
     "output_type": "display_data"
    },
    {
     "data": {
      "application/vnd.jupyter.widget-view+json": {
       "model_id": "75e0ebeb3ec246d0828b22a8c803fdae",
       "version_major": 2,
       "version_minor": 0
      },
      "text/plain": [
       "[epoch 092 | val  ]:   0%|          | 0/31 [00:00<?, ?it/s]"
      ]
     },
     "metadata": {},
     "output_type": "display_data"
    },
    {
     "name": "stdout",
     "output_type": "stream",
     "text": [
      "[epoch 092] train: loss=0.2011, acc=0.9996 | val: loss=0.6784, acc=0.8543 | time: 21.35s\n",
      "  [early-stop] No improvement (2/25) on acc; best=0.8555, current=0.8543\n"
     ]
    },
    {
     "data": {
      "application/vnd.jupyter.widget-view+json": {
       "model_id": "9759abde63ec4603957ff898312e27b7",
       "version_major": 2,
       "version_minor": 0
      },
      "text/plain": [
       "[epoch 093 | train]:   0%|          | 0/148 [00:00<?, ?it/s]"
      ]
     },
     "metadata": {},
     "output_type": "display_data"
    },
    {
     "data": {
      "application/vnd.jupyter.widget-view+json": {
       "model_id": "96da25bbebd24de9b17c845f90d19268",
       "version_major": 2,
       "version_minor": 0
      },
      "text/plain": [
       "[epoch 093 | val  ]:   0%|          | 0/31 [00:00<?, ?it/s]"
      ]
     },
     "metadata": {},
     "output_type": "display_data"
    },
    {
     "name": "stdout",
     "output_type": "stream",
     "text": [
      "[epoch 093] train: loss=0.2020, acc=0.9996 | val: loss=0.6787, acc=0.8543 | time: 21.45s\n",
      "  [early-stop] No improvement (3/25) on acc; best=0.8555, current=0.8543\n"
     ]
    },
    {
     "data": {
      "application/vnd.jupyter.widget-view+json": {
       "model_id": "382ddde4d9c2426196a7deb1ea395c1f",
       "version_major": 2,
       "version_minor": 0
      },
      "text/plain": [
       "[epoch 094 | train]:   0%|          | 0/148 [00:00<?, ?it/s]"
      ]
     },
     "metadata": {},
     "output_type": "display_data"
    },
    {
     "data": {
      "application/vnd.jupyter.widget-view+json": {
       "model_id": "b1ad46a0b0434ed4a3f6fa9d242efd3d",
       "version_major": 2,
       "version_minor": 0
      },
      "text/plain": [
       "[epoch 094 | val  ]:   0%|          | 0/31 [00:00<?, ?it/s]"
      ]
     },
     "metadata": {},
     "output_type": "display_data"
    },
    {
     "name": "stdout",
     "output_type": "stream",
     "text": [
      "[epoch 094] train: loss=0.2012, acc=0.9998 | val: loss=0.6766, acc=0.8548 | time: 21.33s\n",
      "  [early-stop] No improvement (4/25) on acc; best=0.8555, current=0.8548\n"
     ]
    },
    {
     "data": {
      "application/vnd.jupyter.widget-view+json": {
       "model_id": "1970c6177c8445e2ac4e0d5cf7bf1d1c",
       "version_major": 2,
       "version_minor": 0
      },
      "text/plain": [
       "[epoch 095 | train]:   0%|          | 0/148 [00:00<?, ?it/s]"
      ]
     },
     "metadata": {},
     "output_type": "display_data"
    },
    {
     "data": {
      "application/vnd.jupyter.widget-view+json": {
       "model_id": "435897e082a24452b7d7b10f21db38e6",
       "version_major": 2,
       "version_minor": 0
      },
      "text/plain": [
       "[epoch 095 | val  ]:   0%|          | 0/31 [00:00<?, ?it/s]"
      ]
     },
     "metadata": {},
     "output_type": "display_data"
    },
    {
     "name": "stdout",
     "output_type": "stream",
     "text": [
      "[epoch 095] train: loss=0.2014, acc=0.9996 | val: loss=0.6763, acc=0.8543 | time: 41.70s\n",
      "  [early-stop] No improvement (5/25) on acc; best=0.8555, current=0.8543\n"
     ]
    },
    {
     "data": {
      "application/vnd.jupyter.widget-view+json": {
       "model_id": "8bff0b460b2e41378788a351b48f96b0",
       "version_major": 2,
       "version_minor": 0
      },
      "text/plain": [
       "[epoch 096 | train]:   0%|          | 0/148 [00:00<?, ?it/s]"
      ]
     },
     "metadata": {},
     "output_type": "display_data"
    },
    {
     "data": {
      "application/vnd.jupyter.widget-view+json": {
       "model_id": "c9737a3695614a74891e41d1e4441423",
       "version_major": 2,
       "version_minor": 0
      },
      "text/plain": [
       "[epoch 096 | val  ]:   0%|          | 0/31 [00:00<?, ?it/s]"
      ]
     },
     "metadata": {},
     "output_type": "display_data"
    },
    {
     "name": "stdout",
     "output_type": "stream",
     "text": [
      "[epoch 096] train: loss=0.2014, acc=0.9996 | val: loss=0.6767, acc=0.8543 | time: 21.68s\n",
      "  [early-stop] No improvement (6/25) on acc; best=0.8555, current=0.8543\n"
     ]
    },
    {
     "data": {
      "application/vnd.jupyter.widget-view+json": {
       "model_id": "517f654dacfe4ad588326757aef6efcc",
       "version_major": 2,
       "version_minor": 0
      },
      "text/plain": [
       "[epoch 097 | train]:   0%|          | 0/148 [00:00<?, ?it/s]"
      ]
     },
     "metadata": {},
     "output_type": "display_data"
    },
    {
     "data": {
      "application/vnd.jupyter.widget-view+json": {
       "model_id": "73b75e1779e94a559764943a65c7ca71",
       "version_major": 2,
       "version_minor": 0
      },
      "text/plain": [
       "[epoch 097 | val  ]:   0%|          | 0/31 [00:00<?, ?it/s]"
      ]
     },
     "metadata": {},
     "output_type": "display_data"
    },
    {
     "name": "stdout",
     "output_type": "stream",
     "text": [
      "[epoch 097] train: loss=0.2012, acc=0.9996 | val: loss=0.6733, acc=0.8553 | time: 21.14s\n",
      "  [early-stop] No improvement (7/25) on acc; best=0.8555, current=0.8553\n"
     ]
    },
    {
     "data": {
      "application/vnd.jupyter.widget-view+json": {
       "model_id": "1010afc6bc4c46f6900c4c51a2103093",
       "version_major": 2,
       "version_minor": 0
      },
      "text/plain": [
       "[epoch 098 | train]:   0%|          | 0/148 [00:00<?, ?it/s]"
      ]
     },
     "metadata": {},
     "output_type": "display_data"
    },
    {
     "data": {
      "application/vnd.jupyter.widget-view+json": {
       "model_id": "7b2dbc1d890548f5ad95bbdd2b5e1ae0",
       "version_major": 2,
       "version_minor": 0
      },
      "text/plain": [
       "[epoch 098 | val  ]:   0%|          | 0/31 [00:00<?, ?it/s]"
      ]
     },
     "metadata": {},
     "output_type": "display_data"
    },
    {
     "name": "stdout",
     "output_type": "stream",
     "text": [
      "[epoch 098] train: loss=0.2012, acc=0.9995 | val: loss=0.6747, acc=0.8550 | time: 21.10s\n",
      "  [early-stop] No improvement (8/25) on acc; best=0.8555, current=0.8550\n"
     ]
    },
    {
     "data": {
      "application/vnd.jupyter.widget-view+json": {
       "model_id": "56574eb2e10b47489f80e2251b72be6d",
       "version_major": 2,
       "version_minor": 0
      },
      "text/plain": [
       "[epoch 099 | train]:   0%|          | 0/148 [00:00<?, ?it/s]"
      ]
     },
     "metadata": {},
     "output_type": "display_data"
    },
    {
     "data": {
      "application/vnd.jupyter.widget-view+json": {
       "model_id": "f8987c9604c541c08f2b22edf3eb959c",
       "version_major": 2,
       "version_minor": 0
      },
      "text/plain": [
       "[epoch 099 | val  ]:   0%|          | 0/31 [00:00<?, ?it/s]"
      ]
     },
     "metadata": {},
     "output_type": "display_data"
    },
    {
     "name": "stdout",
     "output_type": "stream",
     "text": [
      "[epoch 099] train: loss=0.2008, acc=1.0000 | val: loss=0.6769, acc=0.8566 | time: 41.58s\n",
      "  [checkpoint] New best (acc=0.8566) saved -> imagenette2_inceptionv1_best.pth\n"
     ]
    },
    {
     "data": {
      "application/vnd.jupyter.widget-view+json": {
       "model_id": "cd4bcdf0b3e2472985240591a5c2a5a0",
       "version_major": 2,
       "version_minor": 0
      },
      "text/plain": [
       "[epoch 100 | train]:   0%|          | 0/148 [00:00<?, ?it/s]"
      ]
     },
     "metadata": {},
     "output_type": "display_data"
    },
    {
     "data": {
      "application/vnd.jupyter.widget-view+json": {
       "model_id": "01e06fdc4fac43b0810b350e2d86ce39",
       "version_major": 2,
       "version_minor": 0
      },
      "text/plain": [
       "[epoch 100 | val  ]:   0%|          | 0/31 [00:00<?, ?it/s]"
      ]
     },
     "metadata": {},
     "output_type": "display_data"
    },
    {
     "name": "stdout",
     "output_type": "stream",
     "text": [
      "[epoch 100] train: loss=0.2015, acc=0.9993 | val: loss=0.6739, acc=0.8548 | time: 21.48s\n",
      "  [early-stop] No improvement (1/25) on acc; best=0.8566, current=0.8548\n"
     ]
    },
    {
     "data": {
      "application/vnd.jupyter.widget-view+json": {
       "model_id": "2004a6884f664904bd515d8c59e57664",
       "version_major": 2,
       "version_minor": 0
      },
      "text/plain": [
       "[test]:   0%|          | 0/31 [00:00<?, ?it/s]"
      ]
     },
     "metadata": {},
     "output_type": "display_data"
    },
    {
     "name": "stdout",
     "output_type": "stream",
     "text": [
      "[eval] Test accuracy: 0.8566\n"
     ]
    },
    {
     "data": {
      "image/png": "[encoded data removed]",
      "text/plain": [
       "<Figure size 700x600 with 2 Axes>"
      ]
     },
     "metadata": {},
     "output_type": "display_data"
    },
    {
     "name": "stdout",
     "output_type": "stream",
     "text": [
      "              precision    recall  f1-score   support\n",
      "\n",
      "   n01440764     0.9543    0.9173    0.9354       387\n",
      "   n02102040     0.9385    0.9266    0.9325       395\n",
      "   n02979186     0.7538    0.8403    0.7947       357\n",
      "   n03000684     0.7539    0.7539    0.7539       386\n",
      "   n03028079     0.8876    0.9071    0.8972       409\n",
      "   n03394916     0.8499    0.8477    0.8488       394\n",
      "   n03417042     0.8520    0.8586    0.8553       389\n",
      "   n03425413     0.7960    0.7542    0.7745       419\n",
      "   n03445777     0.8797    0.8797    0.8797       399\n",
      "   n03888257     0.9053    0.8821    0.8935       390\n",
      "\n",
      "    accuracy                         0.8566      3925\n",
      "   macro avg     0.8571    0.8567    0.8566      3925\n",
      "weighted avg     0.8578    0.8566    0.8569      3925\n",
      "\n"
     ]
    },
    {
     "data": {
      "image/png": "[encoded data removed]",
      "text/plain": [
       "<Figure size 640x480 with 2 Axes>"
      ]
     },
     "metadata": {},
     "output_type": "display_data"
    }
   ],
   "source": [
    "# ======================================================================\n",
    "# Run InceptionV1 on your ImageFolder dataset (Imagenette2)\n",
    "# ======================================================================\n",
    "\n",
    "model = InceptionV1(num_classes=10, p_drop=0.4)\n",
    "\n",
    "results = run_imagefolder_experiment(\n",
    "    data_dir=\"../data/imagenette2\",   # contains train/ and valid/\n",
    "    model=model,\n",
    "    img_size=224, resize_side=256, augment=True,\n",
    "    batch_train=64, batch_eval=128,\n",
    "    optimizer_name=\"adamw\", lr=3e-4, weight_decay=5e-4, label_smoothing=0.03,\n",
    "    epochs=100, patience=25,\n",
    "    monitor=\"acc\", min_delta=0.0,\n",
    "    lr_patience=10, lr_factor=0.1, lr_min=1e-6, lr_cooldown=1,\n",
    "    save_path=\"imagenette2_inceptionv1_best.pth\",\n",
    ")"
   ]
  },
  {
   "cell_type": "code",
   "execution_count": 11,
   "id": "efe690d9-376c-4bf8-a9cd-47e03e73b7f5",
   "metadata": {},
   "outputs": [
    {
     "name": "stdout",
     "output_type": "stream",
     "text": [
      "[device] Using CUDA GPU: NVIDIA GeForce RTX 3080 Ti\n",
      "\n",
      "[data] Inspecting: ../data/imagenette2\n",
      "[data] Found explicit splits.\n"
     ]
    },
    {
     "data": {
      "application/vnd.jupyter.widget-view+json": {
       "model_id": "be175b6989bb43369650ce6233a86e81",
       "version_major": 2,
       "version_minor": 0
      },
      "text/plain": [
       "[epoch 001 | train]:   0%|          | 0/148 [00:00<?, ?it/s]"
      ]
     },
     "metadata": {},
     "output_type": "display_data"
    },
    {
     "data": {
      "application/vnd.jupyter.widget-view+json": {
       "model_id": "994ec29fd45545fba50e39e02744f691",
       "version_major": 2,
       "version_minor": 0
      },
      "text/plain": [
       "[epoch 001 | val  ]:   0%|          | 0/62 [00:00<?, ?it/s]"
      ]
     },
     "metadata": {},
     "output_type": "display_data"
    },
    {
     "name": "stdout",
     "output_type": "stream",
     "text": [
      "[epoch 001] train: loss=1.7388, acc=0.4430 | val: loss=1.5417, acc=0.5585 | time: 21.75s\n",
      "  [checkpoint] New best (acc=0.5585) saved -> imagenette2_inceptionv2_best.pth\n"
     ]
    },
    {
     "data": {
      "application/vnd.jupyter.widget-view+json": {
       "model_id": "66357307528b4f7bbfcd303f1fb87bbe",
       "version_major": 2,
       "version_minor": 0
      },
      "text/plain": [
       "[epoch 002 | train]:   0%|          | 0/148 [00:00<?, ?it/s]"
      ]
     },
     "metadata": {},
     "output_type": "display_data"
    },
    {
     "data": {
      "application/vnd.jupyter.widget-view+json": {
       "model_id": "67134cca9a4e417d9509eea5c8793e48",
       "version_major": 2,
       "version_minor": 0
      },
      "text/plain": [
       "[epoch 002 | val  ]:   0%|          | 0/62 [00:00<?, ?it/s]"
      ]
     },
     "metadata": {},
     "output_type": "display_data"
    },
    {
     "name": "stdout",
     "output_type": "stream",
     "text": [
      "[epoch 002] train: loss=1.2727, acc=0.6192 | val: loss=1.8975, acc=0.5001 | time: 21.23s\n",
      "  [early-stop] No improvement (1/25) on acc; best=0.5585, current=0.5001\n"
     ]
    },
    {
     "data": {
      "application/vnd.jupyter.widget-view+json": {
       "model_id": "d5f1da05b9ca4f39845adae3d6696940",
       "version_major": 2,
       "version_minor": 0
      },
      "text/plain": [
       "[epoch 003 | train]:   0%|          | 0/148 [00:00<?, ?it/s]"
      ]
     },
     "metadata": {},
     "output_type": "display_data"
    },
    {
     "data": {
      "application/vnd.jupyter.widget-view+json": {
       "model_id": "5d96217d7b1b447797595235856e1cab",
       "version_major": 2,
       "version_minor": 0
      },
      "text/plain": [
       "[epoch 003 | val  ]:   0%|          | 0/62 [00:00<?, ?it/s]"
      ]
     },
     "metadata": {},
     "output_type": "display_data"
    },
    {
     "name": "stdout",
     "output_type": "stream",
     "text": [
      "[epoch 003] train: loss=1.1694, acc=0.6566 | val: loss=1.6099, acc=0.5373 | time: 41.09s\n",
      "  [early-stop] No improvement (2/25) on acc; best=0.5585, current=0.5373\n"
     ]
    },
    {
     "data": {
      "application/vnd.jupyter.widget-view+json": {
       "model_id": "572445df92634d6f9e1d01ffe38e3ba3",
       "version_major": 2,
       "version_minor": 0
      },
      "text/plain": [
       "[epoch 004 | train]:   0%|          | 0/148 [00:00<?, ?it/s]"
      ]
     },
     "metadata": {},
     "output_type": "display_data"
    },
    {
     "data": {
      "application/vnd.jupyter.widget-view+json": {
       "model_id": "fe61adb2ef8949f69c294fcb68313829",
       "version_major": 2,
       "version_minor": 0
      },
      "text/plain": [
       "[epoch 004 | val  ]:   0%|          | 0/62 [00:00<?, ?it/s]"
      ]
     },
     "metadata": {},
     "output_type": "display_data"
    },
    {
     "name": "stdout",
     "output_type": "stream",
     "text": [
      "[epoch 004] train: loss=1.0408, acc=0.7060 | val: loss=1.3469, acc=0.6206 | time: 21.23s\n",
      "  [checkpoint] New best (acc=0.6206) saved -> imagenette2_inceptionv2_best.pth\n"
     ]
    },
    {
     "data": {
      "application/vnd.jupyter.widget-view+json": {
       "model_id": "b59d2d9e908345d881c40b61ed79bb5a",
       "version_major": 2,
       "version_minor": 0
      },
      "text/plain": [
       "[epoch 005 | train]:   0%|          | 0/148 [00:00<?, ?it/s]"
      ]
     },
     "metadata": {},
     "output_type": "display_data"
    },
    {
     "data": {
      "application/vnd.jupyter.widget-view+json": {
       "model_id": "a06bfe06a9a54465b0f46e4f0557587f",
       "version_major": 2,
       "version_minor": 0
      },
      "text/plain": [
       "[epoch 005 | val  ]:   0%|          | 0/62 [00:00<?, ?it/s]"
      ]
     },
     "metadata": {},
     "output_type": "display_data"
    },
    {
     "name": "stdout",
     "output_type": "stream",
     "text": [
      "[epoch 005] train: loss=0.9271, acc=0.7370 | val: loss=0.9045, acc=0.7478 | time: 21.23s\n",
      "  [checkpoint] New best (acc=0.7478) saved -> imagenette2_inceptionv2_best.pth\n"
     ]
    },
    {
     "data": {
      "application/vnd.jupyter.widget-view+json": {
       "model_id": "d62867e062b844128fb2681a335431fb",
       "version_major": 2,
       "version_minor": 0
      },
      "text/plain": [
       "[epoch 006 | train]:   0%|          | 0/148 [00:00<?, ?it/s]"
      ]
     },
     "metadata": {},
     "output_type": "display_data"
    },
    {
     "data": {
      "application/vnd.jupyter.widget-view+json": {
       "model_id": "5509c149e2844f60b8a7ac845f663136",
       "version_major": 2,
       "version_minor": 0
      },
      "text/plain": [
       "[epoch 006 | val  ]:   0%|          | 0/62 [00:00<?, ?it/s]"
      ]
     },
     "metadata": {},
     "output_type": "display_data"
    },
    {
     "name": "stdout",
     "output_type": "stream",
     "text": [
      "[epoch 006] train: loss=0.8612, acc=0.7624 | val: loss=1.0122, acc=0.7215 | time: 21.33s\n",
      "  [early-stop] No improvement (1/25) on acc; best=0.7478, current=0.7215\n"
     ]
    },
    {
     "data": {
      "application/vnd.jupyter.widget-view+json": {
       "model_id": "9cc20f664e20417fbaaa8ddd7ec940bc",
       "version_major": 2,
       "version_minor": 0
      },
      "text/plain": [
       "[epoch 007 | train]:   0%|          | 0/148 [00:00<?, ?it/s]"
      ]
     },
     "metadata": {},
     "output_type": "display_data"
    },
    {
     "data": {
      "application/vnd.jupyter.widget-view+json": {
       "model_id": "4b16c4f551f342b5a1a469527b493504",
       "version_major": 2,
       "version_minor": 0
      },
      "text/plain": [
       "[epoch 007 | val  ]:   0%|          | 0/62 [00:00<?, ?it/s]"
      ]
     },
     "metadata": {},
     "output_type": "display_data"
    },
    {
     "name": "stdout",
     "output_type": "stream",
     "text": [
      "[epoch 007] train: loss=0.8110, acc=0.7803 | val: loss=0.8649, acc=0.7620 | time: 22.34s\n",
      "  [checkpoint] New best (acc=0.7620) saved -> imagenette2_inceptionv2_best.pth\n"
     ]
    },
    {
     "data": {
      "application/vnd.jupyter.widget-view+json": {
       "model_id": "17ba3571f5aa4a0faa5ae3806724b2ba",
       "version_major": 2,
       "version_minor": 0
      },
      "text/plain": [
       "[epoch 008 | train]:   0%|          | 0/148 [00:00<?, ?it/s]"
      ]
     },
     "metadata": {},
     "output_type": "display_data"
    },
    {
     "data": {
      "application/vnd.jupyter.widget-view+json": {
       "model_id": "b9f02d72ceb048fda9b3fca4458cb5eb",
       "version_major": 2,
       "version_minor": 0
      },
      "text/plain": [
       "[epoch 008 | val  ]:   0%|          | 0/62 [00:00<?, ?it/s]"
      ]
     },
     "metadata": {},
     "output_type": "display_data"
    },
    {
     "name": "stdout",
     "output_type": "stream",
     "text": [
      "[epoch 008] train: loss=0.7535, acc=0.7966 | val: loss=0.8725, acc=0.7615 | time: 21.20s\n",
      "  [early-stop] No improvement (1/25) on acc; best=0.7620, current=0.7615\n"
     ]
    },
    {
     "data": {
      "application/vnd.jupyter.widget-view+json": {
       "model_id": "9a3dab11c651496fbdb2f2e440142375",
       "version_major": 2,
       "version_minor": 0
      },
      "text/plain": [
       "[epoch 009 | train]:   0%|          | 0/148 [00:00<?, ?it/s]"
      ]
     },
     "metadata": {},
     "output_type": "display_data"
    },
    {
     "data": {
      "application/vnd.jupyter.widget-view+json": {
       "model_id": "5b9297ae1479488e9c08a70b67dbf11d",
       "version_major": 2,
       "version_minor": 0
      },
      "text/plain": [
       "[epoch 009 | val  ]:   0%|          | 0/62 [00:00<?, ?it/s]"
      ]
     },
     "metadata": {},
     "output_type": "display_data"
    },
    {
     "name": "stdout",
     "output_type": "stream",
     "text": [
      "[epoch 009] train: loss=0.7260, acc=0.8116 | val: loss=0.9051, acc=0.7575 | time: 21.38s\n",
      "  [early-stop] No improvement (2/25) on acc; best=0.7620, current=0.7575\n"
     ]
    },
    {
     "data": {
      "application/vnd.jupyter.widget-view+json": {
       "model_id": "fec59e91f37446e6a59cc30f624ea4d2",
       "version_major": 2,
       "version_minor": 0
      },
      "text/plain": [
       "[epoch 010 | train]:   0%|          | 0/148 [00:00<?, ?it/s]"
      ]
     },
     "metadata": {},
     "output_type": "display_data"
    },
    {
     "data": {
      "application/vnd.jupyter.widget-view+json": {
       "model_id": "dc3e16d6829a4ebe9f1b40d328761ddf",
       "version_major": 2,
       "version_minor": 0
      },
      "text/plain": [
       "[epoch 010 | val  ]:   0%|          | 0/62 [00:00<?, ?it/s]"
      ]
     },
     "metadata": {},
     "output_type": "display_data"
    },
    {
     "name": "stdout",
     "output_type": "stream",
     "text": [
      "[epoch 010] train: loss=0.6884, acc=0.8234 | val: loss=0.9736, acc=0.7320 | time: 21.21s\n",
      "  [early-stop] No improvement (3/25) on acc; best=0.7620, current=0.7320\n"
     ]
    },
    {
     "data": {
      "application/vnd.jupyter.widget-view+json": {
       "model_id": "e5e963aacd9b4c5487107639f93b62c8",
       "version_major": 2,
       "version_minor": 0
      },
      "text/plain": [
       "[epoch 011 | train]:   0%|          | 0/148 [00:00<?, ?it/s]"
      ]
     },
     "metadata": {},
     "output_type": "display_data"
    },
    {
     "data": {
      "application/vnd.jupyter.widget-view+json": {
       "model_id": "d26ee7ffc8fd412eaef6485756138ffe",
       "version_major": 2,
       "version_minor": 0
      },
      "text/plain": [
       "[epoch 011 | val  ]:   0%|          | 0/62 [00:00<?, ?it/s]"
      ]
     },
     "metadata": {},
     "output_type": "display_data"
    },
    {
     "name": "stdout",
     "output_type": "stream",
     "text": [
      "[epoch 011] train: loss=0.6470, acc=0.8411 | val: loss=0.8007, acc=0.7936 | time: 61.56s\n",
      "  [checkpoint] New best (acc=0.7936) saved -> imagenette2_inceptionv2_best.pth\n"
     ]
    },
    {
     "data": {
      "application/vnd.jupyter.widget-view+json": {
       "model_id": "3e14412d5f4d4cd593297e695a5dfbb3",
       "version_major": 2,
       "version_minor": 0
      },
      "text/plain": [
       "[epoch 012 | train]:   0%|          | 0/148 [00:00<?, ?it/s]"
      ]
     },
     "metadata": {},
     "output_type": "display_data"
    },
    {
     "data": {
      "application/vnd.jupyter.widget-view+json": {
       "model_id": "c9075006d48e4f20959923febe6338a9",
       "version_major": 2,
       "version_minor": 0
      },
      "text/plain": [
       "[epoch 012 | val  ]:   0%|          | 0/62 [00:00<?, ?it/s]"
      ]
     },
     "metadata": {},
     "output_type": "display_data"
    },
    {
     "name": "stdout",
     "output_type": "stream",
     "text": [
      "[epoch 012] train: loss=0.6147, acc=0.8504 | val: loss=0.8007, acc=0.7890 | time: 41.17s\n",
      "  [early-stop] No improvement (1/25) on acc; best=0.7936, current=0.7890\n"
     ]
    },
    {
     "data": {
      "application/vnd.jupyter.widget-view+json": {
       "model_id": "846784a2716149a082a8fd8bb164cd87",
       "version_major": 2,
       "version_minor": 0
      },
      "text/plain": [
       "[epoch 013 | train]:   0%|          | 0/148 [00:00<?, ?it/s]"
      ]
     },
     "metadata": {},
     "output_type": "display_data"
    },
    {
     "data": {
      "application/vnd.jupyter.widget-view+json": {
       "model_id": "c3a55c8fbba44063845d911492c9730f",
       "version_major": 2,
       "version_minor": 0
      },
      "text/plain": [
       "[epoch 013 | val  ]:   0%|          | 0/62 [00:00<?, ?it/s]"
      ]
     },
     "metadata": {},
     "output_type": "display_data"
    },
    {
     "name": "stdout",
     "output_type": "stream",
     "text": [
      "[epoch 013] train: loss=0.6003, acc=0.8554 | val: loss=0.8377, acc=0.7702 | time: 22.26s\n",
      "  [early-stop] No improvement (2/25) on acc; best=0.7936, current=0.7702\n"
     ]
    },
    {
     "data": {
      "application/vnd.jupyter.widget-view+json": {
       "model_id": "a30be9c08d3745a5ae484fb92f3c1c3c",
       "version_major": 2,
       "version_minor": 0
      },
      "text/plain": [
       "[epoch 014 | train]:   0%|          | 0/148 [00:00<?, ?it/s]"
      ]
     },
     "metadata": {},
     "output_type": "display_data"
    },
    {
     "data": {
      "application/vnd.jupyter.widget-view+json": {
       "model_id": "fabffd0d46fd417c88a17b48cad7335d",
       "version_major": 2,
       "version_minor": 0
      },
      "text/plain": [
       "[epoch 014 | val  ]:   0%|          | 0/62 [00:00<?, ?it/s]"
      ]
     },
     "metadata": {},
     "output_type": "display_data"
    },
    {
     "name": "stdout",
     "output_type": "stream",
     "text": [
      "[epoch 014] train: loss=0.5738, acc=0.8679 | val: loss=0.8084, acc=0.7906 | time: 21.80s\n",
      "  [early-stop] No improvement (3/25) on acc; best=0.7936, current=0.7906\n"
     ]
    },
    {
     "data": {
      "application/vnd.jupyter.widget-view+json": {
       "model_id": "ac86da3a821c4859ac3c5e418dfdbefc",
       "version_major": 2,
       "version_minor": 0
      },
      "text/plain": [
       "[epoch 015 | train]:   0%|          | 0/148 [00:00<?, ?it/s]"
      ]
     },
     "metadata": {},
     "output_type": "display_data"
    },
    {
     "data": {
      "application/vnd.jupyter.widget-view+json": {
       "model_id": "ad40cdccdad447e39fd259cbb34ba1dc",
       "version_major": 2,
       "version_minor": 0
      },
      "text/plain": [
       "[epoch 015 | val  ]:   0%|          | 0/62 [00:00<?, ?it/s]"
      ]
     },
     "metadata": {},
     "output_type": "display_data"
    },
    {
     "name": "stdout",
     "output_type": "stream",
     "text": [
      "[epoch 015] train: loss=0.5609, acc=0.8716 | val: loss=0.6976, acc=0.8211 | time: 41.28s\n",
      "  [checkpoint] New best (acc=0.8211) saved -> imagenette2_inceptionv2_best.pth\n"
     ]
    },
    {
     "data": {
      "application/vnd.jupyter.widget-view+json": {
       "model_id": "e2fd0d0c2ef14410b3566a6993a8bcab",
       "version_major": 2,
       "version_minor": 0
      },
      "text/plain": [
       "[epoch 016 | train]:   0%|          | 0/148 [00:00<?, ?it/s]"
      ]
     },
     "metadata": {},
     "output_type": "display_data"
    },
    {
     "data": {
      "application/vnd.jupyter.widget-view+json": {
       "model_id": "457017f8932e485fa2533f28f043ade0",
       "version_major": 2,
       "version_minor": 0
      },
      "text/plain": [
       "[epoch 016 | val  ]:   0%|          | 0/62 [00:00<?, ?it/s]"
      ]
     },
     "metadata": {},
     "output_type": "display_data"
    },
    {
     "name": "stdout",
     "output_type": "stream",
     "text": [
      "[epoch 016] train: loss=0.5371, acc=0.8779 | val: loss=0.7293, acc=0.8117 | time: 21.20s\n",
      "  [early-stop] No improvement (1/25) on acc; best=0.8211, current=0.8117\n"
     ]
    },
    {
     "data": {
      "application/vnd.jupyter.widget-view+json": {
       "model_id": "034a4e0cef144de287ef8490943e93c3",
       "version_major": 2,
       "version_minor": 0
      },
      "text/plain": [
       "[epoch 017 | train]:   0%|          | 0/148 [00:00<?, ?it/s]"
      ]
     },
     "metadata": {},
     "output_type": "display_data"
    },
    {
     "data": {
      "application/vnd.jupyter.widget-view+json": {
       "model_id": "81ad2701b6a949bead7a40df166d326e",
       "version_major": 2,
       "version_minor": 0
      },
      "text/plain": [
       "[epoch 017 | val  ]:   0%|          | 0/62 [00:00<?, ?it/s]"
      ]
     },
     "metadata": {},
     "output_type": "display_data"
    },
    {
     "name": "stdout",
     "output_type": "stream",
     "text": [
      "[epoch 017] train: loss=0.5212, acc=0.8848 | val: loss=0.9022, acc=0.7625 | time: 21.61s\n",
      "  [early-stop] No improvement (2/25) on acc; best=0.8211, current=0.7625\n"
     ]
    },
    {
     "data": {
      "application/vnd.jupyter.widget-view+json": {
       "model_id": "8d5bc4a125344894be6a205ecaaaf9c1",
       "version_major": 2,
       "version_minor": 0
      },
      "text/plain": [
       "[epoch 018 | train]:   0%|          | 0/148 [00:00<?, ?it/s]"
      ]
     },
     "metadata": {},
     "output_type": "display_data"
    },
    {
     "data": {
      "application/vnd.jupyter.widget-view+json": {
       "model_id": "adfe1a5c11e547e09edd8236c9575904",
       "version_major": 2,
       "version_minor": 0
      },
      "text/plain": [
       "[epoch 018 | val  ]:   0%|          | 0/62 [00:00<?, ?it/s]"
      ]
     },
     "metadata": {},
     "output_type": "display_data"
    },
    {
     "name": "stdout",
     "output_type": "stream",
     "text": [
      "[epoch 018] train: loss=0.5111, acc=0.8825 | val: loss=0.8228, acc=0.7883 | time: 61.52s\n",
      "  [early-stop] No improvement (3/25) on acc; best=0.8211, current=0.7883\n"
     ]
    },
    {
     "data": {
      "application/vnd.jupyter.widget-view+json": {
       "model_id": "f8f924febe8648f2914e672d72244b08",
       "version_major": 2,
       "version_minor": 0
      },
      "text/plain": [
       "[epoch 019 | train]:   0%|          | 0/148 [00:00<?, ?it/s]"
      ]
     },
     "metadata": {},
     "output_type": "display_data"
    },
    {
     "data": {
      "application/vnd.jupyter.widget-view+json": {
       "model_id": "5a210fd66975417da155b16ef3d323ad",
       "version_major": 2,
       "version_minor": 0
      },
      "text/plain": [
       "[epoch 019 | val  ]:   0%|          | 0/62 [00:00<?, ?it/s]"
      ]
     },
     "metadata": {},
     "output_type": "display_data"
    },
    {
     "name": "stdout",
     "output_type": "stream",
     "text": [
      "[epoch 019] train: loss=0.4682, acc=0.9038 | val: loss=0.8876, acc=0.7580 | time: 21.61s\n",
      "  [early-stop] No improvement (4/25) on acc; best=0.8211, current=0.7580\n"
     ]
    },
    {
     "data": {
      "application/vnd.jupyter.widget-view+json": {
       "model_id": "3b43ff092f4549e5adfb9669acf4304d",
       "version_major": 2,
       "version_minor": 0
      },
      "text/plain": [
       "[epoch 020 | train]:   0%|          | 0/148 [00:00<?, ?it/s]"
      ]
     },
     "metadata": {},
     "output_type": "display_data"
    },
    {
     "data": {
      "application/vnd.jupyter.widget-view+json": {
       "model_id": "9ab3b981aefe41b481edd04038aa4894",
       "version_major": 2,
       "version_minor": 0
      },
      "text/plain": [
       "[epoch 020 | val  ]:   0%|          | 0/62 [00:00<?, ?it/s]"
      ]
     },
     "metadata": {},
     "output_type": "display_data"
    },
    {
     "name": "stdout",
     "output_type": "stream",
     "text": [
      "[epoch 020] train: loss=0.4660, acc=0.9008 | val: loss=0.7155, acc=0.8186 | time: 61.35s\n",
      "  [early-stop] No improvement (5/25) on acc; best=0.8211, current=0.8186\n"
     ]
    },
    {
     "data": {
      "application/vnd.jupyter.widget-view+json": {
       "model_id": "cb02b249056049ada2edd3eac91ca97c",
       "version_major": 2,
       "version_minor": 0
      },
      "text/plain": [
       "[epoch 021 | train]:   0%|          | 0/148 [00:00<?, ?it/s]"
      ]
     },
     "metadata": {},
     "output_type": "display_data"
    },
    {
     "data": {
      "application/vnd.jupyter.widget-view+json": {
       "model_id": "8b338199101e496c9603b58243515861",
       "version_major": 2,
       "version_minor": 0
      },
      "text/plain": [
       "[epoch 021 | val  ]:   0%|          | 0/62 [00:00<?, ?it/s]"
      ]
     },
     "metadata": {},
     "output_type": "display_data"
    },
    {
     "name": "stdout",
     "output_type": "stream",
     "text": [
      "[epoch 021] train: loss=0.4564, acc=0.9093 | val: loss=0.7029, acc=0.8234 | time: 21.30s\n",
      "  [checkpoint] New best (acc=0.8234) saved -> imagenette2_inceptionv2_best.pth\n"
     ]
    },
    {
     "data": {
      "application/vnd.jupyter.widget-view+json": {
       "model_id": "a8723bffd0a4427ab14ac9e2c0e5eaca",
       "version_major": 2,
       "version_minor": 0
      },
      "text/plain": [
       "[epoch 022 | train]:   0%|          | 0/148 [00:00<?, ?it/s]"
      ]
     },
     "metadata": {},
     "output_type": "display_data"
    },
    {
     "data": {
      "application/vnd.jupyter.widget-view+json": {
       "model_id": "474bb0f993794acc85c66edb1ecb0785",
       "version_major": 2,
       "version_minor": 0
      },
      "text/plain": [
       "[epoch 022 | val  ]:   0%|          | 0/62 [00:00<?, ?it/s]"
      ]
     },
     "metadata": {},
     "output_type": "display_data"
    },
    {
     "name": "stdout",
     "output_type": "stream",
     "text": [
      "[epoch 022] train: loss=0.4369, acc=0.9166 | val: loss=0.6977, acc=0.8265 | time: 41.35s\n",
      "  [checkpoint] New best (acc=0.8265) saved -> imagenette2_inceptionv2_best.pth\n"
     ]
    },
    {
     "data": {
      "application/vnd.jupyter.widget-view+json": {
       "model_id": "b10dfcdb43194daba8c65b8c8198520a",
       "version_major": 2,
       "version_minor": 0
      },
      "text/plain": [
       "[epoch 023 | train]:   0%|          | 0/148 [00:00<?, ?it/s]"
      ]
     },
     "metadata": {},
     "output_type": "display_data"
    },
    {
     "data": {
      "application/vnd.jupyter.widget-view+json": {
       "model_id": "a21925a9e6824330895ab9b0980bcd76",
       "version_major": 2,
       "version_minor": 0
      },
      "text/plain": [
       "[epoch 023 | val  ]:   0%|          | 0/62 [00:00<?, ?it/s]"
      ]
     },
     "metadata": {},
     "output_type": "display_data"
    },
    {
     "name": "stdout",
     "output_type": "stream",
     "text": [
      "[epoch 023] train: loss=0.4186, acc=0.9201 | val: loss=0.8192, acc=0.7946 | time: 21.37s\n",
      "  [early-stop] No improvement (1/25) on acc; best=0.8265, current=0.7946\n"
     ]
    },
    {
     "data": {
      "application/vnd.jupyter.widget-view+json": {
       "model_id": "7fd09b3068e8494db4b1d17fa15de6c0",
       "version_major": 2,
       "version_minor": 0
      },
      "text/plain": [
       "[epoch 024 | train]:   0%|          | 0/148 [00:00<?, ?it/s]"
      ]
     },
     "metadata": {},
     "output_type": "display_data"
    },
    {
     "data": {
      "application/vnd.jupyter.widget-view+json": {
       "model_id": "be1c2f8367054614918f73dd468010d4",
       "version_major": 2,
       "version_minor": 0
      },
      "text/plain": [
       "[epoch 024 | val  ]:   0%|          | 0/62 [00:00<?, ?it/s]"
      ]
     },
     "metadata": {},
     "output_type": "display_data"
    },
    {
     "name": "stdout",
     "output_type": "stream",
     "text": [
      "[epoch 024] train: loss=0.4251, acc=0.9204 | val: loss=0.7399, acc=0.8191 | time: 21.21s\n",
      "  [early-stop] No improvement (2/25) on acc; best=0.8265, current=0.8191\n"
     ]
    },
    {
     "data": {
      "application/vnd.jupyter.widget-view+json": {
       "model_id": "4df341b0eb124b8db8e76f69f9eb21d2",
       "version_major": 2,
       "version_minor": 0
      },
      "text/plain": [
       "[epoch 025 | train]:   0%|          | 0/148 [00:00<?, ?it/s]"
      ]
     },
     "metadata": {},
     "output_type": "display_data"
    },
    {
     "data": {
      "application/vnd.jupyter.widget-view+json": {
       "model_id": "6298e8b127de4ded8f3857049d82bedf",
       "version_major": 2,
       "version_minor": 0
      },
      "text/plain": [
       "[epoch 025 | val  ]:   0%|          | 0/62 [00:00<?, ?it/s]"
      ]
     },
     "metadata": {},
     "output_type": "display_data"
    },
    {
     "name": "stdout",
     "output_type": "stream",
     "text": [
      "[epoch 025] train: loss=0.4070, acc=0.9236 | val: loss=0.6654, acc=0.8448 | time: 21.41s\n",
      "  [checkpoint] New best (acc=0.8448) saved -> imagenette2_inceptionv2_best.pth\n"
     ]
    },
    {
     "data": {
      "application/vnd.jupyter.widget-view+json": {
       "model_id": "be6ae63cb7cd4496abdc9827c6133400",
       "version_major": 2,
       "version_minor": 0
      },
      "text/plain": [
       "[epoch 026 | train]:   0%|          | 0/148 [00:00<?, ?it/s]"
      ]
     },
     "metadata": {},
     "output_type": "display_data"
    },
    {
     "data": {
      "application/vnd.jupyter.widget-view+json": {
       "model_id": "5c91f470e0354c41880faddf806139a8",
       "version_major": 2,
       "version_minor": 0
      },
      "text/plain": [
       "[epoch 026 | val  ]:   0%|          | 0/62 [00:00<?, ?it/s]"
      ]
     },
     "metadata": {},
     "output_type": "display_data"
    },
    {
     "name": "stderr",
     "output_type": "stream",
     "text": [
      "IOStream.flush timed out\n",
      "IOStream.flush timed out\n",
      "IOStream.flush timed out\n",
      "IOStream.flush timed out\n"
     ]
    },
    {
     "name": "stdout",
     "output_type": "stream",
     "text": [
      "[epoch 026] train: loss=0.4062, acc=0.9261 | val: loss=0.7449, acc=0.8143 | time: 41.51s\n",
      "  [early-stop] No improvement (1/25) on acc; best=0.8448, current=0.8143\n"
     ]
    },
    {
     "data": {
      "application/vnd.jupyter.widget-view+json": {
       "model_id": "5648362989ff4959b7666283da6fc3d3",
       "version_major": 2,
       "version_minor": 0
      },
      "text/plain": [
       "[epoch 027 | train]:   0%|          | 0/148 [00:00<?, ?it/s]"
      ]
     },
     "metadata": {},
     "output_type": "display_data"
    },
    {
     "data": {
      "application/vnd.jupyter.widget-view+json": {
       "model_id": "aa87392de0b843bead7963dbc55c7bca",
       "version_major": 2,
       "version_minor": 0
      },
      "text/plain": [
       "[epoch 027 | val  ]:   0%|          | 0/62 [00:00<?, ?it/s]"
      ]
     },
     "metadata": {},
     "output_type": "display_data"
    },
    {
     "name": "stdout",
     "output_type": "stream",
     "text": [
      "[epoch 027] train: loss=0.3841, acc=0.9353 | val: loss=0.7227, acc=0.8189 | time: 21.44s\n",
      "  [early-stop] No improvement (2/25) on acc; best=0.8448, current=0.8189\n"
     ]
    },
    {
     "data": {
      "application/vnd.jupyter.widget-view+json": {
       "model_id": "838c49dc8cfa463694fe6c5bd9a70f9c",
       "version_major": 2,
       "version_minor": 0
      },
      "text/plain": [
       "[epoch 028 | train]:   0%|          | 0/148 [00:00<?, ?it/s]"
      ]
     },
     "metadata": {},
     "output_type": "display_data"
    },
    {
     "data": {
      "application/vnd.jupyter.widget-view+json": {
       "model_id": "f0189f9e8db84ad2afbd82f75bbbadd4",
       "version_major": 2,
       "version_minor": 0
      },
      "text/plain": [
       "[epoch 028 | val  ]:   0%|          | 0/62 [00:00<?, ?it/s]"
      ]
     },
     "metadata": {},
     "output_type": "display_data"
    },
    {
     "name": "stdout",
     "output_type": "stream",
     "text": [
      "[epoch 028] train: loss=0.3678, acc=0.9404 | val: loss=0.6775, acc=0.8380 | time: 21.64s\n",
      "  [early-stop] No improvement (3/25) on acc; best=0.8448, current=0.8380\n"
     ]
    },
    {
     "data": {
      "application/vnd.jupyter.widget-view+json": {
       "model_id": "ed99537f12474561a87ea2f5f2afd6cf",
       "version_major": 2,
       "version_minor": 0
      },
      "text/plain": [
       "[epoch 029 | train]:   0%|          | 0/148 [00:40<?, ?it/s]"
      ]
     },
     "metadata": {},
     "output_type": "display_data"
    },
    {
     "data": {
      "application/vnd.jupyter.widget-view+json": {
       "model_id": "fce9e22799254bc096e475a96f07c09b",
       "version_major": 2,
       "version_minor": 0
      },
      "text/plain": [
       "[epoch 029 | val  ]:   0%|          | 0/62 [00:00<?, ?it/s]"
      ]
     },
     "metadata": {},
     "output_type": "display_data"
    },
    {
     "name": "stdout",
     "output_type": "stream",
     "text": [
      "[epoch 029] train: loss=0.3634, acc=0.9409 | val: loss=0.6643, acc=0.8410 | time: 61.52s\n",
      "  [early-stop] No improvement (4/25) on acc; best=0.8448, current=0.8410\n"
     ]
    },
    {
     "data": {
      "application/vnd.jupyter.widget-view+json": {
       "model_id": "2ed4b0b30e3b4a3687598ff588ecbc80",
       "version_major": 2,
       "version_minor": 0
      },
      "text/plain": [
       "[epoch 030 | train]:   0%|          | 0/148 [00:00<?, ?it/s]"
      ]
     },
     "metadata": {},
     "output_type": "display_data"
    },
    {
     "data": {
      "application/vnd.jupyter.widget-view+json": {
       "model_id": "24d9c8492dc543538adf7e2e64953479",
       "version_major": 2,
       "version_minor": 0
      },
      "text/plain": [
       "[epoch 030 | val  ]:   0%|          | 0/62 [00:00<?, ?it/s]"
      ]
     },
     "metadata": {},
     "output_type": "display_data"
    },
    {
     "name": "stdout",
     "output_type": "stream",
     "text": [
      "[epoch 030] train: loss=0.3625, acc=0.9421 | val: loss=0.7239, acc=0.8262 | time: 21.80s\n",
      "  [early-stop] No improvement (5/25) on acc; best=0.8448, current=0.8262\n"
     ]
    },
    {
     "data": {
      "application/vnd.jupyter.widget-view+json": {
       "model_id": "caee23c6a305430dac7bc5513b5b12e9",
       "version_major": 2,
       "version_minor": 0
      },
      "text/plain": [
       "[epoch 031 | train]:   0%|          | 0/148 [00:00<?, ?it/s]"
      ]
     },
     "metadata": {},
     "output_type": "display_data"
    },
    {
     "data": {
      "application/vnd.jupyter.widget-view+json": {
       "model_id": "1fd43410aee647de841e0ffbaad89f6b",
       "version_major": 2,
       "version_minor": 0
      },
      "text/plain": [
       "[epoch 031 | val  ]:   0%|          | 0/62 [00:00<?, ?it/s]"
      ]
     },
     "metadata": {},
     "output_type": "display_data"
    },
    {
     "name": "stdout",
     "output_type": "stream",
     "text": [
      "[epoch 031] train: loss=0.3411, acc=0.9522 | val: loss=0.7359, acc=0.8265 | time: 61.86s\n",
      "  [early-stop] No improvement (6/25) on acc; best=0.8448, current=0.8265\n"
     ]
    },
    {
     "data": {
      "application/vnd.jupyter.widget-view+json": {
       "model_id": "192b6df4de38470fbf2212144f442834",
       "version_major": 2,
       "version_minor": 0
      },
      "text/plain": [
       "[epoch 032 | train]:   0%|          | 0/148 [00:00<?, ?it/s]"
      ]
     },
     "metadata": {},
     "output_type": "display_data"
    },
    {
     "data": {
      "application/vnd.jupyter.widget-view+json": {
       "model_id": "ffd235d084f54a04964d5ec068fcdbcd",
       "version_major": 2,
       "version_minor": 0
      },
      "text/plain": [
       "[epoch 032 | val  ]:   0%|          | 0/62 [00:00<?, ?it/s]"
      ]
     },
     "metadata": {},
     "output_type": "display_data"
    },
    {
     "name": "stdout",
     "output_type": "stream",
     "text": [
      "[epoch 032] train: loss=0.3542, acc=0.9467 | val: loss=0.6870, acc=0.8362 | time: 21.74s\n",
      "  [early-stop] No improvement (7/25) on acc; best=0.8448, current=0.8362\n"
     ]
    },
    {
     "data": {
      "application/vnd.jupyter.widget-view+json": {
       "model_id": "fa89847886ca4841b3e33bfa0baebe63",
       "version_major": 2,
       "version_minor": 0
      },
      "text/plain": [
       "[epoch 033 | train]:   0%|          | 0/148 [00:00<?, ?it/s]"
      ]
     },
     "metadata": {},
     "output_type": "display_data"
    },
    {
     "data": {
      "application/vnd.jupyter.widget-view+json": {
       "model_id": "fdeaf055f074492383bbe0c697f5cfa3",
       "version_major": 2,
       "version_minor": 0
      },
      "text/plain": [
       "[epoch 033 | val  ]:   0%|          | 0/62 [00:00<?, ?it/s]"
      ]
     },
     "metadata": {},
     "output_type": "display_data"
    },
    {
     "name": "stdout",
     "output_type": "stream",
     "text": [
      "[epoch 033] train: loss=0.3393, acc=0.9490 | val: loss=0.6744, acc=0.8403 | time: 41.89s\n",
      "  [early-stop] No improvement (8/25) on acc; best=0.8448, current=0.8403\n"
     ]
    },
    {
     "data": {
      "application/vnd.jupyter.widget-view+json": {
       "model_id": "5efb2891e1ec410cbd78edfca55ca4ff",
       "version_major": 2,
       "version_minor": 0
      },
      "text/plain": [
       "[epoch 034 | train]:   0%|          | 0/148 [00:00<?, ?it/s]"
      ]
     },
     "metadata": {},
     "output_type": "display_data"
    },
    {
     "data": {
      "application/vnd.jupyter.widget-view+json": {
       "model_id": "469f3fdaf6cc48f3a13b9839e941b233",
       "version_major": 2,
       "version_minor": 0
      },
      "text/plain": [
       "[epoch 034 | val  ]:   0%|          | 0/62 [00:00<?, ?it/s]"
      ]
     },
     "metadata": {},
     "output_type": "display_data"
    },
    {
     "name": "stdout",
     "output_type": "stream",
     "text": [
      "[epoch 034] train: loss=0.3310, acc=0.9524 | val: loss=0.7052, acc=0.8369 | time: 21.51s\n",
      "  [early-stop] No improvement (9/25) on acc; best=0.8448, current=0.8369\n"
     ]
    },
    {
     "data": {
      "application/vnd.jupyter.widget-view+json": {
       "model_id": "8359b20a4bd7439e9c52fa37532eac0a",
       "version_major": 2,
       "version_minor": 0
      },
      "text/plain": [
       "[epoch 035 | train]:   0%|          | 0/148 [00:00<?, ?it/s]"
      ]
     },
     "metadata": {},
     "output_type": "display_data"
    },
    {
     "data": {
      "application/vnd.jupyter.widget-view+json": {
       "model_id": "3b5a6b16beb24418b1a2545612a4859f",
       "version_major": 2,
       "version_minor": 0
      },
      "text/plain": [
       "[epoch 035 | val  ]:   0%|          | 0/62 [00:00<?, ?it/s]"
      ]
     },
     "metadata": {},
     "output_type": "display_data"
    },
    {
     "name": "stdout",
     "output_type": "stream",
     "text": [
      "[epoch 035] train: loss=0.3317, acc=0.9516 | val: loss=0.7505, acc=0.8252 | time: 21.82s\n",
      "  [early-stop] No improvement (10/25) on acc; best=0.8448, current=0.8252\n"
     ]
    },
    {
     "data": {
      "application/vnd.jupyter.widget-view+json": {
       "model_id": "a089b57e5a3c495fbae2c755f3b2fd8b",
       "version_major": 2,
       "version_minor": 0
      },
      "text/plain": [
       "[epoch 036 | train]:   0%|          | 0/148 [00:00<?, ?it/s]"
      ]
     },
     "metadata": {},
     "output_type": "display_data"
    },
    {
     "data": {
      "application/vnd.jupyter.widget-view+json": {
       "model_id": "07979b605f8d40d6b5f34353ea230974",
       "version_major": 2,
       "version_minor": 0
      },
      "text/plain": [
       "[epoch 036 | val  ]:   0%|          | 0/62 [00:00<?, ?it/s]"
      ]
     },
     "metadata": {},
     "output_type": "display_data"
    },
    {
     "name": "stdout",
     "output_type": "stream",
     "text": [
      "[epoch 036] train: loss=0.3274, acc=0.9546 | val: loss=0.6789, acc=0.8349 | time: 21.44s\n",
      "Epoch 00036: reducing learning rate of group 0 to 3.0000e-05.\n",
      "  [early-stop] No improvement (11/25) on acc; best=0.8448, current=0.8349\n"
     ]
    },
    {
     "data": {
      "application/vnd.jupyter.widget-view+json": {
       "model_id": "43c7d30f338940a2997f7814c43edd9a",
       "version_major": 2,
       "version_minor": 0
      },
      "text/plain": [
       "[epoch 037 | train]:   0%|          | 0/148 [00:00<?, ?it/s]"
      ]
     },
     "metadata": {},
     "output_type": "display_data"
    },
    {
     "data": {
      "application/vnd.jupyter.widget-view+json": {
       "model_id": "5d0588db1bb04c9998f98981ea07bacf",
       "version_major": 2,
       "version_minor": 0
      },
      "text/plain": [
       "[epoch 037 | val  ]:   0%|          | 0/62 [00:00<?, ?it/s]"
      ]
     },
     "metadata": {},
     "output_type": "display_data"
    },
    {
     "name": "stdout",
     "output_type": "stream",
     "text": [
      "[epoch 037] train: loss=0.2620, acc=0.9799 | val: loss=0.5346, acc=0.8808 | time: 61.24s\n",
      "  [checkpoint] New best (acc=0.8808) saved -> imagenette2_inceptionv2_best.pth\n"
     ]
    },
    {
     "data": {
      "application/vnd.jupyter.widget-view+json": {
       "model_id": "288851705f36438180c3da6827c4226d",
       "version_major": 2,
       "version_minor": 0
      },
      "text/plain": [
       "[epoch 038 | train]:   0%|          | 0/148 [00:00<?, ?it/s]"
      ]
     },
     "metadata": {},
     "output_type": "display_data"
    },
    {
     "data": {
      "application/vnd.jupyter.widget-view+json": {
       "model_id": "1e8ad60734e04f3f953634709809fa4f",
       "version_major": 2,
       "version_minor": 0
      },
      "text/plain": [
       "[epoch 038 | val  ]:   0%|          | 0/62 [00:00<?, ?it/s]"
      ]
     },
     "metadata": {},
     "output_type": "display_data"
    },
    {
     "name": "stdout",
     "output_type": "stream",
     "text": [
      "[epoch 038] train: loss=0.2393, acc=0.9887 | val: loss=0.5263, acc=0.8797 | time: 21.01s\n",
      "  [early-stop] No improvement (1/25) on acc; best=0.8808, current=0.8797\n"
     ]
    },
    {
     "data": {
      "application/vnd.jupyter.widget-view+json": {
       "model_id": "4471078b593c45e79cf565c0852f24bf",
       "version_major": 2,
       "version_minor": 0
      },
      "text/plain": [
       "[epoch 039 | train]:   0%|          | 0/148 [00:00<?, ?it/s]"
      ]
     },
     "metadata": {},
     "output_type": "display_data"
    },
    {
     "data": {
      "application/vnd.jupyter.widget-view+json": {
       "model_id": "d2198e49296049bd9d61c066aaa00252",
       "version_major": 2,
       "version_minor": 0
      },
      "text/plain": [
       "[epoch 039 | val  ]:   0%|          | 0/62 [00:00<?, ?it/s]"
      ]
     },
     "metadata": {},
     "output_type": "display_data"
    },
    {
     "name": "stdout",
     "output_type": "stream",
     "text": [
      "[epoch 039] train: loss=0.2293, acc=0.9927 | val: loss=0.5271, acc=0.8815 | time: 21.19s\n",
      "  [checkpoint] New best (acc=0.8815) saved -> imagenette2_inceptionv2_best.pth\n"
     ]
    },
    {
     "data": {
      "application/vnd.jupyter.widget-view+json": {
       "model_id": "8d6b5c8be52f4e56a084b0e7a2845801",
       "version_major": 2,
       "version_minor": 0
      },
      "text/plain": [
       "[epoch 040 | train]:   0%|          | 0/148 [00:00<?, ?it/s]"
      ]
     },
     "metadata": {},
     "output_type": "display_data"
    },
    {
     "data": {
      "application/vnd.jupyter.widget-view+json": {
       "model_id": "469d317afe94410a9be9b6ff00973fa3",
       "version_major": 2,
       "version_minor": 0
      },
      "text/plain": [
       "[epoch 040 | val  ]:   0%|          | 0/62 [00:00<?, ?it/s]"
      ]
     },
     "metadata": {},
     "output_type": "display_data"
    },
    {
     "name": "stdout",
     "output_type": "stream",
     "text": [
      "[epoch 040] train: loss=0.2295, acc=0.9916 | val: loss=0.5306, acc=0.8787 | time: 21.31s\n",
      "  [early-stop] No improvement (1/25) on acc; best=0.8815, current=0.8787\n"
     ]
    },
    {
     "data": {
      "application/vnd.jupyter.widget-view+json": {
       "model_id": "6c682e06656141039d2680cba6bfda3f",
       "version_major": 2,
       "version_minor": 0
      },
      "text/plain": [
       "[epoch 041 | train]:   0%|          | 0/148 [00:00<?, ?it/s]"
      ]
     },
     "metadata": {},
     "output_type": "display_data"
    },
    {
     "data": {
      "application/vnd.jupyter.widget-view+json": {
       "model_id": "e8f37e6fe7a14d92a84ce914d32e37fb",
       "version_major": 2,
       "version_minor": 0
      },
      "text/plain": [
       "[epoch 041 | val  ]:   0%|          | 0/62 [00:00<?, ?it/s]"
      ]
     },
     "metadata": {},
     "output_type": "display_data"
    },
    {
     "name": "stdout",
     "output_type": "stream",
     "text": [
      "[epoch 041] train: loss=0.2222, acc=0.9943 | val: loss=0.5336, acc=0.8810 | time: 41.22s\n",
      "  [early-stop] No improvement (2/25) on acc; best=0.8815, current=0.8810\n"
     ]
    },
    {
     "data": {
      "application/vnd.jupyter.widget-view+json": {
       "model_id": "2b54c4f12b364af38fdb6fd75dfc0f9a",
       "version_major": 2,
       "version_minor": 0
      },
      "text/plain": [
       "[epoch 042 | train]:   0%|          | 0/148 [00:00<?, ?it/s]"
      ]
     },
     "metadata": {},
     "output_type": "display_data"
    },
    {
     "data": {
      "application/vnd.jupyter.widget-view+json": {
       "model_id": "fb2e4fdc0830433dae6c97729cd8b35f",
       "version_major": 2,
       "version_minor": 0
      },
      "text/plain": [
       "[epoch 042 | val  ]:   0%|          | 0/62 [00:00<?, ?it/s]"
      ]
     },
     "metadata": {},
     "output_type": "display_data"
    },
    {
     "name": "stdout",
     "output_type": "stream",
     "text": [
      "[epoch 042] train: loss=0.2199, acc=0.9946 | val: loss=0.5260, acc=0.8828 | time: 21.12s\n",
      "  [checkpoint] New best (acc=0.8828) saved -> imagenette2_inceptionv2_best.pth\n"
     ]
    },
    {
     "data": {
      "application/vnd.jupyter.widget-view+json": {
       "model_id": "1478c3a3212e4d649f2a5dc82451dbbe",
       "version_major": 2,
       "version_minor": 0
      },
      "text/plain": [
       "[epoch 043 | train]:   0%|          | 0/148 [00:00<?, ?it/s]"
      ]
     },
     "metadata": {},
     "output_type": "display_data"
    },
    {
     "data": {
      "application/vnd.jupyter.widget-view+json": {
       "model_id": "367e1dc0c1ce4c3d88f4e53cd6652298",
       "version_major": 2,
       "version_minor": 0
      },
      "text/plain": [
       "[epoch 043 | val  ]:   0%|          | 0/62 [00:00<?, ?it/s]"
      ]
     },
     "metadata": {},
     "output_type": "display_data"
    },
    {
     "name": "stdout",
     "output_type": "stream",
     "text": [
      "[epoch 043] train: loss=0.2180, acc=0.9954 | val: loss=0.5231, acc=0.8854 | time: 21.36s\n",
      "  [checkpoint] New best (acc=0.8854) saved -> imagenette2_inceptionv2_best.pth\n"
     ]
    },
    {
     "data": {
      "application/vnd.jupyter.widget-view+json": {
       "model_id": "5538c6136c014238b278eb513dcdc990",
       "version_major": 2,
       "version_minor": 0
      },
      "text/plain": [
       "[epoch 044 | train]:   0%|          | 0/148 [00:00<?, ?it/s]"
      ]
     },
     "metadata": {},
     "output_type": "display_data"
    },
    {
     "data": {
      "application/vnd.jupyter.widget-view+json": {
       "model_id": "66a2fd1642044a17a7c417fa2bf8c421",
       "version_major": 2,
       "version_minor": 0
      },
      "text/plain": [
       "[epoch 044 | val  ]:   0%|          | 0/62 [00:00<?, ?it/s]"
      ]
     },
     "metadata": {},
     "output_type": "display_data"
    },
    {
     "name": "stdout",
     "output_type": "stream",
     "text": [
      "[epoch 044] train: loss=0.2164, acc=0.9961 | val: loss=0.5199, acc=0.8869 | time: 21.49s\n",
      "  [checkpoint] New best (acc=0.8869) saved -> imagenette2_inceptionv2_best.pth\n"
     ]
    },
    {
     "data": {
      "application/vnd.jupyter.widget-view+json": {
       "model_id": "421035e6688e4d4298542a57483de401",
       "version_major": 2,
       "version_minor": 0
      },
      "text/plain": [
       "[epoch 045 | train]:   0%|          | 0/148 [00:00<?, ?it/s]"
      ]
     },
     "metadata": {},
     "output_type": "display_data"
    },
    {
     "data": {
      "application/vnd.jupyter.widget-view+json": {
       "model_id": "c9eba4e7650942f58c74122b4b285b00",
       "version_major": 2,
       "version_minor": 0
      },
      "text/plain": [
       "[epoch 045 | val  ]:   0%|          | 0/62 [00:00<?, ?it/s]"
      ]
     },
     "metadata": {},
     "output_type": "display_data"
    },
    {
     "name": "stdout",
     "output_type": "stream",
     "text": [
      "[epoch 045] train: loss=0.2143, acc=0.9966 | val: loss=0.5201, acc=0.8882 | time: 21.65s\n",
      "  [checkpoint] New best (acc=0.8882) saved -> imagenette2_inceptionv2_best.pth\n"
     ]
    },
    {
     "data": {
      "application/vnd.jupyter.widget-view+json": {
       "model_id": "7f62f5a2bab54c6cbf5cc6e3f58045cd",
       "version_major": 2,
       "version_minor": 0
      },
      "text/plain": [
       "[epoch 046 | train]:   0%|          | 0/148 [00:00<?, ?it/s]"
      ]
     },
     "metadata": {},
     "output_type": "display_data"
    },
    {
     "data": {
      "application/vnd.jupyter.widget-view+json": {
       "model_id": "08b8baf970b04c9abfaa625ae578d9ec",
       "version_major": 2,
       "version_minor": 0
      },
      "text/plain": [
       "[epoch 046 | val  ]:   0%|          | 0/62 [00:00<?, ?it/s]"
      ]
     },
     "metadata": {},
     "output_type": "display_data"
    },
    {
     "name": "stdout",
     "output_type": "stream",
     "text": [
      "[epoch 046] train: loss=0.2125, acc=0.9968 | val: loss=0.5234, acc=0.8887 | time: 41.82s\n",
      "  [checkpoint] New best (acc=0.8887) saved -> imagenette2_inceptionv2_best.pth\n"
     ]
    },
    {
     "data": {
      "application/vnd.jupyter.widget-view+json": {
       "model_id": "6506b13f4de54d139b26cfb197c4a06a",
       "version_major": 2,
       "version_minor": 0
      },
      "text/plain": [
       "[epoch 047 | train]:   0%|          | 0/148 [00:00<?, ?it/s]"
      ]
     },
     "metadata": {},
     "output_type": "display_data"
    },
    {
     "data": {
      "application/vnd.jupyter.widget-view+json": {
       "model_id": "3c2bac8144e44c828b7cd58e10a97a62",
       "version_major": 2,
       "version_minor": 0
      },
      "text/plain": [
       "[epoch 047 | val  ]:   0%|          | 0/62 [00:00<?, ?it/s]"
      ]
     },
     "metadata": {},
     "output_type": "display_data"
    },
    {
     "name": "stdout",
     "output_type": "stream",
     "text": [
      "[epoch 047] train: loss=0.2144, acc=0.9955 | val: loss=0.5225, acc=0.8882 | time: 21.87s\n",
      "  [early-stop] No improvement (1/25) on acc; best=0.8887, current=0.8882\n"
     ]
    },
    {
     "data": {
      "application/vnd.jupyter.widget-view+json": {
       "model_id": "752c16675b304cf58670b3244f424d3b",
       "version_major": 2,
       "version_minor": 0
      },
      "text/plain": [
       "[epoch 048 | train]:   0%|          | 0/148 [00:00<?, ?it/s]"
      ]
     },
     "metadata": {},
     "output_type": "display_data"
    },
    {
     "data": {
      "application/vnd.jupyter.widget-view+json": {
       "model_id": "3f8b4493ed5b4b8984bc6dc368e59988",
       "version_major": 2,
       "version_minor": 0
      },
      "text/plain": [
       "[epoch 048 | val  ]:   0%|          | 0/62 [00:00<?, ?it/s]"
      ]
     },
     "metadata": {},
     "output_type": "display_data"
    },
    {
     "name": "stdout",
     "output_type": "stream",
     "text": [
      "[epoch 048] train: loss=0.2117, acc=0.9963 | val: loss=0.5178, acc=0.8876 | time: 21.59s\n",
      "  [early-stop] No improvement (2/25) on acc; best=0.8887, current=0.8876\n"
     ]
    },
    {
     "data": {
      "application/vnd.jupyter.widget-view+json": {
       "model_id": "01b73561f8f2454b8939381973689936",
       "version_major": 2,
       "version_minor": 0
      },
      "text/plain": [
       "[epoch 049 | train]:   0%|          | 0/148 [00:00<?, ?it/s]"
      ]
     },
     "metadata": {},
     "output_type": "display_data"
    },
    {
     "data": {
      "application/vnd.jupyter.widget-view+json": {
       "model_id": "46ae811651894d1da87ef29646fb10c7",
       "version_major": 2,
       "version_minor": 0
      },
      "text/plain": [
       "[epoch 049 | val  ]:   0%|          | 0/62 [00:00<?, ?it/s]"
      ]
     },
     "metadata": {},
     "output_type": "display_data"
    },
    {
     "name": "stdout",
     "output_type": "stream",
     "text": [
      "[epoch 049] train: loss=0.2098, acc=0.9975 | val: loss=0.5246, acc=0.8884 | time: 21.38s\n",
      "  [early-stop] No improvement (3/25) on acc; best=0.8887, current=0.8884\n"
     ]
    },
    {
     "data": {
      "application/vnd.jupyter.widget-view+json": {
       "model_id": "ec500009146e43efa294e957835f33a1",
       "version_major": 2,
       "version_minor": 0
      },
      "text/plain": [
       "[epoch 050 | train]:   0%|          | 0/148 [00:20<?, ?it/s]"
      ]
     },
     "metadata": {},
     "output_type": "display_data"
    },
    {
     "data": {
      "application/vnd.jupyter.widget-view+json": {
       "model_id": "2c5516894f7d47d1b03ae69b2b749ec4",
       "version_major": 2,
       "version_minor": 0
      },
      "text/plain": [
       "[epoch 050 | val  ]:   0%|          | 0/62 [00:00<?, ?it/s]"
      ]
     },
     "metadata": {},
     "output_type": "display_data"
    },
    {
     "name": "stdout",
     "output_type": "stream",
     "text": [
      "[epoch 050] train: loss=0.2085, acc=0.9974 | val: loss=0.5262, acc=0.8876 | time: 41.81s\n",
      "  [early-stop] No improvement (4/25) on acc; best=0.8887, current=0.8876\n"
     ]
    },
    {
     "data": {
      "application/vnd.jupyter.widget-view+json": {
       "model_id": "1cb9aa529fe84ae3b8ebee59aa117ec2",
       "version_major": 2,
       "version_minor": 0
      },
      "text/plain": [
       "[epoch 051 | train]:   0%|          | 0/148 [00:00<?, ?it/s]"
      ]
     },
     "metadata": {},
     "output_type": "display_data"
    },
    {
     "data": {
      "application/vnd.jupyter.widget-view+json": {
       "model_id": "e4e0878daeb740fa95e9b59b0e26e62a",
       "version_major": 2,
       "version_minor": 0
      },
      "text/plain": [
       "[epoch 051 | val  ]:   0%|          | 0/62 [00:00<?, ?it/s]"
      ]
     },
     "metadata": {},
     "output_type": "display_data"
    },
    {
     "name": "stdout",
     "output_type": "stream",
     "text": [
      "[epoch 051] train: loss=0.2080, acc=0.9976 | val: loss=0.5189, acc=0.8871 | time: 21.63s\n",
      "  [early-stop] No improvement (5/25) on acc; best=0.8887, current=0.8871\n"
     ]
    },
    {
     "data": {
      "application/vnd.jupyter.widget-view+json": {
       "model_id": "48aadb82afff4c5d819e75de9375b69d",
       "version_major": 2,
       "version_minor": 0
      },
      "text/plain": [
       "[epoch 052 | train]:   0%|          | 0/148 [00:20<?, ?it/s]"
      ]
     },
     "metadata": {},
     "output_type": "display_data"
    },
    {
     "data": {
      "application/vnd.jupyter.widget-view+json": {
       "model_id": "4804d998f5cf4ffea7eb22cb50af07d8",
       "version_major": 2,
       "version_minor": 0
      },
      "text/plain": [
       "[epoch 052 | val  ]:   0%|          | 0/62 [00:00<?, ?it/s]"
      ]
     },
     "metadata": {},
     "output_type": "display_data"
    },
    {
     "name": "stdout",
     "output_type": "stream",
     "text": [
      "[epoch 052] train: loss=0.2078, acc=0.9975 | val: loss=0.5241, acc=0.8894 | time: 41.54s\n",
      "  [checkpoint] New best (acc=0.8894) saved -> imagenette2_inceptionv2_best.pth\n"
     ]
    },
    {
     "data": {
      "application/vnd.jupyter.widget-view+json": {
       "model_id": "a4a735f4bea64a23a84ca475dacff34e",
       "version_major": 2,
       "version_minor": 0
      },
      "text/plain": [
       "[epoch 053 | train]:   0%|          | 0/148 [00:00<?, ?it/s]"
      ]
     },
     "metadata": {},
     "output_type": "display_data"
    },
    {
     "data": {
      "application/vnd.jupyter.widget-view+json": {
       "model_id": "f68823e17657471e9ff49ae26c1d586a",
       "version_major": 2,
       "version_minor": 0
      },
      "text/plain": [
       "[epoch 053 | val  ]:   0%|          | 0/62 [00:00<?, ?it/s]"
      ]
     },
     "metadata": {},
     "output_type": "display_data"
    },
    {
     "name": "stdout",
     "output_type": "stream",
     "text": [
      "[epoch 053] train: loss=0.2065, acc=0.9985 | val: loss=0.5132, acc=0.8920 | time: 21.57s\n",
      "  [checkpoint] New best (acc=0.8920) saved -> imagenette2_inceptionv2_best.pth\n"
     ]
    },
    {
     "data": {
      "application/vnd.jupyter.widget-view+json": {
       "model_id": "4b9682495fd64833a52ec01b736872e5",
       "version_major": 2,
       "version_minor": 0
      },
      "text/plain": [
       "[epoch 054 | train]:   0%|          | 0/148 [00:00<?, ?it/s]"
      ]
     },
     "metadata": {},
     "output_type": "display_data"
    },
    {
     "data": {
      "application/vnd.jupyter.widget-view+json": {
       "model_id": "da1e069a48a64eee858603f1810c1fcc",
       "version_major": 2,
       "version_minor": 0
      },
      "text/plain": [
       "[epoch 054 | val  ]:   0%|          | 0/62 [00:00<?, ?it/s]"
      ]
     },
     "metadata": {},
     "output_type": "display_data"
    },
    {
     "name": "stdout",
     "output_type": "stream",
     "text": [
      "[epoch 054] train: loss=0.2054, acc=0.9984 | val: loss=0.5198, acc=0.8854 | time: 21.69s\n",
      "  [early-stop] No improvement (1/25) on acc; best=0.8920, current=0.8854\n"
     ]
    },
    {
     "data": {
      "application/vnd.jupyter.widget-view+json": {
       "model_id": "2277bf1083bf43f0b0bbd598e61e9df3",
       "version_major": 2,
       "version_minor": 0
      },
      "text/plain": [
       "[epoch 055 | train]:   0%|          | 0/148 [00:00<?, ?it/s]"
      ]
     },
     "metadata": {},
     "output_type": "display_data"
    },
    {
     "data": {
      "application/vnd.jupyter.widget-view+json": {
       "model_id": "9af622c57c094ae7bf4126d947833863",
       "version_major": 2,
       "version_minor": 0
      },
      "text/plain": [
       "[epoch 055 | val  ]:   0%|          | 0/62 [00:00<?, ?it/s]"
      ]
     },
     "metadata": {},
     "output_type": "display_data"
    },
    {
     "name": "stdout",
     "output_type": "stream",
     "text": [
      "[epoch 055] train: loss=0.2052, acc=0.9982 | val: loss=0.5248, acc=0.8897 | time: 21.46s\n",
      "  [early-stop] No improvement (2/25) on acc; best=0.8920, current=0.8897\n"
     ]
    },
    {
     "data": {
      "application/vnd.jupyter.widget-view+json": {
       "model_id": "7aca0f73eaf947fab21897c612e7c0fe",
       "version_major": 2,
       "version_minor": 0
      },
      "text/plain": [
       "[epoch 056 | train]:   0%|          | 0/148 [00:00<?, ?it/s]"
      ]
     },
     "metadata": {},
     "output_type": "display_data"
    },
    {
     "data": {
      "application/vnd.jupyter.widget-view+json": {
       "model_id": "1db1ff9c775344088440f387c51600c4",
       "version_major": 2,
       "version_minor": 0
      },
      "text/plain": [
       "[epoch 056 | val  ]:   0%|          | 0/62 [00:00<?, ?it/s]"
      ]
     },
     "metadata": {},
     "output_type": "display_data"
    },
    {
     "name": "stdout",
     "output_type": "stream",
     "text": [
      "[epoch 056] train: loss=0.2049, acc=0.9981 | val: loss=0.5255, acc=0.8874 | time: 61.74s\n",
      "  [early-stop] No improvement (3/25) on acc; best=0.8920, current=0.8874\n"
     ]
    },
    {
     "data": {
      "application/vnd.jupyter.widget-view+json": {
       "model_id": "ab9aa04afd0449359b68d7c6aea4bc3e",
       "version_major": 2,
       "version_minor": 0
      },
      "text/plain": [
       "[epoch 057 | train]:   0%|          | 0/148 [00:00<?, ?it/s]"
      ]
     },
     "metadata": {},
     "output_type": "display_data"
    },
    {
     "data": {
      "application/vnd.jupyter.widget-view+json": {
       "model_id": "6bc5ba3df47d4d4c870f9fdb3912a336",
       "version_major": 2,
       "version_minor": 0
      },
      "text/plain": [
       "[epoch 057 | val  ]:   0%|          | 0/62 [00:00<?, ?it/s]"
      ]
     },
     "metadata": {},
     "output_type": "display_data"
    },
    {
     "name": "stdout",
     "output_type": "stream",
     "text": [
      "[epoch 057] train: loss=0.2044, acc=0.9982 | val: loss=0.5337, acc=0.8864 | time: 21.58s\n",
      "  [early-stop] No improvement (4/25) on acc; best=0.8920, current=0.8864\n"
     ]
    },
    {
     "data": {
      "application/vnd.jupyter.widget-view+json": {
       "model_id": "9441b9f574b74a12a12f663de165259a",
       "version_major": 2,
       "version_minor": 0
      },
      "text/plain": [
       "[epoch 058 | train]:   0%|          | 0/148 [00:00<?, ?it/s]"
      ]
     },
     "metadata": {},
     "output_type": "display_data"
    },
    {
     "data": {
      "application/vnd.jupyter.widget-view+json": {
       "model_id": "a8d44fa162184da39a21a0c2bac8a9e6",
       "version_major": 2,
       "version_minor": 0
      },
      "text/plain": [
       "[epoch 058 | val  ]:   0%|          | 0/62 [00:00<?, ?it/s]"
      ]
     },
     "metadata": {},
     "output_type": "display_data"
    },
    {
     "name": "stdout",
     "output_type": "stream",
     "text": [
      "[epoch 058] train: loss=0.2054, acc=0.9979 | val: loss=0.5216, acc=0.8884 | time: 81.55s\n",
      "  [early-stop] No improvement (5/25) on acc; best=0.8920, current=0.8884\n"
     ]
    },
    {
     "data": {
      "application/vnd.jupyter.widget-view+json": {
       "model_id": "a40bbe9cef6b45458861107cb80b7ca2",
       "version_major": 2,
       "version_minor": 0
      },
      "text/plain": [
       "[epoch 059 | train]:   0%|          | 0/148 [00:00<?, ?it/s]"
      ]
     },
     "metadata": {},
     "output_type": "display_data"
    },
    {
     "data": {
      "application/vnd.jupyter.widget-view+json": {
       "model_id": "87d511071f5e4a83af0f05161996aa30",
       "version_major": 2,
       "version_minor": 0
      },
      "text/plain": [
       "[epoch 059 | val  ]:   0%|          | 0/62 [00:00<?, ?it/s]"
      ]
     },
     "metadata": {},
     "output_type": "display_data"
    },
    {
     "name": "stdout",
     "output_type": "stream",
     "text": [
      "[epoch 059] train: loss=0.2051, acc=0.9974 | val: loss=0.5242, acc=0.8904 | time: 21.92s\n",
      "  [early-stop] No improvement (6/25) on acc; best=0.8920, current=0.8904\n"
     ]
    },
    {
     "data": {
      "application/vnd.jupyter.widget-view+json": {
       "model_id": "4a46874ac9774f3ba9225175e0a395b8",
       "version_major": 2,
       "version_minor": 0
      },
      "text/plain": [
       "[epoch 060 | train]:   0%|          | 0/148 [00:00<?, ?it/s]"
      ]
     },
     "metadata": {},
     "output_type": "display_data"
    },
    {
     "data": {
      "application/vnd.jupyter.widget-view+json": {
       "model_id": "30450dbb591a4d4391015623b14202ed",
       "version_major": 2,
       "version_minor": 0
      },
      "text/plain": [
       "[epoch 060 | val  ]:   0%|          | 0/62 [00:00<?, ?it/s]"
      ]
     },
     "metadata": {},
     "output_type": "display_data"
    },
    {
     "name": "stdout",
     "output_type": "stream",
     "text": [
      "[epoch 060] train: loss=0.2026, acc=0.9980 | val: loss=0.5201, acc=0.8897 | time: 21.74s\n",
      "  [early-stop] No improvement (7/25) on acc; best=0.8920, current=0.8897\n"
     ]
    },
    {
     "data": {
      "application/vnd.jupyter.widget-view+json": {
       "model_id": "00966581c7654f31b4f489e133697e17",
       "version_major": 2,
       "version_minor": 0
      },
      "text/plain": [
       "[epoch 061 | train]:   0%|          | 0/148 [00:20<?, ?it/s]"
      ]
     },
     "metadata": {},
     "output_type": "display_data"
    },
    {
     "data": {
      "application/vnd.jupyter.widget-view+json": {
       "model_id": "276579ebe03c4fd29a819a3f2d2e9b31",
       "version_major": 2,
       "version_minor": 0
      },
      "text/plain": [
       "[epoch 061 | val  ]:   0%|          | 0/62 [00:00<?, ?it/s]"
      ]
     },
     "metadata": {},
     "output_type": "display_data"
    },
    {
     "name": "stdout",
     "output_type": "stream",
     "text": [
      "[epoch 061] train: loss=0.2021, acc=0.9982 | val: loss=0.5279, acc=0.8876 | time: 41.96s\n",
      "  [early-stop] No improvement (8/25) on acc; best=0.8920, current=0.8876\n"
     ]
    },
    {
     "data": {
      "application/vnd.jupyter.widget-view+json": {
       "model_id": "c65322b60db245da992c8f2590239cfe",
       "version_major": 2,
       "version_minor": 0
      },
      "text/plain": [
       "[epoch 062 | train]:   0%|          | 0/148 [00:00<?, ?it/s]"
      ]
     },
     "metadata": {},
     "output_type": "display_data"
    },
    {
     "data": {
      "application/vnd.jupyter.widget-view+json": {
       "model_id": "6209d4f34f0e42129b98310a1c5985e0",
       "version_major": 2,
       "version_minor": 0
      },
      "text/plain": [
       "[epoch 062 | val  ]:   0%|          | 0/62 [00:00<?, ?it/s]"
      ]
     },
     "metadata": {},
     "output_type": "display_data"
    },
    {
     "name": "stdout",
     "output_type": "stream",
     "text": [
      "[epoch 062] train: loss=0.2025, acc=0.9981 | val: loss=0.5276, acc=0.8894 | time: 21.41s\n",
      "  [early-stop] No improvement (9/25) on acc; best=0.8920, current=0.8894\n"
     ]
    },
    {
     "data": {
      "application/vnd.jupyter.widget-view+json": {
       "model_id": "df5dccf90097435ba51336e367d2a03c",
       "version_major": 2,
       "version_minor": 0
      },
      "text/plain": [
       "[epoch 063 | train]:   0%|          | 0/148 [00:00<?, ?it/s]"
      ]
     },
     "metadata": {},
     "output_type": "display_data"
    },
    {
     "data": {
      "application/vnd.jupyter.widget-view+json": {
       "model_id": "a04fd95f35fc47a09386d0117cb97124",
       "version_major": 2,
       "version_minor": 0
      },
      "text/plain": [
       "[epoch 063 | val  ]:   0%|          | 0/62 [00:00<?, ?it/s]"
      ]
     },
     "metadata": {},
     "output_type": "display_data"
    },
    {
     "name": "stdout",
     "output_type": "stream",
     "text": [
      "[epoch 063] train: loss=0.2019, acc=0.9986 | val: loss=0.5319, acc=0.8825 | time: 41.18s\n",
      "  [early-stop] No improvement (10/25) on acc; best=0.8920, current=0.8825\n"
     ]
    },
    {
     "data": {
      "application/vnd.jupyter.widget-view+json": {
       "model_id": "2bb83ee48e3541dab1800daf6cc1a2e4",
       "version_major": 2,
       "version_minor": 0
      },
      "text/plain": [
       "[epoch 064 | train]:   0%|          | 0/148 [00:00<?, ?it/s]"
      ]
     },
     "metadata": {},
     "output_type": "display_data"
    },
    {
     "data": {
      "application/vnd.jupyter.widget-view+json": {
       "model_id": "c7bc20d50d9046a384f079ccde15762b",
       "version_major": 2,
       "version_minor": 0
      },
      "text/plain": [
       "[epoch 064 | val  ]:   0%|          | 0/62 [00:00<?, ?it/s]"
      ]
     },
     "metadata": {},
     "output_type": "display_data"
    },
    {
     "name": "stdout",
     "output_type": "stream",
     "text": [
      "[epoch 064] train: loss=0.1994, acc=0.9992 | val: loss=0.5310, acc=0.8859 | time: 21.02s\n",
      "Epoch 00064: reducing learning rate of group 0 to 3.0000e-06.\n",
      "  [early-stop] No improvement (11/25) on acc; best=0.8920, current=0.8859\n"
     ]
    },
    {
     "data": {
      "application/vnd.jupyter.widget-view+json": {
       "model_id": "9a5bc2a1d643489e8a33d536bbb28453",
       "version_major": 2,
       "version_minor": 0
      },
      "text/plain": [
       "[epoch 065 | train]:   0%|          | 0/148 [00:00<?, ?it/s]"
      ]
     },
     "metadata": {},
     "output_type": "display_data"
    },
    {
     "data": {
      "application/vnd.jupyter.widget-view+json": {
       "model_id": "aab96068a10c44579896d35fa44442ba",
       "version_major": 2,
       "version_minor": 0
      },
      "text/plain": [
       "[epoch 065 | val  ]:   0%|          | 0/62 [00:00<?, ?it/s]"
      ]
     },
     "metadata": {},
     "output_type": "display_data"
    },
    {
     "name": "stdout",
     "output_type": "stream",
     "text": [
      "[epoch 065] train: loss=0.1987, acc=0.9989 | val: loss=0.5239, acc=0.8871 | time: 60.98s\n",
      "  [early-stop] No improvement (12/25) on acc; best=0.8920, current=0.8871\n"
     ]
    },
    {
     "data": {
      "application/vnd.jupyter.widget-view+json": {
       "model_id": "c1da57a51e8b4e7ea3cad7efc2cf8c93",
       "version_major": 2,
       "version_minor": 0
      },
      "text/plain": [
       "[epoch 066 | train]:   0%|          | 0/148 [00:00<?, ?it/s]"
      ]
     },
     "metadata": {},
     "output_type": "display_data"
    },
    {
     "data": {
      "application/vnd.jupyter.widget-view+json": {
       "model_id": "b151eb04ce6e4728977fc53a9f339dfb",
       "version_major": 2,
       "version_minor": 0
      },
      "text/plain": [
       "[epoch 066 | val  ]:   0%|          | 0/62 [00:00<?, ?it/s]"
      ]
     },
     "metadata": {},
     "output_type": "display_data"
    },
    {
     "name": "stdout",
     "output_type": "stream",
     "text": [
      "[epoch 066] train: loss=0.1987, acc=0.9989 | val: loss=0.5191, acc=0.8892 | time: 20.74s\n",
      "  [early-stop] No improvement (13/25) on acc; best=0.8920, current=0.8892\n"
     ]
    },
    {
     "data": {
      "application/vnd.jupyter.widget-view+json": {
       "model_id": "1a1f468ac7ac43db8b22556c099f64ec",
       "version_major": 2,
       "version_minor": 0
      },
      "text/plain": [
       "[epoch 067 | train]:   0%|          | 0/148 [00:00<?, ?it/s]"
      ]
     },
     "metadata": {},
     "output_type": "display_data"
    },
    {
     "data": {
      "application/vnd.jupyter.widget-view+json": {
       "model_id": "585c974626b14b45a7201c52794d1650",
       "version_major": 2,
       "version_minor": 0
      },
      "text/plain": [
       "[epoch 067 | val  ]:   0%|          | 0/62 [00:00<?, ?it/s]"
      ]
     },
     "metadata": {},
     "output_type": "display_data"
    },
    {
     "name": "stdout",
     "output_type": "stream",
     "text": [
      "[epoch 067] train: loss=0.1994, acc=0.9989 | val: loss=0.5188, acc=0.8892 | time: 20.96s\n",
      "  [early-stop] No improvement (14/25) on acc; best=0.8920, current=0.8892\n"
     ]
    },
    {
     "data": {
      "application/vnd.jupyter.widget-view+json": {
       "model_id": "45631dc952404e139f1aba4170ff9825",
       "version_major": 2,
       "version_minor": 0
      },
      "text/plain": [
       "[epoch 068 | train]:   0%|          | 0/148 [00:00<?, ?it/s]"
      ]
     },
     "metadata": {},
     "output_type": "display_data"
    },
    {
     "data": {
      "application/vnd.jupyter.widget-view+json": {
       "model_id": "565200c8e4e742329d47a757558259fc",
       "version_major": 2,
       "version_minor": 0
      },
      "text/plain": [
       "[epoch 068 | val  ]:   0%|          | 0/62 [00:00<?, ?it/s]"
      ]
     },
     "metadata": {},
     "output_type": "display_data"
    },
    {
     "name": "stdout",
     "output_type": "stream",
     "text": [
      "[epoch 068] train: loss=0.1988, acc=0.9992 | val: loss=0.5152, acc=0.8889 | time: 20.85s\n",
      "  [early-stop] No improvement (15/25) on acc; best=0.8920, current=0.8889\n"
     ]
    },
    {
     "data": {
      "application/vnd.jupyter.widget-view+json": {
       "model_id": "44b1313c3de14ee0a3bbb3149a31f115",
       "version_major": 2,
       "version_minor": 0
      },
      "text/plain": [
       "[epoch 069 | train]:   0%|          | 0/148 [00:00<?, ?it/s]"
      ]
     },
     "metadata": {},
     "output_type": "display_data"
    },
    {
     "data": {
      "application/vnd.jupyter.widget-view+json": {
       "model_id": "d9614a794ab345a6ab7f298f35531ff9",
       "version_major": 2,
       "version_minor": 0
      },
      "text/plain": [
       "[epoch 069 | val  ]:   0%|          | 0/62 [00:00<?, ?it/s]"
      ]
     },
     "metadata": {},
     "output_type": "display_data"
    },
    {
     "name": "stdout",
     "output_type": "stream",
     "text": [
      "[epoch 069] train: loss=0.1980, acc=0.9993 | val: loss=0.5183, acc=0.8876 | time: 81.79s\n",
      "  [early-stop] No improvement (16/25) on acc; best=0.8920, current=0.8876\n"
     ]
    },
    {
     "data": {
      "application/vnd.jupyter.widget-view+json": {
       "model_id": "a4d2c6a4b04549519c1545cececa4e68",
       "version_major": 2,
       "version_minor": 0
      },
      "text/plain": [
       "[epoch 070 | train]:   0%|          | 0/148 [00:00<?, ?it/s]"
      ]
     },
     "metadata": {},
     "output_type": "display_data"
    },
    {
     "data": {
      "application/vnd.jupyter.widget-view+json": {
       "model_id": "5e2ef40df5a4477cb66914b6fe32599b",
       "version_major": 2,
       "version_minor": 0
      },
      "text/plain": [
       "[epoch 070 | val  ]:   0%|          | 0/62 [00:00<?, ?it/s]"
      ]
     },
     "metadata": {},
     "output_type": "display_data"
    },
    {
     "name": "stdout",
     "output_type": "stream",
     "text": [
      "[epoch 070] train: loss=0.1983, acc=0.9992 | val: loss=0.5205, acc=0.8871 | time: 21.75s\n",
      "  [early-stop] No improvement (17/25) on acc; best=0.8920, current=0.8871\n"
     ]
    },
    {
     "data": {
      "application/vnd.jupyter.widget-view+json": {
       "model_id": "d9d3662c6c104546be662662c945e66c",
       "version_major": 2,
       "version_minor": 0
      },
      "text/plain": [
       "[epoch 071 | train]:   0%|          | 0/148 [00:00<?, ?it/s]"
      ]
     },
     "metadata": {},
     "output_type": "display_data"
    },
    {
     "data": {
      "application/vnd.jupyter.widget-view+json": {
       "model_id": "14530dbfbcaa49f686a1f579ce9c9d32",
       "version_major": 2,
       "version_minor": 0
      },
      "text/plain": [
       "[epoch 071 | val  ]:   0%|          | 0/62 [00:00<?, ?it/s]"
      ]
     },
     "metadata": {},
     "output_type": "display_data"
    },
    {
     "name": "stdout",
     "output_type": "stream",
     "text": [
      "[epoch 071] train: loss=0.1979, acc=0.9995 | val: loss=0.5188, acc=0.8887 | time: 21.50s\n",
      "  [early-stop] No improvement (18/25) on acc; best=0.8920, current=0.8887\n"
     ]
    },
    {
     "data": {
      "application/vnd.jupyter.widget-view+json": {
       "model_id": "b9f675aac5544ba8972776ac1a735485",
       "version_major": 2,
       "version_minor": 0
      },
      "text/plain": [
       "[epoch 072 | train]:   0%|          | 0/148 [00:00<?, ?it/s]"
      ]
     },
     "metadata": {},
     "output_type": "display_data"
    },
    {
     "data": {
      "application/vnd.jupyter.widget-view+json": {
       "model_id": "4c8804357a794c66ab68e47b5c724be8",
       "version_major": 2,
       "version_minor": 0
      },
      "text/plain": [
       "[epoch 072 | val  ]:   0%|          | 0/62 [00:00<?, ?it/s]"
      ]
     },
     "metadata": {},
     "output_type": "display_data"
    },
    {
     "name": "stdout",
     "output_type": "stream",
     "text": [
      "[epoch 072] train: loss=0.1977, acc=0.9994 | val: loss=0.5161, acc=0.8904 | time: 61.77s\n",
      "  [early-stop] No improvement (19/25) on acc; best=0.8920, current=0.8904\n"
     ]
    },
    {
     "data": {
      "application/vnd.jupyter.widget-view+json": {
       "model_id": "9d8f5a23be064565a52a643b170041bf",
       "version_major": 2,
       "version_minor": 0
      },
      "text/plain": [
       "[epoch 073 | train]:   0%|          | 0/148 [00:00<?, ?it/s]"
      ]
     },
     "metadata": {},
     "output_type": "display_data"
    },
    {
     "data": {
      "application/vnd.jupyter.widget-view+json": {
       "model_id": "d7e50701f4474843841563c16a6d1da0",
       "version_major": 2,
       "version_minor": 0
      },
      "text/plain": [
       "[epoch 073 | val  ]:   0%|          | 0/62 [00:00<?, ?it/s]"
      ]
     },
     "metadata": {},
     "output_type": "display_data"
    },
    {
     "name": "stdout",
     "output_type": "stream",
     "text": [
      "[epoch 073] train: loss=0.1978, acc=0.9992 | val: loss=0.5147, acc=0.8894 | time: 21.58s\n",
      "  [early-stop] No improvement (20/25) on acc; best=0.8920, current=0.8894\n"
     ]
    },
    {
     "data": {
      "application/vnd.jupyter.widget-view+json": {
       "model_id": "47f771443e874aa4bbd6e6c36c9d378d",
       "version_major": 2,
       "version_minor": 0
      },
      "text/plain": [
       "[epoch 074 | train]:   0%|          | 0/148 [00:00<?, ?it/s]"
      ]
     },
     "metadata": {},
     "output_type": "display_data"
    },
    {
     "data": {
      "application/vnd.jupyter.widget-view+json": {
       "model_id": "41058ed9fbd04e7cb05e698058c235d7",
       "version_major": 2,
       "version_minor": 0
      },
      "text/plain": [
       "[epoch 074 | val  ]:   0%|          | 0/62 [00:00<?, ?it/s]"
      ]
     },
     "metadata": {},
     "output_type": "display_data"
    },
    {
     "name": "stdout",
     "output_type": "stream",
     "text": [
      "[epoch 074] train: loss=0.1976, acc=0.9993 | val: loss=0.5142, acc=0.8899 | time: 41.46s\n",
      "  [early-stop] No improvement (21/25) on acc; best=0.8920, current=0.8899\n"
     ]
    },
    {
     "data": {
      "application/vnd.jupyter.widget-view+json": {
       "model_id": "2053e986472647969989426367640e00",
       "version_major": 2,
       "version_minor": 0
      },
      "text/plain": [
       "[epoch 075 | train]:   0%|          | 0/148 [00:00<?, ?it/s]"
      ]
     },
     "metadata": {},
     "output_type": "display_data"
    },
    {
     "data": {
      "application/vnd.jupyter.widget-view+json": {
       "model_id": "44ca34beb7344863b6dc9b4136f8ff75",
       "version_major": 2,
       "version_minor": 0
      },
      "text/plain": [
       "[epoch 075 | val  ]:   0%|          | 0/62 [00:00<?, ?it/s]"
      ]
     },
     "metadata": {},
     "output_type": "display_data"
    },
    {
     "name": "stdout",
     "output_type": "stream",
     "text": [
      "[epoch 075] train: loss=0.1971, acc=0.9993 | val: loss=0.5153, acc=0.8904 | time: 21.78s\n",
      "  [early-stop] No improvement (22/25) on acc; best=0.8920, current=0.8904\n"
     ]
    },
    {
     "data": {
      "application/vnd.jupyter.widget-view+json": {
       "model_id": "b37318ec8a0d4923a7dfa5f334d77244",
       "version_major": 2,
       "version_minor": 0
      },
      "text/plain": [
       "[epoch 076 | train]:   0%|          | 0/148 [00:00<?, ?it/s]"
      ]
     },
     "metadata": {},
     "output_type": "display_data"
    },
    {
     "data": {
      "application/vnd.jupyter.widget-view+json": {
       "model_id": "e2357907094e43e793fb6c48f729c201",
       "version_major": 2,
       "version_minor": 0
      },
      "text/plain": [
       "[epoch 076 | val  ]:   0%|          | 0/62 [00:00<?, ?it/s]"
      ]
     },
     "metadata": {},
     "output_type": "display_data"
    },
    {
     "name": "stdout",
     "output_type": "stream",
     "text": [
      "[epoch 076] train: loss=0.1972, acc=0.9994 | val: loss=0.5162, acc=0.8884 | time: 21.40s\n",
      "Epoch 00076: reducing learning rate of group 0 to 1.0000e-06.\n",
      "  [early-stop] No improvement (23/25) on acc; best=0.8920, current=0.8884\n"
     ]
    },
    {
     "data": {
      "application/vnd.jupyter.widget-view+json": {
       "model_id": "906fbed6d9be43068bf27f1ab226f995",
       "version_major": 2,
       "version_minor": 0
      },
      "text/plain": [
       "[epoch 077 | train]:   0%|          | 0/148 [00:00<?, ?it/s]"
      ]
     },
     "metadata": {},
     "output_type": "display_data"
    },
    {
     "data": {
      "application/vnd.jupyter.widget-view+json": {
       "model_id": "ecc4d4825e184521b5c4018d4e5da4f3",
       "version_major": 2,
       "version_minor": 0
      },
      "text/plain": [
       "[epoch 077 | val  ]:   0%|          | 0/62 [00:00<?, ?it/s]"
      ]
     },
     "metadata": {},
     "output_type": "display_data"
    },
    {
     "name": "stdout",
     "output_type": "stream",
     "text": [
      "[epoch 077] train: loss=0.1970, acc=0.9994 | val: loss=0.5098, acc=0.8907 | time: 21.32s\n",
      "  [early-stop] No improvement (24/25) on acc; best=0.8920, current=0.8907\n"
     ]
    },
    {
     "data": {
      "application/vnd.jupyter.widget-view+json": {
       "model_id": "cb593718a67d4c5fabc0a87a8c57aa5e",
       "version_major": 2,
       "version_minor": 0
      },
      "text/plain": [
       "[epoch 078 | train]:   0%|          | 0/148 [00:00<?, ?it/s]"
      ]
     },
     "metadata": {},
     "output_type": "display_data"
    },
    {
     "data": {
      "application/vnd.jupyter.widget-view+json": {
       "model_id": "05ab9d2c8c2a42f6ba90e6a3b4fd0165",
       "version_major": 2,
       "version_minor": 0
      },
      "text/plain": [
       "[epoch 078 | val  ]:   0%|          | 0/62 [00:00<?, ?it/s]"
      ]
     },
     "metadata": {},
     "output_type": "display_data"
    },
    {
     "name": "stdout",
     "output_type": "stream",
     "text": [
      "[epoch 078] train: loss=0.1960, acc=0.9999 | val: loss=0.5131, acc=0.8910 | time: 81.91s\n",
      "  [early-stop] No improvement (25/25) on acc; best=0.8920, current=0.8910\n",
      "  [early-stop] Patience exceeded — stopping.\n"
     ]
    },
    {
     "data": {
      "application/vnd.jupyter.widget-view+json": {
       "model_id": "d402522086034eb381abafc69c71dc08",
       "version_major": 2,
       "version_minor": 0
      },
      "text/plain": [
       "[test]:   0%|          | 0/62 [00:00<?, ?it/s]"
      ]
     },
     "metadata": {},
     "output_type": "display_data"
    },
    {
     "name": "stdout",
     "output_type": "stream",
     "text": [
      "[eval] Test accuracy: 0.8920\n"
     ]
    },
    {
     "data": {
      "image/png": "[encoded data removed]",
      "text/plain": [
       "<Figure size 700x600 with 2 Axes>"
      ]
     },
     "metadata": {},
     "output_type": "display_data"
    },
    {
     "name": "stdout",
     "output_type": "stream",
     "text": [
      "              precision    recall  f1-score   support\n",
      "\n",
      "   n01440764     0.9504    0.9406    0.9455       387\n",
      "   n02102040     0.9666    0.9519    0.9592       395\n",
      "   n02979186     0.8298    0.8739    0.8513       357\n",
      "   n03000684     0.8115    0.8031    0.8073       386\n",
      "   n03028079     0.9175    0.9242    0.9208       409\n",
      "   n03394916     0.8911    0.8934    0.8923       394\n",
      "   n03417042     0.9465    0.8638    0.9032       389\n",
      "   n03425413     0.8400    0.8520    0.8460       419\n",
      "   n03445777     0.8870    0.9248    0.9055       399\n",
      "   n03888257     0.8852    0.8897    0.8875       390\n",
      "\n",
      "    accuracy                         0.8920      3925\n",
      "   macro avg     0.8926    0.8917    0.8919      3925\n",
      "weighted avg     0.8929    0.8920    0.8922      3925\n",
      "\n"
     ]
    },
    {
     "data": {
      "image/png": "[encoded data removed]",
      "text/plain": [
       "<Figure size 640x480 with 2 Axes>"
      ]
     },
     "metadata": {},
     "output_type": "display_data"
    }
   ],
   "source": [
    "# ======================================================================\n",
    "# Run InceptionV2 on your ImageFolder dataset (Imagenette2)\n",
    "# ======================================================================\n",
    "\n",
    "model = InceptionV2(num_classes=10, p_drop=0.4)\n",
    "\n",
    "results_v2 = run_imagefolder_experiment(\n",
    "    data_dir=\"../data/imagenette2\",\n",
    "    model=model,\n",
    "    img_size=224, resize_side=256, augment=True,\n",
    "    batch_train=64, batch_eval=64,\n",
    "    optimizer_name=\"adamw\", lr=3e-4, weight_decay=5e-4, label_smoothing=0.03,\n",
    "    epochs=1000, patience=25,\n",
    "    monitor=\"acc\", min_delta=0.0,\n",
    "    lr_patience=10, lr_factor=0.1, lr_min=1e-6, lr_cooldown=1,\n",
    "    save_path=\"imagenette2_inceptionv2_best.pth\",\n",
    ")"
   ]
  },
  {
   "cell_type": "code",
   "execution_count": 4,
   "id": "fa7a2f52-47d9-4db0-87a1-d251101b7dbc",
   "metadata": {},
   "outputs": [],
   "source": [
    "# ======================================================================\n",
    "# Inception v3 — from scratch (PyTorch), for 299x299 RGB\n",
    "#  - Factorized convolutions:\n",
    "#      • 7x7 → (1x7) + (7x1)\n",
    "#      • 3x3 → (1x3) + (3x1)\n",
    "#  - BatchNorm after every conv\n",
    "#  - Optional auxiliary classifier at 17x17 stage (aux_logits=True)\n",
    "#  - He initialization for conv/linear, BN gamma=1, beta=0\n",
    "#  - AdaptiveAvgPool → Dropout → Fully Connected (final logits)\n",
    "#  - Returns (main_logits, aux_logits) during training if aux enabled; else just logits\n",
    "# ======================================================================\n",
    "\n",
    "import torch\n",
    "import torch.nn as nn\n",
    "\n",
    "# ------------------------ Conv-BN-ReLU ------------------------\n",
    "class ConvBNReLU(nn.Module):\n",
    "    def __init__(self, in_ch, out_ch, kernel_size, stride=1, padding=0):\n",
    "        super().__init__()\n",
    "        self.conv = nn.Conv2d(in_ch, out_ch, kernel_size, stride, padding, bias=False)\n",
    "        self.bn   = nn.BatchNorm2d(out_ch, eps=0.001)\n",
    "        self.relu = nn.ReLU(inplace=True)\n",
    "\n",
    "        nn.init.kaiming_normal_(self.conv.weight, nonlinearity='relu')\n",
    "        nn.init.ones_(self.bn.weight)\n",
    "        nn.init.zeros_(self.bn.bias)\n",
    "\n",
    "    def forward(self, x):\n",
    "        return self.relu(self.bn(self.conv(x)))\n",
    "\n",
    "\n",
    "# ------------------------ Inception-A (35x35) ------------------------\n",
    "class InceptionA(nn.Module):\n",
    "    def __init__(self, in_ch, pool_proj):\n",
    "        super().__init__()\n",
    "        # 1x1\n",
    "        self.branch1x1 = ConvBNReLU(in_ch, 64, kernel_size=1)\n",
    "\n",
    "        # 5x5 path: 1x1 → 5x5\n",
    "        self.branch5x5 = nn.Sequential(\n",
    "            ConvBNReLU(in_ch, 48, kernel_size=1),\n",
    "            ConvBNReLU(48, 64, kernel_size=5, padding=2)\n",
    "        )\n",
    "\n",
    "        # double 3x3: 1x1 → 3x3 → 3x3\n",
    "        self.branch3x3dbl = nn.Sequential(\n",
    "            ConvBNReLU(in_ch, 64, kernel_size=1),\n",
    "            ConvBNReLU(64, 96, kernel_size=3, padding=1),\n",
    "            ConvBNReLU(96, 96, kernel_size=3, padding=1)\n",
    "        )\n",
    "\n",
    "        # avg pool → 1x1 projection\n",
    "        self.branch_pool = nn.Sequential(\n",
    "            nn.AvgPool2d(kernel_size=3, stride=1, padding=1),\n",
    "            ConvBNReLU(in_ch, pool_proj, kernel_size=1)\n",
    "        )\n",
    "\n",
    "    def forward(self, x):\n",
    "        b1 = self.branch1x1(x)\n",
    "        b2 = self.branch5x5(x)\n",
    "        b3 = self.branch3x3dbl(x)\n",
    "        b4 = self.branch_pool(x)\n",
    "        return torch.cat([b1, b2, b3, b4], dim=1)\n",
    "\n",
    "\n",
    "# ------------------------ Inception-B (17x17) ------------------------\n",
    "class InceptionB(nn.Module):\n",
    "    def __init__(self, in_ch):\n",
    "        super().__init__()\n",
    "        # 1x1\n",
    "        self.branch1x1 = ConvBNReLU(in_ch, 192, kernel_size=1)\n",
    "\n",
    "        # 7x7 factorized: 1x1 → (1x7) → (7x1)\n",
    "        self.branch7x7 = nn.Sequential(\n",
    "            ConvBNReLU(in_ch, 128, kernel_size=1),\n",
    "            ConvBNReLU(128, 128, kernel_size=(1,7), padding=(0,3)),\n",
    "            ConvBNReLU(128, 192, kernel_size=(7,1), padding=(3,0))\n",
    "        )\n",
    "\n",
    "        # double 7x7 factorized\n",
    "        self.branch7x7dbl = nn.Sequential(\n",
    "            ConvBNReLU(in_ch, 128, kernel_size=1),\n",
    "            ConvBNReLU(128, 128, kernel_size=(7,1), padding=(3,0)),\n",
    "            ConvBNReLU(128, 128, kernel_size=(1,7), padding=(0,3)),\n",
    "            ConvBNReLU(128, 128, kernel_size=(7,1), padding=(3,0)),\n",
    "            ConvBNReLU(128, 192, kernel_size=(1,7), padding=(0,3))\n",
    "        )\n",
    "\n",
    "        # avg pool → 1x1\n",
    "        self.branch_pool = nn.Sequential(\n",
    "            nn.AvgPool2d(kernel_size=3, stride=1, padding=1),\n",
    "            ConvBNReLU(in_ch, 192, kernel_size=1)\n",
    "        )\n",
    "\n",
    "    def forward(self, x):\n",
    "        b1 = self.branch1x1(x)\n",
    "        b2 = self.branch7x7(x)\n",
    "        b3 = self.branch7x7dbl(x)\n",
    "        b4 = self.branch_pool(x)\n",
    "        return torch.cat([b1, b2, b3, b4], dim=1)\n",
    "\n",
    "\n",
    "# ------------------------ Inception-C (8x8) ------------------------\n",
    "class InceptionC(nn.Module):\n",
    "    def __init__(self, in_ch):\n",
    "        super().__init__()\n",
    "        # 1x1\n",
    "        self.branch1x1 = ConvBNReLU(in_ch, 320, kernel_size=1)\n",
    "\n",
    "        # 3x3 split into (1x3) and (3x1)\n",
    "        self.branch3x3 = ConvBNReLU(in_ch, 384, kernel_size=1)\n",
    "        self.branch3x3_1 = ConvBNReLU(384, 384, kernel_size=(1,3), padding=(0,1))\n",
    "        self.branch3x3_2 = ConvBNReLU(384, 384, kernel_size=(3,1), padding=(1,0))\n",
    "\n",
    "        # double 3x3 path then split\n",
    "        self.branch3x3dbl = nn.Sequential(\n",
    "            ConvBNReLU(in_ch, 448, kernel_size=1),\n",
    "            ConvBNReLU(448, 384, kernel_size=3, padding=1)\n",
    "        )\n",
    "        self.branch3x3dbl_1 = ConvBNReLU(384, 384, kernel_size=(1,3), padding=(0,1))\n",
    "        self.branch3x3dbl_2 = ConvBNReLU(384, 384, kernel_size=(3,1), padding=(1,0))\n",
    "\n",
    "        # avg pool → 1x1\n",
    "        self.branch_pool = nn.Sequential(\n",
    "            nn.AvgPool2d(kernel_size=3, stride=1, padding=1),\n",
    "            ConvBNReLU(in_ch, 192, kernel_size=1)\n",
    "        )\n",
    "\n",
    "    def forward(self, x):\n",
    "        b1 = self.branch1x1(x)\n",
    "\n",
    "        b2 = self.branch3x3(x)\n",
    "        b2 = torch.cat([self.branch3x3_1(b2), self.branch3x3_2(b2)], dim=1)\n",
    "\n",
    "        b3 = self.branch3x3dbl(x)\n",
    "        b3 = torch.cat([self.branch3x3dbl_1(b3), self.branch3x3dbl_2(b3)], dim=1)\n",
    "\n",
    "        b4 = self.branch_pool(x)\n",
    "        return torch.cat([b1, b2, b3, b4], dim=1)\n",
    "\n",
    "\n",
    "# ------------------------ Reduction-A (35→17) ------------------------\n",
    "class ReductionA(nn.Module):\n",
    "    # k,l,m,n are channel hyperparams used in the original paper/config\n",
    "    def __init__(self, in_ch, k, l, m, n):\n",
    "        super().__init__()\n",
    "        self.branch3x3 = ConvBNReLU(in_ch, n, kernel_size=3, stride=2)\n",
    "\n",
    "        self.branch3x3dbl = nn.Sequential(\n",
    "            ConvBNReLU(in_ch, k, kernel_size=1),\n",
    "            ConvBNReLU(k, l, kernel_size=3, padding=1),\n",
    "            ConvBNReLU(l, m, kernel_size=3, stride=2)\n",
    "        )\n",
    "\n",
    "        self.branch_pool = nn.MaxPool2d(kernel_size=3, stride=2)\n",
    "\n",
    "    def forward(self, x):\n",
    "        b1 = self.branch3x3(x)\n",
    "        b2 = self.branch3x3dbl(x)\n",
    "        b3 = self.branch_pool(x)\n",
    "        return torch.cat([b1, b2, b3], dim=1)\n",
    "\n",
    "\n",
    "# ------------------------ Reduction-B (17→8) ------------------------\n",
    "class ReductionB(nn.Module):\n",
    "    def __init__(self, in_ch):\n",
    "        super().__init__()\n",
    "        self.branch3x3 = nn.Sequential(\n",
    "            ConvBNReLU(in_ch, 192, kernel_size=1),\n",
    "            ConvBNReLU(192, 320, kernel_size=3, stride=2)\n",
    "        )\n",
    "        self.branch7x7x3 = nn.Sequential(\n",
    "            ConvBNReLU(in_ch, 192, kernel_size=1),\n",
    "            ConvBNReLU(192, 192, kernel_size=(1,7), padding=(0,3)),\n",
    "            ConvBNReLU(192, 192, kernel_size=(7,1), padding=(3,0)),\n",
    "            ConvBNReLU(192, 192, kernel_size=3, stride=2)\n",
    "        )\n",
    "        self.branch_pool = nn.MaxPool2d(kernel_size=3, stride=2)\n",
    "\n",
    "    def forward(self, x):\n",
    "        b1 = self.branch3x3(x)\n",
    "        b2 = self.branch7x7x3(x)\n",
    "        b3 = self.branch_pool(x)\n",
    "        return torch.cat([b1, b2, b3], dim=1)\n",
    "\n",
    "\n",
    "# ------------------------ Auxiliary Classifier (optional) ------------------------\n",
    "class InceptionAux(nn.Module):\n",
    "    # Input feature map is 17x17 with 768 channels\n",
    "    def __init__(self, in_ch, num_classes):\n",
    "        super().__init__()\n",
    "        self.features = nn.Sequential(\n",
    "            nn.AvgPool2d(kernel_size=5, stride=3),  # 17x17 -> 5x5\n",
    "            ConvBNReLU(in_ch, 128, kernel_size=1)\n",
    "        )\n",
    "        self.classifier = nn.Sequential(\n",
    "            nn.Flatten(),\n",
    "            nn.Linear(128 * 5 * 5, 768),\n",
    "            nn.ReLU(inplace=True),\n",
    "            nn.Dropout(0.5),\n",
    "            nn.Linear(768, num_classes)\n",
    "        )\n",
    "        for m in self.classifier:\n",
    "            if isinstance(m, nn.Linear):\n",
    "                nn.init.kaiming_normal_(m.weight, nonlinearity='relu')\n",
    "                nn.init.zeros_(m.bias)\n",
    "\n",
    "    def forward(self, x):\n",
    "        x = self.features(x)\n",
    "        return self.classifier(x)\n",
    "\n",
    "\n",
    "# ------------------------ Inception v3 (full) ------------------------\n",
    "class InceptionV3(nn.Module):\n",
    "    def __init__(self, num_classes=1000, aux_logits=True):\n",
    "        super().__init__()\n",
    "        self.aux_logits = aux_logits\n",
    "\n",
    "        # Stem (299 -> 35)\n",
    "        self.Conv1   = ConvBNReLU(3, 32, kernel_size=3, stride=2)        # 299 -> 149\n",
    "        self.Conv2   = ConvBNReLU(32, 32, kernel_size=3)                 # 149 -> 147\n",
    "        self.Conv3   = ConvBNReLU(32, 64, kernel_size=3, padding=1)      # 147 -> 147\n",
    "        self.MaxPool1= nn.MaxPool2d(kernel_size=3, stride=2)             # 147 -> 73\n",
    "        self.Conv4   = ConvBNReLU(64, 80, kernel_size=1)\n",
    "        self.Conv5   = ConvBNReLU(80, 192, kernel_size=3)                # 73 -> 71\n",
    "        self.MaxPool2= nn.MaxPool2d(kernel_size=3, stride=2)             # 71 -> 35\n",
    "\n",
    "        # 35x35 Inception-A ×3\n",
    "        self.inception_a = nn.Sequential(\n",
    "            InceptionA(192, pool_proj=32),   # out: 64+64+96+32 = 256\n",
    "            InceptionA(256, pool_proj=64),   # out: 64+64+96+64 = 288\n",
    "            InceptionA(288, pool_proj=64)    # out: 64+64+96+64 = 288\n",
    "        )\n",
    "\n",
    "        # Reduction-A: 35 -> 17\n",
    "        self.reduction_a = ReductionA(288, k=64, l=96, m=96, n=384)      # out: 384+96 + 288? (concat) = 768\n",
    "\n",
    "        # 17x17 Inception-B ×4\n",
    "        self.inception_b = nn.Sequential(\n",
    "            InceptionB(768),\n",
    "            InceptionB(768),\n",
    "            InceptionB(768),\n",
    "            InceptionB(768)\n",
    "        )\n",
    "\n",
    "        # Optional auxiliary classifier at 17x17 stage\n",
    "        if aux_logits:\n",
    "            self.aux = InceptionAux(768, num_classes)\n",
    "\n",
    "        # Reduction-B: 17 -> 8\n",
    "        self.reduction_b = ReductionB(768)                                # out: 320 + 192 + 768? (pooled) = 1280\n",
    "\n",
    "        # 8x8 Inception-C ×3\n",
    "        self.inception_c = nn.Sequential(\n",
    "            InceptionC(1280),\n",
    "            InceptionC(2048),\n",
    "            InceptionC(2048)\n",
    "        )\n",
    "\n",
    "        # Head\n",
    "        self.avgpool = nn.AdaptiveAvgPool2d((1, 1))\n",
    "        self.dropout = nn.Dropout(0.5)\n",
    "        self.fc      = nn.Linear(2048, num_classes)\n",
    "        nn.init.kaiming_normal_(self.fc.weight, nonlinearity='relu')\n",
    "        nn.init.zeros_(self.fc.bias)\n",
    "\n",
    "    def forward(self, x):\n",
    "        # Stem\n",
    "        x = self.Conv1(x);  x = self.Conv2(x);  x = self.Conv3(x)\n",
    "        x = self.MaxPool1(x)\n",
    "        x = self.Conv4(x);  x = self.Conv5(x)\n",
    "        x = self.MaxPool2(x)\n",
    "\n",
    "        # 35x35 → Inception-A stack → Reduction-A\n",
    "        x = self.inception_a(x)\n",
    "        x = self.reduction_a(x)\n",
    "\n",
    "        # 17x17 → Inception-B stack (+ aux during training)\n",
    "        x = self.inception_b(x)\n",
    "        aux_out = None\n",
    "        if self.aux_logits and self.training:\n",
    "            aux_out = self.aux(x)\n",
    "\n",
    "        # 8x8 → Reduction-B → Inception-C stack\n",
    "        x = self.reduction_b(x)\n",
    "        x = self.inception_c(x)\n",
    "\n",
    "        # Classifier\n",
    "        x = self.avgpool(x)\n",
    "        x = torch.flatten(x, 1)\n",
    "        x = self.dropout(x)\n",
    "        x = self.fc(x)\n",
    "\n",
    "        if self.aux_logits and self.training:\n",
    "            return x, aux_out\n",
    "        return x"
   ]
  },
  {
   "cell_type": "code",
   "execution_count": null,
   "id": "e1eb5041-edc1-4a4d-bd43-25d48a8cf2e7",
   "metadata": {},
   "outputs": [
    {
     "name": "stdout",
     "output_type": "stream",
     "text": [
      "[device] Using CUDA GPU: NVIDIA GeForce RTX 3080 Ti\n",
      "\n",
      "[data] Inspecting: ../data/imagenette2\n",
      "[data] Found explicit splits.\n"
     ]
    },
    {
     "data": {
      "application/vnd.jupyter.widget-view+json": {
       "model_id": "34b1775f0c164fc9aea4f6590274b93a",
       "version_major": 2,
       "version_minor": 0
      },
      "text/plain": [
       "[epoch 001 | train]:   0%|          | 0/296 [00:00<?, ?it/s]"
      ]
     },
     "metadata": {},
     "output_type": "display_data"
    },
    {
     "data": {
      "application/vnd.jupyter.widget-view+json": {
       "model_id": "df5ba2dabee1457fa1efdfa02ecc1bad",
       "version_major": 2,
       "version_minor": 0
      },
      "text/plain": [
       "[epoch 001 | val  ]:   0%|          | 0/62 [00:00<?, ?it/s]"
      ]
     },
     "metadata": {},
     "output_type": "display_data"
    },
    {
     "name": "stdout",
     "output_type": "stream",
     "text": [
      "[epoch 001] train: loss=2.5837, acc=0.4132 | val: loss=1.5390, acc=0.5511 | time: 28.04s\n",
      "  [checkpoint] New best (acc=0.5511) saved -> imagenette2_inceptionv3_best.pth\n"
     ]
    },
    {
     "data": {
      "application/vnd.jupyter.widget-view+json": {
       "model_id": "2f0140b5f8f4403d95a1a8771230ccb6",
       "version_major": 2,
       "version_minor": 0
      },
      "text/plain": [
       "[epoch 002 | train]:   0%|          | 0/296 [00:00<?, ?it/s]"
      ]
     },
     "metadata": {},
     "output_type": "display_data"
    },
    {
     "data": {
      "application/vnd.jupyter.widget-view+json": {
       "model_id": "0758c1bc70274e9884b240d819aeaad9",
       "version_major": 2,
       "version_minor": 0
      },
      "text/plain": [
       "[epoch 002 | val  ]:   0%|          | 0/62 [00:00<?, ?it/s]"
      ]
     },
     "metadata": {},
     "output_type": "display_data"
    },
    {
     "name": "stdout",
     "output_type": "stream",
     "text": [
      "[epoch 002] train: loss=1.8686, acc=0.5928 | val: loss=1.5616, acc=0.5544 | time: 28.24s\n",
      "  [checkpoint] New best (acc=0.5544) saved -> imagenette2_inceptionv3_best.pth\n"
     ]
    },
    {
     "data": {
      "application/vnd.jupyter.widget-view+json": {
       "model_id": "60d0885d883b446f92721ea523236a3e",
       "version_major": 2,
       "version_minor": 0
      },
      "text/plain": [
       "[epoch 003 | train]:   0%|          | 0/296 [00:00<?, ?it/s]"
      ]
     },
     "metadata": {},
     "output_type": "display_data"
    },
    {
     "data": {
      "application/vnd.jupyter.widget-view+json": {
       "model_id": "71afa8aee54a4165b2b7ad58386db805",
       "version_major": 2,
       "version_minor": 0
      },
      "text/plain": [
       "[epoch 003 | val  ]:   0%|          | 0/62 [00:00<?, ?it/s]"
      ]
     },
     "metadata": {},
     "output_type": "display_data"
    },
    {
     "name": "stdout",
     "output_type": "stream",
     "text": [
      "[epoch 003] train: loss=1.5865, acc=0.6623 | val: loss=1.3796, acc=0.6069 | time: 28.05s\n",
      "  [checkpoint] New best (acc=0.6069) saved -> imagenette2_inceptionv3_best.pth\n"
     ]
    },
    {
     "data": {
      "application/vnd.jupyter.widget-view+json": {
       "model_id": "6d27701ca3c64173a4fd6bfa553c27c7",
       "version_major": 2,
       "version_minor": 0
      },
      "text/plain": [
       "[epoch 004 | train]:   0%|          | 0/296 [00:00<?, ?it/s]"
      ]
     },
     "metadata": {},
     "output_type": "display_data"
    },
    {
     "data": {
      "application/vnd.jupyter.widget-view+json": {
       "model_id": "92f2846a946f4f6382dc5c211ba0040f",
       "version_major": 2,
       "version_minor": 0
      },
      "text/plain": [
       "[epoch 004 | val  ]:   0%|          | 0/62 [00:00<?, ?it/s]"
      ]
     },
     "metadata": {},
     "output_type": "display_data"
    },
    {
     "name": "stdout",
     "output_type": "stream",
     "text": [
      "[epoch 004] train: loss=1.3827, acc=0.7198 | val: loss=1.1201, acc=0.6859 | time: 28.04s\n",
      "  [checkpoint] New best (acc=0.6859) saved -> imagenette2_inceptionv3_best.pth\n"
     ]
    },
    {
     "data": {
      "application/vnd.jupyter.widget-view+json": {
       "model_id": "cd346ee966754b85889f7cc224efbd69",
       "version_major": 2,
       "version_minor": 0
      },
      "text/plain": [
       "[epoch 005 | train]:   0%|          | 0/296 [00:00<?, ?it/s]"
      ]
     },
     "metadata": {},
     "output_type": "display_data"
    },
    {
     "data": {
      "application/vnd.jupyter.widget-view+json": {
       "model_id": "3638120c488a4b668dfd334445082bd7",
       "version_major": 2,
       "version_minor": 0
      },
      "text/plain": [
       "[epoch 005 | val  ]:   0%|          | 0/62 [00:00<?, ?it/s]"
      ]
     },
     "metadata": {},
     "output_type": "display_data"
    },
    {
     "name": "stdout",
     "output_type": "stream",
     "text": [
      "[epoch 005] train: loss=1.2775, acc=0.7489 | val: loss=0.8917, acc=0.7569 | time: 27.89s\n",
      "  [checkpoint] New best (acc=0.7569) saved -> imagenette2_inceptionv3_best.pth\n"
     ]
    },
    {
     "data": {
      "application/vnd.jupyter.widget-view+json": {
       "model_id": "319ad9be31dd40f2be6e8eb772b49de4",
       "version_major": 2,
       "version_minor": 0
      },
      "text/plain": [
       "[epoch 006 | train]:   0%|          | 0/296 [00:00<?, ?it/s]"
      ]
     },
     "metadata": {},
     "output_type": "display_data"
    },
    {
     "data": {
      "application/vnd.jupyter.widget-view+json": {
       "model_id": "f20c34374cfd48beab3af8ea0cc961bc",
       "version_major": 2,
       "version_minor": 0
      },
      "text/plain": [
       "[epoch 006 | val  ]:   0%|          | 0/62 [00:00<?, ?it/s]"
      ]
     },
     "metadata": {},
     "output_type": "display_data"
    },
    {
     "name": "stdout",
     "output_type": "stream",
     "text": [
      "[epoch 006] train: loss=1.1943, acc=0.7667 | val: loss=1.0205, acc=0.7088 | time: 28.34s\n",
      "  [early-stop] No improvement (1/25) on acc; best=0.7569, current=0.7088\n"
     ]
    },
    {
     "data": {
      "application/vnd.jupyter.widget-view+json": {
       "model_id": "2d29c00a085f4d93b3b7fde78853edb6",
       "version_major": 2,
       "version_minor": 0
      },
      "text/plain": [
       "[epoch 007 | train]:   0%|          | 0/296 [00:00<?, ?it/s]"
      ]
     },
     "metadata": {},
     "output_type": "display_data"
    },
    {
     "data": {
      "application/vnd.jupyter.widget-view+json": {
       "model_id": "2def585191914b13ad2f1b59f0f4e059",
       "version_major": 2,
       "version_minor": 0
      },
      "text/plain": [
       "[epoch 007 | val  ]:   0%|          | 0/62 [00:00<?, ?it/s]"
      ]
     },
     "metadata": {},
     "output_type": "display_data"
    },
    {
     "name": "stdout",
     "output_type": "stream",
     "text": [
      "[epoch 007] train: loss=1.1095, acc=0.7913 | val: loss=0.9157, acc=0.7587 | time: 27.82s\n",
      "  [checkpoint] New best (acc=0.7587) saved -> imagenette2_inceptionv3_best.pth\n"
     ]
    },
    {
     "data": {
      "application/vnd.jupyter.widget-view+json": {
       "model_id": "d5af21e709ae4ea3a5b057b73f0f8a33",
       "version_major": 2,
       "version_minor": 0
      },
      "text/plain": [
       "[epoch 008 | train]:   0%|          | 0/296 [00:00<?, ?it/s]"
      ]
     },
     "metadata": {},
     "output_type": "display_data"
    },
    {
     "data": {
      "application/vnd.jupyter.widget-view+json": {
       "model_id": "f31a77230133487696c62a7a14171d28",
       "version_major": 2,
       "version_minor": 0
      },
      "text/plain": [
       "[epoch 008 | val  ]:   0%|          | 0/62 [00:00<?, ?it/s]"
      ]
     },
     "metadata": {},
     "output_type": "display_data"
    },
    {
     "name": "stdout",
     "output_type": "stream",
     "text": [
      "[epoch 008] train: loss=1.0544, acc=0.8046 | val: loss=0.8244, acc=0.7712 | time: 27.80s\n",
      "  [checkpoint] New best (acc=0.7712) saved -> imagenette2_inceptionv3_best.pth\n"
     ]
    },
    {
     "data": {
      "application/vnd.jupyter.widget-view+json": {
       "model_id": "07f28cd1bbd14a6ba0fdf48b94a27603",
       "version_major": 2,
       "version_minor": 0
      },
      "text/plain": [
       "[epoch 009 | train]:   0%|          | 0/296 [00:00<?, ?it/s]"
      ]
     },
     "metadata": {},
     "output_type": "display_data"
    },
    {
     "data": {
      "application/vnd.jupyter.widget-view+json": {
       "model_id": "10e561ffb3ec41f5b6a67be5eb86bfb2",
       "version_major": 2,
       "version_minor": 0
      },
      "text/plain": [
       "[epoch 009 | val  ]:   0%|          | 0/62 [00:00<?, ?it/s]"
      ]
     },
     "metadata": {},
     "output_type": "display_data"
    },
    {
     "name": "stdout",
     "output_type": "stream",
     "text": [
      "[epoch 009] train: loss=0.9976, acc=0.8167 | val: loss=0.8815, acc=0.7730 | time: 328.46s\n",
      "  [checkpoint] New best (acc=0.7730) saved -> imagenette2_inceptionv3_best.pth\n"
     ]
    },
    {
     "data": {
      "application/vnd.jupyter.widget-view+json": {
       "model_id": "986fc16d86bf401b9d21a32206ab3018",
       "version_major": 2,
       "version_minor": 0
      },
      "text/plain": [
       "[epoch 010 | train]:   0%|          | 0/296 [00:00<?, ?it/s]"
      ]
     },
     "metadata": {},
     "output_type": "display_data"
    },
    {
     "data": {
      "application/vnd.jupyter.widget-view+json": {
       "model_id": "5ecce74f062e4bbbb7f1c9508231901f",
       "version_major": 2,
       "version_minor": 0
      },
      "text/plain": [
       "[epoch 010 | val  ]:   0%|          | 0/62 [00:00<?, ?it/s]"
      ]
     },
     "metadata": {},
     "output_type": "display_data"
    },
    {
     "name": "stdout",
     "output_type": "stream",
     "text": [
      "[epoch 010] train: loss=0.9372, acc=0.8325 | val: loss=0.8278, acc=0.7781 | time: 27.60s\n",
      "  [checkpoint] New best (acc=0.7781) saved -> imagenette2_inceptionv3_best.pth\n"
     ]
    },
    {
     "data": {
      "application/vnd.jupyter.widget-view+json": {
       "model_id": "49636160a0b040329d64ea7984b8037d",
       "version_major": 2,
       "version_minor": 0
      },
      "text/plain": [
       "[epoch 011 | train]:   0%|          | 0/296 [00:00<?, ?it/s]"
      ]
     },
     "metadata": {},
     "output_type": "display_data"
    },
    {
     "data": {
      "application/vnd.jupyter.widget-view+json": {
       "model_id": "a09d67057f1d4af486cfb5e89a901105",
       "version_major": 2,
       "version_minor": 0
      },
      "text/plain": [
       "[epoch 011 | val  ]:   0%|          | 0/62 [00:00<?, ?it/s]"
      ]
     },
     "metadata": {},
     "output_type": "display_data"
    },
    {
     "name": "stdout",
     "output_type": "stream",
     "text": [
      "[epoch 011] train: loss=0.8858, acc=0.8457 | val: loss=0.8106, acc=0.7977 | time: 27.88s\n",
      "  [checkpoint] New best (acc=0.7977) saved -> imagenette2_inceptionv3_best.pth\n"
     ]
    },
    {
     "data": {
      "application/vnd.jupyter.widget-view+json": {
       "model_id": "b4d407efb6474b69b0bcb61dc1ff1e1a",
       "version_major": 2,
       "version_minor": 0
      },
      "text/plain": [
       "[epoch 012 | train]:   0%|          | 0/296 [00:00<?, ?it/s]"
      ]
     },
     "metadata": {},
     "output_type": "display_data"
    },
    {
     "data": {
      "application/vnd.jupyter.widget-view+json": {
       "model_id": "606b69f0a6064f3d86aa2519ab1475de",
       "version_major": 2,
       "version_minor": 0
      },
      "text/plain": [
       "[epoch 012 | val  ]:   0%|          | 0/62 [00:00<?, ?it/s]"
      ]
     },
     "metadata": {},
     "output_type": "display_data"
    },
    {
     "name": "stdout",
     "output_type": "stream",
     "text": [
      "[epoch 012] train: loss=0.8404, acc=0.8553 | val: loss=0.9116, acc=0.7679 | time: 28.66s\n",
      "  [early-stop] No improvement (1/25) on acc; best=0.7977, current=0.7679\n"
     ]
    },
    {
     "data": {
      "application/vnd.jupyter.widget-view+json": {
       "model_id": "705257389340465aad4b6fe168c48859",
       "version_major": 2,
       "version_minor": 0
      },
      "text/plain": [
       "[epoch 013 | train]:   0%|          | 0/296 [00:00<?, ?it/s]"
      ]
     },
     "metadata": {},
     "output_type": "display_data"
    },
    {
     "data": {
      "application/vnd.jupyter.widget-view+json": {
       "model_id": "4affe55e883c4d2eb7f4a812aa6e3f72",
       "version_major": 2,
       "version_minor": 0
      },
      "text/plain": [
       "[epoch 013 | val  ]:   0%|          | 0/62 [00:00<?, ?it/s]"
      ]
     },
     "metadata": {},
     "output_type": "display_data"
    },
    {
     "name": "stdout",
     "output_type": "stream",
     "text": [
      "[epoch 013] train: loss=0.7998, acc=0.8694 | val: loss=0.8479, acc=0.7860 | time: 27.84s\n",
      "  [early-stop] No improvement (2/25) on acc; best=0.7977, current=0.7860\n"
     ]
    },
    {
     "data": {
      "application/vnd.jupyter.widget-view+json": {
       "model_id": "4bf632d7603349eb9db05906c5f6ddc0",
       "version_major": 2,
       "version_minor": 0
      },
      "text/plain": [
       "[epoch 014 | train]:   0%|          | 0/296 [00:00<?, ?it/s]"
      ]
     },
     "metadata": {},
     "output_type": "display_data"
    },
    {
     "data": {
      "application/vnd.jupyter.widget-view+json": {
       "model_id": "25b443fbf1044d70b3c9af7e1cc1f3df",
       "version_major": 2,
       "version_minor": 0
      },
      "text/plain": [
       "[epoch 014 | val  ]:   0%|          | 0/62 [00:00<?, ?it/s]"
      ]
     },
     "metadata": {},
     "output_type": "display_data"
    },
    {
     "name": "stdout",
     "output_type": "stream",
     "text": [
      "[epoch 014] train: loss=0.7728, acc=0.8750 | val: loss=0.7570, acc=0.8074 | time: 28.55s\n",
      "  [checkpoint] New best (acc=0.8074) saved -> imagenette2_inceptionv3_best.pth\n"
     ]
    },
    {
     "data": {
      "application/vnd.jupyter.widget-view+json": {
       "model_id": "c228d012a338404ea67d3d70cd6a8242",
       "version_major": 2,
       "version_minor": 0
      },
      "text/plain": [
       "[epoch 015 | train]:   0%|          | 0/296 [00:00<?, ?it/s]"
      ]
     },
     "metadata": {},
     "output_type": "display_data"
    },
    {
     "data": {
      "application/vnd.jupyter.widget-view+json": {
       "model_id": "e4a006eb221f4c79adf8abea3b07df0a",
       "version_major": 2,
       "version_minor": 0
      },
      "text/plain": [
       "[epoch 015 | val  ]:   0%|          | 0/62 [00:00<?, ?it/s]"
      ]
     },
     "metadata": {},
     "output_type": "display_data"
    },
    {
     "name": "stdout",
     "output_type": "stream",
     "text": [
      "[epoch 015] train: loss=0.7581, acc=0.8795 | val: loss=0.7501, acc=0.8155 | time: 27.67s\n",
      "  [checkpoint] New best (acc=0.8155) saved -> imagenette2_inceptionv3_best.pth\n"
     ]
    },
    {
     "data": {
      "application/vnd.jupyter.widget-view+json": {
       "model_id": "feba9abfb0814a7ca7c7577fd7e4fec0",
       "version_major": 2,
       "version_minor": 0
      },
      "text/plain": [
       "[epoch 016 | train]:   0%|          | 0/296 [00:00<?, ?it/s]"
      ]
     },
     "metadata": {},
     "output_type": "display_data"
    },
    {
     "data": {
      "application/vnd.jupyter.widget-view+json": {
       "model_id": "62b50aa9e84e46a98f77f2ca66c8da99",
       "version_major": 2,
       "version_minor": 0
      },
      "text/plain": [
       "[epoch 016 | val  ]:   0%|          | 0/62 [00:00<?, ?it/s]"
      ]
     },
     "metadata": {},
     "output_type": "display_data"
    },
    {
     "name": "stdout",
     "output_type": "stream",
     "text": [
      "[epoch 016] train: loss=0.7095, acc=0.8913 | val: loss=0.7748, acc=0.8059 | time: 27.75s\n",
      "  [early-stop] No improvement (1/25) on acc; best=0.8155, current=0.8059\n"
     ]
    },
    {
     "data": {
      "application/vnd.jupyter.widget-view+json": {
       "model_id": "f84f489421a84486958a941940a9473d",
       "version_major": 2,
       "version_minor": 0
      },
      "text/plain": [
       "[epoch 017 | train]:   0%|          | 0/296 [00:00<?, ?it/s]"
      ]
     },
     "metadata": {},
     "output_type": "display_data"
    },
    {
     "data": {
      "application/vnd.jupyter.widget-view+json": {
       "model_id": "8261ecd972d544579e3242b9cd5e38d5",
       "version_major": 2,
       "version_minor": 0
      },
      "text/plain": [
       "[epoch 017 | val  ]:   0%|          | 0/62 [00:00<?, ?it/s]"
      ]
     },
     "metadata": {},
     "output_type": "display_data"
    },
    {
     "name": "stdout",
     "output_type": "stream",
     "text": [
      "[epoch 017] train: loss=0.6914, acc=0.8952 | val: loss=0.6799, acc=0.8369 | time: 28.09s\n",
      "  [checkpoint] New best (acc=0.8369) saved -> imagenette2_inceptionv3_best.pth\n"
     ]
    },
    {
     "data": {
      "application/vnd.jupyter.widget-view+json": {
       "model_id": "95fdd23b08e24407a892d6b40d20cf7b",
       "version_major": 2,
       "version_minor": 0
      },
      "text/plain": [
       "[epoch 018 | train]:   0%|          | 0/296 [00:00<?, ?it/s]"
      ]
     },
     "metadata": {},
     "output_type": "display_data"
    },
    {
     "data": {
      "application/vnd.jupyter.widget-view+json": {
       "model_id": "cbb129434b994c559f6eb15e549d7a1f",
       "version_major": 2,
       "version_minor": 0
      },
      "text/plain": [
       "[epoch 018 | val  ]:   0%|          | 0/62 [00:00<?, ?it/s]"
      ]
     },
     "metadata": {},
     "output_type": "display_data"
    },
    {
     "name": "stdout",
     "output_type": "stream",
     "text": [
      "[epoch 018] train: loss=0.6635, acc=0.9038 | val: loss=0.7494, acc=0.8161 | time: 27.95s\n",
      "  [early-stop] No improvement (1/25) on acc; best=0.8369, current=0.8161\n"
     ]
    },
    {
     "data": {
      "application/vnd.jupyter.widget-view+json": {
       "model_id": "013485227df545d89233cafc42cb7768",
       "version_major": 2,
       "version_minor": 0
      },
      "text/plain": [
       "[epoch 019 | train]:   0%|          | 0/296 [00:00<?, ?it/s]"
      ]
     },
     "metadata": {},
     "output_type": "display_data"
    },
    {
     "data": {
      "application/vnd.jupyter.widget-view+json": {
       "model_id": "2d245684200c424a8a61c0e1a9ae706b",
       "version_major": 2,
       "version_minor": 0
      },
      "text/plain": [
       "[epoch 019 | val  ]:   0%|          | 0/62 [00:00<?, ?it/s]"
      ]
     },
     "metadata": {},
     "output_type": "display_data"
    },
    {
     "name": "stdout",
     "output_type": "stream",
     "text": [
      "[epoch 019] train: loss=0.6355, acc=0.9122 | val: loss=0.6611, acc=0.8443 | time: 27.86s\n",
      "  [checkpoint] New best (acc=0.8443) saved -> imagenette2_inceptionv3_best.pth\n"
     ]
    },
    {
     "data": {
      "application/vnd.jupyter.widget-view+json": {
       "model_id": "95370be8d03b4d6facc8c7183fefed92",
       "version_major": 2,
       "version_minor": 0
      },
      "text/plain": [
       "[epoch 020 | train]:   0%|          | 0/296 [00:00<?, ?it/s]"
      ]
     },
     "metadata": {},
     "output_type": "display_data"
    },
    {
     "data": {
      "application/vnd.jupyter.widget-view+json": {
       "model_id": "984dd36fd20c4a17ae3aa90f57904dae",
       "version_major": 2,
       "version_minor": 0
      },
      "text/plain": [
       "[epoch 020 | val  ]:   0%|          | 0/62 [00:00<?, ?it/s]"
      ]
     },
     "metadata": {},
     "output_type": "display_data"
    },
    {
     "name": "stdout",
     "output_type": "stream",
     "text": [
      "[epoch 020] train: loss=0.6100, acc=0.9163 | val: loss=0.7836, acc=0.8087 | time: 27.81s\n",
      "  [early-stop] No improvement (1/25) on acc; best=0.8443, current=0.8087\n"
     ]
    },
    {
     "data": {
      "application/vnd.jupyter.widget-view+json": {
       "model_id": "d7a3da4100fa4096b6a1d943404fb5d6",
       "version_major": 2,
       "version_minor": 0
      },
      "text/plain": [
       "[epoch 021 | train]:   0%|          | 0/296 [00:00<?, ?it/s]"
      ]
     },
     "metadata": {},
     "output_type": "display_data"
    },
    {
     "data": {
      "application/vnd.jupyter.widget-view+json": {
       "model_id": "68193edfcb7948469a2812c8a5310aaa",
       "version_major": 2,
       "version_minor": 0
      },
      "text/plain": [
       "[epoch 021 | val  ]:   0%|          | 0/62 [00:00<?, ?it/s]"
      ]
     },
     "metadata": {},
     "output_type": "display_data"
    },
    {
     "name": "stdout",
     "output_type": "stream",
     "text": [
      "[epoch 021] train: loss=0.6058, acc=0.9170 | val: loss=0.7071, acc=0.8313 | time: 27.89s\n",
      "  [early-stop] No improvement (2/25) on acc; best=0.8443, current=0.8313\n"
     ]
    },
    {
     "data": {
      "application/vnd.jupyter.widget-view+json": {
       "model_id": "579a8a0dffb94f3a9c6dc027892b89fe",
       "version_major": 2,
       "version_minor": 0
      },
      "text/plain": [
       "[epoch 022 | train]:   0%|          | 0/296 [00:00<?, ?it/s]"
      ]
     },
     "metadata": {},
     "output_type": "display_data"
    },
    {
     "data": {
      "application/vnd.jupyter.widget-view+json": {
       "model_id": "6db65838f98d406181cbe8ca6e5c6949",
       "version_major": 2,
       "version_minor": 0
      },
      "text/plain": [
       "[epoch 022 | val  ]:   0%|          | 0/62 [00:00<?, ?it/s]"
      ]
     },
     "metadata": {},
     "output_type": "display_data"
    },
    {
     "name": "stdout",
     "output_type": "stream",
     "text": [
      "[epoch 022] train: loss=0.5656, acc=0.9284 | val: loss=0.6875, acc=0.8400 | time: 28.22s\n",
      "  [early-stop] No improvement (3/25) on acc; best=0.8443, current=0.8400\n"
     ]
    },
    {
     "data": {
      "application/vnd.jupyter.widget-view+json": {
       "model_id": "415ef54befcd424fa06f8decaac26fcc",
       "version_major": 2,
       "version_minor": 0
      },
      "text/plain": [
       "[epoch 023 | train]:   0%|          | 0/296 [00:00<?, ?it/s]"
      ]
     },
     "metadata": {},
     "output_type": "display_data"
    },
    {
     "data": {
      "application/vnd.jupyter.widget-view+json": {
       "model_id": "32f2794d61154eca8149f4e5937fcdf8",
       "version_major": 2,
       "version_minor": 0
      },
      "text/plain": [
       "[epoch 023 | val  ]:   0%|          | 0/62 [00:00<?, ?it/s]"
      ]
     },
     "metadata": {},
     "output_type": "display_data"
    },
    {
     "name": "stdout",
     "output_type": "stream",
     "text": [
      "[epoch 023] train: loss=0.5692, acc=0.9282 | val: loss=0.6632, acc=0.8469 | time: 27.99s\n",
      "  [checkpoint] New best (acc=0.8469) saved -> imagenette2_inceptionv3_best.pth\n"
     ]
    },
    {
     "data": {
      "application/vnd.jupyter.widget-view+json": {
       "model_id": "db8c7325ae6c4b07b223be6393092c80",
       "version_major": 2,
       "version_minor": 0
      },
      "text/plain": [
       "[epoch 024 | train]:   0%|          | 0/296 [00:00<?, ?it/s]"
      ]
     },
     "metadata": {},
     "output_type": "display_data"
    },
    {
     "data": {
      "application/vnd.jupyter.widget-view+json": {
       "model_id": "0e6b4b6bb2114a9aa226c6548df2e253",
       "version_major": 2,
       "version_minor": 0
      },
      "text/plain": [
       "[epoch 024 | val  ]:   0%|          | 0/62 [00:00<?, ?it/s]"
      ]
     },
     "metadata": {},
     "output_type": "display_data"
    },
    {
     "name": "stdout",
     "output_type": "stream",
     "text": [
      "[epoch 024] train: loss=0.5398, acc=0.9355 | val: loss=0.6536, acc=0.8487 | time: 28.23s\n",
      "  [checkpoint] New best (acc=0.8487) saved -> imagenette2_inceptionv3_best.pth\n"
     ]
    },
    {
     "data": {
      "application/vnd.jupyter.widget-view+json": {
       "model_id": "1b3344d3ca9e411683f5a4e85c6c8233",
       "version_major": 2,
       "version_minor": 0
      },
      "text/plain": [
       "[epoch 025 | train]:   0%|          | 0/296 [00:00<?, ?it/s]"
      ]
     },
     "metadata": {},
     "output_type": "display_data"
    },
    {
     "data": {
      "application/vnd.jupyter.widget-view+json": {
       "model_id": "9b303df7ee264d6dbc440745d9ed5f80",
       "version_major": 2,
       "version_minor": 0
      },
      "text/plain": [
       "[epoch 025 | val  ]:   0%|          | 0/62 [00:00<?, ?it/s]"
      ]
     },
     "metadata": {},
     "output_type": "display_data"
    },
    {
     "name": "stdout",
     "output_type": "stream",
     "text": [
      "[epoch 025] train: loss=0.5270, acc=0.9379 | val: loss=0.6785, acc=0.8400 | time: 27.90s\n",
      "  [early-stop] No improvement (1/25) on acc; best=0.8487, current=0.8400\n"
     ]
    },
    {
     "data": {
      "application/vnd.jupyter.widget-view+json": {
       "model_id": "ad92efa216104a3689bb8630b92cc4a0",
       "version_major": 2,
       "version_minor": 0
      },
      "text/plain": [
       "[epoch 026 | train]:   0%|          | 0/296 [00:00<?, ?it/s]"
      ]
     },
     "metadata": {},
     "output_type": "display_data"
    },
    {
     "data": {
      "application/vnd.jupyter.widget-view+json": {
       "model_id": "63ff5a05ed7d474ea9cde589b40cd4c9",
       "version_major": 2,
       "version_minor": 0
      },
      "text/plain": [
       "[epoch 026 | val  ]:   0%|          | 0/62 [00:00<?, ?it/s]"
      ]
     },
     "metadata": {},
     "output_type": "display_data"
    },
    {
     "name": "stdout",
     "output_type": "stream",
     "text": [
      "[epoch 026] train: loss=0.5065, acc=0.9435 | val: loss=0.7129, acc=0.8385 | time: 28.18s\n",
      "  [early-stop] No improvement (2/25) on acc; best=0.8487, current=0.8385\n"
     ]
    },
    {
     "data": {
      "application/vnd.jupyter.widget-view+json": {
       "model_id": "b38ac8dfe817413192075efed62364ab",
       "version_major": 2,
       "version_minor": 0
      },
      "text/plain": [
       "[epoch 027 | train]:   0%|          | 0/296 [00:00<?, ?it/s]"
      ]
     },
     "metadata": {},
     "output_type": "display_data"
    },
    {
     "data": {
      "application/vnd.jupyter.widget-view+json": {
       "model_id": "95f3564a9d394094859ae50adb4774a0",
       "version_major": 2,
       "version_minor": 0
      },
      "text/plain": [
       "[epoch 027 | val  ]:   0%|          | 0/62 [00:00<?, ?it/s]"
      ]
     },
     "metadata": {},
     "output_type": "display_data"
    },
    {
     "name": "stdout",
     "output_type": "stream",
     "text": [
      "[epoch 027] train: loss=0.5170, acc=0.9390 | val: loss=0.6844, acc=0.8380 | time: 27.53s\n",
      "  [early-stop] No improvement (3/25) on acc; best=0.8487, current=0.8380\n"
     ]
    },
    {
     "data": {
      "application/vnd.jupyter.widget-view+json": {
       "model_id": "91d177a76ba14c3e87ef56cbe5cf6223",
       "version_major": 2,
       "version_minor": 0
      },
      "text/plain": [
       "[epoch 028 | train]:   0%|          | 0/296 [00:00<?, ?it/s]"
      ]
     },
     "metadata": {},
     "output_type": "display_data"
    },
    {
     "data": {
      "application/vnd.jupyter.widget-view+json": {
       "model_id": "45e38d1ab0ec4e4f87f24e17dc9447fc",
       "version_major": 2,
       "version_minor": 0
      },
      "text/plain": [
       "[epoch 028 | val  ]:   0%|          | 0/62 [00:00<?, ?it/s]"
      ]
     },
     "metadata": {},
     "output_type": "display_data"
    },
    {
     "name": "stdout",
     "output_type": "stream",
     "text": [
      "[epoch 028] train: loss=0.4850, acc=0.9500 | val: loss=0.6594, acc=0.8545 | time: 28.66s\n",
      "  [checkpoint] New best (acc=0.8545) saved -> imagenette2_inceptionv3_best.pth\n"
     ]
    },
    {
     "data": {
      "application/vnd.jupyter.widget-view+json": {
       "model_id": "6b069d7143674938bc2d1d4146e123d4",
       "version_major": 2,
       "version_minor": 0
      },
      "text/plain": [
       "[epoch 029 | train]:   0%|          | 0/296 [00:00<?, ?it/s]"
      ]
     },
     "metadata": {},
     "output_type": "display_data"
    },
    {
     "data": {
      "application/vnd.jupyter.widget-view+json": {
       "model_id": "5a38a98d9e1a4f5db834a5b474935155",
       "version_major": 2,
       "version_minor": 0
      },
      "text/plain": [
       "[epoch 029 | val  ]:   0%|          | 0/62 [00:00<?, ?it/s]"
      ]
     },
     "metadata": {},
     "output_type": "display_data"
    },
    {
     "name": "stdout",
     "output_type": "stream",
     "text": [
      "[epoch 029] train: loss=0.4672, acc=0.9544 | val: loss=0.7069, acc=0.8362 | time: 29.11s\n",
      "  [early-stop] No improvement (1/25) on acc; best=0.8545, current=0.8362\n"
     ]
    },
    {
     "data": {
      "application/vnd.jupyter.widget-view+json": {
       "model_id": "43e1f3212a734da88024f5f652da96ee",
       "version_major": 2,
       "version_minor": 0
      },
      "text/plain": [
       "[epoch 030 | train]:   0%|          | 0/296 [00:00<?, ?it/s]"
      ]
     },
     "metadata": {},
     "output_type": "display_data"
    },
    {
     "data": {
      "application/vnd.jupyter.widget-view+json": {
       "model_id": "fec55c97d90d49c6b551b56bfd8154b3",
       "version_major": 2,
       "version_minor": 0
      },
      "text/plain": [
       "[epoch 030 | val  ]:   0%|          | 0/62 [00:00<?, ?it/s]"
      ]
     },
     "metadata": {},
     "output_type": "display_data"
    },
    {
     "name": "stdout",
     "output_type": "stream",
     "text": [
      "[epoch 030] train: loss=0.4626, acc=0.9541 | val: loss=0.7284, acc=0.8415 | time: 29.14s\n",
      "  [early-stop] No improvement (2/25) on acc; best=0.8545, current=0.8415\n"
     ]
    },
    {
     "data": {
      "application/vnd.jupyter.widget-view+json": {
       "model_id": "34e6a45c30d0454eae976feaebaaf129",
       "version_major": 2,
       "version_minor": 0
      },
      "text/plain": [
       "[epoch 031 | train]:   0%|          | 0/296 [00:00<?, ?it/s]"
      ]
     },
     "metadata": {},
     "output_type": "display_data"
    },
    {
     "data": {
      "application/vnd.jupyter.widget-view+json": {
       "model_id": "bc1542225bbc4a32b9b4517222e88b9d",
       "version_major": 2,
       "version_minor": 0
      },
      "text/plain": [
       "[epoch 031 | val  ]:   0%|          | 0/62 [00:00<?, ?it/s]"
      ]
     },
     "metadata": {},
     "output_type": "display_data"
    },
    {
     "name": "stdout",
     "output_type": "stream",
     "text": [
      "[epoch 031] train: loss=0.4564, acc=0.9565 | val: loss=0.6593, acc=0.8484 | time: 30.13s\n",
      "  [early-stop] No improvement (3/25) on acc; best=0.8545, current=0.8484\n"
     ]
    },
    {
     "data": {
      "application/vnd.jupyter.widget-view+json": {
       "model_id": "e6d45065c09d4759875afa82617e91c4",
       "version_major": 2,
       "version_minor": 0
      },
      "text/plain": [
       "[epoch 032 | train]:   0%|          | 0/296 [00:00<?, ?it/s]"
      ]
     },
     "metadata": {},
     "output_type": "display_data"
    },
    {
     "data": {
      "application/vnd.jupyter.widget-view+json": {
       "model_id": "6639dfd19c30470fbea1e14487206704",
       "version_major": 2,
       "version_minor": 0
      },
      "text/plain": [
       "[epoch 032 | val  ]:   0%|          | 0/62 [00:00<?, ?it/s]"
      ]
     },
     "metadata": {},
     "output_type": "display_data"
    },
    {
     "name": "stdout",
     "output_type": "stream",
     "text": [
      "[epoch 032] train: loss=0.4603, acc=0.9524 | val: loss=0.6590, acc=0.8520 | time: 48.60s\n",
      "  [early-stop] No improvement (4/25) on acc; best=0.8545, current=0.8520\n"
     ]
    },
    {
     "data": {
      "application/vnd.jupyter.widget-view+json": {
       "model_id": "af2e8db2fd614c4ab6e9335d86bc4846",
       "version_major": 2,
       "version_minor": 0
      },
      "text/plain": [
       "[epoch 033 | train]:   0%|          | 0/296 [00:00<?, ?it/s]"
      ]
     },
     "metadata": {},
     "output_type": "display_data"
    },
    {
     "data": {
      "application/vnd.jupyter.widget-view+json": {
       "model_id": "6e9d9a9946b44f4a8eed4a1c3bc68cdb",
       "version_major": 2,
       "version_minor": 0
      },
      "text/plain": [
       "[epoch 033 | val  ]:   0%|          | 0/62 [00:00<?, ?it/s]"
      ]
     },
     "metadata": {},
     "output_type": "display_data"
    },
    {
     "name": "stdout",
     "output_type": "stream",
     "text": [
      "[epoch 033] train: loss=0.4435, acc=0.9598 | val: loss=0.8494, acc=0.8033 | time: 27.63s\n",
      "  [early-stop] No improvement (5/25) on acc; best=0.8545, current=0.8033\n"
     ]
    },
    {
     "data": {
      "application/vnd.jupyter.widget-view+json": {
       "model_id": "213175ea1ac5462cbc3739f39aa885ba",
       "version_major": 2,
       "version_minor": 0
      },
      "text/plain": [
       "[epoch 034 | train]:   0%|          | 0/296 [00:00<?, ?it/s]"
      ]
     },
     "metadata": {},
     "output_type": "display_data"
    },
    {
     "data": {
      "application/vnd.jupyter.widget-view+json": {
       "model_id": "c56c3b7da03b4cd2a8b54961ec9ab54f",
       "version_major": 2,
       "version_minor": 0
      },
      "text/plain": [
       "[epoch 034 | val  ]:   0%|          | 0/62 [00:00<?, ?it/s]"
      ]
     },
     "metadata": {},
     "output_type": "display_data"
    },
    {
     "name": "stdout",
     "output_type": "stream",
     "text": [
      "[epoch 034] train: loss=0.4194, acc=0.9627 | val: loss=0.6532, acc=0.8540 | time: 27.66s\n",
      "  [early-stop] No improvement (6/25) on acc; best=0.8545, current=0.8540\n"
     ]
    },
    {
     "data": {
      "application/vnd.jupyter.widget-view+json": {
       "model_id": "a4fd174b12934fb6af70c1d9737c8642",
       "version_major": 2,
       "version_minor": 0
      },
      "text/plain": [
       "[epoch 035 | train]:   0%|          | 0/296 [00:00<?, ?it/s]"
      ]
     },
     "metadata": {},
     "output_type": "display_data"
    },
    {
     "data": {
      "application/vnd.jupyter.widget-view+json": {
       "model_id": "2d55e489f8074bf083c5843a7b28bf04",
       "version_major": 2,
       "version_minor": 0
      },
      "text/plain": [
       "[epoch 035 | val  ]:   0%|          | 0/62 [00:00<?, ?it/s]"
      ]
     },
     "metadata": {},
     "output_type": "display_data"
    },
    {
     "name": "stdout",
     "output_type": "stream",
     "text": [
      "[epoch 035] train: loss=0.4250, acc=0.9654 | val: loss=0.6445, acc=0.8589 | time: 27.88s\n",
      "  [checkpoint] New best (acc=0.8589) saved -> imagenette2_inceptionv3_best.pth\n"
     ]
    },
    {
     "data": {
      "application/vnd.jupyter.widget-view+json": {
       "model_id": "4b5bdfcd374542b787a5a1afedc4fa55",
       "version_major": 2,
       "version_minor": 0
      },
      "text/plain": [
       "[epoch 036 | train]:   0%|          | 0/296 [00:00<?, ?it/s]"
      ]
     },
     "metadata": {},
     "output_type": "display_data"
    },
    {
     "data": {
      "application/vnd.jupyter.widget-view+json": {
       "model_id": "942cf8b0364742e3b20ce2da9d3d72d0",
       "version_major": 2,
       "version_minor": 0
      },
      "text/plain": [
       "[epoch 036 | val  ]:   0%|          | 0/62 [00:00<?, ?it/s]"
      ]
     },
     "metadata": {},
     "output_type": "display_data"
    },
    {
     "name": "stdout",
     "output_type": "stream",
     "text": [
      "[epoch 036] train: loss=0.4335, acc=0.9606 | val: loss=0.6319, acc=0.8578 | time: 27.63s\n",
      "  [early-stop] No improvement (1/25) on acc; best=0.8589, current=0.8578\n"
     ]
    },
    {
     "data": {
      "application/vnd.jupyter.widget-view+json": {
       "model_id": "f84ae690113c45aea9408672d8c1a96c",
       "version_major": 2,
       "version_minor": 0
      },
      "text/plain": [
       "[epoch 037 | train]:   0%|          | 0/296 [00:00<?, ?it/s]"
      ]
     },
     "metadata": {},
     "output_type": "display_data"
    },
    {
     "data": {
      "application/vnd.jupyter.widget-view+json": {
       "model_id": "9a8c49cba35b4ac48709cca5a321743b",
       "version_major": 2,
       "version_minor": 0
      },
      "text/plain": [
       "[epoch 037 | val  ]:   0%|          | 0/62 [00:00<?, ?it/s]"
      ]
     },
     "metadata": {},
     "output_type": "display_data"
    },
    {
     "name": "stdout",
     "output_type": "stream",
     "text": [
      "[epoch 037] train: loss=0.4305, acc=0.9635 | val: loss=0.6371, acc=0.8581 | time: 27.28s\n",
      "  [early-stop] No improvement (2/25) on acc; best=0.8589, current=0.8581\n"
     ]
    },
    {
     "data": {
      "application/vnd.jupyter.widget-view+json": {
       "model_id": "4ed1d75456894024909c599e1c600b92",
       "version_major": 2,
       "version_minor": 0
      },
      "text/plain": [
       "[epoch 038 | train]:   0%|          | 0/296 [00:00<?, ?it/s]"
      ]
     },
     "metadata": {},
     "output_type": "display_data"
    },
    {
     "data": {
      "application/vnd.jupyter.widget-view+json": {
       "model_id": "e5e154328e1d45ebb78921b7c8498daa",
       "version_major": 2,
       "version_minor": 0
      },
      "text/plain": [
       "[epoch 038 | val  ]:   0%|          | 0/62 [00:00<?, ?it/s]"
      ]
     },
     "metadata": {},
     "output_type": "display_data"
    },
    {
     "name": "stdout",
     "output_type": "stream",
     "text": [
      "[epoch 038] train: loss=0.3973, acc=0.9713 | val: loss=0.6247, acc=0.8614 | time: 27.77s\n",
      "  [checkpoint] New best (acc=0.8614) saved -> imagenette2_inceptionv3_best.pth\n"
     ]
    },
    {
     "data": {
      "application/vnd.jupyter.widget-view+json": {
       "model_id": "ded55bea747f4e90b2a3455a5f34568b",
       "version_major": 2,
       "version_minor": 0
      },
      "text/plain": [
       "[epoch 039 | train]:   0%|          | 0/296 [00:00<?, ?it/s]"
      ]
     },
     "metadata": {},
     "output_type": "display_data"
    },
    {
     "data": {
      "application/vnd.jupyter.widget-view+json": {
       "model_id": "7e19b6c87d9e4c44add030ab77b8424b",
       "version_major": 2,
       "version_minor": 0
      },
      "text/plain": [
       "[epoch 039 | val  ]:   0%|          | 0/62 [00:00<?, ?it/s]"
      ]
     },
     "metadata": {},
     "output_type": "display_data"
    },
    {
     "name": "stdout",
     "output_type": "stream",
     "text": [
      "[epoch 039] train: loss=0.4027, acc=0.9701 | val: loss=0.6726, acc=0.8459 | time: 27.92s\n",
      "  [early-stop] No improvement (1/25) on acc; best=0.8614, current=0.8459\n"
     ]
    },
    {
     "data": {
      "application/vnd.jupyter.widget-view+json": {
       "model_id": "8307d41ce0fb4ebea6ec29d01febfaf9",
       "version_major": 2,
       "version_minor": 0
      },
      "text/plain": [
       "[epoch 040 | train]:   0%|          | 0/296 [00:00<?, ?it/s]"
      ]
     },
     "metadata": {},
     "output_type": "display_data"
    },
    {
     "data": {
      "application/vnd.jupyter.widget-view+json": {
       "model_id": "dfab298070064339874c502d1f13bf6c",
       "version_major": 2,
       "version_minor": 0
      },
      "text/plain": [
       "[epoch 040 | val  ]:   0%|          | 0/62 [00:00<?, ?it/s]"
      ]
     },
     "metadata": {},
     "output_type": "display_data"
    },
    {
     "name": "stdout",
     "output_type": "stream",
     "text": [
      "[epoch 040] train: loss=0.4047, acc=0.9690 | val: loss=0.7869, acc=0.8250 | time: 28.07s\n",
      "  [early-stop] No improvement (2/25) on acc; best=0.8614, current=0.8250\n"
     ]
    },
    {
     "data": {
      "application/vnd.jupyter.widget-view+json": {
       "model_id": "2a73b5ffdeb34568a0b573b89374886b",
       "version_major": 2,
       "version_minor": 0
      },
      "text/plain": [
       "[epoch 041 | train]:   0%|          | 0/296 [00:00<?, ?it/s]"
      ]
     },
     "metadata": {},
     "output_type": "display_data"
    },
    {
     "data": {
      "application/vnd.jupyter.widget-view+json": {
       "model_id": "43d5076b0e524600bc35a7fd2bc29dc7",
       "version_major": 2,
       "version_minor": 0
      },
      "text/plain": [
       "[epoch 041 | val  ]:   0%|          | 0/62 [00:00<?, ?it/s]"
      ]
     },
     "metadata": {},
     "output_type": "display_data"
    },
    {
     "name": "stdout",
     "output_type": "stream",
     "text": [
      "[epoch 041] train: loss=0.4007, acc=0.9687 | val: loss=0.6408, acc=0.8632 | time: 27.87s\n",
      "  [checkpoint] New best (acc=0.8632) saved -> imagenette2_inceptionv3_best.pth\n"
     ]
    },
    {
     "data": {
      "application/vnd.jupyter.widget-view+json": {
       "model_id": "d37f5f5d0a914248924cca65b42e6ce7",
       "version_major": 2,
       "version_minor": 0
      },
      "text/plain": [
       "[epoch 042 | train]:   0%|          | 0/296 [00:00<?, ?it/s]"
      ]
     },
     "metadata": {},
     "output_type": "display_data"
    },
    {
     "data": {
      "application/vnd.jupyter.widget-view+json": {
       "model_id": "bd82d55d875f43f592c0c8ecacf2c3ee",
       "version_major": 2,
       "version_minor": 0
      },
      "text/plain": [
       "[epoch 042 | val  ]:   0%|          | 0/62 [00:00<?, ?it/s]"
      ]
     },
     "metadata": {},
     "output_type": "display_data"
    },
    {
     "name": "stdout",
     "output_type": "stream",
     "text": [
      "[epoch 042] train: loss=0.3980, acc=0.9687 | val: loss=0.6177, acc=0.8652 | time: 28.32s\n",
      "  [checkpoint] New best (acc=0.8652) saved -> imagenette2_inceptionv3_best.pth\n"
     ]
    },
    {
     "data": {
      "application/vnd.jupyter.widget-view+json": {
       "model_id": "0bd8891b538d42e3b04af90d46069c4a",
       "version_major": 2,
       "version_minor": 0
      },
      "text/plain": [
       "[epoch 043 | train]:   0%|          | 0/296 [00:00<?, ?it/s]"
      ]
     },
     "metadata": {},
     "output_type": "display_data"
    },
    {
     "data": {
      "application/vnd.jupyter.widget-view+json": {
       "model_id": "1136537d30c34ba98aec1bcb2565f1f9",
       "version_major": 2,
       "version_minor": 0
      },
      "text/plain": [
       "[epoch 043 | val  ]:   0%|          | 0/62 [00:00<?, ?it/s]"
      ]
     },
     "metadata": {},
     "output_type": "display_data"
    },
    {
     "name": "stdout",
     "output_type": "stream",
     "text": [
      "[epoch 043] train: loss=0.3851, acc=0.9721 | val: loss=0.6124, acc=0.8670 | time: 28.20s\n",
      "  [checkpoint] New best (acc=0.8670) saved -> imagenette2_inceptionv3_best.pth\n"
     ]
    },
    {
     "data": {
      "application/vnd.jupyter.widget-view+json": {
       "model_id": "45971ecca5834c6a8bb97b70798f4fb6",
       "version_major": 2,
       "version_minor": 0
      },
      "text/plain": [
       "[epoch 044 | train]:   0%|          | 0/296 [00:00<?, ?it/s]"
      ]
     },
     "metadata": {},
     "output_type": "display_data"
    },
    {
     "data": {
      "application/vnd.jupyter.widget-view+json": {
       "model_id": "7708416eb5eb4bbd81455d28855dbe51",
       "version_major": 2,
       "version_minor": 0
      },
      "text/plain": [
       "[epoch 044 | val  ]:   0%|          | 0/62 [00:00<?, ?it/s]"
      ]
     },
     "metadata": {},
     "output_type": "display_data"
    },
    {
     "name": "stdout",
     "output_type": "stream",
     "text": [
      "[epoch 044] train: loss=0.3872, acc=0.9728 | val: loss=0.6159, acc=0.8639 | time: 27.81s\n",
      "  [early-stop] No improvement (1/25) on acc; best=0.8670, current=0.8639\n"
     ]
    },
    {
     "data": {
      "application/vnd.jupyter.widget-view+json": {
       "model_id": "136cb980bbf34defb077b5aa3088f3ba",
       "version_major": 2,
       "version_minor": 0
      },
      "text/plain": [
       "[epoch 045 | train]:   0%|          | 0/296 [00:00<?, ?it/s]"
      ]
     },
     "metadata": {},
     "output_type": "display_data"
    },
    {
     "data": {
      "application/vnd.jupyter.widget-view+json": {
       "model_id": "01284000171b4dbe84ffb0df88de1cbf",
       "version_major": 2,
       "version_minor": 0
      },
      "text/plain": [
       "[epoch 045 | val  ]:   0%|          | 0/62 [00:00<?, ?it/s]"
      ]
     },
     "metadata": {},
     "output_type": "display_data"
    },
    {
     "name": "stdout",
     "output_type": "stream",
     "text": [
      "[epoch 045] train: loss=0.3768, acc=0.9730 | val: loss=0.6151, acc=0.8759 | time: 27.59s\n",
      "  [checkpoint] New best (acc=0.8759) saved -> imagenette2_inceptionv3_best.pth\n"
     ]
    },
    {
     "data": {
      "application/vnd.jupyter.widget-view+json": {
       "model_id": "789c26fad0c44027af874b36d601ef4c",
       "version_major": 2,
       "version_minor": 0
      },
      "text/plain": [
       "[epoch 046 | train]:   0%|          | 0/296 [00:00<?, ?it/s]"
      ]
     },
     "metadata": {},
     "output_type": "display_data"
    },
    {
     "data": {
      "application/vnd.jupyter.widget-view+json": {
       "model_id": "5b48a04d5fe5440eb0400393d18413c9",
       "version_major": 2,
       "version_minor": 0
      },
      "text/plain": [
       "[epoch 046 | val  ]:   0%|          | 0/62 [00:00<?, ?it/s]"
      ]
     },
     "metadata": {},
     "output_type": "display_data"
    },
    {
     "name": "stdout",
     "output_type": "stream",
     "text": [
      "[epoch 046] train: loss=0.3683, acc=0.9764 | val: loss=0.6325, acc=0.8619 | time: 27.53s\n",
      "  [early-stop] No improvement (1/25) on acc; best=0.8759, current=0.8619\n"
     ]
    },
    {
     "data": {
      "application/vnd.jupyter.widget-view+json": {
       "model_id": "7a55e2a4ddd0466c8c98f9f333b3c5c3",
       "version_major": 2,
       "version_minor": 0
      },
      "text/plain": [
       "[epoch 047 | train]:   0%|          | 0/296 [00:00<?, ?it/s]"
      ]
     },
     "metadata": {},
     "output_type": "display_data"
    },
    {
     "data": {
      "application/vnd.jupyter.widget-view+json": {
       "model_id": "dc35dbe809a448fe9356528701fbe899",
       "version_major": 2,
       "version_minor": 0
      },
      "text/plain": [
       "[epoch 047 | val  ]:   0%|          | 0/62 [00:00<?, ?it/s]"
      ]
     },
     "metadata": {},
     "output_type": "display_data"
    },
    {
     "name": "stdout",
     "output_type": "stream",
     "text": [
      "[epoch 047] train: loss=0.3764, acc=0.9752 | val: loss=0.6130, acc=0.8744 | time: 28.14s\n",
      "  [early-stop] No improvement (2/25) on acc; best=0.8759, current=0.8744\n"
     ]
    },
    {
     "data": {
      "application/vnd.jupyter.widget-view+json": {
       "model_id": "c51e23aec1884ce8af3d68f3c27c1a75",
       "version_major": 2,
       "version_minor": 0
      },
      "text/plain": [
       "[epoch 048 | train]:   0%|          | 0/296 [00:00<?, ?it/s]"
      ]
     },
     "metadata": {},
     "output_type": "display_data"
    },
    {
     "data": {
      "application/vnd.jupyter.widget-view+json": {
       "model_id": "4c72a3e21fe74bfea598037a7d285d3b",
       "version_major": 2,
       "version_minor": 0
      },
      "text/plain": [
       "[epoch 048 | val  ]:   0%|          | 0/62 [00:00<?, ?it/s]"
      ]
     },
     "metadata": {},
     "output_type": "display_data"
    },
    {
     "name": "stdout",
     "output_type": "stream",
     "text": [
      "[epoch 048] train: loss=0.3739, acc=0.9761 | val: loss=0.6122, acc=0.8698 | time: 27.99s\n",
      "  [early-stop] No improvement (3/25) on acc; best=0.8759, current=0.8698\n"
     ]
    },
    {
     "data": {
      "application/vnd.jupyter.widget-view+json": {
       "model_id": "7175687dbfbe4aba9bd5d6026cdd4e87",
       "version_major": 2,
       "version_minor": 0
      },
      "text/plain": [
       "[epoch 049 | train]:   0%|          | 0/296 [00:00<?, ?it/s]"
      ]
     },
     "metadata": {},
     "output_type": "display_data"
    },
    {
     "data": {
      "application/vnd.jupyter.widget-view+json": {
       "model_id": "6307e119989c430aa20874c32cca5aab",
       "version_major": 2,
       "version_minor": 0
      },
      "text/plain": [
       "[epoch 049 | val  ]:   0%|          | 0/62 [00:00<?, ?it/s]"
      ]
     },
     "metadata": {},
     "output_type": "display_data"
    },
    {
     "name": "stdout",
     "output_type": "stream",
     "text": [
      "[epoch 049] train: loss=0.3768, acc=0.9748 | val: loss=0.5922, acc=0.8683 | time: 28.12s\n",
      "  [early-stop] No improvement (4/25) on acc; best=0.8759, current=0.8683\n"
     ]
    },
    {
     "data": {
      "application/vnd.jupyter.widget-view+json": {
       "model_id": "0e19c049d6da4a31ac3bb5218e28300c",
       "version_major": 2,
       "version_minor": 0
      },
      "text/plain": [
       "[epoch 050 | train]:   0%|          | 0/296 [00:00<?, ?it/s]"
      ]
     },
     "metadata": {},
     "output_type": "display_data"
    },
    {
     "data": {
      "application/vnd.jupyter.widget-view+json": {
       "model_id": "0241ecdec27c42308fbad3d6f590d6eb",
       "version_major": 2,
       "version_minor": 0
      },
      "text/plain": [
       "[epoch 050 | val  ]:   0%|          | 0/62 [00:00<?, ?it/s]"
      ]
     },
     "metadata": {},
     "output_type": "display_data"
    },
    {
     "name": "stdout",
     "output_type": "stream",
     "text": [
      "[epoch 050] train: loss=0.3679, acc=0.9764 | val: loss=0.5819, acc=0.8746 | time: 27.77s\n",
      "  [early-stop] No improvement (5/25) on acc; best=0.8759, current=0.8746\n"
     ]
    },
    {
     "data": {
      "application/vnd.jupyter.widget-view+json": {
       "model_id": "ec73762dc50e4f7d9a541e9c14ab426f",
       "version_major": 2,
       "version_minor": 0
      },
      "text/plain": [
       "[epoch 051 | train]:   0%|          | 0/296 [00:00<?, ?it/s]"
      ]
     },
     "metadata": {},
     "output_type": "display_data"
    },
    {
     "data": {
      "application/vnd.jupyter.widget-view+json": {
       "model_id": "74d77f3328fa401e9b9846ccf4544622",
       "version_major": 2,
       "version_minor": 0
      },
      "text/plain": [
       "[epoch 051 | val  ]:   0%|          | 0/62 [00:00<?, ?it/s]"
      ]
     },
     "metadata": {},
     "output_type": "display_data"
    },
    {
     "name": "stdout",
     "output_type": "stream",
     "text": [
      "[epoch 051] train: loss=0.3570, acc=0.9791 | val: loss=0.6068, acc=0.8675 | time: 27.61s\n",
      "  [early-stop] No improvement (6/25) on acc; best=0.8759, current=0.8675\n"
     ]
    },
    {
     "data": {
      "application/vnd.jupyter.widget-view+json": {
       "model_id": "afe869b0524843c680a929bf3fa3ce44",
       "version_major": 2,
       "version_minor": 0
      },
      "text/plain": [
       "[epoch 052 | train]:   0%|          | 0/296 [00:00<?, ?it/s]"
      ]
     },
     "metadata": {},
     "output_type": "display_data"
    },
    {
     "data": {
      "application/vnd.jupyter.widget-view+json": {
       "model_id": "7a52550f5a2540c192b63fd3b80d800d",
       "version_major": 2,
       "version_minor": 0
      },
      "text/plain": [
       "[epoch 052 | val  ]:   0%|          | 0/62 [00:00<?, ?it/s]"
      ]
     },
     "metadata": {},
     "output_type": "display_data"
    },
    {
     "name": "stdout",
     "output_type": "stream",
     "text": [
      "[epoch 052] train: loss=0.3655, acc=0.9767 | val: loss=0.6449, acc=0.8589 | time: 28.21s\n",
      "  [early-stop] No improvement (7/25) on acc; best=0.8759, current=0.8589\n"
     ]
    },
    {
     "data": {
      "application/vnd.jupyter.widget-view+json": {
       "model_id": "54bb95f0672d43a0b61f881860764421",
       "version_major": 2,
       "version_minor": 0
      },
      "text/plain": [
       "[epoch 053 | train]:   0%|          | 0/296 [00:00<?, ?it/s]"
      ]
     },
     "metadata": {},
     "output_type": "display_data"
    },
    {
     "data": {
      "application/vnd.jupyter.widget-view+json": {
       "model_id": "e1c1342e240b42d88e3c0e1d3b52775e",
       "version_major": 2,
       "version_minor": 0
      },
      "text/plain": [
       "[epoch 053 | val  ]:   0%|          | 0/62 [00:00<?, ?it/s]"
      ]
     },
     "metadata": {},
     "output_type": "display_data"
    },
    {
     "name": "stdout",
     "output_type": "stream",
     "text": [
      "[epoch 053] train: loss=0.3665, acc=0.9772 | val: loss=0.5750, acc=0.8762 | time: 27.99s\n",
      "  [checkpoint] New best (acc=0.8762) saved -> imagenette2_inceptionv3_best.pth\n"
     ]
    },
    {
     "data": {
      "application/vnd.jupyter.widget-view+json": {
       "model_id": "932cc2a6145043d2ace04e2bc6fe4f8a",
       "version_major": 2,
       "version_minor": 0
      },
      "text/plain": [
       "[epoch 054 | train]:   0%|          | 0/296 [00:00<?, ?it/s]"
      ]
     },
     "metadata": {},
     "output_type": "display_data"
    },
    {
     "data": {
      "application/vnd.jupyter.widget-view+json": {
       "model_id": "90c3af9092484b7bb12811197741ba10",
       "version_major": 2,
       "version_minor": 0
      },
      "text/plain": [
       "[epoch 054 | val  ]:   0%|          | 0/62 [00:00<?, ?it/s]"
      ]
     },
     "metadata": {},
     "output_type": "display_data"
    },
    {
     "name": "stdout",
     "output_type": "stream",
     "text": [
      "[epoch 054] train: loss=0.3613, acc=0.9773 | val: loss=0.6780, acc=0.8494 | time: 27.97s\n",
      "  [early-stop] No improvement (1/25) on acc; best=0.8762, current=0.8494\n"
     ]
    },
    {
     "data": {
      "application/vnd.jupyter.widget-view+json": {
       "model_id": "b808e7567d0a41ecbbd50bf78ac595ec",
       "version_major": 2,
       "version_minor": 0
      },
      "text/plain": [
       "[epoch 055 | train]:   0%|          | 0/296 [00:00<?, ?it/s]"
      ]
     },
     "metadata": {},
     "output_type": "display_data"
    },
    {
     "data": {
      "application/vnd.jupyter.widget-view+json": {
       "model_id": "7244a6b7af9047fd856739852bc6243a",
       "version_major": 2,
       "version_minor": 0
      },
      "text/plain": [
       "[epoch 055 | val  ]:   0%|          | 0/62 [00:00<?, ?it/s]"
      ]
     },
     "metadata": {},
     "output_type": "display_data"
    },
    {
     "name": "stdout",
     "output_type": "stream",
     "text": [
      "[epoch 055] train: loss=0.3509, acc=0.9811 | val: loss=0.5873, acc=0.8708 | time: 28.47s\n",
      "  [early-stop] No improvement (2/25) on acc; best=0.8762, current=0.8708\n"
     ]
    },
    {
     "data": {
      "application/vnd.jupyter.widget-view+json": {
       "model_id": "1f704e3e22124bf1a5a6fa560ea06733",
       "version_major": 2,
       "version_minor": 0
      },
      "text/plain": [
       "[epoch 056 | train]:   0%|          | 0/296 [00:00<?, ?it/s]"
      ]
     },
     "metadata": {},
     "output_type": "display_data"
    },
    {
     "data": {
      "application/vnd.jupyter.widget-view+json": {
       "model_id": "7a96f6d751ee4aa1ab598eeeaa8e1849",
       "version_major": 2,
       "version_minor": 0
      },
      "text/plain": [
       "[epoch 056 | val  ]:   0%|          | 0/62 [00:00<?, ?it/s]"
      ]
     },
     "metadata": {},
     "output_type": "display_data"
    },
    {
     "name": "stdout",
     "output_type": "stream",
     "text": [
      "[epoch 056] train: loss=0.3452, acc=0.9823 | val: loss=0.7007, acc=0.8484 | time: 29.35s\n",
      "  [early-stop] No improvement (3/25) on acc; best=0.8762, current=0.8484\n"
     ]
    },
    {
     "data": {
      "application/vnd.jupyter.widget-view+json": {
       "model_id": "54ff6b46a0d941b8829e560bd6156ff2",
       "version_major": 2,
       "version_minor": 0
      },
      "text/plain": [
       "[epoch 057 | train]:   0%|          | 0/296 [00:00<?, ?it/s]"
      ]
     },
     "metadata": {},
     "output_type": "display_data"
    },
    {
     "name": "stderr",
     "output_type": "stream",
     "text": [
      "IOStream.flush timed out\n",
      "IOStream.flush timed out\n"
     ]
    },
    {
     "data": {
      "application/vnd.jupyter.widget-view+json": {
       "model_id": "7adf9a09affe4973bf98f9e5eb192f06",
       "version_major": 2,
       "version_minor": 0
      },
      "text/plain": [
       "[epoch 057 | val  ]:   0%|          | 0/62 [00:00<?, ?it/s]"
      ]
     },
     "metadata": {},
     "output_type": "display_data"
    },
    {
     "name": "stdout",
     "output_type": "stream",
     "text": [
      "[epoch 057] train: loss=0.3541, acc=0.9786 | val: loss=0.6253, acc=0.8698 | time: 47.93s\n",
      "  [early-stop] No improvement (4/25) on acc; best=0.8762, current=0.8698\n"
     ]
    },
    {
     "data": {
      "application/vnd.jupyter.widget-view+json": {
       "model_id": "757bd814caf243588142f5b078968a3d",
       "version_major": 2,
       "version_minor": 0
      },
      "text/plain": [
       "[epoch 058 | train]:   0%|          | 0/296 [00:00<?, ?it/s]"
      ]
     },
     "metadata": {},
     "output_type": "display_data"
    },
    {
     "data": {
      "application/vnd.jupyter.widget-view+json": {
       "model_id": "35b4f06af92047fa894c938a43b52a69",
       "version_major": 2,
       "version_minor": 0
      },
      "text/plain": [
       "[epoch 058 | val  ]:   0%|          | 0/62 [00:00<?, ?it/s]"
      ]
     },
     "metadata": {},
     "output_type": "display_data"
    },
    {
     "name": "stdout",
     "output_type": "stream",
     "text": [
      "[epoch 058] train: loss=0.3583, acc=0.9770 | val: loss=0.5975, acc=0.8752 | time: 28.12s\n",
      "  [early-stop] No improvement (5/25) on acc; best=0.8762, current=0.8752\n"
     ]
    },
    {
     "data": {
      "application/vnd.jupyter.widget-view+json": {
       "model_id": "738c814e46c44d0880aa4a8f4c234373",
       "version_major": 2,
       "version_minor": 0
      },
      "text/plain": [
       "[epoch 059 | train]:   0%|          | 0/296 [00:00<?, ?it/s]"
      ]
     },
     "metadata": {},
     "output_type": "display_data"
    },
    {
     "data": {
      "application/vnd.jupyter.widget-view+json": {
       "model_id": "8277b5923c0a459f92dc28bada6cdc14",
       "version_major": 2,
       "version_minor": 0
      },
      "text/plain": [
       "[epoch 059 | val  ]:   0%|          | 0/62 [00:00<?, ?it/s]"
      ]
     },
     "metadata": {},
     "output_type": "display_data"
    },
    {
     "name": "stdout",
     "output_type": "stream",
     "text": [
      "[epoch 059] train: loss=0.3503, acc=0.9795 | val: loss=0.5797, acc=0.8764 | time: 27.83s\n",
      "  [checkpoint] New best (acc=0.8764) saved -> imagenette2_inceptionv3_best.pth\n"
     ]
    },
    {
     "data": {
      "application/vnd.jupyter.widget-view+json": {
       "model_id": "1a5eca247ffc441fa5818160009432e4",
       "version_major": 2,
       "version_minor": 0
      },
      "text/plain": [
       "[epoch 060 | train]:   0%|          | 0/296 [00:00<?, ?it/s]"
      ]
     },
     "metadata": {},
     "output_type": "display_data"
    },
    {
     "data": {
      "application/vnd.jupyter.widget-view+json": {
       "model_id": "ed1c1b8c08b0496ca2818a2e9ccc0dec",
       "version_major": 2,
       "version_minor": 0
      },
      "text/plain": [
       "[epoch 060 | val  ]:   0%|          | 0/62 [00:00<?, ?it/s]"
      ]
     },
     "metadata": {},
     "output_type": "display_data"
    },
    {
     "name": "stdout",
     "output_type": "stream",
     "text": [
      "[epoch 060] train: loss=0.3339, acc=0.9845 | val: loss=0.6289, acc=0.8713 | time: 27.77s\n",
      "  [early-stop] No improvement (1/25) on acc; best=0.8764, current=0.8713\n"
     ]
    },
    {
     "data": {
      "application/vnd.jupyter.widget-view+json": {
       "model_id": "b44263bd2c2244a28c91a3d1a08bf0d5",
       "version_major": 2,
       "version_minor": 0
      },
      "text/plain": [
       "[epoch 061 | train]:   0%|          | 0/296 [00:00<?, ?it/s]"
      ]
     },
     "metadata": {},
     "output_type": "display_data"
    },
    {
     "data": {
      "application/vnd.jupyter.widget-view+json": {
       "model_id": "e48fd73d79dd4159be30e27bfd11d3fa",
       "version_major": 2,
       "version_minor": 0
      },
      "text/plain": [
       "[epoch 061 | val  ]:   0%|          | 0/62 [00:00<?, ?it/s]"
      ]
     },
     "metadata": {},
     "output_type": "display_data"
    },
    {
     "name": "stdout",
     "output_type": "stream",
     "text": [
      "[epoch 061] train: loss=0.3391, acc=0.9834 | val: loss=0.6112, acc=0.8729 | time: 28.12s\n",
      "  [early-stop] No improvement (2/25) on acc; best=0.8764, current=0.8729\n"
     ]
    },
    {
     "data": {
      "application/vnd.jupyter.widget-view+json": {
       "model_id": "e4a35938b13a4720a39056fdd9ad3499",
       "version_major": 2,
       "version_minor": 0
      },
      "text/plain": [
       "[epoch 062 | train]:   0%|          | 0/296 [00:00<?, ?it/s]"
      ]
     },
     "metadata": {},
     "output_type": "display_data"
    },
    {
     "data": {
      "application/vnd.jupyter.widget-view+json": {
       "model_id": "acf1af3b5aec4f45926b8dc058d9fda1",
       "version_major": 2,
       "version_minor": 0
      },
      "text/plain": [
       "[epoch 062 | val  ]:   0%|          | 0/62 [00:00<?, ?it/s]"
      ]
     },
     "metadata": {},
     "output_type": "display_data"
    },
    {
     "name": "stdout",
     "output_type": "stream",
     "text": [
      "[epoch 062] train: loss=0.3481, acc=0.9804 | val: loss=0.6047, acc=0.8726 | time: 27.50s\n",
      "  [early-stop] No improvement (3/25) on acc; best=0.8764, current=0.8726\n"
     ]
    },
    {
     "data": {
      "application/vnd.jupyter.widget-view+json": {
       "model_id": "d20694fce62746048c3c3afecbf252a5",
       "version_major": 2,
       "version_minor": 0
      },
      "text/plain": [
       "[epoch 063 | train]:   0%|          | 0/296 [00:00<?, ?it/s]"
      ]
     },
     "metadata": {},
     "output_type": "display_data"
    },
    {
     "data": {
      "application/vnd.jupyter.widget-view+json": {
       "model_id": "212c4d7120b84bc0aee6a9f35e10131f",
       "version_major": 2,
       "version_minor": 0
      },
      "text/plain": [
       "[epoch 063 | val  ]:   0%|          | 0/62 [00:00<?, ?it/s]"
      ]
     },
     "metadata": {},
     "output_type": "display_data"
    },
    {
     "name": "stdout",
     "output_type": "stream",
     "text": [
      "[epoch 063] train: loss=0.3317, acc=0.9858 | val: loss=0.5457, acc=0.8841 | time: 27.97s\n",
      "  [checkpoint] New best (acc=0.8841) saved -> imagenette2_inceptionv3_best.pth\n"
     ]
    },
    {
     "data": {
      "application/vnd.jupyter.widget-view+json": {
       "model_id": "f069525d75c94c42b7d004928225c922",
       "version_major": 2,
       "version_minor": 0
      },
      "text/plain": [
       "[epoch 064 | train]:   0%|          | 0/296 [00:00<?, ?it/s]"
      ]
     },
     "metadata": {},
     "output_type": "display_data"
    },
    {
     "data": {
      "application/vnd.jupyter.widget-view+json": {
       "model_id": "6beb47f5f7374618a42ebe90fd99db97",
       "version_major": 2,
       "version_minor": 0
      },
      "text/plain": [
       "[epoch 064 | val  ]:   0%|          | 0/62 [00:00<?, ?it/s]"
      ]
     },
     "metadata": {},
     "output_type": "display_data"
    },
    {
     "name": "stdout",
     "output_type": "stream",
     "text": [
      "[epoch 064] train: loss=0.3328, acc=0.9852 | val: loss=0.5548, acc=0.8854 | time: 28.37s\n",
      "  [checkpoint] New best (acc=0.8854) saved -> imagenette2_inceptionv3_best.pth\n"
     ]
    },
    {
     "data": {
      "application/vnd.jupyter.widget-view+json": {
       "model_id": "b48b3515942c4a87a0c5458eae3583c9",
       "version_major": 2,
       "version_minor": 0
      },
      "text/plain": [
       "[epoch 065 | train]:   0%|          | 0/296 [00:00<?, ?it/s]"
      ]
     },
     "metadata": {},
     "output_type": "display_data"
    },
    {
     "data": {
      "application/vnd.jupyter.widget-view+json": {
       "model_id": "3f04b5c06d96407fbf54dcd9531e4586",
       "version_major": 2,
       "version_minor": 0
      },
      "text/plain": [
       "[epoch 065 | val  ]:   0%|          | 0/62 [00:00<?, ?it/s]"
      ]
     },
     "metadata": {},
     "output_type": "display_data"
    },
    {
     "name": "stdout",
     "output_type": "stream",
     "text": [
      "[epoch 065] train: loss=0.3339, acc=0.9848 | val: loss=0.6141, acc=0.8818 | time: 28.64s\n",
      "  [early-stop] No improvement (1/25) on acc; best=0.8854, current=0.8818\n"
     ]
    },
    {
     "data": {
      "application/vnd.jupyter.widget-view+json": {
       "model_id": "4e3d8ed2b75a47109cc247f7c51f4637",
       "version_major": 2,
       "version_minor": 0
      },
      "text/plain": [
       "[epoch 066 | train]:   0%|          | 0/296 [00:00<?, ?it/s]"
      ]
     },
     "metadata": {},
     "output_type": "display_data"
    },
    {
     "data": {
      "application/vnd.jupyter.widget-view+json": {
       "model_id": "1bd763dbdcd04e919f5a0ad561e132d6",
       "version_major": 2,
       "version_minor": 0
      },
      "text/plain": [
       "[epoch 066 | val  ]:   0%|          | 0/62 [00:00<?, ?it/s]"
      ]
     },
     "metadata": {},
     "output_type": "display_data"
    },
    {
     "name": "stdout",
     "output_type": "stream",
     "text": [
      "[epoch 066] train: loss=0.3268, acc=0.9868 | val: loss=0.6812, acc=0.8578 | time: 28.14s\n",
      "  [early-stop] No improvement (2/25) on acc; best=0.8854, current=0.8578\n"
     ]
    },
    {
     "data": {
      "application/vnd.jupyter.widget-view+json": {
       "model_id": "a4d4b24973bf44d2ae047ec20334bf42",
       "version_major": 2,
       "version_minor": 0
      },
      "text/plain": [
       "[epoch 067 | train]:   0%|          | 0/296 [00:00<?, ?it/s]"
      ]
     },
     "metadata": {},
     "output_type": "display_data"
    },
    {
     "data": {
      "application/vnd.jupyter.widget-view+json": {
       "model_id": "14ca4e6d47564f10a228865ab76b9e68",
       "version_major": 2,
       "version_minor": 0
      },
      "text/plain": [
       "[epoch 067 | val  ]:   0%|          | 0/62 [00:00<?, ?it/s]"
      ]
     },
     "metadata": {},
     "output_type": "display_data"
    },
    {
     "name": "stdout",
     "output_type": "stream",
     "text": [
      "[epoch 067] train: loss=0.3457, acc=0.9817 | val: loss=0.6288, acc=0.8713 | time: 28.59s\n",
      "  [early-stop] No improvement (3/25) on acc; best=0.8854, current=0.8713\n"
     ]
    },
    {
     "data": {
      "application/vnd.jupyter.widget-view+json": {
       "model_id": "f1a252ad67324780a3b41fc3719863dd",
       "version_major": 2,
       "version_minor": 0
      },
      "text/plain": [
       "[epoch 068 | train]:   0%|          | 0/296 [00:00<?, ?it/s]"
      ]
     },
     "metadata": {},
     "output_type": "display_data"
    },
    {
     "data": {
      "application/vnd.jupyter.widget-view+json": {
       "model_id": "7b99c11642124abc806909cb00e2a61e",
       "version_major": 2,
       "version_minor": 0
      },
      "text/plain": [
       "[epoch 068 | val  ]:   0%|          | 0/62 [00:00<?, ?it/s]"
      ]
     },
     "metadata": {},
     "output_type": "display_data"
    },
    {
     "name": "stdout",
     "output_type": "stream",
     "text": [
      "[epoch 068] train: loss=0.3428, acc=0.9814 | val: loss=0.5800, acc=0.8785 | time: 27.87s\n",
      "  [early-stop] No improvement (4/25) on acc; best=0.8854, current=0.8785\n"
     ]
    },
    {
     "data": {
      "application/vnd.jupyter.widget-view+json": {
       "model_id": "c07b3b5d12eb4b1c931955fd7022f2a5",
       "version_major": 2,
       "version_minor": 0
      },
      "text/plain": [
       "[epoch 069 | train]:   0%|          | 0/296 [00:00<?, ?it/s]"
      ]
     },
     "metadata": {},
     "output_type": "display_data"
    },
    {
     "data": {
      "application/vnd.jupyter.widget-view+json": {
       "model_id": "c02f591e9be04e1b97e8ba84a37bf573",
       "version_major": 2,
       "version_minor": 0
      },
      "text/plain": [
       "[epoch 069 | val  ]:   0%|          | 0/62 [00:00<?, ?it/s]"
      ]
     },
     "metadata": {},
     "output_type": "display_data"
    },
    {
     "name": "stdout",
     "output_type": "stream",
     "text": [
      "[epoch 069] train: loss=0.3167, acc=0.9900 | val: loss=0.6160, acc=0.8741 | time: 28.10s\n",
      "  [early-stop] No improvement (5/25) on acc; best=0.8854, current=0.8741\n"
     ]
    },
    {
     "data": {
      "application/vnd.jupyter.widget-view+json": {
       "model_id": "215daf28ce5f459693da323218a2233f",
       "version_major": 2,
       "version_minor": 0
      },
      "text/plain": [
       "[epoch 070 | train]:   0%|          | 0/296 [00:00<?, ?it/s]"
      ]
     },
     "metadata": {},
     "output_type": "display_data"
    },
    {
     "data": {
      "application/vnd.jupyter.widget-view+json": {
       "model_id": "6069af684fd149f1be69e9cc32be1a80",
       "version_major": 2,
       "version_minor": 0
      },
      "text/plain": [
       "[epoch 070 | val  ]:   0%|          | 0/62 [00:00<?, ?it/s]"
      ]
     },
     "metadata": {},
     "output_type": "display_data"
    },
    {
     "name": "stdout",
     "output_type": "stream",
     "text": [
      "[epoch 070] train: loss=0.3407, acc=0.9824 | val: loss=0.6068, acc=0.8739 | time: 29.12s\n",
      "  [early-stop] No improvement (6/25) on acc; best=0.8854, current=0.8739\n"
     ]
    },
    {
     "data": {
      "application/vnd.jupyter.widget-view+json": {
       "model_id": "9cd91318e6994841ac5bb41e560bcdd5",
       "version_major": 2,
       "version_minor": 0
      },
      "text/plain": [
       "[epoch 071 | train]:   0%|          | 0/296 [00:00<?, ?it/s]"
      ]
     },
     "metadata": {},
     "output_type": "display_data"
    },
    {
     "data": {
      "application/vnd.jupyter.widget-view+json": {
       "model_id": "f0fbe88b62154156b304c7574dc2297d",
       "version_major": 2,
       "version_minor": 0
      },
      "text/plain": [
       "[epoch 071 | val  ]:   0%|          | 0/62 [00:00<?, ?it/s]"
      ]
     },
     "metadata": {},
     "output_type": "display_data"
    },
    {
     "name": "stdout",
     "output_type": "stream",
     "text": [
      "[epoch 071] train: loss=0.3237, acc=0.9870 | val: loss=0.6079, acc=0.8797 | time: 27.55s\n",
      "  [early-stop] No improvement (7/25) on acc; best=0.8854, current=0.8797\n"
     ]
    },
    {
     "data": {
      "application/vnd.jupyter.widget-view+json": {
       "model_id": "c3f0f23ee25e4074a6a117e8fb746a05",
       "version_major": 2,
       "version_minor": 0
      },
      "text/plain": [
       "[epoch 072 | train]:   0%|          | 0/296 [00:00<?, ?it/s]"
      ]
     },
     "metadata": {},
     "output_type": "display_data"
    },
    {
     "data": {
      "application/vnd.jupyter.widget-view+json": {
       "model_id": "7dab87bad61344698f440452be99e4e3",
       "version_major": 2,
       "version_minor": 0
      },
      "text/plain": [
       "[epoch 072 | val  ]:   0%|          | 0/62 [00:00<?, ?it/s]"
      ]
     },
     "metadata": {},
     "output_type": "display_data"
    },
    {
     "name": "stdout",
     "output_type": "stream",
     "text": [
      "[epoch 072] train: loss=0.3229, acc=0.9872 | val: loss=0.5570, acc=0.8866 | time: 28.57s\n",
      "  [checkpoint] New best (acc=0.8866) saved -> imagenette2_inceptionv3_best.pth\n"
     ]
    },
    {
     "data": {
      "application/vnd.jupyter.widget-view+json": {
       "model_id": "945d271d3708474f8776c331c65360c9",
       "version_major": 2,
       "version_minor": 0
      },
      "text/plain": [
       "[epoch 073 | train]:   0%|          | 0/296 [00:00<?, ?it/s]"
      ]
     },
     "metadata": {},
     "output_type": "display_data"
    },
    {
     "data": {
      "application/vnd.jupyter.widget-view+json": {
       "model_id": "b18c4adcd87e47ec8ef780d5fb249cc6",
       "version_major": 2,
       "version_minor": 0
      },
      "text/plain": [
       "[epoch 073 | val  ]:   0%|          | 0/62 [00:00<?, ?it/s]"
      ]
     },
     "metadata": {},
     "output_type": "display_data"
    },
    {
     "name": "stdout",
     "output_type": "stream",
     "text": [
      "[epoch 073] train: loss=0.3387, acc=0.9839 | val: loss=0.6078, acc=0.8772 | time: 28.14s\n",
      "  [early-stop] No improvement (1/25) on acc; best=0.8866, current=0.8772\n"
     ]
    },
    {
     "data": {
      "application/vnd.jupyter.widget-view+json": {
       "model_id": "640bebe795074e52b5cafc3d3f952521",
       "version_major": 2,
       "version_minor": 0
      },
      "text/plain": [
       "[epoch 074 | train]:   0%|          | 0/296 [00:00<?, ?it/s]"
      ]
     },
     "metadata": {},
     "output_type": "display_data"
    },
    {
     "data": {
      "application/vnd.jupyter.widget-view+json": {
       "model_id": "5967000c297b4fac8af9e1d03ecb7c69",
       "version_major": 2,
       "version_minor": 0
      },
      "text/plain": [
       "[epoch 074 | val  ]:   0%|          | 0/62 [00:00<?, ?it/s]"
      ]
     },
     "metadata": {},
     "output_type": "display_data"
    },
    {
     "name": "stdout",
     "output_type": "stream",
     "text": [
      "[epoch 074] train: loss=0.3260, acc=0.9871 | val: loss=0.6100, acc=0.8746 | time: 29.42s\n",
      "  [early-stop] No improvement (2/25) on acc; best=0.8866, current=0.8746\n"
     ]
    },
    {
     "data": {
      "application/vnd.jupyter.widget-view+json": {
       "model_id": "67acb4cd34ce4ac597ca578edd964356",
       "version_major": 2,
       "version_minor": 0
      },
      "text/plain": [
       "[epoch 075 | train]:   0%|          | 0/296 [00:00<?, ?it/s]"
      ]
     },
     "metadata": {},
     "output_type": "display_data"
    },
    {
     "data": {
      "application/vnd.jupyter.widget-view+json": {
       "model_id": "c91da9835ef144cd837bb48849d43e66",
       "version_major": 2,
       "version_minor": 0
      },
      "text/plain": [
       "[epoch 075 | val  ]:   0%|          | 0/62 [00:00<?, ?it/s]"
      ]
     },
     "metadata": {},
     "output_type": "display_data"
    },
    {
     "name": "stdout",
     "output_type": "stream",
     "text": [
      "[epoch 075] train: loss=0.3246, acc=0.9870 | val: loss=0.6455, acc=0.8685 | time: 28.32s\n",
      "  [early-stop] No improvement (3/25) on acc; best=0.8866, current=0.8685\n"
     ]
    },
    {
     "data": {
      "application/vnd.jupyter.widget-view+json": {
       "model_id": "e1472b300f164030983b71d284254743",
       "version_major": 2,
       "version_minor": 0
      },
      "text/plain": [
       "[epoch 076 | train]:   0%|          | 0/296 [00:00<?, ?it/s]"
      ]
     },
     "metadata": {},
     "output_type": "display_data"
    },
    {
     "data": {
      "application/vnd.jupyter.widget-view+json": {
       "model_id": "ff80bb68609c44c9b302cf8d0fcd88f8",
       "version_major": 2,
       "version_minor": 0
      },
      "text/plain": [
       "[epoch 076 | val  ]:   0%|          | 0/62 [00:00<?, ?it/s]"
      ]
     },
     "metadata": {},
     "output_type": "display_data"
    },
    {
     "name": "stdout",
     "output_type": "stream",
     "text": [
      "[epoch 076] train: loss=0.3343, acc=0.9841 | val: loss=0.5671, acc=0.8815 | time: 27.60s\n",
      "  [early-stop] No improvement (4/25) on acc; best=0.8866, current=0.8815\n"
     ]
    },
    {
     "data": {
      "application/vnd.jupyter.widget-view+json": {
       "model_id": "2269509724724d7da71d1ff7ca73094a",
       "version_major": 2,
       "version_minor": 0
      },
      "text/plain": [
       "[epoch 077 | train]:   0%|          | 0/296 [00:00<?, ?it/s]"
      ]
     },
     "metadata": {},
     "output_type": "display_data"
    },
    {
     "data": {
      "application/vnd.jupyter.widget-view+json": {
       "model_id": "66a66ea9b0964031a320d12b00ac6d80",
       "version_major": 2,
       "version_minor": 0
      },
      "text/plain": [
       "[epoch 077 | val  ]:   0%|          | 0/62 [00:00<?, ?it/s]"
      ]
     },
     "metadata": {},
     "output_type": "display_data"
    },
    {
     "name": "stdout",
     "output_type": "stream",
     "text": [
      "[epoch 077] train: loss=0.3157, acc=0.9890 | val: loss=0.5629, acc=0.8889 | time: 28.19s\n",
      "  [checkpoint] New best (acc=0.8889) saved -> imagenette2_inceptionv3_best.pth\n"
     ]
    },
    {
     "data": {
      "application/vnd.jupyter.widget-view+json": {
       "model_id": "14bf64532fe0428ab6616105357306c5",
       "version_major": 2,
       "version_minor": 0
      },
      "text/plain": [
       "[epoch 078 | train]:   0%|          | 0/296 [00:00<?, ?it/s]"
      ]
     },
     "metadata": {},
     "output_type": "display_data"
    },
    {
     "data": {
      "application/vnd.jupyter.widget-view+json": {
       "model_id": "fa959ab969324433bd43c1c53e063c60",
       "version_major": 2,
       "version_minor": 0
      },
      "text/plain": [
       "[epoch 078 | val  ]:   0%|          | 0/62 [00:00<?, ?it/s]"
      ]
     },
     "metadata": {},
     "output_type": "display_data"
    },
    {
     "name": "stdout",
     "output_type": "stream",
     "text": [
      "[epoch 078] train: loss=0.3041, acc=0.9913 | val: loss=0.6169, acc=0.8736 | time: 27.75s\n",
      "  [early-stop] No improvement (1/25) on acc; best=0.8889, current=0.8736\n"
     ]
    },
    {
     "data": {
      "application/vnd.jupyter.widget-view+json": {
       "model_id": "c4a2fc034cf04d8aac5e3546f7a41b85",
       "version_major": 2,
       "version_minor": 0
      },
      "text/plain": [
       "[epoch 079 | train]:   0%|          | 0/296 [00:00<?, ?it/s]"
      ]
     },
     "metadata": {},
     "output_type": "display_data"
    },
    {
     "data": {
      "application/vnd.jupyter.widget-view+json": {
       "model_id": "c0e7346a29d74985a4f62eec5c996e30",
       "version_major": 2,
       "version_minor": 0
      },
      "text/plain": [
       "[epoch 079 | val  ]:   0%|          | 0/62 [00:00<?, ?it/s]"
      ]
     },
     "metadata": {},
     "output_type": "display_data"
    },
    {
     "name": "stdout",
     "output_type": "stream",
     "text": [
      "[epoch 079] train: loss=0.3357, acc=0.9848 | val: loss=0.6023, acc=0.8706 | time: 27.88s\n",
      "  [early-stop] No improvement (2/25) on acc; best=0.8889, current=0.8706\n"
     ]
    },
    {
     "data": {
      "application/vnd.jupyter.widget-view+json": {
       "model_id": "887e3e08756b436ebdccb6f67f615291",
       "version_major": 2,
       "version_minor": 0
      },
      "text/plain": [
       "[epoch 080 | train]:   0%|          | 0/296 [00:00<?, ?it/s]"
      ]
     },
     "metadata": {},
     "output_type": "display_data"
    },
    {
     "data": {
      "application/vnd.jupyter.widget-view+json": {
       "model_id": "80d4916751cf48508f0ea58c53091848",
       "version_major": 2,
       "version_minor": 0
      },
      "text/plain": [
       "[epoch 080 | val  ]:   0%|          | 0/62 [00:00<?, ?it/s]"
      ]
     },
     "metadata": {},
     "output_type": "display_data"
    },
    {
     "name": "stdout",
     "output_type": "stream",
     "text": [
      "[epoch 080] train: loss=0.3259, acc=0.9860 | val: loss=0.6093, acc=0.8736 | time: 27.79s\n",
      "  [early-stop] No improvement (3/25) on acc; best=0.8889, current=0.8736\n"
     ]
    },
    {
     "data": {
      "application/vnd.jupyter.widget-view+json": {
       "model_id": "42accca641504bb1bd0f58bef6d4c9a0",
       "version_major": 2,
       "version_minor": 0
      },
      "text/plain": [
       "[epoch 081 | train]:   0%|          | 0/296 [00:00<?, ?it/s]"
      ]
     },
     "metadata": {},
     "output_type": "display_data"
    },
    {
     "data": {
      "application/vnd.jupyter.widget-view+json": {
       "model_id": "7987d94196064f1087844d321685c5b8",
       "version_major": 2,
       "version_minor": 0
      },
      "text/plain": [
       "[epoch 081 | val  ]:   0%|          | 0/62 [00:00<?, ?it/s]"
      ]
     },
     "metadata": {},
     "output_type": "display_data"
    },
    {
     "name": "stdout",
     "output_type": "stream",
     "text": [
      "[epoch 081] train: loss=0.3382, acc=0.9824 | val: loss=0.5782, acc=0.8780 | time: 49.08s\n",
      "  [early-stop] No improvement (4/25) on acc; best=0.8889, current=0.8780\n"
     ]
    },
    {
     "data": {
      "application/vnd.jupyter.widget-view+json": {
       "model_id": "b505f9ccdf2d405ca2f5bc19af0554f2",
       "version_major": 2,
       "version_minor": 0
      },
      "text/plain": [
       "[epoch 082 | train]:   0%|          | 0/296 [00:00<?, ?it/s]"
      ]
     },
     "metadata": {},
     "output_type": "display_data"
    },
    {
     "data": {
      "application/vnd.jupyter.widget-view+json": {
       "model_id": "e491d38b80a9444dbacb4cb4ba1f596f",
       "version_major": 2,
       "version_minor": 0
      },
      "text/plain": [
       "[epoch 082 | val  ]:   0%|          | 0/62 [00:00<?, ?it/s]"
      ]
     },
     "metadata": {},
     "output_type": "display_data"
    },
    {
     "name": "stdout",
     "output_type": "stream",
     "text": [
      "[epoch 082] train: loss=0.3246, acc=0.9865 | val: loss=0.6383, acc=0.8660 | time: 28.41s\n",
      "  [early-stop] No improvement (5/25) on acc; best=0.8889, current=0.8660\n"
     ]
    },
    {
     "data": {
      "application/vnd.jupyter.widget-view+json": {
       "model_id": "99f4c0c1eb48431c82c04eadfd6d237d",
       "version_major": 2,
       "version_minor": 0
      },
      "text/plain": [
       "[epoch 083 | train]:   0%|          | 0/296 [00:00<?, ?it/s]"
      ]
     },
     "metadata": {},
     "output_type": "display_data"
    },
    {
     "data": {
      "application/vnd.jupyter.widget-view+json": {
       "model_id": "37b703c34e1045be955f5700904a1023",
       "version_major": 2,
       "version_minor": 0
      },
      "text/plain": [
       "[epoch 083 | val  ]:   0%|          | 0/62 [00:00<?, ?it/s]"
      ]
     },
     "metadata": {},
     "output_type": "display_data"
    },
    {
     "name": "stdout",
     "output_type": "stream",
     "text": [
      "[epoch 083] train: loss=0.3129, acc=0.9898 | val: loss=0.5754, acc=0.8871 | time: 27.87s\n",
      "  [early-stop] No improvement (6/25) on acc; best=0.8889, current=0.8871\n"
     ]
    },
    {
     "data": {
      "application/vnd.jupyter.widget-view+json": {
       "model_id": "e0edffb072074d17b80f060e1ca57695",
       "version_major": 2,
       "version_minor": 0
      },
      "text/plain": [
       "[epoch 084 | train]:   0%|          | 0/296 [00:00<?, ?it/s]"
      ]
     },
     "metadata": {},
     "output_type": "display_data"
    },
    {
     "data": {
      "application/vnd.jupyter.widget-view+json": {
       "model_id": "75d33d2857bb47e19170d23f7c22be0b",
       "version_major": 2,
       "version_minor": 0
      },
      "text/plain": [
       "[epoch 084 | val  ]:   0%|          | 0/62 [00:00<?, ?it/s]"
      ]
     },
     "metadata": {},
     "output_type": "display_data"
    },
    {
     "name": "stdout",
     "output_type": "stream",
     "text": [
      "[epoch 084] train: loss=0.3104, acc=0.9905 | val: loss=0.6016, acc=0.8803 | time: 27.75s\n",
      "  [early-stop] No improvement (7/25) on acc; best=0.8889, current=0.8803\n"
     ]
    },
    {
     "data": {
      "application/vnd.jupyter.widget-view+json": {
       "model_id": "aa9a42a0828345418d63dfeae40c70d7",
       "version_major": 2,
       "version_minor": 0
      },
      "text/plain": [
       "[epoch 085 | train]:   0%|          | 0/296 [00:00<?, ?it/s]"
      ]
     },
     "metadata": {},
     "output_type": "display_data"
    },
    {
     "data": {
      "application/vnd.jupyter.widget-view+json": {
       "model_id": "6133900a0471404ebd7c02fc63bc112e",
       "version_major": 2,
       "version_minor": 0
      },
      "text/plain": [
       "[epoch 085 | val  ]:   0%|          | 0/62 [00:00<?, ?it/s]"
      ]
     },
     "metadata": {},
     "output_type": "display_data"
    },
    {
     "name": "stdout",
     "output_type": "stream",
     "text": [
      "[epoch 085] train: loss=0.3130, acc=0.9894 | val: loss=0.5605, acc=0.8864 | time: 27.54s\n",
      "  [early-stop] No improvement (8/25) on acc; best=0.8889, current=0.8864\n"
     ]
    },
    {
     "data": {
      "application/vnd.jupyter.widget-view+json": {
       "model_id": "3ea78869064a4e969cf32f60058777b9",
       "version_major": 2,
       "version_minor": 0
      },
      "text/plain": [
       "[epoch 086 | train]:   0%|          | 0/296 [00:00<?, ?it/s]"
      ]
     },
     "metadata": {},
     "output_type": "display_data"
    },
    {
     "data": {
      "application/vnd.jupyter.widget-view+json": {
       "model_id": "ad85b39273674b869fc2dbf663b786b2",
       "version_major": 2,
       "version_minor": 0
      },
      "text/plain": [
       "[epoch 086 | val  ]:   0%|          | 0/62 [00:00<?, ?it/s]"
      ]
     },
     "metadata": {},
     "output_type": "display_data"
    },
    {
     "name": "stdout",
     "output_type": "stream",
     "text": [
      "[epoch 086] train: loss=0.3130, acc=0.9891 | val: loss=0.5938, acc=0.8780 | time: 27.92s\n",
      "  [early-stop] No improvement (9/25) on acc; best=0.8889, current=0.8780\n"
     ]
    },
    {
     "data": {
      "application/vnd.jupyter.widget-view+json": {
       "model_id": "52f8a75a0ab6484ab63a0447a4934028",
       "version_major": 2,
       "version_minor": 0
      },
      "text/plain": [
       "[epoch 087 | train]:   0%|          | 0/296 [00:00<?, ?it/s]"
      ]
     },
     "metadata": {},
     "output_type": "display_data"
    },
    {
     "data": {
      "application/vnd.jupyter.widget-view+json": {
       "model_id": "fdf1758784a14c6d93d73b5208503bcc",
       "version_major": 2,
       "version_minor": 0
      },
      "text/plain": [
       "[epoch 087 | val  ]:   0%|          | 0/62 [00:00<?, ?it/s]"
      ]
     },
     "metadata": {},
     "output_type": "display_data"
    },
    {
     "name": "stdout",
     "output_type": "stream",
     "text": [
      "[epoch 087] train: loss=0.3142, acc=0.9891 | val: loss=0.6104, acc=0.8757 | time: 27.75s\n",
      "  [early-stop] No improvement (10/25) on acc; best=0.8889, current=0.8757\n"
     ]
    },
    {
     "data": {
      "application/vnd.jupyter.widget-view+json": {
       "model_id": "706bf95b73814f6baedfa721ecce6b5f",
       "version_major": 2,
       "version_minor": 0
      },
      "text/plain": [
       "[epoch 088 | train]:   0%|          | 0/296 [00:00<?, ?it/s]"
      ]
     },
     "metadata": {},
     "output_type": "display_data"
    },
    {
     "data": {
      "application/vnd.jupyter.widget-view+json": {
       "model_id": "494c8e3d05fd4887b115fda4e92e84f1",
       "version_major": 2,
       "version_minor": 0
      },
      "text/plain": [
       "[epoch 088 | val  ]:   0%|          | 0/62 [00:00<?, ?it/s]"
      ]
     },
     "metadata": {},
     "output_type": "display_data"
    },
    {
     "name": "stdout",
     "output_type": "stream",
     "text": [
      "[epoch 088] train: loss=0.3222, acc=0.9860 | val: loss=0.6254, acc=0.8739 | time: 27.59s\n",
      "Epoch 00088: reducing learning rate of group 0 to 3.0000e-05.\n",
      "  [early-stop] No improvement (11/25) on acc; best=0.8889, current=0.8739\n"
     ]
    },
    {
     "data": {
      "application/vnd.jupyter.widget-view+json": {
       "model_id": "9a6d328cdff14540964d329ecfb05f05",
       "version_major": 2,
       "version_minor": 0
      },
      "text/plain": [
       "[epoch 089 | train]:   0%|          | 0/296 [00:00<?, ?it/s]"
      ]
     },
     "metadata": {},
     "output_type": "display_data"
    },
    {
     "data": {
      "application/vnd.jupyter.widget-view+json": {
       "model_id": "2295095534514543a090d26c202389e9",
       "version_major": 2,
       "version_minor": 0
      },
      "text/plain": [
       "[epoch 089 | val  ]:   0%|          | 0/62 [00:00<?, ?it/s]"
      ]
     },
     "metadata": {},
     "output_type": "display_data"
    },
    {
     "name": "stdout",
     "output_type": "stream",
     "text": [
      "[epoch 089] train: loss=0.2902, acc=0.9950 | val: loss=0.5392, acc=0.8963 | time: 28.11s\n",
      "  [checkpoint] New best (acc=0.8963) saved -> imagenette2_inceptionv3_best.pth\n"
     ]
    },
    {
     "data": {
      "application/vnd.jupyter.widget-view+json": {
       "model_id": "52202522accc405a852d38ce0b68fe02",
       "version_major": 2,
       "version_minor": 0
      },
      "text/plain": [
       "[epoch 090 | train]:   0%|          | 0/296 [00:00<?, ?it/s]"
      ]
     },
     "metadata": {},
     "output_type": "display_data"
    },
    {
     "data": {
      "application/vnd.jupyter.widget-view+json": {
       "model_id": "1ac7df9809614e7b9c8d7d145f4f6ca1",
       "version_major": 2,
       "version_minor": 0
      },
      "text/plain": [
       "[epoch 090 | val  ]:   0%|          | 0/62 [00:00<?, ?it/s]"
      ]
     },
     "metadata": {},
     "output_type": "display_data"
    },
    {
     "name": "stdout",
     "output_type": "stream",
     "text": [
      "[epoch 090] train: loss=0.2787, acc=0.9975 | val: loss=0.5281, acc=0.8991 | time: 27.80s\n",
      "  [checkpoint] New best (acc=0.8991) saved -> imagenette2_inceptionv3_best.pth\n"
     ]
    },
    {
     "data": {
      "application/vnd.jupyter.widget-view+json": {
       "model_id": "7237965e5cc8405d8daf90a530bc25d7",
       "version_major": 2,
       "version_minor": 0
      },
      "text/plain": [
       "[epoch 091 | train]:   0%|          | 0/296 [00:00<?, ?it/s]"
      ]
     },
     "metadata": {},
     "output_type": "display_data"
    },
    {
     "data": {
      "application/vnd.jupyter.widget-view+json": {
       "model_id": "bbd97af78cee4e8d9261de3d0a34c211",
       "version_major": 2,
       "version_minor": 0
      },
      "text/plain": [
       "[epoch 091 | val  ]:   0%|          | 0/62 [00:00<?, ?it/s]"
      ]
     },
     "metadata": {},
     "output_type": "display_data"
    },
    {
     "name": "stdout",
     "output_type": "stream",
     "text": [
      "[epoch 091] train: loss=0.2735, acc=0.9990 | val: loss=0.5328, acc=0.8973 | time: 27.87s\n",
      "  [early-stop] No improvement (1/25) on acc; best=0.8991, current=0.8973\n"
     ]
    },
    {
     "data": {
      "application/vnd.jupyter.widget-view+json": {
       "model_id": "00f363f7110843a6acd9db60e5c3ae80",
       "version_major": 2,
       "version_minor": 0
      },
      "text/plain": [
       "[epoch 092 | train]:   0%|          | 0/296 [00:00<?, ?it/s]"
      ]
     },
     "metadata": {},
     "output_type": "display_data"
    },
    {
     "data": {
      "application/vnd.jupyter.widget-view+json": {
       "model_id": "d987dd210fb4400dadf5072b014aca7c",
       "version_major": 2,
       "version_minor": 0
      },
      "text/plain": [
       "[epoch 092 | val  ]:   0%|          | 0/62 [00:00<?, ?it/s]"
      ]
     },
     "metadata": {},
     "output_type": "display_data"
    },
    {
     "name": "stdout",
     "output_type": "stream",
     "text": [
      "[epoch 092] train: loss=0.2746, acc=0.9987 | val: loss=0.5210, acc=0.8983 | time: 27.92s\n",
      "  [early-stop] No improvement (2/25) on acc; best=0.8991, current=0.8983\n"
     ]
    },
    {
     "data": {
      "application/vnd.jupyter.widget-view+json": {
       "model_id": "109ee794d7104810a3e01353571eb172",
       "version_major": 2,
       "version_minor": 0
      },
      "text/plain": [
       "[epoch 093 | train]:   0%|          | 0/296 [00:00<?, ?it/s]"
      ]
     },
     "metadata": {},
     "output_type": "display_data"
    },
    {
     "data": {
      "application/vnd.jupyter.widget-view+json": {
       "model_id": "5459bae260ef46a0abe9cd13087bd9e9",
       "version_major": 2,
       "version_minor": 0
      },
      "text/plain": [
       "[epoch 093 | val  ]:   0%|          | 0/62 [00:00<?, ?it/s]"
      ]
     },
     "metadata": {},
     "output_type": "display_data"
    },
    {
     "name": "stdout",
     "output_type": "stream",
     "text": [
      "[epoch 093] train: loss=0.2734, acc=0.9988 | val: loss=0.5167, acc=0.9027 | time: 27.72s\n",
      "  [checkpoint] New best (acc=0.9027) saved -> imagenette2_inceptionv3_best.pth\n"
     ]
    },
    {
     "data": {
      "application/vnd.jupyter.widget-view+json": {
       "model_id": "2b2d4185c4004d42a643d9f0a5e902c1",
       "version_major": 2,
       "version_minor": 0
      },
      "text/plain": [
       "[epoch 094 | train]:   0%|          | 0/296 [00:00<?, ?it/s]"
      ]
     },
     "metadata": {},
     "output_type": "display_data"
    },
    {
     "data": {
      "application/vnd.jupyter.widget-view+json": {
       "model_id": "5ba59ab94f4e46868a833d852d4fb1d8",
       "version_major": 2,
       "version_minor": 0
      },
      "text/plain": [
       "[epoch 094 | val  ]:   0%|          | 0/62 [00:00<?, ?it/s]"
      ]
     },
     "metadata": {},
     "output_type": "display_data"
    },
    {
     "name": "stdout",
     "output_type": "stream",
     "text": [
      "[epoch 094] train: loss=0.2729, acc=0.9993 | val: loss=0.5097, acc=0.9019 | time: 28.18s\n",
      "  [early-stop] No improvement (1/25) on acc; best=0.9027, current=0.9019\n"
     ]
    },
    {
     "data": {
      "application/vnd.jupyter.widget-view+json": {
       "model_id": "45e5cf12a9bd44df83d8eadf5a9cb50d",
       "version_major": 2,
       "version_minor": 0
      },
      "text/plain": [
       "[epoch 095 | train]:   0%|          | 0/296 [00:00<?, ?it/s]"
      ]
     },
     "metadata": {},
     "output_type": "display_data"
    },
    {
     "data": {
      "application/vnd.jupyter.widget-view+json": {
       "model_id": "6fef60f5181a44aeae090f10c65e043e",
       "version_major": 2,
       "version_minor": 0
      },
      "text/plain": [
       "[epoch 095 | val  ]:   0%|          | 0/62 [00:00<?, ?it/s]"
      ]
     },
     "metadata": {},
     "output_type": "display_data"
    },
    {
     "name": "stdout",
     "output_type": "stream",
     "text": [
      "[epoch 095] train: loss=0.2712, acc=0.9987 | val: loss=0.5208, acc=0.8999 | time: 27.90s\n",
      "  [early-stop] No improvement (2/25) on acc; best=0.9027, current=0.8999\n"
     ]
    },
    {
     "data": {
      "application/vnd.jupyter.widget-view+json": {
       "model_id": "ae9d02942a964973844bf06bd5ded774",
       "version_major": 2,
       "version_minor": 0
      },
      "text/plain": [
       "[epoch 096 | train]:   0%|          | 0/296 [00:00<?, ?it/s]"
      ]
     },
     "metadata": {},
     "output_type": "display_data"
    },
    {
     "data": {
      "application/vnd.jupyter.widget-view+json": {
       "model_id": "037bfbfe5db2460db17c91524c0d060b",
       "version_major": 2,
       "version_minor": 0
      },
      "text/plain": [
       "[epoch 096 | val  ]:   0%|          | 0/62 [00:00<?, ?it/s]"
      ]
     },
     "metadata": {},
     "output_type": "display_data"
    },
    {
     "name": "stdout",
     "output_type": "stream",
     "text": [
      "[epoch 096] train: loss=0.2702, acc=0.9996 | val: loss=0.5108, acc=0.9034 | time: 28.26s\n",
      "  [checkpoint] New best (acc=0.9034) saved -> imagenette2_inceptionv3_best.pth\n"
     ]
    },
    {
     "data": {
      "application/vnd.jupyter.widget-view+json": {
       "model_id": "a2dfac160d864b7795f6806cbb2e0735",
       "version_major": 2,
       "version_minor": 0
      },
      "text/plain": [
       "[epoch 097 | train]:   0%|          | 0/296 [00:00<?, ?it/s]"
      ]
     },
     "metadata": {},
     "output_type": "display_data"
    }
   ],
   "source": [
    "# ======================================================================\n",
    "# Run InceptionV3 on your ImageFolder dataset (Imagenette2)\n",
    "# ======================================================================\n",
    "\n",
    "model = InceptionV3(num_classes=10, aux_logits=True)  # enable aux head\n",
    "\n",
    "results_v3 = run_imagefolder_experiment(\n",
    "    data_dir=\"../data/imagenette2\",   # contains train/ and valid/ folders\n",
    "    model=model,\n",
    "    img_size=299, resize_side=320, augment=True,  # v3 uses 299x299 input\n",
    "    batch_train=32, batch_eval=64,\n",
    "    optimizer_name=\"adamw\", lr=3e-4, weight_decay=5e-4, label_smoothing=0.03,\n",
    "    epochs=1000, patience=25,\n",
    "    monitor=\"acc\", min_delta=0.0,\n",
    "    lr_patience=10, lr_factor=0.1, lr_min=1e-6, lr_cooldown=1,\n",
    "    save_path=\"imagenette2_inceptionv3_best.pth\",\n",
    "    use_aux=True,\n",
    "    use_amp=True\n",
    ")"
   ]
  },
  {
   "cell_type": "code",
   "execution_count": null,
   "id": "07b91d19-86b7-469c-8542-88a35902c2ce",
   "metadata": {},
   "outputs": [],
   "source": [
    "# ======================================================================\n",
    "# Inception v4 — from scratch, for 299x299 RGB\n",
    "#  - Stem → 4x Inception-A → Reduction-A → 7x Inception-B → Reduction-B → 3x Inception-C\n",
    "#  - No auxiliary classifiers in original design (but could add for consistency)\n",
    "#  - Uses BatchNorm and ReLU\n",
    "#  - Outputs logits of shape [N, num_classes]\n",
    "# ======================================================================\n",
    "\n",
    "import torch\n",
    "import torch.nn as nn\n",
    "import torch.nn.functional as F\n",
    "\n",
    "# -------------------------\n",
    "# Convolution + BN + ReLU\n",
    "# -------------------------\n",
    "class ConvBNReLU(nn.Module):\n",
    "    def __init__(self, in_ch, out_ch, kernel_size, stride=1, padding=0):\n",
    "        super().__init__()\n",
    "        self.conv = nn.Conv2d(in_ch, out_ch, kernel_size, stride, padding, bias=False)\n",
    "        self.bn = nn.BatchNorm2d(out_ch)\n",
    "        self.relu = nn.ReLU(inplace=True)\n",
    "\n",
    "    def forward(self, x):\n",
    "        return self.relu(self.bn(self.conv(x)))\n",
    "\n",
    "# -------------------------\n",
    "# Stem\n",
    "# -------------------------\n",
    "class InceptionStem(nn.Module):\n",
    "    def __init__(self):\n",
    "        super().__init__()\n",
    "        self.conv1 = ConvBNReLU(3, 32, 3, stride=2)    # 149x149\n",
    "        self.conv2 = ConvBNReLU(32, 32, 3)             # 147x147\n",
    "        self.conv3 = ConvBNReLU(32, 64, 3, padding=1)  # 147x147\n",
    "\n",
    "        self.branch1_pool = nn.MaxPool2d(3, stride=2)  # 73x73\n",
    "        self.branch1_conv = ConvBNReLU(64, 96, 3, stride=2)  # 73x73\n",
    "\n",
    "        self.branch2a = nn.Sequential(\n",
    "            ConvBNReLU(160, 64, 1),\n",
    "            ConvBNReLU(64, 96, 3)\n",
    "        )\n",
    "        self.branch2b = nn.Sequential(\n",
    "            ConvBNReLU(160, 64, 1),\n",
    "            ConvBNReLU(64, 64, (7, 1), padding=(3, 0)),\n",
    "            ConvBNReLU(64, 64, (1, 7), padding=(0, 3)),\n",
    "            ConvBNReLU(64, 96, 3)\n",
    "        )\n",
    "\n",
    "        self.final_branch1 = ConvBNReLU(192, 192, 3, stride=2)\n",
    "        self.final_branch2 = nn.MaxPool2d(3, stride=2)\n",
    "\n",
    "    def forward(self, x):\n",
    "        x = self.conv1(x)\n",
    "        x = self.conv2(x)\n",
    "        x = self.conv3(x)\n",
    "        x = torch.cat([self.branch1_pool(x), self.branch1_conv(x)], 1)\n",
    "        x = torch.cat([self.branch2a(x), self.branch2b(x)], 1)\n",
    "        x = torch.cat([self.final_branch1(x), self.final_branch2(x)], 1)\n",
    "        return x\n",
    "\n",
    "# -------------------------\n",
    "# Inception-A\n",
    "# -------------------------\n",
    "class InceptionA(nn.Module):\n",
    "    def __init__(self, in_ch):\n",
    "        super().__init__()\n",
    "        self.branch1 = ConvBNReLU(in_ch, 96, 1)\n",
    "\n",
    "        self.branch2 = nn.Sequential(\n",
    "            ConvBNReLU(in_ch, 64, 1),\n",
    "            ConvBNReLU(64, 96, 3, padding=1)\n",
    "        )\n",
    "\n",
    "        self.branch3 = nn.Sequential(\n",
    "            ConvBNReLU(in_ch, 64, 1),\n",
    "            ConvBNReLU(64, 96, 3, padding=1),\n",
    "            ConvBNReLU(96, 96, 3, padding=1)\n",
    "        )\n",
    "\n",
    "        self.branch4 = nn.Sequential(\n",
    "            nn.AvgPool2d(3, stride=1, padding=1),\n",
    "            ConvBNReLU(in_ch, 96, 1)\n",
    "        )\n",
    "\n",
    "    def forward(self, x):\n",
    "        return torch.cat([\n",
    "            self.branch1(x),\n",
    "            self.branch2(x),\n",
    "            self.branch3(x),\n",
    "            self.branch4(x)\n",
    "        ], 1)\n",
    "\n",
    "# -------------------------\n",
    "# Reduction-A\n",
    "# -------------------------\n",
    "class ReductionA(nn.Module):\n",
    "    def __init__(self, in_ch):\n",
    "        super().__init__()\n",
    "        self.branch1 = ConvBNReLU(in_ch, 384, 3, stride=2)\n",
    "\n",
    "        self.branch2 = nn.Sequential(\n",
    "            ConvBNReLU(in_ch, 192, 1),\n",
    "            ConvBNReLU(192, 224, 3, padding=1),\n",
    "            ConvBNReLU(224, 256, 3, stride=2)\n",
    "        )\n",
    "\n",
    "        self.branch3 = nn.MaxPool2d(3, stride=2)\n",
    "\n",
    "    def forward(self, x):\n",
    "        return torch.cat([\n",
    "            self.branch1(x),\n",
    "            self.branch2(x),\n",
    "            self.branch3(x)\n",
    "        ], 1)\n",
    "\n",
    "# -------------------------\n",
    "# Inception-B\n",
    "# -------------------------\n",
    "class InceptionB(nn.Module):\n",
    "    def __init__(self, in_ch):\n",
    "        super().__init__()\n",
    "        self.branch1 = ConvBNReLU(in_ch, 384, 1)\n",
    "\n",
    "        self.branch2 = nn.Sequential(\n",
    "            ConvBNReLU(in_ch, 192, 1),\n",
    "            ConvBNReLU(192, 224, (1, 7), padding=(0, 3)),\n",
    "            ConvBNReLU(224, 256, (7, 1), padding=(3, 0))\n",
    "        )\n",
    "\n",
    "        self.branch3 = nn.Sequential(\n",
    "            ConvBNReLU(in_ch, 192, 1),\n",
    "            ConvBNReLU(192, 192, (7, 1), padding=(3, 0)),\n",
    "            ConvBNReLU(192, 224, (1, 7), padding=(0, 3)),\n",
    "            ConvBNReLU(224, 224, (7, 1), padding=(3, 0)),\n",
    "            ConvBNReLU(224, 256, (1, 7), padding=(0, 3))\n",
    "        )\n",
    "\n",
    "        self.branch4 = nn.Sequential(\n",
    "            nn.AvgPool2d(3, stride=1, padding=1),\n",
    "            ConvBNReLU(in_ch, 128, 1)\n",
    "        )\n",
    "\n",
    "    def forward(self, x):\n",
    "        return torch.cat([\n",
    "            self.branch1(x),\n",
    "            self.branch2(x),\n",
    "            self.branch3(x),\n",
    "            self.branch4(x)\n",
    "        ], 1)\n",
    "\n",
    "# -------------------------\n",
    "# Reduction-B\n",
    "# -------------------------\n",
    "class ReductionB(nn.Module):\n",
    "    def __init__(self, in_ch):\n",
    "        super().__init__()\n",
    "        self.branch1 = nn.Sequential(\n",
    "            ConvBNReLU(in_ch, 192, 1),\n",
    "            ConvBNReLU(192, 192, 3, stride=2)\n",
    "        )\n",
    "\n",
    "        self.branch2 = nn.Sequential(\n",
    "            ConvBNReLU(in_ch, 256, 1),\n",
    "            ConvBNReLU(256, 256, (1, 7), padding=(0, 3)),\n",
    "            ConvBNReLU(256, 320, (7, 1), padding=(3, 0)),\n",
    "            ConvBNReLU(320, 320, 3, stride=2)\n",
    "        )\n",
    "\n",
    "        self.branch3 = nn.MaxPool2d(3, stride=2)\n",
    "\n",
    "    def forward(self, x):\n",
    "        return torch.cat([\n",
    "            self.branch1(x),\n",
    "            self.branch2(x),\n",
    "            self.branch3(x)\n",
    "        ], 1)\n",
    "\n",
    "# -------------------------\n",
    "# Inception-C\n",
    "# -------------------------\n",
    "class InceptionC(nn.Module):\n",
    "    def __init__(self, in_ch):\n",
    "        super().__init__()\n",
    "        self.branch1 = ConvBNReLU(in_ch, 256, 1)\n",
    "\n",
    "        self.branch2 = nn.Sequential(\n",
    "            ConvBNReLU(in_ch, 384, 1),\n",
    "        )\n",
    "        self.branch2a = ConvBNReLU(384, 256, (1, 3), padding=(0, 1))\n",
    "        self.branch2b = ConvBNReLU(384, 256, (3, 1), padding=(1, 0))\n",
    "\n",
    "        self.branch3 = nn.Sequential(\n",
    "            ConvBNReLU(in_ch, 384, 1),\n",
    "            ConvBNReLU(384, 448, (3, 1), padding=(1, 0)),\n",
    "            ConvBNReLU(448, 512, (1, 3), padding=(0, 1)),\n",
    "        )\n",
    "        self.branch3a = ConvBNReLU(512, 256, (1, 3), padding=(0, 1))\n",
    "        self.branch3b = ConvBNReLU(512, 256, (3, 1), padding=(1, 0))\n",
    "\n",
    "        self.branch4 = nn.Sequential(\n",
    "            nn.AvgPool2d(3, stride=1, padding=1),\n",
    "            ConvBNReLU(in_ch, 256, 1)\n",
    "        )\n",
    "\n",
    "    def forward(self, x):\n",
    "        b1 = self.branch1(x)\n",
    "\n",
    "        b2 = self.branch2(x)\n",
    "        b2 = torch.cat([self.branch2a(b2), self.branch2b(b2)], 1)\n",
    "\n",
    "        b3 = self.branch3(x)\n",
    "        b3 = torch.cat([self.branch3a(b3), self.branch3b(b3)], 1)\n",
    "\n",
    "        b4 = self.branch4(x)\n",
    "\n",
    "        return torch.cat([b1, b2, b3, b4], 1)\n",
    "\n",
    "# -------------------------\n",
    "# Inception v4\n",
    "# -------------------------\n",
    "class InceptionV4(nn.Module):\n",
    "    def __init__(self, num_classes=1000):\n",
    "        super().__init__()\n",
    "        self.stem = InceptionStem()\n",
    "\n",
    "        self.inception_a = nn.Sequential(*[InceptionA(384) for _ in range(4)])\n",
    "        self.reduction_a = ReductionA(384)\n",
    "\n",
    "        self.inception_b = nn.Sequential(*[InceptionB(1024) for _ in range(7)])\n",
    "        self.reduction_b = ReductionB(1024)\n",
    "\n",
    "        self.inception_c = nn.Sequential(*[InceptionC(1536) for _ in range(3)])\n",
    "\n",
    "        self.avgpool = nn.AdaptiveAvgPool2d((1, 1))\n",
    "        self.dropout = nn.Dropout(0.8)\n",
    "        self.fc = nn.Linear(1536, num_classes)\n",
    "\n",
    "    def forward(self, x):\n",
    "        x = self.stem(x)\n",
    "        x = self.inception_a(x)\n",
    "        x = self.reduction_a(x)\n",
    "        x = self.inception_b(x)\n",
    "        x = self.reduction_b(x)\n",
    "        x = self.inception_c(x)\n",
    "        x = self.avgpool(x)\n",
    "        x = torch.flatten(x, 1)\n",
    "        x = self.dropout(x)\n",
    "        return self.fc(x)"
   ]
  },
  {
   "cell_type": "code",
   "execution_count": null,
   "id": "7132641b-2719-4c00-8f94-a1b5178c5e53",
   "metadata": {},
   "outputs": [],
   "source": [
    "# ======================================================================\n",
    "# Run InceptionV4 on your ImageFolder dataset (Imagenette2)\n",
    "# ======================================================================\n",
    "\n",
    "model = InceptionV4(num_classes=10)  # no aux_logits in v4 by default\n",
    "\n",
    "results_v4 = run_imagefolder_experiment(\n",
    "    data_dir=\"../data/imagenette2\",\n",
    "    model=model,\n",
    "    img_size=299, resize_side=320, augment=True,  # v4 also 299x299\n",
    "    batch_train=64, batch_eval=128,\n",
    "    optimizer_name=\"adamw\", lr=3e-4, weight_decay=5e-4, label_smoothing=0.03,\n",
    "    epochs=1000, patience=25,\n",
    "    monitor=\"acc\", min_delta=0.0,\n",
    "    lr_patience=10, lr_factor=0.1, lr_min=1e-6, lr_cooldown=1,\n",
    "    save_path=\"imagenette2_inceptionv4_best.pth\",\n",
    ")"
   ]
  },
  {
   "cell_type": "markdown",
   "id": "31871f37-529e-426d-b5f5-aec67619d87c",
   "metadata": {},
   "source": [
    "### ResNet"
   ]
  },
  {
   "cell_type": "code",
   "execution_count": 4,
   "id": "66f71d99-9cca-44a3-8571-f24a84a47a5b",
   "metadata": {},
   "outputs": [],
   "source": [
    "# ======================================================================\n",
    "# ResNet (ImageNet-style, 224x224 RGB)\n",
    "#  - BasicBlock (expansion=1) for ResNet-18/34\n",
    "#  - Bottleneck (expansion=4) for ResNet-50/101/152\n",
    "#  - Post-activation design (conv → BN → ReLU)\n",
    "#  - He (Kaiming) initialization for conv/linear\n",
    "#  - Optional zero_init_residual to start residual branches near identity\n",
    "#  - num_classes: output logits dimension\n",
    "# ======================================================================\n",
    "import torch\n",
    "import torch.nn as nn\n",
    "\n",
    "\n",
    "# ===================== 1) Building blocks =====================\n",
    "def conv3x3(in_planes, out_planes, stride=1, groups=1, dilation=1):\n",
    "    return nn.Conv2d(in_planes, out_planes, kernel_size=3, stride=stride,\n",
    "                     padding=dilation, groups=groups, bias=False, dilation=dilation)\n",
    "\n",
    "def conv1x1(in_planes, out_planes, stride=1):\n",
    "    return nn.Conv2d(in_planes, out_planes, kernel_size=1, stride=stride, bias=False)\n",
    "\n",
    "\n",
    "class BasicBlock(nn.Module):\n",
    "    \"\"\"ResNet-18/34 block.\"\"\"\n",
    "    expansion = 1\n",
    "    def __init__(self, inplanes, planes, stride=1, downsample=None,\n",
    "                 groups=1, base_width=64, dilation=1, norm_layer=None):\n",
    "        super().__init__()\n",
    "        if norm_layer is None:\n",
    "            norm_layer = nn.BatchNorm2d\n",
    "        if groups != 1 or base_width != 64:\n",
    "            raise ValueError(\"BasicBlock only supports groups=1 and base_width=64.\")\n",
    "        if dilation > 1:\n",
    "            raise NotImplementedError(\"Dilation > 1 not supported in BasicBlock.\")\n",
    "\n",
    "        self.conv1 = conv3x3(inplanes, planes, stride)\n",
    "        self.bn1   = norm_layer(planes)\n",
    "        self.relu  = nn.ReLU(inplace=True)\n",
    "        self.conv2 = conv3x3(planes, planes)\n",
    "        self.bn2   = norm_layer(planes)\n",
    "        self.downsample = downsample\n",
    "        self.stride = stride\n",
    "\n",
    "        # Init\n",
    "        nn.init.kaiming_normal_(self.conv1.weight, nonlinearity=\"relu\")\n",
    "        nn.init.kaiming_normal_(self.conv2.weight, nonlinearity=\"relu\")\n",
    "        nn.init.ones_(self.bn1.weight); nn.init.zeros_(self.bn1.bias)\n",
    "        nn.init.ones_(self.bn2.weight); nn.init.zeros_(self.bn2.bias)\n",
    "\n",
    "    def forward(self, x):\n",
    "        identity = x\n",
    "\n",
    "        out = self.relu(self.bn1(self.conv1(x)))\n",
    "        out = self.bn2(self.conv2(out))\n",
    "\n",
    "        if self.downsample is not None:\n",
    "            identity = self.downsample(x)\n",
    "\n",
    "        out = self.relu(out + identity)\n",
    "        return out\n",
    "\n",
    "\n",
    "class Bottleneck(nn.Module):\n",
    "    \"\"\"ResNet-50/101/152 block.\"\"\"\n",
    "    expansion = 4\n",
    "    def __init__(self, inplanes, planes, stride=1, downsample=None,\n",
    "                 groups=1, base_width=64, dilation=1, norm_layer=None):\n",
    "        super().__init__()\n",
    "        if norm_layer is None:\n",
    "            norm_layer = nn.BatchNorm2d\n",
    "        width = int(planes * (base_width / 64.)) * groups\n",
    "\n",
    "        self.conv1 = conv1x1(inplanes, width)\n",
    "        self.bn1   = norm_layer(width)\n",
    "\n",
    "        self.conv2 = nn.Conv2d(width, width, kernel_size=3, stride=stride,\n",
    "                               padding=dilation, groups=groups, bias=False, dilation=dilation)\n",
    "        self.bn2   = norm_layer(width)\n",
    "\n",
    "        self.conv3 = conv1x1(width, planes * self.expansion)\n",
    "        self.bn3   = norm_layer(planes * self.expansion)\n",
    "\n",
    "        self.relu = nn.ReLU(inplace=True)\n",
    "        self.downsample = downsample\n",
    "        self.stride = stride\n",
    "\n",
    "        # Init\n",
    "        nn.init.kaiming_normal_(self.conv1.weight, nonlinearity=\"relu\")\n",
    "        nn.init.kaiming_normal_(self.conv2.weight, nonlinearity=\"relu\")\n",
    "        nn.init.kaiming_normal_(self.conv3.weight, nonlinearity=\"relu\")\n",
    "        nn.init.ones_(self.bn1.weight); nn.init.zeros_(self.bn1.bias)\n",
    "        nn.init.ones_(self.bn2.weight); nn.init.zeros_(self.bn2.bias)\n",
    "        nn.init.ones_(self.bn3.weight); nn.init.zeros_(self.bn3.bias)\n",
    "\n",
    "    def forward(self, x):\n",
    "        identity = x\n",
    "\n",
    "        out = self.relu(self.bn1(self.conv1(x)))\n",
    "        out = self.relu(self.bn2(self.conv2(out)))\n",
    "        out = self.bn3(self.conv3(out))\n",
    "\n",
    "        if self.downsample is not None:\n",
    "            identity = self.downsample(x)\n",
    "\n",
    "        out = self.relu(out + identity)\n",
    "        return out\n",
    "\n",
    "\n",
    "# ===================== 2) ResNet backbone =====================\n",
    "class ResNet(nn.Module):\n",
    "    def __init__(self, block, layers, num_classes=1000,\n",
    "                 zero_init_residual=False,\n",
    "                 groups=1, width_per_group=64,\n",
    "                 replace_stride_with_dilation=None,\n",
    "                 norm_layer=None, in_channels=3):\n",
    "        \"\"\"\n",
    "        block: BasicBlock or Bottleneck\n",
    "        layers: list with number of blocks per stage, e.g. [2,2,2,2] for ResNet-18\n",
    "        \"\"\"\n",
    "        super().__init__()\n",
    "        if norm_layer is None:\n",
    "            norm_layer = nn.BatchNorm2d\n",
    "        self._norm_layer = norm_layer\n",
    "\n",
    "        self.inplanes = 64\n",
    "        self.dilation = 1\n",
    "        if replace_stride_with_dilation is None:\n",
    "            # each element replaces the corresponding stride with dilation in layers2/3/4\n",
    "            replace_stride_with_dilation = [False, False, False]\n",
    "        if len(replace_stride_with_dilation) != 3:\n",
    "            raise ValueError(\"replace_stride_with_dilation must be a 3-element list.\")\n",
    "\n",
    "        self.groups = groups\n",
    "        self.base_width = width_per_group\n",
    "\n",
    "        # ----- Stem -----\n",
    "        self.conv1 = nn.Conv2d(in_channels, 64, kernel_size=7, stride=2, padding=3, bias=False)\n",
    "        self.bn1   = norm_layer(64)\n",
    "        self.relu  = nn.ReLU(inplace=True)\n",
    "        self.maxpool = nn.MaxPool2d(kernel_size=3, stride=2, padding=1)\n",
    "\n",
    "        nn.init.kaiming_normal_(self.conv1.weight, nonlinearity=\"relu\")\n",
    "        nn.init.ones_(self.bn1.weight); nn.init.zeros_(self.bn1.bias)\n",
    "\n",
    "        # ----- Stages -----\n",
    "        self.layer1 = self._make_layer(block, 64,  layers[0])                                  # /4\n",
    "        self.layer2 = self._make_layer(block, 128, layers[1], stride=2,\n",
    "                                       dilate=replace_stride_with_dilation[0])                # /8\n",
    "        self.layer3 = self._make_layer(block, 256, layers[2], stride=2,\n",
    "                                       dilate=replace_stride_with_dilation[1])                # /16\n",
    "        self.layer4 = self._make_layer(block, 512, layers[3], stride=2,\n",
    "                                       dilate=replace_stride_with_dilation[2])                # /32\n",
    "\n",
    "        # ----- Head -----\n",
    "        self.avgpool = nn.AdaptiveAvgPool2d((1, 1))\n",
    "        self.fc      = nn.Linear(512 * block.expansion, num_classes)\n",
    "        nn.init.kaiming_normal_(self.fc.weight, nonlinearity=\"relu\")\n",
    "        nn.init.zeros_(self.fc.bias)\n",
    "\n",
    "        # ----- (Optional) zero-init last BN in each residual branch -----\n",
    "        if zero_init_residual:\n",
    "            for m in self.modules():\n",
    "                if isinstance(m, Bottleneck):\n",
    "                    nn.init.zeros_(m.bn3.weight)  # so residual starts as identity\n",
    "                elif isinstance(m, BasicBlock):\n",
    "                    nn.init.zeros_(m.bn2.weight)\n",
    "\n",
    "    def _make_layer(self, block, planes, blocks, stride=1, dilate=False):\n",
    "        norm_layer = self._norm_layer\n",
    "        downsample = None\n",
    "        previous_dilation = self.dilation\n",
    "\n",
    "        if dilate:\n",
    "            self.dilation *= stride\n",
    "            stride = 1  # keep spatial size, use dilation instead\n",
    "\n",
    "        # Need downsample if we change spatial stride or channel dimension\n",
    "        if stride != 1 or self.inplanes != planes * block.expansion:\n",
    "            downsample = nn.Sequential(\n",
    "                conv1x1(self.inplanes, planes * block.expansion, stride),\n",
    "                norm_layer(planes * block.expansion),\n",
    "            )\n",
    "            nn.init.kaiming_normal_(downsample[0].weight, nonlinearity=\"relu\")\n",
    "            nn.init.ones_(downsample[1].weight); nn.init.zeros_(downsample[1].bias)\n",
    "\n",
    "        layers = []\n",
    "        layers.append(block(self.inplanes, planes, stride, downsample,\n",
    "                            self.groups, self.base_width, previous_dilation, norm_layer))\n",
    "        self.inplanes = planes * block.expansion\n",
    "        for _ in range(1, blocks):\n",
    "            layers.append(block(self.inplanes, planes,\n",
    "                                groups=self.groups, base_width=self.base_width,\n",
    "                                dilation=self.dilation, norm_layer=norm_layer))\n",
    "        return nn.Sequential(*layers)\n",
    "\n",
    "    def forward(self, x):\n",
    "        # Stem\n",
    "        x = self.relu(self.bn1(self.conv1(x)))\n",
    "        x = self.maxpool(x)\n",
    "\n",
    "        # Stages\n",
    "        x = self.layer1(x)\n",
    "        x = self.layer2(x)\n",
    "        x = self.layer3(x)\n",
    "        x = self.layer4(x)\n",
    "\n",
    "        # Head\n",
    "        x = self.avgpool(x)\n",
    "        x = torch.flatten(x, 1)\n",
    "        x = self.fc(x)\n",
    "        return x\n",
    "\n",
    "\n",
    "# ===================== 3) Factory functions =====================\n",
    "def resnet18(num_classes=1000, **kwargs):\n",
    "    return ResNet(BasicBlock, [2, 2, 2, 2], num_classes=num_classes, **kwargs)\n",
    "\n",
    "def resnet34(num_classes=1000, **kwargs):\n",
    "    return ResNet(BasicBlock, [3, 4, 6, 3], num_classes=num_classes, **kwargs)\n",
    "\n",
    "def resnet50(num_classes=1000, **kwargs):\n",
    "    return ResNet(Bottleneck, [3, 4, 6, 3], num_classes=num_classes, **kwargs)\n",
    "\n",
    "def resnet101(num_classes=1000, **kwargs):\n",
    "    return ResNet(Bottleneck, [3, 4, 23, 3], num_classes=num_classes, **kwargs)\n",
    "\n",
    "def resnet152(num_classes=1000, **kwargs):\n",
    "    return ResNet(Bottleneck, [3, 8, 36, 3], num_classes=num_classes, **kwargs)"
   ]
  },
  {
   "cell_type": "code",
   "execution_count": null,
   "id": "f9d7cd8f-ca57-4d66-8797-160b636468bd",
   "metadata": {},
   "outputs": [
    {
     "name": "stdout",
     "output_type": "stream",
     "text": [
      "[device] Using CUDA GPU: NVIDIA GeForce RTX 3080 Ti\n",
      "\n",
      "[data] Inspecting: ../data/imagenette2\n",
      "[data] Found explicit splits.\n"
     ]
    },
    {
     "data": {
      "application/vnd.jupyter.widget-view+json": {
       "model_id": "e109b4404c3043a08d98a0c76920b0b5",
       "version_major": 2,
       "version_minor": 0
      },
      "text/plain": [
       "[epoch 001 | train]:   0%|          | 0/148 [00:00<?, ?it/s]"
      ]
     },
     "metadata": {},
     "output_type": "display_data"
    },
    {
     "data": {
      "application/vnd.jupyter.widget-view+json": {
       "model_id": "d1fff2ac1b3b45fda3c0c0c9bf98fd3b",
       "version_major": 2,
       "version_minor": 0
      },
      "text/plain": [
       "[epoch 001 | val  ]:   0%|          | 0/31 [00:00<?, ?it/s]"
      ]
     },
     "metadata": {},
     "output_type": "display_data"
    },
    {
     "name": "stdout",
     "output_type": "stream",
     "text": [
      "[epoch 001] train: loss=1.5614, acc=0.5023 | val: loss=1.7478, acc=0.5098 | time: 20.53s\n",
      "  [checkpoint] New best (acc=0.5098) saved -> imagenette2_resnet18_best.pth\n"
     ]
    },
    {
     "data": {
      "application/vnd.jupyter.widget-view+json": {
       "model_id": "94f9a85361d84655be4d1342abd68321",
       "version_major": 2,
       "version_minor": 0
      },
      "text/plain": [
       "[epoch 002 | train]:   0%|          | 0/148 [00:00<?, ?it/s]"
      ]
     },
     "metadata": {},
     "output_type": "display_data"
    },
    {
     "data": {
      "application/vnd.jupyter.widget-view+json": {
       "model_id": "6200bd703b784aa0920e9624f072a88d",
       "version_major": 2,
       "version_minor": 0
      },
      "text/plain": [
       "[epoch 002 | val  ]:   0%|          | 0/31 [00:00<?, ?it/s]"
      ]
     },
     "metadata": {},
     "output_type": "display_data"
    },
    {
     "name": "stdout",
     "output_type": "stream",
     "text": [
      "[epoch 002] train: loss=1.1020, acc=0.6769 | val: loss=1.0764, acc=0.6871 | time: 20.69s\n",
      "  [checkpoint] New best (acc=0.6871) saved -> imagenette2_resnet18_best.pth\n"
     ]
    },
    {
     "data": {
      "application/vnd.jupyter.widget-view+json": {
       "model_id": "c3324709b76c4f5494508e220f07238e",
       "version_major": 2,
       "version_minor": 0
      },
      "text/plain": [
       "[epoch 003 | train]:   0%|          | 0/148 [00:00<?, ?it/s]"
      ]
     },
     "metadata": {},
     "output_type": "display_data"
    },
    {
     "data": {
      "application/vnd.jupyter.widget-view+json": {
       "model_id": "8282812bd9d84c4481d8df19c0b12f18",
       "version_major": 2,
       "version_minor": 0
      },
      "text/plain": [
       "[epoch 003 | val  ]:   0%|          | 0/31 [00:00<?, ?it/s]"
      ]
     },
     "metadata": {},
     "output_type": "display_data"
    },
    {
     "name": "stdout",
     "output_type": "stream",
     "text": [
      "[epoch 003] train: loss=0.9412, acc=0.7351 | val: loss=1.2818, acc=0.6614 | time: 20.52s\n",
      "  [early-stop] No improvement (1/15) on acc; best=0.6871, current=0.6614\n"
     ]
    },
    {
     "data": {
      "application/vnd.jupyter.widget-view+json": {
       "model_id": "9942d121429d44d6a8979c42c6f5a79a",
       "version_major": 2,
       "version_minor": 0
      },
      "text/plain": [
       "[epoch 004 | train]:   0%|          | 0/148 [00:00<?, ?it/s]"
      ]
     },
     "metadata": {},
     "output_type": "display_data"
    },
    {
     "data": {
      "application/vnd.jupyter.widget-view+json": {
       "model_id": "d6ad9cfca018478582754d4c4c13b33c",
       "version_major": 2,
       "version_minor": 0
      },
      "text/plain": [
       "[epoch 004 | val  ]:   0%|          | 0/31 [00:00<?, ?it/s]"
      ]
     },
     "metadata": {},
     "output_type": "display_data"
    },
    {
     "name": "stdout",
     "output_type": "stream",
     "text": [
      "[epoch 004] train: loss=0.8534, acc=0.7632 | val: loss=1.2706, acc=0.6400 | time: 20.41s\n",
      "  [early-stop] No improvement (2/15) on acc; best=0.6871, current=0.6400\n"
     ]
    },
    {
     "data": {
      "application/vnd.jupyter.widget-view+json": {
       "model_id": "1f56eb5121d14140a271bd679203286b",
       "version_major": 2,
       "version_minor": 0
      },
      "text/plain": [
       "[epoch 005 | train]:   0%|          | 0/148 [00:00<?, ?it/s]"
      ]
     },
     "metadata": {},
     "output_type": "display_data"
    },
    {
     "data": {
      "application/vnd.jupyter.widget-view+json": {
       "model_id": "823d719025e140929234d0b29ec7d52c",
       "version_major": 2,
       "version_minor": 0
      },
      "text/plain": [
       "[epoch 005 | val  ]:   0%|          | 0/31 [00:00<?, ?it/s]"
      ]
     },
     "metadata": {},
     "output_type": "display_data"
    },
    {
     "name": "stdout",
     "output_type": "stream",
     "text": [
      "[epoch 005] train: loss=0.7925, acc=0.7894 | val: loss=1.0052, acc=0.7169 | time: 20.47s\n",
      "  [checkpoint] New best (acc=0.7169) saved -> imagenette2_resnet18_best.pth\n"
     ]
    },
    {
     "data": {
      "application/vnd.jupyter.widget-view+json": {
       "model_id": "987a5cd231c14b95a0db79160c5572b7",
       "version_major": 2,
       "version_minor": 0
      },
      "text/plain": [
       "[epoch 006 | train]:   0%|          | 0/148 [00:00<?, ?it/s]"
      ]
     },
     "metadata": {},
     "output_type": "display_data"
    },
    {
     "data": {
      "application/vnd.jupyter.widget-view+json": {
       "model_id": "8ed5d0bd07ed41a9b3804f8d88a576e1",
       "version_major": 2,
       "version_minor": 0
      },
      "text/plain": [
       "[epoch 006 | val  ]:   0%|          | 0/31 [00:00<?, ?it/s]"
      ]
     },
     "metadata": {},
     "output_type": "display_data"
    },
    {
     "name": "stdout",
     "output_type": "stream",
     "text": [
      "[epoch 006] train: loss=0.7385, acc=0.8124 | val: loss=1.1614, acc=0.6650 | time: 20.60s\n",
      "  [early-stop] No improvement (1/15) on acc; best=0.7169, current=0.6650\n"
     ]
    },
    {
     "data": {
      "application/vnd.jupyter.widget-view+json": {
       "model_id": "631ebd769f3548589925d68cbae4b967",
       "version_major": 2,
       "version_minor": 0
      },
      "text/plain": [
       "[epoch 007 | train]:   0%|          | 0/148 [00:00<?, ?it/s]"
      ]
     },
     "metadata": {},
     "output_type": "display_data"
    },
    {
     "data": {
      "application/vnd.jupyter.widget-view+json": {
       "model_id": "48450e8daf8a427a924119fefc7e510e",
       "version_major": 2,
       "version_minor": 0
      },
      "text/plain": [
       "[epoch 007 | val  ]:   0%|          | 0/31 [00:00<?, ?it/s]"
      ]
     },
     "metadata": {},
     "output_type": "display_data"
    },
    {
     "name": "stdout",
     "output_type": "stream",
     "text": [
      "[epoch 007] train: loss=0.6983, acc=0.8256 | val: loss=0.9329, acc=0.7549 | time: 20.43s\n",
      "  [checkpoint] New best (acc=0.7549) saved -> imagenette2_resnet18_best.pth\n"
     ]
    },
    {
     "data": {
      "application/vnd.jupyter.widget-view+json": {
       "model_id": "b19d31fc74404b0d94e3b4f89caae541",
       "version_major": 2,
       "version_minor": 0
      },
      "text/plain": [
       "[epoch 008 | train]:   0%|          | 0/148 [00:00<?, ?it/s]"
      ]
     },
     "metadata": {},
     "output_type": "display_data"
    },
    {
     "data": {
      "application/vnd.jupyter.widget-view+json": {
       "model_id": "52d6664a4cc24606bcee700b8307acfe",
       "version_major": 2,
       "version_minor": 0
      },
      "text/plain": [
       "[epoch 008 | val  ]:   0%|          | 0/31 [00:00<?, ?it/s]"
      ]
     },
     "metadata": {},
     "output_type": "display_data"
    },
    {
     "name": "stdout",
     "output_type": "stream",
     "text": [
      "[epoch 008] train: loss=0.6527, acc=0.8360 | val: loss=0.9665, acc=0.7483 | time: 20.34s\n",
      "  [early-stop] No improvement (1/15) on acc; best=0.7549, current=0.7483\n"
     ]
    },
    {
     "data": {
      "application/vnd.jupyter.widget-view+json": {
       "model_id": "95550cf2ad3c460bad0e8eac7543b82e",
       "version_major": 2,
       "version_minor": 0
      },
      "text/plain": [
       "[epoch 009 | train]:   0%|          | 0/148 [00:00<?, ?it/s]"
      ]
     },
     "metadata": {},
     "output_type": "display_data"
    },
    {
     "data": {
      "application/vnd.jupyter.widget-view+json": {
       "model_id": "7d2731cb93b74e7a88a6f135cc9e7fd2",
       "version_major": 2,
       "version_minor": 0
      },
      "text/plain": [
       "[epoch 009 | val  ]:   0%|          | 0/31 [00:00<?, ?it/s]"
      ]
     },
     "metadata": {},
     "output_type": "display_data"
    },
    {
     "name": "stdout",
     "output_type": "stream",
     "text": [
      "[epoch 009] train: loss=0.6292, acc=0.8467 | val: loss=1.0449, acc=0.7162 | time: 40.76s\n",
      "  [early-stop] No improvement (2/15) on acc; best=0.7549, current=0.7162\n"
     ]
    },
    {
     "data": {
      "application/vnd.jupyter.widget-view+json": {
       "model_id": "eb781abed45549b2abc81a405ac31968",
       "version_major": 2,
       "version_minor": 0
      },
      "text/plain": [
       "[epoch 010 | train]:   0%|          | 0/148 [00:00<?, ?it/s]"
      ]
     },
     "metadata": {},
     "output_type": "display_data"
    },
    {
     "data": {
      "application/vnd.jupyter.widget-view+json": {
       "model_id": "610daa61ecba4da28f49eab1f59bf969",
       "version_major": 2,
       "version_minor": 0
      },
      "text/plain": [
       "[epoch 010 | val  ]:   0%|          | 0/31 [00:00<?, ?it/s]"
      ]
     },
     "metadata": {},
     "output_type": "display_data"
    },
    {
     "name": "stdout",
     "output_type": "stream",
     "text": [
      "[epoch 010] train: loss=0.5903, acc=0.8611 | val: loss=0.8050, acc=0.7883 | time: 20.57s\n",
      "  [checkpoint] New best (acc=0.7883) saved -> imagenette2_resnet18_best.pth\n"
     ]
    },
    {
     "data": {
      "application/vnd.jupyter.widget-view+json": {
       "model_id": "5836422fe5ed4dd2a5c9fc32a4679ae1",
       "version_major": 2,
       "version_minor": 0
      },
      "text/plain": [
       "[epoch 011 | train]:   0%|          | 0/148 [00:00<?, ?it/s]"
      ]
     },
     "metadata": {},
     "output_type": "display_data"
    },
    {
     "data": {
      "application/vnd.jupyter.widget-view+json": {
       "model_id": "9fdf3a732e0a4e8ba98f2dd8674521f0",
       "version_major": 2,
       "version_minor": 0
      },
      "text/plain": [
       "[epoch 011 | val  ]:   0%|          | 0/31 [00:00<?, ?it/s]"
      ]
     },
     "metadata": {},
     "output_type": "display_data"
    },
    {
     "name": "stdout",
     "output_type": "stream",
     "text": [
      "[epoch 011] train: loss=0.5702, acc=0.8711 | val: loss=0.8513, acc=0.7763 | time: 20.90s\n",
      "  [early-stop] No improvement (1/15) on acc; best=0.7883, current=0.7763\n"
     ]
    },
    {
     "data": {
      "application/vnd.jupyter.widget-view+json": {
       "model_id": "6a8505c0864246498b55b2f8536429ac",
       "version_major": 2,
       "version_minor": 0
      },
      "text/plain": [
       "[epoch 012 | train]:   0%|          | 0/148 [00:00<?, ?it/s]"
      ]
     },
     "metadata": {},
     "output_type": "display_data"
    },
    {
     "data": {
      "application/vnd.jupyter.widget-view+json": {
       "model_id": "6c0412e323dd40ffbcd7dfc1de6f2b50",
       "version_major": 2,
       "version_minor": 0
      },
      "text/plain": [
       "[epoch 012 | val  ]:   0%|          | 0/31 [00:00<?, ?it/s]"
      ]
     },
     "metadata": {},
     "output_type": "display_data"
    },
    {
     "name": "stdout",
     "output_type": "stream",
     "text": [
      "[epoch 012] train: loss=0.5341, acc=0.8852 | val: loss=0.8453, acc=0.7811 | time: 20.95s\n",
      "  [early-stop] No improvement (2/15) on acc; best=0.7883, current=0.7811\n"
     ]
    },
    {
     "data": {
      "application/vnd.jupyter.widget-view+json": {
       "model_id": "8afa798e5731405cb192263615f8c078",
       "version_major": 2,
       "version_minor": 0
      },
      "text/plain": [
       "[epoch 013 | train]:   0%|          | 0/148 [00:00<?, ?it/s]"
      ]
     },
     "metadata": {},
     "output_type": "display_data"
    },
    {
     "data": {
      "application/vnd.jupyter.widget-view+json": {
       "model_id": "87212889c77948e5b0d0e228a9223097",
       "version_major": 2,
       "version_minor": 0
      },
      "text/plain": [
       "[epoch 013 | val  ]:   0%|          | 0/31 [00:00<?, ?it/s]"
      ]
     },
     "metadata": {},
     "output_type": "display_data"
    },
    {
     "name": "stdout",
     "output_type": "stream",
     "text": [
      "[epoch 013] train: loss=0.5184, acc=0.8927 | val: loss=0.9078, acc=0.7473 | time: 40.83s\n",
      "  [early-stop] No improvement (3/15) on acc; best=0.7883, current=0.7473\n"
     ]
    },
    {
     "data": {
      "application/vnd.jupyter.widget-view+json": {
       "model_id": "2893cf3f2a1a4453af388bc6c0b56839",
       "version_major": 2,
       "version_minor": 0
      },
      "text/plain": [
       "[epoch 014 | train]:   0%|          | 0/148 [00:00<?, ?it/s]"
      ]
     },
     "metadata": {},
     "output_type": "display_data"
    },
    {
     "data": {
      "application/vnd.jupyter.widget-view+json": {
       "model_id": "2b024b3647944711a891218c7d0a21d5",
       "version_major": 2,
       "version_minor": 0
      },
      "text/plain": [
       "[epoch 014 | val  ]:   0%|          | 0/31 [00:00<?, ?it/s]"
      ]
     },
     "metadata": {},
     "output_type": "display_data"
    },
    {
     "name": "stdout",
     "output_type": "stream",
     "text": [
      "[epoch 014] train: loss=0.5100, acc=0.8947 | val: loss=1.0152, acc=0.7231 | time: 20.85s\n",
      "  [early-stop] No improvement (4/15) on acc; best=0.7883, current=0.7231\n"
     ]
    },
    {
     "data": {
      "application/vnd.jupyter.widget-view+json": {
       "model_id": "b610b63206e3463aa298a8b4831aa471",
       "version_major": 2,
       "version_minor": 0
      },
      "text/plain": [
       "[epoch 015 | train]:   0%|          | 0/148 [00:00<?, ?it/s]"
      ]
     },
     "metadata": {},
     "output_type": "display_data"
    },
    {
     "data": {
      "application/vnd.jupyter.widget-view+json": {
       "model_id": "cb01cb2562904a16858a61dcbe2eb4e2",
       "version_major": 2,
       "version_minor": 0
      },
      "text/plain": [
       "[epoch 015 | val  ]:   0%|          | 0/31 [00:00<?, ?it/s]"
      ]
     },
     "metadata": {},
     "output_type": "display_data"
    },
    {
     "name": "stdout",
     "output_type": "stream",
     "text": [
      "[epoch 015] train: loss=0.4859, acc=0.9039 | val: loss=0.8435, acc=0.7850 | time: 20.56s\n",
      "  [early-stop] No improvement (5/15) on acc; best=0.7883, current=0.7850\n"
     ]
    },
    {
     "data": {
      "application/vnd.jupyter.widget-view+json": {
       "model_id": "095eb2766bb246bc9ce48a424fa91b62",
       "version_major": 2,
       "version_minor": 0
      },
      "text/plain": [
       "[epoch 016 | train]:   0%|          | 0/148 [00:00<?, ?it/s]"
      ]
     },
     "metadata": {},
     "output_type": "display_data"
    },
    {
     "data": {
      "application/vnd.jupyter.widget-view+json": {
       "model_id": "b49ef3c5a43c447bbd189038af74cd52",
       "version_major": 2,
       "version_minor": 0
      },
      "text/plain": [
       "[epoch 016 | val  ]:   0%|          | 0/31 [00:00<?, ?it/s]"
      ]
     },
     "metadata": {},
     "output_type": "display_data"
    },
    {
     "name": "stdout",
     "output_type": "stream",
     "text": [
      "[epoch 016] train: loss=0.4708, acc=0.9090 | val: loss=0.8571, acc=0.7740 | time: 20.46s\n",
      "Epoch 00016: reducing learning rate of group 0 to 3.0000e-05.\n",
      "  [early-stop] No improvement (6/15) on acc; best=0.7883, current=0.7740\n"
     ]
    },
    {
     "data": {
      "application/vnd.jupyter.widget-view+json": {
       "model_id": "1639381336044f55b29e211001bc6441",
       "version_major": 2,
       "version_minor": 0
      },
      "text/plain": [
       "[epoch 017 | train]:   0%|          | 0/148 [00:00<?, ?it/s]"
      ]
     },
     "metadata": {},
     "output_type": "display_data"
    },
    {
     "data": {
      "application/vnd.jupyter.widget-view+json": {
       "model_id": "81d9f5cbc1f44f09b3d9f8014850c127",
       "version_major": 2,
       "version_minor": 0
      },
      "text/plain": [
       "[epoch 017 | val  ]:   0%|          | 0/31 [00:00<?, ?it/s]"
      ]
     },
     "metadata": {},
     "output_type": "display_data"
    },
    {
     "name": "stdout",
     "output_type": "stream",
     "text": [
      "[epoch 017] train: loss=0.3737, acc=0.9512 | val: loss=0.6327, acc=0.8517 | time: 40.78s\n",
      "  [checkpoint] New best (acc=0.8517) saved -> imagenette2_resnet18_best.pth\n"
     ]
    },
    {
     "data": {
      "application/vnd.jupyter.widget-view+json": {
       "model_id": "04a7988643874c9b8a153400eb51833e",
       "version_major": 2,
       "version_minor": 0
      },
      "text/plain": [
       "[epoch 018 | train]:   0%|          | 0/148 [00:00<?, ?it/s]"
      ]
     },
     "metadata": {},
     "output_type": "display_data"
    },
    {
     "data": {
      "application/vnd.jupyter.widget-view+json": {
       "model_id": "1eab151f40914a41bb0fde3d1f6aa914",
       "version_major": 2,
       "version_minor": 0
      },
      "text/plain": [
       "[epoch 018 | val  ]:   0%|          | 0/31 [00:00<?, ?it/s]"
      ]
     },
     "metadata": {},
     "output_type": "display_data"
    },
    {
     "name": "stdout",
     "output_type": "stream",
     "text": [
      "[epoch 018] train: loss=0.3389, acc=0.9663 | val: loss=0.6370, acc=0.8492 | time: 20.72s\n",
      "  [early-stop] No improvement (1/15) on acc; best=0.8517, current=0.8492\n"
     ]
    },
    {
     "data": {
      "application/vnd.jupyter.widget-view+json": {
       "model_id": "66ad450cd4654c0eb0c617f033686df0",
       "version_major": 2,
       "version_minor": 0
      },
      "text/plain": [
       "[epoch 019 | train]:   0%|          | 0/148 [00:00<?, ?it/s]"
      ]
     },
     "metadata": {},
     "output_type": "display_data"
    },
    {
     "data": {
      "application/vnd.jupyter.widget-view+json": {
       "model_id": "a8010372099f494daf28bf31d795f779",
       "version_major": 2,
       "version_minor": 0
      },
      "text/plain": [
       "[epoch 019 | val  ]:   0%|          | 0/31 [00:00<?, ?it/s]"
      ]
     },
     "metadata": {},
     "output_type": "display_data"
    },
    {
     "name": "stdout",
     "output_type": "stream",
     "text": [
      "[epoch 019] train: loss=0.3253, acc=0.9710 | val: loss=0.6312, acc=0.8512 | time: 20.67s\n",
      "  [early-stop] No improvement (2/15) on acc; best=0.8517, current=0.8512\n"
     ]
    },
    {
     "data": {
      "application/vnd.jupyter.widget-view+json": {
       "model_id": "742085c41acc4f9eb648ab8493feac05",
       "version_major": 2,
       "version_minor": 0
      },
      "text/plain": [
       "[epoch 020 | train]:   0%|          | 0/148 [00:00<?, ?it/s]"
      ]
     },
     "metadata": {},
     "output_type": "display_data"
    },
    {
     "data": {
      "application/vnd.jupyter.widget-view+json": {
       "model_id": "b90ec4c43eba42069242ade7e4b82cb7",
       "version_major": 2,
       "version_minor": 0
      },
      "text/plain": [
       "[epoch 020 | val  ]:   0%|          | 0/31 [00:00<?, ?it/s]"
      ]
     },
     "metadata": {},
     "output_type": "display_data"
    },
    {
     "name": "stdout",
     "output_type": "stream",
     "text": [
      "[epoch 020] train: loss=0.3204, acc=0.9717 | val: loss=0.6354, acc=0.8535 | time: 20.68s\n",
      "  [checkpoint] New best (acc=0.8535) saved -> imagenette2_resnet18_best.pth\n"
     ]
    },
    {
     "data": {
      "application/vnd.jupyter.widget-view+json": {
       "model_id": "ade9e435a69a42b8840a7ed63cc5194a",
       "version_major": 2,
       "version_minor": 0
      },
      "text/plain": [
       "[epoch 021 | train]:   0%|          | 0/148 [00:00<?, ?it/s]"
      ]
     },
     "metadata": {},
     "output_type": "display_data"
    },
    {
     "data": {
      "application/vnd.jupyter.widget-view+json": {
       "model_id": "1da4dd1bd5f44b0b8aa47f23b5a69154",
       "version_major": 2,
       "version_minor": 0
      },
      "text/plain": [
       "[epoch 021 | val  ]:   0%|          | 0/31 [00:00<?, ?it/s]"
      ]
     },
     "metadata": {},
     "output_type": "display_data"
    },
    {
     "name": "stdout",
     "output_type": "stream",
     "text": [
      "[epoch 021] train: loss=0.3147, acc=0.9752 | val: loss=0.6351, acc=0.8548 | time: 20.23s\n",
      "  [checkpoint] New best (acc=0.8548) saved -> imagenette2_resnet18_best.pth\n"
     ]
    },
    {
     "data": {
      "application/vnd.jupyter.widget-view+json": {
       "model_id": "2542567feedc44c79fcbf6ccd7cbd2a3",
       "version_major": 2,
       "version_minor": 0
      },
      "text/plain": [
       "[epoch 022 | train]:   0%|          | 0/148 [00:00<?, ?it/s]"
      ]
     },
     "metadata": {},
     "output_type": "display_data"
    },
    {
     "data": {
      "application/vnd.jupyter.widget-view+json": {
       "model_id": "703d45795d83401fa62849d24d494e98",
       "version_major": 2,
       "version_minor": 0
      },
      "text/plain": [
       "[epoch 022 | val  ]:   0%|          | 0/31 [00:00<?, ?it/s]"
      ]
     },
     "metadata": {},
     "output_type": "display_data"
    },
    {
     "name": "stdout",
     "output_type": "stream",
     "text": [
      "[epoch 022] train: loss=0.3029, acc=0.9794 | val: loss=0.6350, acc=0.8512 | time: 20.61s\n",
      "  [early-stop] No improvement (1/15) on acc; best=0.8548, current=0.8512\n"
     ]
    },
    {
     "data": {
      "application/vnd.jupyter.widget-view+json": {
       "model_id": "6c1159808309475aae0fb8233b57084b",
       "version_major": 2,
       "version_minor": 0
      },
      "text/plain": [
       "[epoch 023 | train]:   0%|          | 0/148 [00:00<?, ?it/s]"
      ]
     },
     "metadata": {},
     "output_type": "display_data"
    },
    {
     "data": {
      "application/vnd.jupyter.widget-view+json": {
       "model_id": "ad5d0be55f194ca99fd0ec9c2efb6760",
       "version_major": 2,
       "version_minor": 0
      },
      "text/plain": [
       "[epoch 023 | val  ]:   0%|          | 0/31 [00:00<?, ?it/s]"
      ]
     },
     "metadata": {},
     "output_type": "display_data"
    },
    {
     "name": "stdout",
     "output_type": "stream",
     "text": [
      "[epoch 023] train: loss=0.3048, acc=0.9784 | val: loss=0.6380, acc=0.8499 | time: 20.71s\n",
      "  [early-stop] No improvement (2/15) on acc; best=0.8548, current=0.8499\n"
     ]
    },
    {
     "data": {
      "application/vnd.jupyter.widget-view+json": {
       "model_id": "7ad950baf90e41d09e355bda88a8a899",
       "version_major": 2,
       "version_minor": 0
      },
      "text/plain": [
       "[epoch 024 | train]:   0%|          | 0/148 [00:00<?, ?it/s]"
      ]
     },
     "metadata": {},
     "output_type": "display_data"
    },
    {
     "data": {
      "application/vnd.jupyter.widget-view+json": {
       "model_id": "21fd704fcd1e440fa445da52dd677021",
       "version_major": 2,
       "version_minor": 0
      },
      "text/plain": [
       "[epoch 024 | val  ]:   0%|          | 0/31 [00:00<?, ?it/s]"
      ]
     },
     "metadata": {},
     "output_type": "display_data"
    },
    {
     "name": "stdout",
     "output_type": "stream",
     "text": [
      "[epoch 024] train: loss=0.3005, acc=0.9797 | val: loss=0.6462, acc=0.8507 | time: 40.81s\n",
      "  [early-stop] No improvement (3/15) on acc; best=0.8548, current=0.8507\n"
     ]
    },
    {
     "data": {
      "application/vnd.jupyter.widget-view+json": {
       "model_id": "5931b60bb0af44fabe6504281b54fd50",
       "version_major": 2,
       "version_minor": 0
      },
      "text/plain": [
       "[epoch 025 | train]:   0%|          | 0/148 [00:00<?, ?it/s]"
      ]
     },
     "metadata": {},
     "output_type": "display_data"
    },
    {
     "data": {
      "application/vnd.jupyter.widget-view+json": {
       "model_id": "7382d0472f414c83a46caa0dbc55eeed",
       "version_major": 2,
       "version_minor": 0
      },
      "text/plain": [
       "[epoch 025 | val  ]:   0%|          | 0/31 [00:00<?, ?it/s]"
      ]
     },
     "metadata": {},
     "output_type": "display_data"
    },
    {
     "name": "stdout",
     "output_type": "stream",
     "text": [
      "[epoch 025] train: loss=0.2920, acc=0.9838 | val: loss=0.6307, acc=0.8555 | time: 20.49s\n",
      "  [checkpoint] New best (acc=0.8555) saved -> imagenette2_resnet18_best.pth\n"
     ]
    },
    {
     "data": {
      "application/vnd.jupyter.widget-view+json": {
       "model_id": "73ca1425eb8a4d01aa239c5b73d1907e",
       "version_major": 2,
       "version_minor": 0
      },
      "text/plain": [
       "[epoch 026 | train]:   0%|          | 0/148 [00:00<?, ?it/s]"
      ]
     },
     "metadata": {},
     "output_type": "display_data"
    },
    {
     "data": {
      "application/vnd.jupyter.widget-view+json": {
       "model_id": "0e571b49caac49c6a7f21944aa422d56",
       "version_major": 2,
       "version_minor": 0
      },
      "text/plain": [
       "[epoch 026 | val  ]:   0%|          | 0/31 [00:00<?, ?it/s]"
      ]
     },
     "metadata": {},
     "output_type": "display_data"
    },
    {
     "name": "stdout",
     "output_type": "stream",
     "text": [
      "[epoch 026] train: loss=0.2875, acc=0.9846 | val: loss=0.6340, acc=0.8566 | time: 20.57s\n",
      "  [checkpoint] New best (acc=0.8566) saved -> imagenette2_resnet18_best.pth\n"
     ]
    },
    {
     "data": {
      "application/vnd.jupyter.widget-view+json": {
       "model_id": "0790542f75154246aac3ffe23863f976",
       "version_major": 2,
       "version_minor": 0
      },
      "text/plain": [
       "[epoch 027 | train]:   0%|          | 0/148 [00:00<?, ?it/s]"
      ]
     },
     "metadata": {},
     "output_type": "display_data"
    },
    {
     "data": {
      "application/vnd.jupyter.widget-view+json": {
       "model_id": "46ce36301b0a4d83b480dc031a3ed42a",
       "version_major": 2,
       "version_minor": 0
      },
      "text/plain": [
       "[epoch 027 | val  ]:   0%|          | 0/31 [00:00<?, ?it/s]"
      ]
     },
     "metadata": {},
     "output_type": "display_data"
    },
    {
     "name": "stdout",
     "output_type": "stream",
     "text": [
      "[epoch 027] train: loss=0.2844, acc=0.9863 | val: loss=0.6335, acc=0.8538 | time: 20.64s\n",
      "  [early-stop] No improvement (1/15) on acc; best=0.8566, current=0.8538\n"
     ]
    },
    {
     "data": {
      "application/vnd.jupyter.widget-view+json": {
       "model_id": "393f17ad56654cfcb0320d748dbe4dd6",
       "version_major": 2,
       "version_minor": 0
      },
      "text/plain": [
       "[epoch 028 | train]:   0%|          | 0/148 [00:00<?, ?it/s]"
      ]
     },
     "metadata": {},
     "output_type": "display_data"
    },
    {
     "data": {
      "application/vnd.jupyter.widget-view+json": {
       "model_id": "bb831d729d914c1db57070f42ad3aac6",
       "version_major": 2,
       "version_minor": 0
      },
      "text/plain": [
       "[epoch 028 | val  ]:   0%|          | 0/31 [00:00<?, ?it/s]"
      ]
     },
     "metadata": {},
     "output_type": "display_data"
    },
    {
     "name": "stdout",
     "output_type": "stream",
     "text": [
      "[epoch 028] train: loss=0.2814, acc=0.9867 | val: loss=0.6361, acc=0.8548 | time: 40.64s\n",
      "  [early-stop] No improvement (2/15) on acc; best=0.8566, current=0.8548\n"
     ]
    },
    {
     "data": {
      "application/vnd.jupyter.widget-view+json": {
       "model_id": "0846a20c5fa0478f956c8d589eeb1247",
       "version_major": 2,
       "version_minor": 0
      },
      "text/plain": [
       "[epoch 029 | train]:   0%|          | 0/148 [00:00<?, ?it/s]"
      ]
     },
     "metadata": {},
     "output_type": "display_data"
    },
    {
     "data": {
      "application/vnd.jupyter.widget-view+json": {
       "model_id": "fff03a9cbc3446d9b4686270a6f29e9f",
       "version_major": 2,
       "version_minor": 0
      },
      "text/plain": [
       "[epoch 029 | val  ]:   0%|          | 0/31 [00:00<?, ?it/s]"
      ]
     },
     "metadata": {},
     "output_type": "display_data"
    },
    {
     "name": "stdout",
     "output_type": "stream",
     "text": [
      "[epoch 029] train: loss=0.2722, acc=0.9905 | val: loss=0.6384, acc=0.8571 | time: 20.50s\n",
      "  [checkpoint] New best (acc=0.8571) saved -> imagenette2_resnet18_best.pth\n"
     ]
    },
    {
     "data": {
      "application/vnd.jupyter.widget-view+json": {
       "model_id": "1a6447db1bf64f86bd93fd5c23e6e749",
       "version_major": 2,
       "version_minor": 0
      },
      "text/plain": [
       "[epoch 030 | train]:   0%|          | 0/148 [00:00<?, ?it/s]"
      ]
     },
     "metadata": {},
     "output_type": "display_data"
    }
   ],
   "source": [
    "# ======================================================================\n",
    "# Run ResNet-18 on your ImageFolder dataset (Imagenette2)\n",
    "# ======================================================================\n",
    "\n",
    "model = resnet18(num_classes=10)\n",
    "\n",
    "results_rn18 = run_imagefolder_experiment(\n",
    "    data_dir=\"../data/imagenette2\",  # contains train/ and valid/\n",
    "    model=model,\n",
    "    img_size=224, resize_side=256, augment=True,\n",
    "    batch_train=64, batch_eval=128,\n",
    "    optimizer_name=\"adamw\", lr=3e-4, weight_decay=5e-4, label_smoothing=0.03,\n",
    "    epochs=1000, patience=15,\n",
    "    monitor=\"acc\", min_delta=0.0,\n",
    "    lr_patience=5, lr_factor=0.1, lr_min=1e-6, lr_cooldown=1,\n",
    "    save_path=\"imagenette2_resnet18_best.pth\",\n",
    "    use_amp=True\n",
    ")"
   ]
  },
  {
   "cell_type": "code",
   "execution_count": null,
   "id": "5ab766e6-745b-49d9-b83c-dd99e94c1893",
   "metadata": {},
   "outputs": [],
   "source": [
    "# ======================================================================\n",
    "# Run ResNet-50 on your ImageFolder dataset (Imagenette2)\n",
    "# ======================================================================\n",
    "\n",
    "model = resnet50(num_classes=10)\n",
    "\n",
    "results_rn50 = run_imagefolder_experiment(\n",
    "    data_dir=\"../data/imagenette2\",\n",
    "    model=model,\n",
    "    img_size=224, resize_side=256, augment=True,\n",
    "    batch_train=64, batch_eval=128,\n",
    "    optimizer_name=\"adamw\", lr=3e-4, weight_decay=5e-4, label_smoothing=0.03,\n",
    "    epochs=1000, patience=15,\n",
    "    monitor=\"acc\", min_delta=0.0,\n",
    "    lr_patience=5, lr_factor=0.1, lr_min=1e-6, lr_cooldown=1,\n",
    "    save_path=\"imagenette2_resnet50_best.pth\",\n",
    "    use_amp=True\n",
    ")"
   ]
  },
  {
   "cell_type": "code",
   "execution_count": null,
   "id": "2a7276f4-ada8-4d43-bc26-7089e5470dbd",
   "metadata": {},
   "outputs": [],
   "source": [
    "# ======================================================================\n",
    "# Run ResNet-101 on your ImageFolder dataset (Imagenette2)\n",
    "# ======================================================================\n",
    "\n",
    "model = resnet101(num_classes=10)\n",
    "\n",
    "results_rn101 = run_imagefolder_experiment(\n",
    "    data_dir=\"../data/imagenette2\",\n",
    "    model=model,\n",
    "    img_size=224, resize_side=256, augment=True,\n",
    "    batch_train=64, batch_eval=128,\n",
    "    optimizer_name=\"adamw\", lr=3e-4, weight_decay=5e-4, label_smoothing=0.03,\n",
    "    epochs=1000, patience=15,\n",
    "    monitor=\"acc\", min_delta=0.0,\n",
    "    lr_patience=5, lr_factor=0.1, lr_min=1e-6, lr_cooldown=1,\n",
    "    save_path=\"imagenette2_resnet101_best.pth\",\n",
    "    use_amp=True\n",
    ")"
   ]
  },
  {
   "cell_type": "code",
   "execution_count": null,
   "id": "958105e6-72f5-4c25-b9dd-9f487cbf43f6",
   "metadata": {},
   "outputs": [],
   "source": []
  }
 ],
 "metadata": {
  "kernelspec": {
   "display_name": "Python 3 (ipykernel)",
   "language": "python",
   "name": "python3"
  },
  "language_info": {
   "codemirror_mode": {
    "name": "ipython",
    "version": 3
   },
   "file_extension": ".py",
   "mimetype": "text/x-python",
   "name": "python",
   "nbconvert_exporter": "python",
   "pygments_lexer": "ipython3",
   "version": "3.10.10"
  }
 },
 "nbformat": 4,
 "nbformat_minor": 5
}
